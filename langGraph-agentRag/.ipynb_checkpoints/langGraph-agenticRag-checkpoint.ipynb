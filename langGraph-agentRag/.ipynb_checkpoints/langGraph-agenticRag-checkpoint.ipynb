{
 "cells": [
  {
   "cell_type": "markdown",
   "id": "ad19f823-c823-40d3-a1f6-08cebd9e5254",
   "metadata": {},
   "source": [
    "### gpt사용을 위한 openAi API key 셋팅"
   ]
  },
  {
   "cell_type": "code",
   "execution_count": 1,
   "id": "9de1fb1c-543b-48f5-aa02-0c2c17a677f7",
   "metadata": {},
   "outputs": [],
   "source": [
    "import os\n",
    "from dotenv import load_dotenv\n",
    "\n",
    "# .env 파일에서 환경 변수를 로드합니다.\n",
    "load_dotenv()\n",
    "\n",
    "# 환경 변수에서 OpenAI API 키를 가져옵니다.\n",
    "openai_api_key = os.getenv(\"OPENAI_API_KEY\")\n",
    "os.environ[\"OPENAI_API_KEY\"] = openai_api_key\n",
    "\n",
    "# API 키가 존재하지 않는 경우 에러를 발생시킵니다.\n",
    "if not openai_api_key:\n",
    "    # API 키가 없다는 에러 메시지를 출력하고 프로그램을 종료합니다.\n",
    "    raise ValueError(\"OpenAI API 키가 없습니다. 한 번 더 확인 부탁드립니다.\")"
   ]
  },
  {
   "cell_type": "markdown",
   "id": "98ee9886-3b2e-4a7d-8610-3f0b3b7a9b70",
   "metadata": {},
   "source": [
    "### 검색 엔진\n",
    "처음으로, 우리는 3개의 블로그 포스트를 색인화합니다."
   ]
  },
  {
   "cell_type": "code",
   "execution_count": 2,
   "id": "f7b72d49-1a5d-43e2-9b33-1d1ab8476e0a",
   "metadata": {},
   "outputs": [],
   "source": [
    "from langchain_community.document_loaders import WebBaseLoader\n",
    "from langchain_community.vectorstores import Chroma\n",
    "from langchain_openai import OpenAIEmbeddings\n",
    "from langchain_text_splitters import RecursiveCharacterTextSplitter\n",
    "\n",
    "urls = [\n",
    "    \"https://lilianweng.github.io/posts/2023-06-23-agent/\",\n",
    "    \"https://lilianweng.github.io/posts/2023-03-15-prompt-engineering/\",\n",
    "    \"https://lilianweng.github.io/posts/2023-10-25-adv-attack-llm/\",\n",
    "]\n",
    "\n",
    "docs = [WebBaseLoader(url).load() for url in urls]\n",
    "docs_list = [item for sublist in docs for item in sublist]\n",
    "\n",
    "text_splitter = RecursiveCharacterTextSplitter.from_tiktoken_encoder(\n",
    "    chunk_size=100, chunk_overlap=50\n",
    ")\n",
    "doc_splits = text_splitter.split_documents(docs_list)\n",
    "\n",
    "# Add to vectorDB\n",
    "vectorstore = Chroma.from_documents(\n",
    "    documents=doc_splits,\n",
    "    collection_name=\"rag-chroma\",\n",
    "    embedding=OpenAIEmbeddings(),\n",
    ")\n",
    "retriever = vectorstore.as_retriever()"
   ]
  },
  {
   "cell_type": "markdown",
   "id": "fb8d54bc-a954-4554-b9de-f41f18dc0ce4",
   "metadata": {},
   "source": [
    "그런 다음 검색 도구를 만듭니다."
   ]
  },
  {
   "cell_type": "code",
   "execution_count": 3,
   "id": "4adbce74-b9f2-4d06-a72e-103c3371c212",
   "metadata": {},
   "outputs": [],
   "source": [
    "\n",
    "from langchain.tools.retriever import create_retriever_tool\n",
    "\n",
    "retriever_tool = create_retriever_tool(\n",
    "    retriever,\n",
    "    \"retrieve_blog_posts\",\n",
    "    \"Search and return information about Lilian Weng blog posts on LLM agents, prompt engineering, and adversarial attacks on LLMs.\",\n",
    ")\n",
    "\n",
    "tools = [retriever_tool]"
   ]
  },
  {
   "cell_type": "markdown",
   "id": "58f82a55-273f-4020-9e85-bc5ae94ebbf3",
   "metadata": {},
   "source": [
    "### Agent state\n",
    "\n",
    "우리는 그래프를 정의할 것입니다.\n",
    "\n",
    "각 노드로 전달되는 상태 객체입니다.\n",
    "\n",
    "우리의 상태는 메시지의 리스트가 될 것입니다.\n",
    "\n",
    "그래프의 각 노드는 그것에 추가할 것입니다."
   ]
  },
  {
   "cell_type": "code",
   "execution_count": 5,
   "id": "889d3ef5-5908-4a1f-b175-c5b9f896b9d0",
   "metadata": {},
   "outputs": [],
   "source": [
    "from typing import Annotated, Sequence, TypedDict\n",
    "\n",
    "from langchain_core.messages import BaseMessage\n",
    "\n",
    "from langgraph.graph.message import add_messages\n",
    "\n",
    "\n",
    "class AgentState(TypedDict):\n",
    "    # add_messages 함수는 업데이트가 어떻게 처리되어야 하는지 정의합니다\n",
    "    # 기본값은 대체입니다. add_messages는 \"추가\"라고 말합니다.\n",
    "    messages: Annotated[Sequence[BaseMessage], add_messages]"
   ]
  },
  {
   "cell_type": "markdown",
   "id": "b12ac613-803e-4c00-b614-36490eeda757",
   "metadata": {},
   "source": [
    "### Nodes and Edges\n",
    "#### 우리는 에이전트 RAG 그래프를 다음과 같이 배치할 수 있습니다:\n",
    "\n",
    "상태는 메시지의 집합입니다.\n",
    "각 노드는 상태를 업데이트(추가)할 것입니다.\n",
    "조건부 엣지는 다음에 방문할 노드를 결정합니다."
   ]
  },
  {
   "cell_type": "code",
   "execution_count": 11,
   "id": "a28fad33-46a9-45b9-a016-4c30fb8d4ecb",
   "metadata": {},
   "outputs": [
    {
     "name": "stdout",
     "output_type": "stream",
     "text": [
      "zsh:1: number expected\n"
     ]
    }
   ],
   "source": [
    "![langGraphAgent](./langGraphAgent.png)"
   ]
  },
  {
   "cell_type": "markdown",
   "id": "72d42ed3-2048-4cb5-9389-29da812048ef",
   "metadata": {},
   "source": [
    "## Edges"
   ]
  },
  {
   "cell_type": "code",
   "execution_count": 22,
   "id": "55f7e572-6eb2-4e8c-afc7-4caa129c4f0e",
   "metadata": {},
   "outputs": [],
   "source": [
    "from typing import Annotated, Literal, Sequence, TypedDict\n",
    "\n",
    "from langchain import hub\n",
    "from langchain_core.messages import BaseMessage, HumanMessage\n",
    "from langchain_core.output_parsers import StrOutputParser\n",
    "from langchain_core.prompts import PromptTemplate\n",
    "from langchain_core.pydantic_v1 import BaseModel, Field\n",
    "from langchain_openai import ChatOpenAI\n",
    "\n",
    "from langgraph.prebuilt import tools_condition\n",
    "\n",
    "### Edges\n",
    "\n",
    "\n",
    "def grade_documents(state) -> Literal[\"generate\", \"rewrite\"]:\n",
    "    \"\"\"\n",
    "    Determines whether the retrieved documents are relevant to the question.\n",
    "\n",
    "    Args:\n",
    "        state (messages): The current state\n",
    "\n",
    "    Returns:\n",
    "        str: A decision for whether the documents are relevant or not\n",
    "    \"\"\"\n",
    "\n",
    "    print(\"---CHECK RELEVANCE---\")\n",
    "\n",
    "    # Data model\n",
    "    class grade(BaseModel):\n",
    "        \"\"\"Binary score for relevance check.\"\"\"\n",
    "\n",
    "        binary_score: str = Field(description=\"Relevance score 'yes' or 'no'\")\n",
    "\n",
    "    # LLM\n",
    "    model = ChatOpenAI(temperature=0, model=\"gpt-4o-mini\", streaming=True)\n",
    "\n",
    "    # LLM with tool and validation\n",
    "    llm_with_tool = model.with_structured_output(grade)\n",
    "\n",
    "    # Prompt\n",
    "    prompt = PromptTemplate(\n",
    "        template=\"\"\"You are a grader assessing relevance of a retrieved document to a user question. \\n \n",
    "        Here is the retrieved document: \\n\\n {context} \\n\\n\n",
    "        Here is the user question: {question} \\n\n",
    "        If the document contains keyword(s) or semantic meaning related to the user question, grade it as relevant. \\n\n",
    "        Give a binary score 'yes' or 'no' score to indicate whether the document is relevant to the question.\"\"\",\n",
    "        input_variables=[\"context\", \"question\"],\n",
    "    )\n",
    "\n",
    "    # Chain\n",
    "    chain = prompt | llm_with_tool\n",
    "\n",
    "    messages = state[\"messages\"]\n",
    "    last_message = messages[-1]\n",
    "\n",
    "    question = messages[0].content\n",
    "    docs = last_message.content\n",
    "\n",
    "    scored_result = chain.invoke({\"question\": question, \"context\": docs})\n",
    "\n",
    "    score = scored_result.binary_score\n",
    "\n",
    "    if score == \"yes\":\n",
    "        print(\"---DECISION: DOCS RELEVANT---\")\n",
    "        return \"generate\"\n",
    "\n",
    "    else:\n",
    "        print(\"---DECISION: DOCS NOT RELEVANT---\")\n",
    "        print(score)\n",
    "        return \"rewrite\""
   ]
  },
  {
   "cell_type": "markdown",
   "id": "0f71d048-ace3-4b28-a3e3-5d263d910ddf",
   "metadata": {},
   "source": [
    "### Nodes"
   ]
  },
  {
   "cell_type": "code",
   "execution_count": 23,
   "id": "2c01db3d-e6b2-4fbd-a5b5-60e24729ebb8",
   "metadata": {},
   "outputs": [],
   "source": [
    "def agent(state):\n",
    "    \"\"\"\n",
    "    현재 상태를 기반으로 에이전트 모델을 호출하여 응답을 생성합니다. 주어진 질문에 따라 검색 도구를 사용하여 검색을 수행하거나 단순히 종료하기로 결정합니다.\n",
    "\n",
    "    Args:\n",
    "        state (messages): 현재 상태\n",
    "\n",
    "    Returns:\n",
    "        dict: 메시지에 에이전트 응답이 추가된 업데이트된 상태\n",
    "    \"\"\"\n",
    "    print(\"---에이전트 호출---\")\n",
    "    messages = state[\"messages\"]\n",
    "    model = ChatOpenAI(temperature=0, streaming=True, model=\"gpt-4o-mini\")\n",
    "    model = model.bind_tools(tools)\n",
    "    response = model.invoke(messages)\n",
    "    # 리스트를 반환합니다, 왜냐하면 이것은 기존 리스트에 추가될 것이기 때문입니다\n",
    "    return {\"messages\": [response]}\n"
   ]
  },
  {
   "cell_type": "code",
   "execution_count": 24,
   "id": "69372ca1-8996-4aca-a85c-d4579d321718",
   "metadata": {},
   "outputs": [],
   "source": [
    "def rewrite(state):\n",
    "    \"\"\"\n",
    "    질문을 변형하여 더 나은 질문을 생성합니다.\n",
    "\n",
    "    Args:\n",
    "        state (messages): 현재 상태\n",
    "\n",
    "    Returns:\n",
    "        dict: 재구성된 질문으로 업데이트된 상태\n",
    "    \"\"\"\n",
    "\n",
    "    print(\"---질문 변형---\")\n",
    "    messages = state[\"messages\"]\n",
    "    question = messages[0].content\n",
    "\n",
    "    msg = [\n",
    "        HumanMessage(\n",
    "            content=f\"\"\" \\n \n",
    "    Look at the input and try to reason about the underlying semantic intent / meaning. \\n \n",
    "    Here is the initial question:\n",
    "    \\n ------- \\n\n",
    "    {question} \n",
    "    \\n ------- \\n\n",
    "    Formulate an improved question: \"\"\",\n",
    "        )\n",
    "    ]\n",
    "\n",
    "    # 평가자\n",
    "    model = ChatOpenAI(temperature=0, model=\"gpt-4o-mini\", streaming=True)\n",
    "    response = model.invoke(msg)\n",
    "    return {\"messages\": [response]}"
   ]
  },
  {
   "cell_type": "code",
   "execution_count": 25,
   "id": "c000cb97-8a6b-46d7-a9bd-b9fbdf409409",
   "metadata": {},
   "outputs": [],
   "source": [
    "def generate(state):\n",
    "    \"\"\"\n",
    "    답변 생성\n",
    "\n",
    "    Args:\n",
    "        state (messages): 현재 상태\n",
    "\n",
    "    Returns:\n",
    "         dict: 재구성된 질문으로 업데이트된 상태\n",
    "    \"\"\"\n",
    "    print(\"---생성---\")\n",
    "    messages = state[\"messages\"]\n",
    "    question = messages[0].content\n",
    "    last_message = messages[-1]\n",
    "\n",
    "    question = messages[0].content\n",
    "    docs = last_message.content\n",
    "\n",
    "    # 프롬프트\n",
    "    prompt = hub.pull(\"rlm/rag-prompt\")\n",
    "\n",
    "    # LLM\n",
    "    llm = ChatOpenAI(model_name=\"gpt-3.5-turbo\", temperature=0, streaming=True)\n",
    "\n",
    "    # 후처리\n",
    "    def format_docs(docs):\n",
    "        return \"\\n\\n\".join(doc.page_content for doc in docs)\n",
    "\n",
    "    # 체인\n",
    "    rag_chain = prompt | llm | StrOutputParser()\n",
    "\n",
    "    # 실행\n",
    "    response = rag_chain.invoke({\"context\": docs, \"question\": question})\n",
    "    return {\"messages\": [response]}"
   ]
  },
  {
   "cell_type": "code",
   "execution_count": 26,
   "id": "5445aa79-445b-40c9-826d-eeee60ffc62b",
   "metadata": {},
   "outputs": [
    {
     "name": "stdout",
     "output_type": "stream",
     "text": [
      "********************프롬프트[rlm/rag-prompt]********************\n",
      "================================\u001b[1m Human Message \u001b[0m=================================\n",
      "\n",
      "You are an assistant for question-answering tasks. Use the following pieces of retrieved context to answer the question. If you don't know the answer, just say that you don't know. Use three sentences maximum and keep the answer concise.\n",
      "Question: \u001b[33;1m\u001b[1;3m{question}\u001b[0m \n",
      "Context: \u001b[33;1m\u001b[1;3m{context}\u001b[0m \n",
      "Answer:\n"
     ]
    }
   ],
   "source": [
    "print(\"*\" * 20 + \"프롬프트[rlm/rag-prompt]\" + \"*\" * 20)\n",
    "prompt = hub.pull(\"rlm/rag-prompt\").pretty_print()  # 프롬프트의 모양을 보여줍니다."
   ]
  },
  {
   "cell_type": "markdown",
   "id": "4a102b5e-ea5e-427f-adea-5963875c96e9",
   "metadata": {},
   "source": [
    "### Graph\n",
    "시작은 에이전트로, 모델 호출을 합니다.\n",
    "\n",
    "에이전트는 함수를 호출할지 여부를 결정합니다.\n",
    "\n",
    "결정하면 도구(검색 도구)를 호출하는 행동을 취합니다.\n",
    "\n",
    "그런 다음 도구의 출력을 메시지(상태)에 추가하여 에이전트를 다시 호출합니다."
   ]
  },
  {
   "cell_type": "code",
   "execution_count": 27,
   "id": "fe022fa5-f9e0-4c1f-8254-7d5123daceec",
   "metadata": {},
   "outputs": [],
   "source": [
    "from langgraph.graph import END, StateGraph, START\n",
    "from langgraph.prebuilt import ToolNode\n",
    "\n",
    "# 새로운 그래프를 정의합니다.\n",
    "workflow = StateGraph(AgentState)\n",
    "\n",
    "# 순환할 노드들을 정의합니다.\n",
    "workflow.add_node(\"agent\", agent)  # 에이전트 노드\n",
    "retrieve = ToolNode([retriever_tool])\n",
    "workflow.add_node(\"retrieve\", retrieve)  # 검색 도구 노드\n",
    "workflow.add_node(\"rewrite\", rewrite)  # 질문 재작성 노드\n",
    "workflow.add_node(\n",
    "    \"generate\", generate\n",
    ")  # 문서가 관련성이 있다고 판단된 후 응답 생성 노드\n",
    "# 에이전트 노드를 호출하여 검색을 결정합니다.\n",
    "workflow.add_edge(START, \"agent\")\n",
    "\n",
    "# 검색 여부를 결정합니다.\n",
    "workflow.add_conditional_edges(\n",
    "    \"agent\",\n",
    "    # 에이전트 결정 평가\n",
    "    tools_condition,\n",
    "    {\n",
    "        # 조건 출력을 그래프 내 노드로 변환\n",
    "        \"tools\": \"retrieve\",\n",
    "        END: END,\n",
    "    },\n",
    ")\n",
    "\n",
    "# `action` 노드 호출 후 이어지는 경로\n",
    "workflow.add_conditional_edges(\n",
    "    \"retrieve\",\n",
    "    # 에이전트 결정 평가\n",
    "    grade_documents,\n",
    ")\n",
    "workflow.add_edge(\"generate\", END)\n",
    "workflow.add_edge(\"rewrite\", \"agent\")\n",
    "\n",
    "# 컴파일\n",
    "graph = workflow.compile()"
   ]
  },
  {
   "cell_type": "code",
   "execution_count": 28,
   "id": "72c94819-f36b-43c6-ad68-58b40fa03038",
   "metadata": {},
   "outputs": [
    {
     "data": {
      "image/jpeg": "[encoded data removed]",
      "text/plain": [
       "<IPython.core.display.Image object>"
      ]
     },
     "metadata": {},
     "output_type": "display_data"
    }
   ],
   "source": [
    "from IPython.display import Image, display\n",
    "\n",
    "try:\n",
    "    display(Image(graph.get_graph(xray=True).draw_mermaid_png()))\n",
    "except Exception:\n",
    "    pass"
   ]
  },
  {
   "cell_type": "code",
   "execution_count": 31,
   "id": "443774f7-4556-4352-aac9-fe4cb782c474",
   "metadata": {},
   "outputs": [
    {
     "name": "stdout",
     "output_type": "stream",
     "text": [
      "---에이전트 호출---\n",
      "\"Output from node 'agent':\"\n",
      "'---'\n",
      "{ 'messages': [ AIMessage(content='', additional_kwargs={'tool_calls': [{'index': 0, 'id': 'call_QXFwbaWeByPJzKESLXiSrHBf', 'function': {'arguments': '{\"query\":\"삼성전자주가\"}', 'name': 'retrieve_blog_posts'}, 'type': 'function'}]}, response_metadata={'finish_reason': 'tool_calls', 'model_name': 'gpt-4o-mini-2024-07-18', 'system_fingerprint': 'fp_507c9469a1'}, id='run-bca15456-84c5-42b7-b77a-b16b8cbd99ea-0', tool_calls=[{'name': 'retrieve_blog_posts', 'args': {'query': '삼성전자주가'}, 'id': 'call_QXFwbaWeByPJzKESLXiSrHBf', 'type': 'tool_call'}])]}\n",
      "'\\n---\\n'\n",
      "---CHECK RELEVANCE---\n",
      "---DECISION: DOCS NOT RELEVANT---\n",
      "no\n",
      "\"Output from node 'retrieve':\"\n",
      "'---'\n",
      "{ 'messages': [ ToolMessage(content='$$\\n\\n$$\\n\\n$$\\n\\n$$', name='retrieve_blog_posts', id='be0a0ae1-0d30-4f5f-a997-3c70b7eccb11', tool_call_id='call_QXFwbaWeByPJzKESLXiSrHBf')]}\n",
      "'\\n---\\n'\n",
      "---질문 변형---\n",
      "\"Output from node 'rewrite':\"\n",
      "'---'\n",
      "{ 'messages': [ AIMessage(content='To enhance the clarity and specificity of the initial question regarding \"삼성전자주가\" (Samsung Electronics stock price), an improved question could be:\\n\\n\"현재 삼성전자 주가는 얼마이며, 최근 주가 변동에 대한 분석은 어떤가요?\" \\n\\n(Translation: \"What is the current stock price of Samsung Electronics, and what is the analysis of its recent price fluctuations?\")', response_metadata={'finish_reason': 'stop', 'model_name': 'gpt-4o-mini-2024-07-18', 'system_fingerprint': 'fp_48196bc67a'}, id='run-1ba07e96-9811-4827-b928-fe6c79df34bb-0')]}\n",
      "'\\n---\\n'\n",
      "---에이전트 호출---\n",
      "\"Output from node 'agent':\"\n",
      "'---'\n",
      "{ 'messages': [ AIMessage(content='To enhance the clarity and specificity of the initial question regarding \"삼성전자주가\" (Samsung Electronics stock price), an improved question could be:\\n\\n\"현재 삼성전자 주가는 얼마이며, 최근 주가 변동에 대한 분석은 어떤가요?\" \\n\\n(Translation: \"What is the current stock price of Samsung Electronics, and what is the analysis of its recent price fluctuations?\")', response_metadata={'finish_reason': 'stop', 'model_name': 'gpt-4o-mini-2024-07-18', 'system_fingerprint': 'fp_48196bc67a'}, id='run-ef0f7dd0-0eb9-4fc5-b317-5c1ffab55a86-0')]}\n",
      "'\\n---\\n'\n"
     ]
    }
   ],
   "source": [
    "import pprint\n",
    "\n",
    "inputs = {\n",
    "    \"messages\": [\n",
    "        (\"user\", \"삼성전자주가\"),\n",
    "    ]\n",
    "}\n",
    "\n",
    "# inputs = {\n",
    "#     \"messages\": [\n",
    "#         (\"user\", \"What does Lilian Weng say about the types of agent memory?\"),\n",
    "#     ]\n",
    "# }\n",
    "\n",
    "for output in graph.stream(inputs):\n",
    "    for key, value in output.items():\n",
    "        pprint.pprint(f\"Output from node '{key}':\")\n",
    "        pprint.pprint(\"---\")\n",
    "        pprint.pprint(value, indent=2, width=80, depth=None)\n",
    "    pprint.pprint(\"\\n---\\n\")"
   ]
  },
  {
   "cell_type": "code",
   "execution_count": null,
   "id": "19267d28-92c2-4948-8be6-6e59d22dfd53",
   "metadata": {},
   "outputs": [],
   "source": []
  }
 ],
 "metadata": {
  "kernelspec": {
   "display_name": "Python 3 (ipykernel)",
   "language": "python",
   "name": "python3"
  },
  "language_info": {
   "codemirror_mode": {
    "name": "ipython",
    "version": 3
   },
   "file_extension": ".py",
   "mimetype": "text/x-python",
   "name": "python",
   "nbconvert_exporter": "python",
   "pygments_lexer": "ipython3",
   "version": "3.12.2"
  }
 },
 "nbformat": 4,
 "nbformat_minor": 5
}

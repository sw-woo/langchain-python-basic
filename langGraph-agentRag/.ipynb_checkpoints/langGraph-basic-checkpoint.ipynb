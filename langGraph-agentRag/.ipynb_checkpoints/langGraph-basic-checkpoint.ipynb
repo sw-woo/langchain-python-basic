{
 "cells": [
  {
   "cell_type": "markdown",
   "id": "580553b9-73d4-4dbe-af66-b46a632a4b73",
   "metadata": {},
   "source": [
    "## 주요 기능\n",
    "\n",
    "- **사이클 및 분기**: 애플리케이션에서 루프와 조건문을 구현할 수 있습니다.\n",
    "- **지속성**: 그래프의 각 단계 후 자동으로 상태를 저장합니다. 그래프 실행을 언제든지 일시 중지하고 다시 시작하여 오류 복구, human-in-the-loop 워크플로우, 시간 여행 등을 지원합니다.\n",
    "- **Human-in-the-Loop**: 에이전트가 계획한 다음 작업을 승인하거나 수정하기 위해 그래프 실행을 중단할 수 있습니다.\n",
    "- **스트리밍 지원**: 각 노드에서 생성된 출력(토큰 스트리밍 포함)을 실시간으로 스트리밍할 수 있습니다.\n",
    "- **LangChain과의 통합**: LangGraph는 LangChain 및 LangSmith와 원활하게 통합됩니다(필수는 아님).\n"
   ]
  },
  {
   "cell_type": "markdown",
   "id": "8c1e5739-b9bc-4fcb-b9da-0b079016b0c2",
   "metadata": {},
   "source": [
    "### Installation"
   ]
  },
  {
   "cell_type": "code",
   "execution_count": 1,
   "id": "ff366bcf-0766-4413-a083-f30efa9c8d52",
   "metadata": {},
   "outputs": [
    {
     "name": "stdout",
     "output_type": "stream",
     "text": [
      "Requirement already satisfied: langgraph in /Users/usermackbookpro/miniconda3/envs/langchain/lib/python3.12/site-packages (0.2.2)\n",
      "Collecting langgraph\n",
      "  Downloading langgraph-0.2.34-py3-none-any.whl.metadata (13 kB)\n",
      "Requirement already satisfied: langchain-core<0.4,>=0.2.39 in /Users/usermackbookpro/miniconda3/envs/langchain/lib/python3.12/site-packages (from langgraph) (0.3.9)\n",
      "Collecting langgraph-checkpoint<3.0.0,>=2.0.0 (from langgraph)\n",
      "  Downloading langgraph_checkpoint-2.0.0-py3-none-any.whl.metadata (4.6 kB)\n",
      "Requirement already satisfied: PyYAML>=5.3 in /Users/usermackbookpro/miniconda3/envs/langchain/lib/python3.12/site-packages (from langchain-core<0.4,>=0.2.39->langgraph) (6.0.1)\n",
      "Requirement already satisfied: jsonpatch<2.0,>=1.33 in /Users/usermackbookpro/miniconda3/envs/langchain/lib/python3.12/site-packages (from langchain-core<0.4,>=0.2.39->langgraph) (1.33)\n",
      "Requirement already satisfied: langsmith<0.2.0,>=0.1.125 in /Users/usermackbookpro/miniconda3/envs/langchain/lib/python3.12/site-packages (from langchain-core<0.4,>=0.2.39->langgraph) (0.1.131)\n",
      "Requirement already satisfied: packaging<25,>=23.2 in /Users/usermackbookpro/miniconda3/envs/langchain/lib/python3.12/site-packages (from langchain-core<0.4,>=0.2.39->langgraph) (23.2)\n",
      "Requirement already satisfied: pydantic<3.0.0,>=2.5.2 in /Users/usermackbookpro/miniconda3/envs/langchain/lib/python3.12/site-packages (from langchain-core<0.4,>=0.2.39->langgraph) (2.9.2)\n",
      "Requirement already satisfied: tenacity!=8.4.0,<9.0.0,>=8.1.0 in /Users/usermackbookpro/miniconda3/envs/langchain/lib/python3.12/site-packages (from langchain-core<0.4,>=0.2.39->langgraph) (8.5.0)\n",
      "Requirement already satisfied: typing-extensions>=4.7 in /Users/usermackbookpro/miniconda3/envs/langchain/lib/python3.12/site-packages (from langchain-core<0.4,>=0.2.39->langgraph) (4.12.2)\n",
      "Collecting msgpack<2.0.0,>=1.1.0 (from langgraph-checkpoint<3.0.0,>=2.0.0->langgraph)\n",
      "  Downloading msgpack-1.1.0-cp312-cp312-macosx_11_0_arm64.whl.metadata (8.4 kB)\n",
      "Requirement already satisfied: jsonpointer>=1.9 in /Users/usermackbookpro/miniconda3/envs/langchain/lib/python3.12/site-packages (from jsonpatch<2.0,>=1.33->langchain-core<0.4,>=0.2.39->langgraph) (3.0.0)\n",
      "Requirement already satisfied: httpx<1,>=0.23.0 in /Users/usermackbookpro/miniconda3/envs/langchain/lib/python3.12/site-packages (from langsmith<0.2.0,>=0.1.125->langchain-core<0.4,>=0.2.39->langgraph) (0.27.0)\n",
      "Requirement already satisfied: orjson<4.0.0,>=3.9.14 in /Users/usermackbookpro/miniconda3/envs/langchain/lib/python3.12/site-packages (from langsmith<0.2.0,>=0.1.125->langchain-core<0.4,>=0.2.39->langgraph) (3.10.6)\n",
      "Requirement already satisfied: requests<3,>=2 in /Users/usermackbookpro/miniconda3/envs/langchain/lib/python3.12/site-packages (from langsmith<0.2.0,>=0.1.125->langchain-core<0.4,>=0.2.39->langgraph) (2.32.3)\n",
      "Requirement already satisfied: requests-toolbelt<2.0.0,>=1.0.0 in /Users/usermackbookpro/miniconda3/envs/langchain/lib/python3.12/site-packages (from langsmith<0.2.0,>=0.1.125->langchain-core<0.4,>=0.2.39->langgraph) (1.0.0)\n",
      "Requirement already satisfied: annotated-types>=0.6.0 in /Users/usermackbookpro/miniconda3/envs/langchain/lib/python3.12/site-packages (from pydantic<3.0.0,>=2.5.2->langchain-core<0.4,>=0.2.39->langgraph) (0.6.0)\n",
      "Requirement already satisfied: pydantic-core==2.23.4 in /Users/usermackbookpro/miniconda3/envs/langchain/lib/python3.12/site-packages (from pydantic<3.0.0,>=2.5.2->langchain-core<0.4,>=0.2.39->langgraph) (2.23.4)\n",
      "Requirement already satisfied: anyio in /Users/usermackbookpro/miniconda3/envs/langchain/lib/python3.12/site-packages (from httpx<1,>=0.23.0->langsmith<0.2.0,>=0.1.125->langchain-core<0.4,>=0.2.39->langgraph) (4.4.0)\n",
      "Requirement already satisfied: certifi in /Users/usermackbookpro/miniconda3/envs/langchain/lib/python3.12/site-packages (from httpx<1,>=0.23.0->langsmith<0.2.0,>=0.1.125->langchain-core<0.4,>=0.2.39->langgraph) (2024.7.4)\n",
      "Requirement already satisfied: httpcore==1.* in /Users/usermackbookpro/miniconda3/envs/langchain/lib/python3.12/site-packages (from httpx<1,>=0.23.0->langsmith<0.2.0,>=0.1.125->langchain-core<0.4,>=0.2.39->langgraph) (1.0.5)\n",
      "Requirement already satisfied: idna in /Users/usermackbookpro/miniconda3/envs/langchain/lib/python3.12/site-packages (from httpx<1,>=0.23.0->langsmith<0.2.0,>=0.1.125->langchain-core<0.4,>=0.2.39->langgraph) (3.7)\n",
      "Requirement already satisfied: sniffio in /Users/usermackbookpro/miniconda3/envs/langchain/lib/python3.12/site-packages (from httpx<1,>=0.23.0->langsmith<0.2.0,>=0.1.125->langchain-core<0.4,>=0.2.39->langgraph) (1.3.1)\n",
      "Requirement already satisfied: h11<0.15,>=0.13 in /Users/usermackbookpro/miniconda3/envs/langchain/lib/python3.12/site-packages (from httpcore==1.*->httpx<1,>=0.23.0->langsmith<0.2.0,>=0.1.125->langchain-core<0.4,>=0.2.39->langgraph) (0.14.0)\n",
      "Requirement already satisfied: charset-normalizer<4,>=2 in /Users/usermackbookpro/miniconda3/envs/langchain/lib/python3.12/site-packages (from requests<3,>=2->langsmith<0.2.0,>=0.1.125->langchain-core<0.4,>=0.2.39->langgraph) (3.3.2)\n",
      "Requirement already satisfied: urllib3<3,>=1.21.1 in /Users/usermackbookpro/miniconda3/envs/langchain/lib/python3.12/site-packages (from requests<3,>=2->langsmith<0.2.0,>=0.1.125->langchain-core<0.4,>=0.2.39->langgraph) (2.2.2)\n",
      "Downloading langgraph-0.2.34-py3-none-any.whl (107 kB)\n",
      "Downloading langgraph_checkpoint-2.0.0-py3-none-any.whl (22 kB)\n",
      "Downloading msgpack-1.1.0-cp312-cp312-macosx_11_0_arm64.whl (82 kB)\n",
      "Installing collected packages: msgpack, langgraph-checkpoint, langgraph\n",
      "  Attempting uninstall: langgraph-checkpoint\n",
      "    Found existing installation: langgraph-checkpoint 1.0.2\n",
      "    Uninstalling langgraph-checkpoint-1.0.2:\n",
      "      Successfully uninstalled langgraph-checkpoint-1.0.2\n",
      "  Attempting uninstall: langgraph\n",
      "    Found existing installation: langgraph 0.2.2\n",
      "    Uninstalling langgraph-0.2.2:\n",
      "      Successfully uninstalled langgraph-0.2.2\n",
      "Successfully installed langgraph-0.2.34 langgraph-checkpoint-2.0.0 msgpack-1.1.0\n"
     ]
    }
   ],
   "source": [
    "!pip install -U langgraph"
   ]
  },
  {
   "cell_type": "markdown",
   "id": "1aed6251-cfb0-4a91-b28a-c6f2ea3bf613",
   "metadata": {},
   "source": [
    "### gpt사용을 위한 openAi API key 셋팅"
   ]
  },
  {
   "cell_type": "code",
   "execution_count": 18,
   "id": "14862f79-6a1b-4f3b-91d8-05ff33c6d10a",
   "metadata": {},
   "outputs": [],
   "source": [
    "import os\n",
    "from dotenv import load_dotenv\n",
    "\n",
    "# .env 파일에서 환경 변수를 로드합니다.\n",
    "load_dotenv()\n",
    "\n",
    "# 환경 변수에서 OpenAI API 키를 가져옵니다.\n",
    "openai_api_key = os.getenv(\"OPENAI_API_KEY\")\n",
    "\n",
    "# API 키가 존재하지 않는 경우 에러를 발생시킵니다.\n",
    "if not openai_api_key:\n",
    "    # API 키가 없다는 에러 메시지를 출력하고 프로그램을 종료합니다.\n",
    "    raise ValueError(\"OpenAI API 키가 없습니다. 한 번 더 확인 부탁드립니다.\")"
   ]
  },
  {
   "cell_type": "code",
   "execution_count": 19,
   "id": "a6c3051b-1048-422e-b5d9-c28a0bc1bbbe",
   "metadata": {},
   "outputs": [],
   "source": [
    "from typing import Annotated, Literal, TypedDict\n",
    "\n",
    "from langchain_core.messages import HumanMessage\n",
    "from langchain_openai import ChatOpenAI\n",
    "from langchain_core.tools import tool\n",
    "from langgraph.checkpoint.memory import MemorySaver\n",
    "from langgraph.graph import END, StateGraph, MessagesState\n",
    "from langgraph.prebuilt import ToolNode\n",
    "\n",
    "\n",
    "# 에이전트가 사용할 도구 정의\n",
    "@tool\n",
    "def recommend_recipe(dish: str):\n",
    "    \"\"\"주어진 요리에 대한 간단한 레시피를 제공합니다.\"\"\"\n",
    "    recipes = {\n",
    "        \"파스타\": \"재료: 스파게티 면, 토마토 소스, 올리브 오일, 마늘. 면을 삶고 소스를 부어주세요.\",\n",
    "        \"불고기\": \"재료: 소고기, 간장, 설탕, 마늘. 고기를 양념에 재워 볶아주세요.\",\n",
    "        \"샐러드\": \"재료: 양상추, 토마토, 오이, 드레싱. 채소를 썰어 드레싱과 버무려주세요.\"\n",
    "    }\n",
    "    return recipes.get(dish, \"죄송하지만 해당 요리의 레시피를 찾을 수 없습니다.\")\n",
    "\n",
    "# 도구 리스트에 추가\n",
    "tools = [recommend_recipe]\n",
    "\n",
    "# ToolNode 생성\n",
    "tool_node = ToolNode(tools)"
   ]
  },
  {
   "cell_type": "code",
   "execution_count": 20,
   "id": "8a35fa98-ba4c-4120-bc89-adf25d5f3602",
   "metadata": {},
   "outputs": [
    {
     "data": {
      "text/plain": [
       "<langgraph.graph.state.StateGraph at 0x12336c350>"
      ]
     },
     "execution_count": 20,
     "metadata": {},
     "output_type": "execute_result"
    }
   ],
   "source": [
    "# 모델을 GPT로 변경\n",
    "model = ChatOpenAI(model=\"gpt-3.5-turbo\", temperature=0).bind_tools(tools)\n",
    "\n",
    "# 계속할지 여부를 결정하는 함수 정의\n",
    "def should_continue(state: MessagesState) -> Literal[\"tools\", END]:\n",
    "    messages = state['messages']\n",
    "    last_message = messages[-1]\n",
    "    # LLM이 도구 호출을 하면 \"tools\" 노드로 라우팅\n",
    "    if last_message.tool_calls:\n",
    "        return \"tools\"\n",
    "    # 그렇지 않으면 중지(사용자에게 응답)\n",
    "    return END\n",
    "\n",
    "\n",
    "# 모델을 호출하는 함수 정의\n",
    "def call_model(state: MessagesState):\n",
    "    messages = state['messages']\n",
    "    response = model.invoke(messages)\n",
    "    # 기존 목록에 추가되기 때문에 목록을 반환합니다.\n",
    "    return {\"messages\": [response]}\n",
    "\n",
    "\n",
    "# 새로운 그래프 정의\n",
    "workflow = StateGraph(MessagesState)\n",
    "\n",
    "# 사이클링할 두 노드 정의\n",
    "workflow.add_node(\"agent\", call_model)\n",
    "workflow.add_node(\"tools\", tool_node)\n",
    "\n",
    "# 진입점을 `agent`로 설정\n",
    "# 이는 첫 번째로 호출되는 노드를 의미합니다.\n",
    "workflow.set_entry_point(\"agent\")\n",
    "\n",
    "# 조건부 경로 추가\n",
    "workflow.add_conditional_edges(\n",
    "    # 먼저, 시작 노드를 정의합니다. `agent`를 사용합니다.\n",
    "    # 이는 `agent` 노드가 호출된 후의 경로를 의미합니다.\n",
    "    \"agent\",\n",
    "    # 다음으로, 어느 노드가 다음에 호출될지 결정하는 함수를 전달합니다.\n",
    "    should_continue,\n",
    ")\n",
    "\n",
    "# `tools`에서 `agent`로의 일반 경로 추가\n",
    "# 이는 `tools`가 호출된 후 `agent` 노드가 다음에 호출된다는 것을 의미합니다.\n",
    "workflow.add_edge(\"tools\", 'agent')"
   ]
  },
  {
   "cell_type": "code",
   "execution_count": 21,
   "id": "3f5ec731-d30f-4117-942d-11f7c2656c21",
   "metadata": {},
   "outputs": [],
   "source": [
    "# 그래프 실행 간 상태를 유지하기 위해 메모리 초기화\n",
    "checkpointer = MemorySaver()\n",
    "\n",
    "# 마지막으로 컴파일합니다!\n",
    "# 이를 LangChain Runnable로 컴파일하여,\n",
    "# 다른 runnable처럼 사용할 수 있게 합니다.\n",
    "# 그래프를 컴파일할 때 메모리를 옵션 checkpointer로 전달할수 있습니다.\n",
    "app = workflow.compile(checkpointer=checkpointer)"
   ]
  },
  {
   "cell_type": "code",
   "execution_count": 22,
   "id": "5a10ed63-fd26-4a27-9d64-a3f016458e22",
   "metadata": {},
   "outputs": [
    {
     "data": {
      "text/plain": [
       "'불고기 레시피입니다. 재료는 소고기, 간장, 설탕, 마늘이며, 고기를 양념에 재워 볶아주시면 됩니다. 즐거운 요리 시간 되세요!'"
      ]
     },
     "execution_count": 22,
     "metadata": {},
     "output_type": "execute_result"
    }
   ],
   "source": [
    "# 에이전트와의 상호작용\n",
    "final_state = app.invoke(\n",
    "    {\"messages\": [HumanMessage(content=\"불고기 레시피 알려줄래?\")]},\n",
    "    config={\"configurable\": {\"thread_id\": 100}}\n",
    ")\n",
    "final_state[\"messages\"][-1].content"
   ]
  },
  {
   "cell_type": "code",
   "execution_count": 23,
   "id": "d9430aa9-582c-4790-9b6c-3fb652f877ca",
   "metadata": {},
   "outputs": [
    {
     "data": {
      "image/jpeg": "[encoded data removed]",
      "text/plain": [
       "<IPython.core.display.Image object>"
      ]
     },
     "metadata": {},
     "output_type": "display_data"
    }
   ],
   "source": [
    "from IPython.display import Image, display\n",
    "\n",
    "try:\n",
    "    display(Image(app.get_graph().draw_mermaid_png()))\n",
    "except Exception:\n",
    "    pass"
   ]
  },
  {
   "cell_type": "markdown",
   "id": "367e31a4-f451-4808-a237-bb85e6b54248",
   "metadata": {},
   "source": [
    "동일한 \"thread_id\"를 전달하면, 저장된 상태(즉, 저장된 메시지 목록)를 통해 대화 문맥이 유지됩니다."
   ]
  },
  {
   "cell_type": "code",
   "execution_count": 25,
   "id": "554c3311-c0a0-4082-8169-84dd07822340",
   "metadata": {},
   "outputs": [
    {
     "data": {
      "text/plain": [
       "'불고기 레시피를 알려드렸습니다. 해당 레시피의 재료는 소고기, 간장, 설탕, 마늘이며, 고기를 양념에 재워 볶아주시면 됩니다. 즐거운 요리 시간 되세요!'"
      ]
     },
     "execution_count": 25,
     "metadata": {},
     "output_type": "execute_result"
    }
   ],
   "source": [
    "# 동일한 \"thread_id\"를 사용하여 Runnable을 다시 호출\n",
    "final_state = app.invoke(\n",
    "    {\"messages\": [HumanMessage(content=\"방금 어떤 레시피를 알려주었지?\")]},\n",
    "    config={\"configurable\": {\"thread_id\": 100}}\n",
    ")\n",
    "final_state[\"messages\"][-1].content"
   ]
  },
  {
   "cell_type": "code",
   "execution_count": null,
   "id": "3103376d-0d47-42d3-839d-dd823da67ae1",
   "metadata": {},
   "outputs": [],
   "source": []
  }
 ],
 "metadata": {
  "kernelspec": {
   "display_name": "Python 3 (ipykernel)",
   "language": "python",
   "name": "python3"
  },
  "language_info": {
   "codemirror_mode": {
    "name": "ipython",
    "version": 3
   },
   "file_extension": ".py",
   "mimetype": "text/x-python",
   "name": "python",
   "nbconvert_exporter": "python",
   "pygments_lexer": "ipython3",
   "version": "3.12.2"
  }
 },
 "nbformat": 4,
 "nbformat_minor": 5
}

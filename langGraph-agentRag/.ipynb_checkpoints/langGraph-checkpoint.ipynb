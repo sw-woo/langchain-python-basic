{
 "cells": [
  {
   "cell_type": "markdown",
   "id": "78fd709a-754c-4e03-934a-e180b5ab3859",
   "metadata": {},
   "source": [
    "## 설치\n",
    "\n",
    "먼저, 필요한 패키지들을 설치하세요:"
   ]
  },
  {
   "cell_type": "code",
   "execution_count": 1,
   "id": "5e3507d0-dc5c-44aa-b131-1bee76d51159",
   "metadata": {
    "scrolled": true
   },
   "outputs": [
    {
     "name": "stdout",
     "output_type": "stream",
     "text": [
      "Requirement already satisfied: langgraph in /Users/usermackbookpro/miniconda3/envs/langchain/lib/python3.12/site-packages (0.2.0)\n",
      "Requirement already satisfied: langsmith in /Users/usermackbookpro/miniconda3/envs/langchain/lib/python3.12/site-packages (0.1.85)\n",
      "Collecting langsmith\n",
      "  Downloading langsmith-0.1.98-py3-none-any.whl.metadata (13 kB)\n",
      "Requirement already satisfied: langchain-core<0.3,>=0.2.27 in /Users/usermackbookpro/miniconda3/envs/langchain/lib/python3.12/site-packages (from langgraph) (0.2.28)\n",
      "Requirement already satisfied: langgraph-checkpoint<2.0.0,>=1.0.1 in /Users/usermackbookpro/miniconda3/envs/langchain/lib/python3.12/site-packages (from langgraph) (1.0.1)\n",
      "Requirement already satisfied: orjson<4.0.0,>=3.9.14 in /Users/usermackbookpro/miniconda3/envs/langchain/lib/python3.12/site-packages (from langsmith) (3.10.6)\n",
      "Requirement already satisfied: pydantic<3,>=1 in /Users/usermackbookpro/miniconda3/envs/langchain/lib/python3.12/site-packages (from langsmith) (1.10.17)\n",
      "Requirement already satisfied: requests<3,>=2 in /Users/usermackbookpro/miniconda3/envs/langchain/lib/python3.12/site-packages (from langsmith) (2.32.3)\n",
      "Requirement already satisfied: PyYAML>=5.3 in /Users/usermackbookpro/miniconda3/envs/langchain/lib/python3.12/site-packages (from langchain-core<0.3,>=0.2.27->langgraph) (6.0.1)\n",
      "Requirement already satisfied: jsonpatch<2.0,>=1.33 in /Users/usermackbookpro/miniconda3/envs/langchain/lib/python3.12/site-packages (from langchain-core<0.3,>=0.2.27->langgraph) (1.33)\n",
      "Requirement already satisfied: packaging<25,>=23.2 in /Users/usermackbookpro/miniconda3/envs/langchain/lib/python3.12/site-packages (from langchain-core<0.3,>=0.2.27->langgraph) (23.2)\n",
      "Requirement already satisfied: tenacity!=8.4.0,<9.0.0,>=8.1.0 in /Users/usermackbookpro/miniconda3/envs/langchain/lib/python3.12/site-packages (from langchain-core<0.3,>=0.2.27->langgraph) (8.5.0)\n",
      "Requirement already satisfied: typing-extensions>=4.7 in /Users/usermackbookpro/miniconda3/envs/langchain/lib/python3.12/site-packages (from langchain-core<0.3,>=0.2.27->langgraph) (4.12.2)\n",
      "Requirement already satisfied: charset-normalizer<4,>=2 in /Users/usermackbookpro/miniconda3/envs/langchain/lib/python3.12/site-packages (from requests<3,>=2->langsmith) (3.3.2)\n",
      "Requirement already satisfied: idna<4,>=2.5 in /Users/usermackbookpro/miniconda3/envs/langchain/lib/python3.12/site-packages (from requests<3,>=2->langsmith) (3.7)\n",
      "Requirement already satisfied: urllib3<3,>=1.21.1 in /Users/usermackbookpro/miniconda3/envs/langchain/lib/python3.12/site-packages (from requests<3,>=2->langsmith) (2.2.2)\n",
      "Requirement already satisfied: certifi>=2017.4.17 in /Users/usermackbookpro/miniconda3/envs/langchain/lib/python3.12/site-packages (from requests<3,>=2->langsmith) (2024.7.4)\n",
      "Requirement already satisfied: jsonpointer>=1.9 in /Users/usermackbookpro/miniconda3/envs/langchain/lib/python3.12/site-packages (from jsonpatch<2.0,>=1.33->langchain-core<0.3,>=0.2.27->langgraph) (3.0.0)\n",
      "Downloading langsmith-0.1.98-py3-none-any.whl (140 kB)\n",
      "Installing collected packages: langsmith\n",
      "  Attempting uninstall: langsmith\n",
      "    Found existing installation: langsmith 0.1.85\n",
      "    Uninstalling langsmith-0.1.85:\n",
      "      Successfully uninstalled langsmith-0.1.85\n",
      "\u001b[31mERROR: pip's dependency resolver does not currently take into account all the packages that are installed. This behaviour is the source of the following dependency conflicts.\n",
      "langchain-community 0.0.38 requires langchain-core<0.2.0,>=0.1.52, but you have langchain-core 0.2.28 which is incompatible.\n",
      "langchain-experimental 0.0.58 requires langchain<0.2.0,>=0.1.17, but you have langchain 0.2.12 which is incompatible.\n",
      "langchain-experimental 0.0.58 requires langchain-core<0.2.0,>=0.1.52, but you have langchain-core 0.2.28 which is incompatible.\u001b[0m\u001b[31m\n",
      "\u001b[0mSuccessfully installed langsmith-0.1.98\n"
     ]
    }
   ],
   "source": [
    "%pip install -U langgraph langsmith # % or !"
   ]
  },
  {
   "cell_type": "markdown",
   "id": "b97805d5-000e-4dbc-910f-4f7dd7ff734a",
   "metadata": {},
   "source": [
    "### gpt사용을 위한 openAi API key 셋팅"
   ]
  },
  {
   "cell_type": "code",
   "execution_count": 1,
   "id": "94646e35-3ff2-4108-9c06-7d8adbef3ed0",
   "metadata": {},
   "outputs": [],
   "source": [
    "import os\n",
    "from dotenv import load_dotenv\n",
    "\n",
    "# .env 파일에서 환경 변수를 로드합니다.\n",
    "load_dotenv()\n",
    "\n",
    "# 환경 변수에서 OpenAI API 키를 가져옵니다.\n",
    "openai_api_key = os.getenv(\"OPENAI_API_KEY\")\n",
    "\n",
    "# API 키가 존재하지 않는 경우 에러를 발생시킵니다.\n",
    "if not openai_api_key:\n",
    "    # API 키가 없다는 에러 메시지를 출력하고 프로그램을 종료합니다.\n",
    "    raise ValueError(\"OpenAI API 키가 없습니다. 한 번 더 확인 부탁드립니다.\")"
   ]
  },
  {
   "cell_type": "markdown",
   "id": "d103ab0b-6ad6-4a14-9965-df85fff83c00",
   "metadata": {},
   "source": [
    "## Part 1: 기본 챗봇 만들기\n",
    "\n",
    "먼저, LangGraph를 사용하여 간단한 챗봇을 만들어 보겠습니다. 이 챗봇은 사용자 메시지에 직접 응답할 것입니다. 비록 간단하지만, LangGraph를 사용하여 챗봇을 만드는 핵심 개념을 설명할 것입니다. 이 섹션이 끝날 때쯤에는 기본적인 챗봇을 구축하게 될 것입니다.\n",
    "\n",
    "### StateGraph 생성\n",
    "\n",
    "StateGraph를 생성하는 것부터 시작합니다. StateGraph 객체는 챗봇의 구조를 \"상태 기계\"로 정의합니다. 우리는 노드를 추가하여 챗봇이 호출할 수 있는 LLM과 함수들을 나타내고, 이 함수들 간에 어떻게 전환해야 하는지를 지정할 것입니다.\n"
   ]
  },
  {
   "cell_type": "code",
   "execution_count": 2,
   "id": "b672e288-8e39-4ed1-a0a1-c0c9f684bb89",
   "metadata": {},
   "outputs": [],
   "source": [
    "from typing import Annotated\n",
    "from typing_extensions import TypedDict\n",
    "from langgraph.graph import StateGraph, START, END\n",
    "from langgraph.graph.message import add_messages\n",
    "\n",
    "class State(TypedDict):\n",
    "    # 메시지는 \"list\" 타입입니다. 주석의 `add_messages` 함수는\n",
    "    # 이 상태 키가 어떻게 업데이트되어야 하는지 정의합니다.\n",
    "    # (이 경우, 메시지를 덮어쓰는 대신 목록에 추가합니다.)\n",
    "    messages: Annotated[list, add_messages]\n",
    "\n",
    "graph_builder = StateGraph(State)"
   ]
  },
  {
   "cell_type": "markdown",
   "id": "8c73f287-abbe-43b7-a503-b36791aa7b02",
   "metadata": {},
   "source": [
    "그래프를 정의할 때 처음 해야 할 일은 그래프의 상태(State)를 정의하는 것입니다. 상태는 그래프의 스키마와 상태에 대한 업데이트를 적용하는 방법을 지정하는 리듀서 함수들로 구성됩니다. 우리의 예제에서 State는 단일 키 messages를 가진 TypedDict입니다. messages 키는 add_messages 리듀서 함수로 주석 처리되어 있어, LangGraph가 새 메시지를 기존 목록에 추가하도록 지시합니다. "
   ]
  },
  {
   "cell_type": "markdown",
   "id": "4fb72441-e4fb-453b-94d5-ae1905c97763",
   "metadata": {},
   "source": [
    "### 요약\n",
    "이제 그래프는 두 가지를 알고 있습니다:\n",
    "\n",
    "1. 우리가 정의하는 모든 노드는 현재 상태(State)를 입력으로 받고, 상태를 업데이트하는 값을 반환합니다.\n",
    "2. 메시지는 기존 목록에 추가되며, 이는 Annotated 문법의 사전 구축된 add_messages 함수를 통해 전달됩니다."
   ]
  },
  {
   "cell_type": "markdown",
   "id": "5b7d76ee-48ea-4658-b6ea-3f20d5de9550",
   "metadata": {},
   "source": [
    "### 노드 추가하기\n",
    "\n",
    "우리는 이제 챗봇 노드를 추가할 것입니다. 이 노드는 사용자 메시지에 응답하는 기본 단위를 나타냅니다. "
   ]
  },
  {
   "cell_type": "code",
   "execution_count": 12,
   "id": "a3ce094c-8c31-4dd7-880b-d8a8ecb0af8c",
   "metadata": {},
   "outputs": [
    {
     "name": "stderr",
     "output_type": "stream",
     "text": [
      "Adding a node to a graph that has already been compiled. This will not be reflected in the compiled graph.\n"
     ]
    }
   ],
   "source": [
    "from langchain_openai import ChatOpenAI\n",
    "from langchain_ollama.llms import OllamaLLM\n",
    "\n",
    "gpt = ChatOpenAI(temperature=0, model=\"gpt-4o-mini\")\n",
    "llama = OllamaLLM(model=\"llama3.1:8b\")\n",
    "\n",
    "def chatbot_gpt(state: State):\n",
    "    return {\"messages\": [gpt.invoke(state[\"messages\"])]}\n",
    "\n",
    "def chatbot_llama(state: State):\n",
    "    return {\"messages\": [llama.invoke(state[\"messages\"])]}\n",
    "\n",
    "\n",
    "# 첫 번째 인수는 고유한 노드 이름입니다.\n",
    "# 두 번째 인수는 노드가 사용될 때 호출될 함수 또는 객체입니다.\n",
    "# 노드를 사용하실수 있습니다.\n",
    "# 한번 정의후 또 정의하려고하면 Node `chatbot` already present. 라는 에러를 호출합니다.\n",
    "graph_builder.add_node(\"chatbot_gpt\", chatbot_gpt)"
   ]
  },
  {
   "cell_type": "markdown",
   "id": "0e20c6ef-589f-45c9-a1da-a1495462ff2c",
   "metadata": {},
   "source": [
    "### LangGraph 노드 함수 패턴\n",
    "\n",
    "챗봇 노드 함수가 현재 상태(State)를 입력으로 받아 업데이트된 메시지 목록을 반환하는 방식을 주목하세요. 이는 모든 LangGraph 노드 함수의 기본 패턴입니다.\n",
    "\n",
    "### 메시지 추가\n",
    "\n",
    "우리의 상태(State)에 있는 `add_messages` 함수는 LLM의 응답 메시지를 상태에 이미 있는 메시지에 추가합니다.\n",
    "\n",
    "### 시작 지점 추가\n",
    "\n",
    "다음으로, 시작 지점을 추가합니다. 이는 그래프가 매번 실행될 때 작업을 시작할 위치를 알려줍니다.\n"
   ]
  },
  {
   "cell_type": "code",
   "execution_count": 13,
   "id": "591f9bf1-cfcb-436b-b62d-3efc251ad63d",
   "metadata": {},
   "outputs": [
    {
     "name": "stderr",
     "output_type": "stream",
     "text": [
      "Adding an edge to a graph that has already been compiled. This will not be reflected in the compiled graph.\n"
     ]
    }
   ],
   "source": [
    "graph_builder.add_edge(START, \"chatbot\")"
   ]
  },
  {
   "cell_type": "markdown",
   "id": "fe7846a9-e514-416b-ae7e-cb417d266888",
   "metadata": {},
   "source": [
    "### 종료 지점 설정\n",
    "\n",
    "비슷하게, 종료 지점을 설정합니다. 이는 그래프에게 \"이 노드가 실행될 때마다 종료할 수 있다\"고 지시합니다."
   ]
  },
  {
   "cell_type": "code",
   "execution_count": 14,
   "id": "275c25c5-b3e5-463e-8ebb-fc43415b3168",
   "metadata": {},
   "outputs": [
    {
     "name": "stderr",
     "output_type": "stream",
     "text": [
      "Adding an edge to a graph that has already been compiled. This will not be reflected in the compiled graph.\n"
     ]
    }
   ],
   "source": [
    "graph_builder.add_edge(\"chatbot\", END)"
   ]
  },
  {
   "cell_type": "markdown",
   "id": "06089bc3-5571-48f2-86fd-7cee3b95f4d0",
   "metadata": {},
   "source": [
    "### 그래프 실행 준비\n",
    "\n",
    "마지막으로, 그래프를 실행할 수 있도록 설정합니다. 이를 위해 그래프 빌더에서 \"compile()\"을 호출합니다. 이렇게 하면 상태에서 호출할 수 있는 \"CompiledGraph\"가 생성됩니다.\n"
   ]
  },
  {
   "cell_type": "code",
   "execution_count": 15,
   "id": "3febc1ce-5f6e-44f7-9f4d-b4b495247720",
   "metadata": {},
   "outputs": [
    {
     "ename": "ValueError",
     "evalue": "Node `chatbot_gpt` is not reachable",
     "output_type": "error",
     "traceback": [
      "\u001b[0;31m---------------------------------------------------------------------------\u001b[0m",
      "\u001b[0;31mValueError\u001b[0m                                Traceback (most recent call last)",
      "Cell \u001b[0;32mIn[15], line 1\u001b[0m\n\u001b[0;32m----> 1\u001b[0m graph \u001b[38;5;241m=\u001b[39m \u001b[43mgraph_builder\u001b[49m\u001b[38;5;241;43m.\u001b[39;49m\u001b[43mcompile\u001b[49m\u001b[43m(\u001b[49m\u001b[43m)\u001b[49m\n",
      "File \u001b[0;32m~/miniconda3/envs/langchain/lib/python3.12/site-packages/langgraph/graph/state.py:402\u001b[0m, in \u001b[0;36mStateGraph.compile\u001b[0;34m(self, checkpointer, interrupt_before, interrupt_after, debug)\u001b[0m\n\u001b[1;32m    399\u001b[0m interrupt_after \u001b[38;5;241m=\u001b[39m interrupt_after \u001b[38;5;129;01mor\u001b[39;00m []\n\u001b[1;32m    401\u001b[0m \u001b[38;5;66;03m# validate the graph\u001b[39;00m\n\u001b[0;32m--> 402\u001b[0m \u001b[38;5;28;43mself\u001b[39;49m\u001b[38;5;241;43m.\u001b[39;49m\u001b[43mvalidate\u001b[49m\u001b[43m(\u001b[49m\n\u001b[1;32m    403\u001b[0m \u001b[43m    \u001b[49m\u001b[43minterrupt\u001b[49m\u001b[38;5;241;43m=\u001b[39;49m\u001b[43m(\u001b[49m\n\u001b[1;32m    404\u001b[0m \u001b[43m        \u001b[49m\u001b[43m(\u001b[49m\u001b[43minterrupt_before\u001b[49m\u001b[43m \u001b[49m\u001b[38;5;28;43;01mif\u001b[39;49;00m\u001b[43m \u001b[49m\u001b[43minterrupt_before\u001b[49m\u001b[43m \u001b[49m\u001b[38;5;241;43m!=\u001b[39;49m\u001b[43m \u001b[49m\u001b[38;5;124;43m\"\u001b[39;49m\u001b[38;5;124;43m*\u001b[39;49m\u001b[38;5;124;43m\"\u001b[39;49m\u001b[43m \u001b[49m\u001b[38;5;28;43;01melse\u001b[39;49;00m\u001b[43m \u001b[49m\u001b[43m[\u001b[49m\u001b[43m]\u001b[49m\u001b[43m)\u001b[49m\u001b[43m \u001b[49m\u001b[38;5;241;43m+\u001b[39;49m\u001b[43m \u001b[49m\u001b[43minterrupt_after\u001b[49m\n\u001b[1;32m    405\u001b[0m \u001b[43m        \u001b[49m\u001b[38;5;28;43;01mif\u001b[39;49;00m\u001b[43m \u001b[49m\u001b[43minterrupt_after\u001b[49m\u001b[43m \u001b[49m\u001b[38;5;241;43m!=\u001b[39;49m\u001b[43m \u001b[49m\u001b[38;5;124;43m\"\u001b[39;49m\u001b[38;5;124;43m*\u001b[39;49m\u001b[38;5;124;43m\"\u001b[39;49m\n\u001b[1;32m    406\u001b[0m \u001b[43m        \u001b[49m\u001b[38;5;28;43;01melse\u001b[39;49;00m\u001b[43m \u001b[49m\u001b[43m[\u001b[49m\u001b[43m]\u001b[49m\n\u001b[1;32m    407\u001b[0m \u001b[43m    \u001b[49m\u001b[43m)\u001b[49m\n\u001b[1;32m    408\u001b[0m \u001b[43m\u001b[49m\u001b[43m)\u001b[49m\n\u001b[1;32m    410\u001b[0m \u001b[38;5;66;03m# prepare output channels\u001b[39;00m\n\u001b[1;32m    411\u001b[0m output_channels \u001b[38;5;241m=\u001b[39m (\n\u001b[1;32m    412\u001b[0m     \u001b[38;5;124m\"\u001b[39m\u001b[38;5;124m__root__\u001b[39m\u001b[38;5;124m\"\u001b[39m\n\u001b[1;32m    413\u001b[0m     \u001b[38;5;28;01mif\u001b[39;00m \u001b[38;5;28mlen\u001b[39m(\u001b[38;5;28mself\u001b[39m\u001b[38;5;241m.\u001b[39mschemas[\u001b[38;5;28mself\u001b[39m\u001b[38;5;241m.\u001b[39moutput]) \u001b[38;5;241m==\u001b[39m \u001b[38;5;241m1\u001b[39m\n\u001b[0;32m   (...)\u001b[0m\n\u001b[1;32m    419\u001b[0m     ]\n\u001b[1;32m    420\u001b[0m )\n",
      "File \u001b[0;32m~/miniconda3/envs/langchain/lib/python3.12/site-packages/langgraph/graph/graph.py:358\u001b[0m, in \u001b[0;36mGraph.validate\u001b[0;34m(self, interrupt)\u001b[0m\n\u001b[1;32m    356\u001b[0m \u001b[38;5;28;01mfor\u001b[39;00m node \u001b[38;5;129;01min\u001b[39;00m \u001b[38;5;28mself\u001b[39m\u001b[38;5;241m.\u001b[39mnodes:\n\u001b[1;32m    357\u001b[0m     \u001b[38;5;28;01mif\u001b[39;00m node \u001b[38;5;129;01mnot\u001b[39;00m \u001b[38;5;129;01min\u001b[39;00m all_targets:\n\u001b[0;32m--> 358\u001b[0m         \u001b[38;5;28;01mraise\u001b[39;00m \u001b[38;5;167;01mValueError\u001b[39;00m(\u001b[38;5;124mf\u001b[39m\u001b[38;5;124m\"\u001b[39m\u001b[38;5;124mNode `\u001b[39m\u001b[38;5;132;01m{\u001b[39;00mnode\u001b[38;5;132;01m}\u001b[39;00m\u001b[38;5;124m` is not reachable\u001b[39m\u001b[38;5;124m\"\u001b[39m)\n\u001b[1;32m    359\u001b[0m \u001b[38;5;28;01mfor\u001b[39;00m target \u001b[38;5;129;01min\u001b[39;00m all_targets:\n\u001b[1;32m    360\u001b[0m     \u001b[38;5;28;01mif\u001b[39;00m target \u001b[38;5;129;01mnot\u001b[39;00m \u001b[38;5;129;01min\u001b[39;00m \u001b[38;5;28mself\u001b[39m\u001b[38;5;241m.\u001b[39mnodes \u001b[38;5;129;01mand\u001b[39;00m target \u001b[38;5;241m!=\u001b[39m END:\n",
      "\u001b[0;31mValueError\u001b[0m: Node `chatbot_gpt` is not reachable"
     ]
    }
   ],
   "source": [
    "graph = graph_builder.compile()"
   ]
  },
  {
   "cell_type": "markdown",
   "id": "6bc38a27-bb84-4fa6-9a8b-823e33355f9b",
   "metadata": {},
   "source": [
    "### 그래프 시각화\n",
    "\n",
    "그래프를 시각화하려면 `get_graph` 메서드와 `draw_ascii` 또는 `draw_png`와 같은 \"draw\" 메서드 중 하나를 사용합니다. \"draw\" 메서드는 각각 추가적인 종속성이 필요합니다."
   ]
  },
  {
   "cell_type": "code",
   "execution_count": 7,
   "id": "a2d394ef-8eca-49a1-a60e-0d6c75104be5",
   "metadata": {},
   "outputs": [
    {
     "data": {
      "image/jpeg": "[encoded data removed]",
      "text/plain": [
       "<IPython.core.display.Image object>"
      ]
     },
     "metadata": {},
     "output_type": "display_data"
    }
   ],
   "source": [
    "from IPython.display import Image, display\n",
    "\n",
    "try:\n",
    "    display(Image(graph.get_graph().draw_mermaid_png()))\n",
    "except Exception:\n",
    "    pass"
   ]
  },
  {
   "cell_type": "markdown",
   "id": "82e94688-1ecc-4425-acc8-4654068fcb7b",
   "metadata": {},
   "source": [
    "### 이제 챗봇을 실행해 봅시다!\n",
    "\n",
    "팁: \"quit\", \"exit\", 또는 \"q\"를 입력하면 언제든지 채팅 루프를 종료할 수 있습니다.\n"
   ]
  },
  {
   "cell_type": "code",
   "execution_count": 16,
   "id": "b0ddb038-3b83-4d02-b707-f546250ec8fd",
   "metadata": {},
   "outputs": [
    {
     "name": "stdin",
     "output_type": "stream",
     "text": [
      "User:  안녕\n"
     ]
    },
    {
     "name": "stdout",
     "output_type": "stream",
     "text": [
      "Assistant: 안녕하세요! Nice to meet you! How can I help you today?\n"
     ]
    },
    {
     "name": "stdin",
     "output_type": "stream",
     "text": [
      "User:  너는 어떤 모델이니\n"
     ]
    },
    {
     "name": "stdout",
     "output_type": "stream",
     "text": [
      "Assistant: 나는 다양한 사람의 모습을 나타내는 모델입니다.\n"
     ]
    },
    {
     "name": "stdin",
     "output_type": "stream",
     "text": [
      "User:  q\n"
     ]
    },
    {
     "name": "stdout",
     "output_type": "stream",
     "text": [
      "Goodbye!\n"
     ]
    }
   ],
   "source": [
    "while True:\n",
    "    user_input = input(\"User: \")\n",
    "    if user_input.lower() in [\"quit\", \"exit\", \"q\"]:\n",
    "        print(\"Goodbye!\")\n",
    "        break\n",
    "    for event in graph.stream({\"messages\": (\"user\", user_input)}):\n",
    "        for value in event.values():\n",
    "            print(\"Assistant:\", value[\"messages\"][-1]) # gpt사용시에는 print(\"Assistant:\", value[\"messages\"][-1].contents)"
   ]
  },
  {
   "cell_type": "markdown",
   "id": "581c0f67-2041-4987-a0c8-8eb89666132c",
   "metadata": {},
   "source": [
    "### LangGraph를 사용하여 첫 번째 챗봇을 만들었습니다. \n",
    "이 봇은 사용자 입력을 받아 LLM을 사용하여 응답을 생성함으로써 기본적인 대화를 할 수 있습니다. \n",
    "위 호출에 대한 LangSmith Trace를 제공된 링크에서 확인할 수 있습니다.\n",
    "하지만, 봇의 지식은 훈련 데이터에 제한된다는 것을 알 수 있을 것입니다. 다음 부분에서는 웹 검색 도구를 추가하여 봇의 지식을 확장하고 더 많은 기능을 수행할 수 있도록 할 것입니다."
   ]
  },
  {
   "cell_type": "markdown",
   "id": "e1716193-8f82-4418-b661-6e67af6e1230",
   "metadata": {},
   "source": [
    "## Part 2: 도구를 사용하여 챗봇 강화하기\n",
    "\n",
    "챗봇이 \"기억\"만으로는 답할 수 없는 질문을 처리하기 위해, 웹 검색 도구를 통합할 것입니다. 이 도구를 사용하여 봇이 관련 정보를 찾고 더 나은 응답을 제공할 수 있도록 할 것입니다.\n",
    "\n",
    "### 요구 사항\n",
    "시작하기 전에 필요한 패키지가 설치되어 있고, API 키가 설정되어 있는지 확인하세요:\n",
    "\n",
    "먼저, [Tavily](https://tavily.com/) 검색 엔진을 사용하기 위한 요구 사항을 설치하고, `TAVILY_API_KEY`를 설정하세요.\n",
    "\n",
    "`pip install -U langchain-community tavily-python`"
   ]
  },
  {
   "cell_type": "code",
   "execution_count": 25,
   "id": "a3847f54-35aa-4659-ae34-5b1f9ba407f6",
   "metadata": {},
   "outputs": [],
   "source": [
    "import getpass\n",
    "import os\n",
    "from dotenv import load_dotenv\n",
    "\n",
    "# .env 파일에서 환경 변수를 로드합니다.\n",
    "load_dotenv()\n",
    "\n",
    "# 환경 변수에서 Tavily API 키를 가져옵니다.\n",
    "travily_api_key = os.getenv(\"TRAVILY_API_KEY\")\n",
    "\n",
    "os.environ[\"TAVILY_API_KEY\"] = travily_api_key\n",
    "\n",
    "# API 키가 여전히 존재하지 않는 경우 에러를 발생시킵니다.\n",
    "if not travily_api_key:\n",
    "    raise ValueError(\"Tavily API 키가 없습니다. 한 번 더 확인 부탁드립니다.\")\n"
   ]
  },
  {
   "cell_type": "markdown",
   "id": "baeb6f2e-dcd7-4a1a-96ef-2df36820d677",
   "metadata": {},
   "source": [
    "### 다음으로, 도구를 정의합니다:"
   ]
  },
  {
   "cell_type": "code",
   "execution_count": 26,
   "id": "72796d2c-f305-4cf0-a596-535281d42a8b",
   "metadata": {},
   "outputs": [
    {
     "data": {
      "text/plain": [
       "[{'url': 'https://langchain-ai.github.io/langgraph/concepts/low_level/',\n",
       "  'content': 'Nodes¶ In LangGraph, nodes are typically python functions (sync or async) where the first positional argument is the state, and (optionally), the second positional argument is a \"config\", containing optional configurable parameters (such as a thread_id). Similar to NetworkX, you add these nodes to a graph using the add_node method:'},\n",
       " {'url': 'https://medium.com/@cplog/introduction-to-langgraph-a-beginners-guide-14f9be027141',\n",
       "  'content': 'Nodes: Nodes are the building blocks of your LangGraph. Each node represents a function or a computation step. You define nodes to perform specific tasks, such as processing input, making ...'}]"
      ]
     },
     "execution_count": 26,
     "metadata": {},
     "output_type": "execute_result"
    }
   ],
   "source": [
    "from langchain_community.tools.tavily_search import TavilySearchResults\n",
    "\n",
    "tool = TavilySearchResults(max_results=2)\n",
    "tools = [tool]\n",
    "tool.invoke(\"What's a 'node' in LangGraph?\")"
   ]
  },
  {
   "cell_type": "markdown",
   "id": "7697dab8-2a15-4768-92d6-4cb1acc0618b",
   "metadata": {},
   "source": [
    "## 검색 결과 사용\n",
    "\n",
    "결과는 챗봇이 질문에 답하기 위해 사용할 수 있는 페이지 요약입니다.\n",
    "\n",
    "## 그래프 정의 시작\n",
    "\n",
    "다음 단계에서는 그래프를 정의하기 시작합니다. Part 1과 동일하지만, LLM에 `bind_tools`를 추가했습니다. 이를 통해 LLM은 검색 엔진을 사용할 때 올바른 JSON 형식을 알 수 있습니다.\n",
    "\n",
    "### 그래프 정의\n",
    "\n",
    "이제 Part 1에서 정의한 그래프에 도구를 추가하는 방법을 살펴보겠습니다. 먼저 LLM에 도구를 바인딩하는 부분을 추가합니다."
   ]
  },
  {
   "cell_type": "code",
   "execution_count": 27,
   "id": "f4cf0072-a755-4036-9aac-1d7b94903c31",
   "metadata": {},
   "outputs": [],
   "source": [
    "from langchain_openai import ChatOpenAI\n",
    "from langchain_ollama.llms import OllamaLLM\n",
    "\n",
    "\n",
    "\n",
    "from typing import Annotated\n",
    "\n",
    "from typing_extensions import TypedDict\n",
    "\n",
    "from langgraph.graph import StateGraph, START\n",
    "from langgraph.graph.message import add_messages\n",
    "\n",
    "\n",
    "class State(TypedDict):\n",
    "    messages: Annotated[list, add_messages]\n",
    "\n",
    "\n",
    "graph_builder = StateGraph(State)\n",
    "\n",
    "gpt = ChatOpenAI(temperature=0, model=\"gpt-4o-mini\")\n",
    "\n",
    "def chatbot_gpt(state: State):\n",
    "    return {\"messages\": [gpt.invoke(state[\"messages\"])]}\n",
    "\n",
    "\n",
    "# Modification: tell the LLM which tools it can call\n",
    "gpt_with_tools = gpt.bind_tools(tools)\n",
    "\n",
    "\n",
    "def chatbot(state: State):\n",
    "    return {\"messages\": [gpt_with_tools.invoke(state[\"messages\"])]}\n",
    "\n",
    "\n",
    "graph_builder.add_node(\"chatbot\", chatbot)"
   ]
  },
  {
   "cell_type": "markdown",
   "id": "a4d2d830-6a0f-43cb-afd3-8673c6964141",
   "metadata": {},
   "source": [
    "## 도구 실행 함수 생성\n",
    "\n",
    "다음으로, 도구가 호출될 때 실제로 실행하는 함수를 생성해야 합니다. 이를 위해 도구를 새 노드에 추가할 것입니다.\n",
    "\n",
    "아래는 상태에서 가장 최근의 메시지를 확인하고, 메시지에 `tool_calls`가 포함되어 있으면 도구를 호출하는 `BasicToolNode`를 구현합니다. 이는 Anthropic, OpenAI, Google Gemini 및 기타 여러 LLM 제공자의 도구 호출 지원에 의존합니다.\n",
    "\n",
    "나중에 LangGraph의 사전 구축된 `ToolNode`로 교체하여 속도를 높이겠지만, 먼저 직접 구현해 보는 것이 유익합니다."
   ]
  },
  {
   "cell_type": "code",
   "execution_count": 28,
   "id": "bc776722-c288-4c62-b189-72778be4c6c7",
   "metadata": {},
   "outputs": [],
   "source": [
    "import json\n",
    "\n",
    "from langchain_core.messages import ToolMessage\n",
    "\n",
    "\n",
    "class BasicToolNode:\n",
    "    \"\"\"A node that runs the tools requested in the last AIMessage.\"\"\"\n",
    "\n",
    "    def __init__(self, tools: list) -> None:\n",
    "        self.tools_by_name = {tool.name: tool for tool in tools}\n",
    "\n",
    "    def __call__(self, inputs: dict):\n",
    "        if messages := inputs.get(\"messages\", []):\n",
    "            message = messages[-1]\n",
    "        else:\n",
    "            raise ValueError(\"No message found in input\")\n",
    "        outputs = []\n",
    "        for tool_call in message.tool_calls:\n",
    "            tool_result = self.tools_by_name[tool_call[\"name\"]].invoke(\n",
    "                tool_call[\"args\"]\n",
    "            )\n",
    "            outputs.append(\n",
    "                ToolMessage(\n",
    "                    content=json.dumps(tool_result),\n",
    "                    name=tool_call[\"name\"],\n",
    "                    tool_call_id=tool_call[\"id\"],\n",
    "                )\n",
    "            )\n",
    "        return {\"messages\": outputs}\n",
    "\n",
    "\n",
    "tool_node = BasicToolNode(tools=[tool])\n",
    "graph_builder.add_node(\"tools\", tool_node)"
   ]
  },
  {
   "cell_type": "markdown",
   "id": "dad3b618-a848-47d7-8515-7d334cae5356",
   "metadata": {},
   "source": [
    "## 조건부 경로 정의\n",
    "\n",
    "도구 노드를 추가한 후에는 조건부 경로를 정의할 수 있습니다.\n",
    "\n",
    "### 조건부 경로(Conditional Edges)\n",
    "\n",
    "조건부 경로는 하나의 노드에서 다음 노드로의 제어 흐름을 라우팅합니다. 조건부 경로는 일반적으로 \"if\" 문을 포함하여 현재 그래프 상태에 따라 다른 노드로 라우팅합니다. 이러한 함수는 현재 그래프 상태를 받아 다음에 호출할 노드(들)를 나타내는 문자열 또는 문자열 목록을 반환합니다.\n",
    "\n",
    "아래에서는 챗봇의 출력에서 `tool_calls`을 확인하는 `route_tools`라는 라우터 함수를 정의합니다. 이 함수를 그래프에 제공하여, 챗봇 노드가 완료될 때마다 이 함수를 확인하여 다음 경로를 결정하도록 합니다.\n",
    "\n",
    "조건부 경로는 `tool_calls`이 있는 경우 도구로 라우팅하고, 그렇지 않은 경우 종료 상태(\"__end__\")로 라우팅합니다."
   ]
  },
  {
   "cell_type": "code",
   "execution_count": 29,
   "id": "2520fe14-b724-4231-8a67-c7164976a0dd",
   "metadata": {},
   "outputs": [],
   "source": [
    "from typing import Literal\n",
    "\n",
    "# 조건부 경로 함수 정의\n",
    "def route_tools(\n",
    "    state: State,\n",
    ") -> Literal[\"tools\", \"__end__\"]:\n",
    "    \"\"\"\n",
    "    마지막 메시지에 도구 호출이 있는지 확인하여\n",
    "    조건부 경로에서 ToolNode로 라우팅합니다. 그렇지 않으면 종료 상태로 라우팅합니다.\n",
    "    \"\"\"\n",
    "    if isinstance(state, list):\n",
    "        ai_message = state[-1]\n",
    "    elif messages := state.get(\"messages\", []):\n",
    "        ai_message = messages[-1]\n",
    "    else:\n",
    "        raise ValueError(f\"No messages found in input state to tool_edge: {state}\")\n",
    "    \n",
    "    # 메시지에 tool_calls가 있는지 확인하고, 있으면 \"tools\" 반환\n",
    "    if hasattr(ai_message, \"tool_calls\") and len(ai_message.tool_calls) > 0:\n",
    "        return \"tools\"\n",
    "    return \"__end__\"\n",
    "\n",
    "# `tools_condition` 함수는 챗봇이 도구를 사용하려고 할 때 \"tools\"를 반환하고,\n",
    "# 그렇지 않으면 \"__end__\"를 반환합니다. 이 조건부 라우팅은 주요 에이전트 루프를 정의합니다.\n",
    "graph_builder.add_conditional_edges(\n",
    "    \"chatbot\",\n",
    "    route_tools,\n",
    "    # 다음 사전은 조건의 출력을 특정 노드로 해석하도록 그래프에 지시합니다.\n",
    "    # 기본적으로는 동일한 이름의 노드를 사용하지만,\n",
    "    # \"tools\" 대신 다른 이름의 노드를 사용하려면 사전 값을 업데이트하면 됩니다.\n",
    "    # 예: \"tools\": \"my_tools\"\n",
    "    {\"tools\": \"tools\", \"__end__\": \"__end__\"},\n",
    ")\n",
    "\n",
    "# 도구가 호출될 때마다 챗봇으로 돌아와 다음 단계를 결정합니다.\n",
    "graph_builder.add_edge(\"tools\", \"chatbot\")\n",
    "\n",
    "# 시작 상태에서 챗봇 노드로 이동합니다.\n",
    "graph_builder.add_edge(START, \"chatbot\")\n",
    "\n",
    "# 그래프를 컴파일합니다.\n",
    "graph = graph_builder.compile()"
   ]
  },
  {
   "cell_type": "markdown",
   "id": "e93075c3-828a-4bba-bb9b-848350153c09",
   "metadata": {},
   "source": [
    "조건부 경로는 단일 노드에서 시작합니다. 이는 그래프에게 \"챗봇 노드가 실행될 때마다, 도구를 호출하면 'tools'로 이동하고, 직접 응답하면 루프를 종료하라\"는 의미입니다.\n",
    "\n",
    "사전 구축된 `tools_condition`과 마찬가지로, 우리의 함수도 도구 호출이 없는 경우 \"__end__\" 문자열을 반환합니다. 그래프가 \"__end__\"로 전환되면, 더 이상 완료할 작업이 없으므로 실행을 중지합니다. 조건이 \"__end__\"를 반환할 수 있기 때문에 이번에는 명시적으로 종료 지점을 설정할 필요가 없습니다. 우리의 그래프는 이미 종료할 방법을 가지고 있습니다!\n",
    "\n",
    "이제 우리가 구축한 그래프를 시각화해봅시다. 다음 함수는 이 튜토리얼에서는 중요하지 않은 추가적인 종속성을 필요로 합니다.\n",
    "\n",
    "### 그래프 시각화"
   ]
  },
  {
   "cell_type": "code",
   "execution_count": 30,
   "id": "77f45052-408c-478b-bb7f-12574e616eab",
   "metadata": {},
   "outputs": [
    {
     "data": {
      "image/jpeg": "[encoded data removed]",
      "text/plain": [
       "<IPython.core.display.Image object>"
      ]
     },
     "metadata": {},
     "output_type": "display_data"
    }
   ],
   "source": [
    "from IPython.display import Image, display\n",
    "\n",
    "try:\n",
    "    display(Image(graph.get_graph().draw_mermaid_png()))\n",
    "except Exception:\n",
    "    pass"
   ]
  },
  {
   "cell_type": "code",
   "execution_count": 31,
   "id": "9537b330-93db-4854-b0ee-9528d12d9937",
   "metadata": {},
   "outputs": [
    {
     "name": "stdin",
     "output_type": "stream",
     "text": [
      "User:  안녕\n"
     ]
    },
    {
     "name": "stdout",
     "output_type": "stream",
     "text": [
      "Assistant: 안녕하세요! 어떻게 도와드릴까요?\n"
     ]
    },
    {
     "name": "stdin",
     "output_type": "stream",
     "text": [
      "User:  삼성전자 주가를 알려줘\n"
     ]
    },
    {
     "name": "stdout",
     "output_type": "stream",
     "text": [
      "Assistant: \n",
      "Assistant: [{\"url\": \"https://news.tvchosun.com/site/data/html_dir/2024/07/05/2024070590099.html\", \"content\": \"\\ucf54\\uc2a4\\ud53c 2850 \\ub3cc\\ud30c\\u2026\\uc0bc\\uc131\\uc804\\uc790 \\uc8fc\\uac00 '8\\ub9cc 6\\ucc9c\\uc6d0' \\ud130\\uce58. \\ucf54\\uc2a4\\ud53c\\uac00 2,850\\uc120\\uc744 \\ub118\\uc5b4\\uc130\\ub2e4. 5\\uc77c \\ud55c\\uad6d\\uac70\\ub798\\uc18c\\uc5d0 \\ub530\\ub974\\uba74 \\ucf54\\uc2a4\\ud53c\\ub294 \\uc624\\uc804 10\\uc2dc \\uae30\\uc900\\uc73c\\ub85c 2,850\\uc120\\uc744 \\ub3cc\\ud30c\\ud588\\ub2e4. \\ucf54\\uc2a4\\ud53c\\ub294 2836.21\\uc5d0\\uc11c \\ucd9c\\ubc1c\\ud574 \\uc7a5\\ucd08\\ubc18 2852.59\\uae4c\\uc9c0 \\uc0c1\\uc2b9\\ud588\\ub2e4. 10\\uc2dc 30\\ubd84 \\uae30\\uc900\\uc73c\\ub85c \\ucf54\\uc2a4\\ud53c\\ub294 2,847.21\\uc744 \\uae30\\ub85d\\uc911\\uc774\\ub2e4 ...\"}, {\"url\": \"https://www.chosun.com/economy/money/2024/07/11/KOCI3ZFJS5BK5ML2RBFALPA33Y/\", \"content\": \"\\uc0bc\\uc131\\uc804\\uc790 \\uc8fc\\uac00 10\\ub9cc\\uc6d0 \\ub3cc\\ud30c\\ud558\\ub294 \\ub0a0, \\ucf54\\uc2a4\\ud53c\\uc5d0 \\uc0dd\\uae38 \\uc77c \\ucf54\\uc2a4\\ud53c \\uc0ac\\ud758 \\uc5f0\\uc18d \\uc5f0\\uc911 \\ucd5c\\uace0\\uce58\\ub85c \\ub9c8\\uac10 \\uc0bc\\uc131\\uc804\\uc790\\u00b7\\ud558\\uc774\\ub2c9\\uc2a4 1\\ub144 \\ucd5c\\uace0\\uac00 \\uae30\\ub85d \\uc655\\uac1c\\ubbf8\\uc5f0\\uad6c\\uc18c \\ucf54\\uc2a4\\ud53c\\uac00 11\\uc77c 2891.35\\ub85c \\ub9c8\\uac10\\ud558\\uba70 \\uc5f0\\uc911 \\ucd5c\\uace0\\uce58\\ub97c 3\\uc77c \\uc5f0\\uc18d \\uac08\\uc544 \\uce58\\uc6e0\\ub2e4. \\uc7a5\\uc911 \\ud55c\\ub54c 2896\\uae4c\\uc9c0 \\uc624\\ub974\\uba70 2900\\uc120\\uc5d0\\ub3c4 .\"}]\n",
      "Assistant: 현재 삼성전자의 주가는 약 2,850원입니다. 최근 주가는 2,836.21원에서 시작하여 2,852.59원으로 상승했습니다. 추가적인 정보는 [여기](https://news.tvchosun.com/site/data/html_dir/2024/07/05/2024070590099.html)에서 확인하실 수 있습니다.\n"
     ]
    },
    {
     "name": "stdin",
     "output_type": "stream",
     "text": [
      "User:  q\n"
     ]
    },
    {
     "name": "stdout",
     "output_type": "stream",
     "text": [
      "Goodbye!\n"
     ]
    },
    {
     "name": "stdout",
     "output_type": "stream",
     "text": [
      "User:  q\n"
     ]
    },
    {
     "name": "stdout",
     "output_type": "stream",
     "text": [
      "Goodbye!\n"
     ]
    }
   ],
   "source": [
    "\n",
    "from langchain_core.messages import BaseMessage\n",
    "\n",
    "while True:\n",
    "    user_input = input(\"User: \")\n",
    "    if user_input.lower() in [\"quit\", \"exit\", \"q\"]:\n",
    "        print(\"Goodbye!\")\n",
    "        break\n",
    "    for event in graph.stream({\"messages\": [(\"user\", user_input)]}):\n",
    "        for value in event.values():\n",
    "            if isinstance(value[\"messages\"][-1], BaseMessage):\n",
    "                print(\"Assistant:\", value[\"messages\"][-1].content)"
   ]
  },
  {
   "cell_type": "markdown",
   "id": "614b703e-1e3d-483f-b39b-384bd7e2d7e6",
   "metadata": {},
   "source": [
    "이제 langgraph에서 검색 엔진을 사용하여 필요한 경우 최신 정보를 검색할 수 있는 대화형 에이전트를 만들었습니다. 이제 에이전트는 더 넓은 범위의 사용자 질문을 처리할 수 있습니다. 에이전트가 수행한 모든 단계를 검사하려면 이 LangSmith 추적을 확인하세요.\n",
    "\n",
    "우리의 챗봇은 여전히 과거의 상호작용을 기억할 수 없기 때문에 일관된 다중 턴 대화를 나누는 능력이 제한됩니다. 다음 부분에서는 이 문제를 해결하기 위해 메모리를 추가할 것입니다.\n",
    "\n",
    "이 섹션에서 만든 그래프의 전체 코드는 아래에 다시 작성되어 있으며, BasicToolNode를 사전 구축된 ToolNode로, route_tools 조건을 사전 구축된 tools_condition으로 교체했습니다.\n"
   ]
  },
  {
   "cell_type": "markdown",
   "id": "900e8b37-3182-4b0e-be57-615697444655",
   "metadata": {},
   "source": [
    "## Part 3: 챗봇에 메모리 추가하기\n",
    "\n",
    "이제 우리의 챗봇은 도구를 사용하여 사용자 질문에 답할 수 있지만, 이전 상호작용의 컨텍스트를 기억하지 못합니다. 이는 일관된 다중 턴 대화를 나누는 능력을 제한합니다.\n",
    "\n",
    "LangGraph는 지속적인 체크포인팅을 통해 이 문제를 해결합니다. 그래프를 컴파일할 때 체크포인터를 제공하고, 그래프를 호출할 때 `thread_id`를 제공하면, LangGraph는 각 단계 후에 상태를 자동으로 저장합니다. 동일한 `thread_id`를 사용하여 그래프를 다시 호출하면, 그래프는 저장된 상태를 로드하여 이전 작업을 이어서 수행할 수 있습니다.\n",
    "\n",
    "체크포인팅은 단순한 채팅 메모리보다 훨씬 강력합니다. 이는 오류 복구, 인간이 개입하는 워크플로우, 시간 여행 상호작용 등에서 복잡한 상태를 저장하고 다시 시작할 수 있게 해줍니다. 하지만 먼저, 다중 턴 대화를 가능하게 하기 위해 체크포인팅을 추가해보겠습니다."
   ]
  },
  {
   "cell_type": "code",
   "execution_count": 39,
   "id": "2e17a05f-fd86-4514-8aac-d145b7f634bd",
   "metadata": {},
   "outputs": [],
   "source": [
    "from langgraph.checkpoint.memory import MemorySaver\n",
    "memory = MemorySaver()"
   ]
  },
  {
   "cell_type": "markdown",
   "id": "d110f859-5210-4819-8404-2da50231c884",
   "metadata": {},
   "source": [
    "`MemorySaver`:memory:`를 지정한 것을 주목하세요. 이는 모든 데이터를 메모리에 저장하기 때문에 튜토리얼에 편리합니다. 실제 응용 프로그램에서는 이를 변경하여 자신만의 데이터베이스에 연결하거나 다른 체크포인터 클래스를 사용할 가능성이 큽니다.\n",
    "\n",
    "다음으로 그래프를 정의합니다. 이미 BasicToolNode를 직접 구축했기 때문에, 이를 LangGraph의 사전 구축된 ToolNode와 tools_condition으로 교체하겠습니다. 이들은 병렬 API 실행과 같은 유용한 기능을 제공합니다. 그 외의 부분은 모두 Part 2에서 복사한 것입니다."
   ]
  },
  {
   "cell_type": "code",
   "execution_count": 40,
   "id": "10f48860-6e07-451e-afe5-6a87ca23c956",
   "metadata": {},
   "outputs": [],
   "source": [
    "from typing import Annotated\n",
    "\n",
    "from langchain_community.tools.tavily_search import TavilySearchResults\n",
    "from langchain_core.messages import BaseMessage\n",
    "from typing_extensions import TypedDict\n",
    "\n",
    "from langgraph.graph import StateGraph, START, END\n",
    "from langgraph.graph.message import add_messages\n",
    "from langgraph.prebuilt import ToolNode, tools_condition\n",
    "\n",
    "from langchain_openai import ChatOpenAI\n",
    "from langchain_ollama.llms import OllamaLLM\n",
    "\n",
    "\n",
    "class State(TypedDict):\n",
    "    messages: Annotated[list, add_messages]\n",
    "\n",
    "\n",
    "graph_builder = StateGraph(State)\n",
    "\n",
    "\n",
    "tool = TavilySearchResults(max_results=2)\n",
    "tools = [tool]\n",
    "llm = ChatOpenAI(temperature=0, model=\"gpt-4o-mini\")\n",
    "llm_with_tools = llm.bind_tools(tools)\n",
    "\n",
    "\n",
    "def chatbot(state: State):\n",
    "    return {\"messages\": [llm_with_tools.invoke(state[\"messages\"])]}\n",
    "\n",
    "\n",
    "graph_builder.add_node(\"chatbot\", chatbot)\n",
    "\n",
    "tool_node = ToolNode(tools=[tool])\n",
    "graph_builder.add_node(\"tools\", tool_node)\n",
    "\n",
    "graph_builder.add_conditional_edges(\n",
    "    \"chatbot\",\n",
    "    tools_condition,\n",
    ")\n",
    "# Any time a tool is called, we return to the chatbot to decide the next step\n",
    "graph_builder.add_edge(\"tools\", \"chatbot\")\n",
    "graph_builder.add_edge(START, \"chatbot\")"
   ]
  },
  {
   "cell_type": "markdown",
   "id": "4836a2d5-eadd-4051-8294-6dbf74e67f1e",
   "metadata": {},
   "source": [
    "마지막으로, 제공된 체크포인터와 함께 그래프를 컴파일합니다."
   ]
  },
  {
   "cell_type": "code",
   "execution_count": 41,
   "id": "506cf8c7-7bd5-4c51-b6a2-5c095e26516e",
   "metadata": {},
   "outputs": [],
   "source": [
    "graph = graph_builder.compile(checkpointer=memory)"
   ]
  },
  {
   "cell_type": "markdown",
   "id": "6e9c2124-7fe5-453f-b20d-2f7d701457b8",
   "metadata": {},
   "source": [
    "그래프의 연결성은 Part 2 이후로 변경되지 않았음을 주목하세요. 우리가 하는 일은 그래프가 각 노드를 처리하면서 상태(State)를 체크포인팅하는 것뿐입니다."
   ]
  },
  {
   "cell_type": "code",
   "execution_count": 42,
   "id": "692a69ce-ec68-499d-8edc-977703663ec4",
   "metadata": {},
   "outputs": [
    {
     "data": {
      "image/jpeg": "[encoded data removed]",
      "text/plain": [
       "<IPython.core.display.Image object>"
      ]
     },
     "metadata": {},
     "output_type": "display_data"
    }
   ],
   "source": [
    "from IPython.display import Image, display\n",
    "\n",
    "try:\n",
    "    display(Image(graph.get_graph().draw_mermaid_png()))\n",
    "except Exception:\n",
    "    pass"
   ]
  },
  {
   "cell_type": "markdown",
   "id": "7c60036c-71d7-469f-ba46-ea8aa8377dc6",
   "metadata": {},
   "source": [
    "이제 봇과 상호작용할 수 있습니다! 먼저, 이 대화의 키로 사용할 스레드를 선택하세요."
   ]
  },
  {
   "cell_type": "code",
   "execution_count": 43,
   "id": "513c8f4c-8ec0-4f31-ba3e-da363b06a6b9",
   "metadata": {},
   "outputs": [],
   "source": [
    "config = {\"configurable\": {\"thread_id\": \"1\"}}"
   ]
  },
  {
   "cell_type": "code",
   "execution_count": 44,
   "id": "5300fa38-989d-4074-b353-f21f7d5b8c7b",
   "metadata": {},
   "outputs": [
    {
     "name": "stdout",
     "output_type": "stream",
     "text": [
      "================================\u001b[1m Human Message \u001b[0m=================================\n",
      "\n",
      "Hi there! My name is Will.\n",
      "==================================\u001b[1m Ai Message \u001b[0m==================================\n",
      "\n",
      "Hi Will! How can I assist you today?\n"
     ]
    }
   ],
   "source": [
    "user_input = \"Hi there! My name is Will.\"\n",
    "\n",
    "# The config is the **second positional argument** to stream() or invoke()!\n",
    "events = graph.stream(\n",
    "    {\"messages\": [(\"user\", user_input)]}, config, stream_mode=\"values\"\n",
    ")\n",
    "for event in events:\n",
    "    event[\"messages\"][-1].pretty_print()"
   ]
  },
  {
   "cell_type": "markdown",
   "id": "defc3609-0302-4b72-b683-e55bd783c53d",
   "metadata": {},
   "source": [
    "참고: config는 그래프를 호출할 때 두 번째 위치 인수로 제공되었습니다. 이는 그래프 입력({ 'messages': [] }) 내에 중첩되지 않는 것이 중요합니다.\n",
    "\n",
    "다음 질문을 해보세요: 당신의 이름을 기억하는지 확인해보세요."
   ]
  },
  {
   "cell_type": "code",
   "execution_count": 45,
   "id": "08221258-7529-4931-b3c9-9fe81be87b16",
   "metadata": {},
   "outputs": [
    {
     "name": "stdout",
     "output_type": "stream",
     "text": [
      "================================\u001b[1m Human Message \u001b[0m=================================\n",
      "\n",
      "Remember my name?\n",
      "==================================\u001b[1m Ai Message \u001b[0m==================================\n",
      "\n",
      "Yes, I remember your name is Will! How can I help you today?\n"
     ]
    }
   ],
   "source": [
    "\n",
    "user_input = \"Remember my name?\"\n",
    "\n",
    "# The config is the **second positional argument** to stream() or invoke()!\n",
    "events = graph.stream(\n",
    "    {\"messages\": [(\"user\", user_input)]}, config, stream_mode=\"values\"\n",
    ")\n",
    "for event in events:\n",
    "    event[\"messages\"][-1].pretty_print()"
   ]
  },
  {
   "cell_type": "markdown",
   "id": "5f56b0d8-42b0-4312-b7da-c42c970c6066",
   "metadata": {},
   "source": [
    "메모리를 위해 외부 리스트를 사용하지 않는다는 점에 주목하세요: 이는 모두 체크포인터에 의해 처리됩니다! LangSmith 추적에서 전체 실행을 검사하여 무슨 일이 일어나고 있는지 확인할 수 있습니다.\n",
    "\n",
    "믿기지 않나요? 다른 설정을 사용하여 시도해보세요.\n"
   ]
  },
  {
   "cell_type": "code",
   "execution_count": 46,
   "id": "9efd551c-19fe-47ea-8388-ad3a35b6b576",
   "metadata": {},
   "outputs": [
    {
     "name": "stdout",
     "output_type": "stream",
     "text": [
      "================================\u001b[1m Human Message \u001b[0m=================================\n",
      "\n",
      "Remember my name?\n",
      "==================================\u001b[1m Ai Message \u001b[0m==================================\n",
      "\n",
      "I don't have the ability to remember personal information or previous interactions. However, I'm here to help you with any questions or topics you'd like to discuss!\n"
     ]
    }
   ],
   "source": [
    "\n",
    "# The only difference is we change the `thread_id` here to \"2\" instead of \"1\"\n",
    "events = graph.stream(\n",
    "    {\"messages\": [(\"user\", user_input)]},\n",
    "    {\"configurable\": {\"thread_id\": \"2\"}},\n",
    "    stream_mode=\"values\",\n",
    ")\n",
    "for event in events:\n",
    "    event[\"messages\"][-1].pretty_print()"
   ]
  },
  {
   "cell_type": "markdown",
   "id": "e5939d7d-387b-4ab7-9e9e-8610c9cb11dd",
   "metadata": {},
   "source": [
    "우리가 한 유일한 변경 사항은 설정(config)에서 `thread_id`를 수정한 것입니다. 비교를 위해 이 호출의 LangSmith 추적을 확인하세요.\n",
    "\n",
    "이제 두 개의 다른 스레드에서 몇 가지 체크포인트를 만들었습니다. 하지만 체크포인트에 무엇이 들어갈까요? 주어진 설정(config)에서 그래프의 상태를 언제든지 검사하려면 `get_state(config)`를 호출하세요."
   ]
  },
  {
   "cell_type": "code",
   "execution_count": 47,
   "id": "ba591c56-45fc-4124-8990-20b277036859",
   "metadata": {},
   "outputs": [
    {
     "data": {
      "text/plain": [
       "StateSnapshot(values={'messages': [HumanMessage(content='Hi there! My name is Will.', id='9f741e36-e9e1-4284-a8f7-8ae889748733'), AIMessage(content='Hi Will! How can I assist you today?', response_metadata={'token_usage': {'completion_tokens': 11, 'prompt_tokens': 87, 'total_tokens': 98}, 'model_name': 'gpt-4o-mini-2024-07-18', 'system_fingerprint': 'fp_48196bc67a', 'finish_reason': 'stop', 'logprobs': None}, id='run-9babaaf0-3415-4ddb-aac7-aecbc94cc6a7-0', usage_metadata={'input_tokens': 87, 'output_tokens': 11, 'total_tokens': 98}), HumanMessage(content='Remember my name?', id='3c7fe49e-6c4d-4f44-9acd-c44bab74db61'), AIMessage(content='Yes, I remember your name is Will! How can I help you today?', response_metadata={'token_usage': {'completion_tokens': 17, 'prompt_tokens': 109, 'total_tokens': 126}, 'model_name': 'gpt-4o-mini-2024-07-18', 'system_fingerprint': 'fp_507c9469a1', 'finish_reason': 'stop', 'logprobs': None}, id='run-cde6d246-f6f4-4910-8959-8a5e4de5e792-0', usage_metadata={'input_tokens': 109, 'output_tokens': 17, 'total_tokens': 126})]}, next=(), config={'configurable': {'thread_id': '1', 'checkpoint_ns': '', 'checkpoint_id': '1ef553f2-5edd-6140-8004-000cc4d7bb6d'}}, metadata={'source': 'loop', 'writes': {'chatbot': {'messages': [AIMessage(content='Yes, I remember your name is Will! How can I help you today?', response_metadata={'token_usage': {'completion_tokens': 17, 'prompt_tokens': 109, 'total_tokens': 126}, 'model_name': 'gpt-4o-mini-2024-07-18', 'system_fingerprint': 'fp_507c9469a1', 'finish_reason': 'stop', 'logprobs': None}, id='run-cde6d246-f6f4-4910-8959-8a5e4de5e792-0', usage_metadata={'input_tokens': 109, 'output_tokens': 17, 'total_tokens': 126})]}}, 'step': 4}, created_at='2024-08-08T04:31:57.941764+00:00', parent_config={'configurable': {'thread_id': '1', 'checkpoint_ns': '', 'checkpoint_id': '1ef553f2-5839-656e-8003-3bca5ab5b7f4'}})"
      ]
     },
     "execution_count": 47,
     "metadata": {},
     "output_type": "execute_result"
    }
   ],
   "source": [
    "snapshot = graph.get_state(config)\n",
    "snapshot"
   ]
  },
  {
   "cell_type": "code",
   "execution_count": 48,
   "id": "988266e7-479e-4247-a14c-0cf632084e5f",
   "metadata": {},
   "outputs": [
    {
     "data": {
      "text/plain": [
       "()"
      ]
     },
     "execution_count": 48,
     "metadata": {},
     "output_type": "execute_result"
    }
   ],
   "source": [
    "snapshot.next  # 그래프가 이번 턴에 종료되었으므로 `next`는 비어 있습니다. 그래프 호출 중에 상태를 가져오면 next는 다음에 실행될 노드를 알려줍니다."
   ]
  },
  {
   "cell_type": "markdown",
   "id": "3fb53f35-a90c-472d-8b05-029f87010e64",
   "metadata": {},
   "source": [
    "위의 스냅샷에는 현재 상태 값, 해당 설정(config), 그리고 다음에 처리할 노드가 포함되어 있습니다. 우리 경우에는 그래프가 __end__ 상태에 도달했으므로 next는 비어 있습니다."
   ]
  },
  {
   "cell_type": "markdown",
   "id": "334c2ede-10b4-4996-a6b1-d0aaeb6ab79d",
   "metadata": {},
   "source": [
    "축하합니다! 이제 LangGraph의 체크포인팅 시스템 덕분에 챗봇이 세션 간 대화 상태를 유지할 수 있게 되었습니다. 이는 보다 자연스럽고 맥락적인 상호작용을 가능하게 합니다. LangGraph의 체크포인팅은 단순한 채팅 메모리보다 훨씬 표현력이 높고 강력한 임의의 복잡한 그래프 상태도 처리할 수 있습니다.\n",
    "\n",
    "다음 부분에서는 챗봇이 진행하기 전에 지침이나 검증이 필요한 상황을 처리하기 위해 인간의 감독을 도입할 것입니다.\n"
   ]
  },
  {
   "cell_type": "markdown",
   "id": "2a75963c-6fe9-4d70-9afb-2165bf3bc3e0",
   "metadata": {},
   "source": [
    "## Part 4: Human-in-the-loop\n",
    "\n",
    "에이전트는 신뢰할 수 없을 수 있으며, 작업을 성공적으로 수행하기 위해 인간의 입력이 필요할 수 있습니다. 마찬가지로, 일부 작업에 대해서는 실행하기 전에 인간의 승인을 요구하여 모든 것이 의도한 대로 실행되는지 확인하고자 할 수 있습니다.\n",
    "\n",
    "LangGraph는 여러 가지 방법으로 human-in-the-loop 워크플로우를 지원합니다. 이 섹션에서는 LangGraph의 `interrupt_before` 기능을 사용하여 항상 도구 노드에서 중단되도록 하겠습니다.\n",
    "\n",
    "먼저, 기존 코드에서 시작합니다. 다음은 Part 3에서 복사한 내용입니다."
   ]
  },
  {
   "cell_type": "code",
   "execution_count": 49,
   "id": "81fc608e-dd0b-4794-b764-f6e5193b4394",
   "metadata": {},
   "outputs": [],
   "source": [
    "from typing import Annotated\n",
    "\n",
    "from langchain_community.tools.tavily_search import TavilySearchResults\n",
    "from langchain_core.messages import BaseMessage\n",
    "from typing_extensions import TypedDict\n",
    "\n",
    "from langgraph.graph import StateGraph, START, END\n",
    "from langgraph.graph.message import add_messages\n",
    "from langgraph.prebuilt import ToolNode, tools_condition\n",
    "\n",
    "from langchain_openai import ChatOpenAI\n",
    "from langchain_ollama.llms import OllamaLLM\n",
    "\n",
    "from langgraph.checkpoint.memory import MemorySaver\n",
    "\n",
    "memory = MemorySaver()\n",
    "\n",
    "\n",
    "class State(TypedDict):\n",
    "    messages: Annotated[list, add_messages]\n",
    "\n",
    "\n",
    "graph_builder = StateGraph(State)\n",
    "\n",
    "\n",
    "tool = TavilySearchResults(max_results=2)\n",
    "tools = [tool]\n",
    "llm = ChatOpenAI(temperature=0, model=\"gpt-4o-mini\")\n",
    "llm_with_tools = llm.bind_tools(tools)\n",
    "\n",
    "\n",
    "def chatbot(state: State):\n",
    "    return {\"messages\": [llm_with_tools.invoke(state[\"messages\"])]}\n",
    "\n",
    "\n",
    "graph_builder.add_node(\"chatbot\", chatbot)\n",
    "\n",
    "tool_node = ToolNode(tools=[tool])\n",
    "graph_builder.add_node(\"tools\", tool_node)\n",
    "\n",
    "graph_builder.add_conditional_edges(\n",
    "    \"chatbot\",\n",
    "    tools_condition,\n",
    ")\n",
    "# Any time a tool is called, we return to the chatbot to decide the next step\n",
    "graph_builder.add_edge(\"tools\", \"chatbot\")\n",
    "graph_builder.add_edge(START, \"chatbot\")"
   ]
  },
  {
   "cell_type": "markdown",
   "id": "d5360742-3ec3-4056-aa9a-5fc7d39fe53d",
   "metadata": {},
   "source": [
    "Now, compile the graph, specifying to interrupt_before the action node."
   ]
  },
  {
   "cell_type": "code",
   "execution_count": 50,
   "id": "1fcd57b6-ee08-42e5-9993-4b565fa3a0d7",
   "metadata": {},
   "outputs": [],
   "source": [
    "graph = graph_builder.compile(\n",
    "    checkpointer=memory,\n",
    "    # This is new!\n",
    "    interrupt_before=[\"tools\"],\n",
    "    # Note: can also interrupt __after__ actions, if desired.\n",
    "    # interrupt_after=[\"tools\"]\n",
    ")"
   ]
  },
  {
   "cell_type": "code",
   "execution_count": 51,
   "id": "0e3ecad2-81c1-4de5-b75b-efeca8e48e1d",
   "metadata": {},
   "outputs": [
    {
     "name": "stdout",
     "output_type": "stream",
     "text": [
      "================================\u001b[1m Human Message \u001b[0m=================================\n",
      "\n",
      "I'm learning LangGraph. Could you do some research on it for me?\n",
      "==================================\u001b[1m Ai Message \u001b[0m==================================\n",
      "Tool Calls:\n",
      "  tavily_search_results_json (call_9eeO03nnK3BrqJkEePDX8yK4)\n",
      " Call ID: call_9eeO03nnK3BrqJkEePDX8yK4\n",
      "  Args:\n",
      "    query: LangGraph\n"
     ]
    }
   ],
   "source": [
    "\n",
    "user_input = \"I'm learning LangGraph. Could you do some research on it for me?\"\n",
    "config = {\"configurable\": {\"thread_id\": \"1\"}}\n",
    "# The config is the **second positional argument** to stream() or invoke()!\n",
    "events = graph.stream(\n",
    "    {\"messages\": [(\"user\", user_input)]}, config, stream_mode=\"values\"\n",
    ")\n",
    "for event in events:\n",
    "    if \"messages\" in event:\n",
    "        event[\"messages\"][-1].pretty_print()"
   ]
  },
  {
   "cell_type": "markdown",
   "id": "f91a97b2-28c4-41ad-a874-f79f9505edc8",
   "metadata": {},
   "source": [
    "그래프 상태를 검사하여 제대로 작동했는지 확인해봅시다."
   ]
  },
  {
   "cell_type": "code",
   "execution_count": 52,
   "id": "2f50d192-904f-4108-b0a9-90f094838390",
   "metadata": {},
   "outputs": [
    {
     "data": {
      "text/plain": [
       "('tools',)"
      ]
     },
     "execution_count": 52,
     "metadata": {},
     "output_type": "execute_result"
    }
   ],
   "source": [
    "snapshot = graph.get_state(config)\n",
    "snapshot.next"
   ]
  },
  {
   "cell_type": "markdown",
   "id": "46ae61ff-52b9-42c0-bf9c-be658ee7cfb1",
   "metadata": {},
   "source": [
    "지난번과 달리 이번에는 \"next\" 노드가 'action'으로 설정된 것을 확인하세요. 여기서 중단되었습니다! 이제 도구 호출을 확인해봅시다."
   ]
  },
  {
   "cell_type": "code",
   "execution_count": 53,
   "id": "41391063-e50d-42f9-ae56-15f57c4424e5",
   "metadata": {},
   "outputs": [
    {
     "data": {
      "text/plain": [
       "[{'name': 'tavily_search_results_json',\n",
       "  'args': {'query': 'LangGraph'},\n",
       "  'id': 'call_9eeO03nnK3BrqJkEePDX8yK4',\n",
       "  'type': 'tool_call'}]"
      ]
     },
     "execution_count": 53,
     "metadata": {},
     "output_type": "execute_result"
    }
   ],
   "source": [
    "existing_message = snapshot.values[\"messages\"][-1]\n",
    "existing_message.tool_calls"
   ]
  },
  {
   "cell_type": "markdown",
   "id": "fc4164e2-71dd-413f-a935-8655a5c43515",
   "metadata": {},
   "source": [
    "이 쿼리는 합리적으로 보입니다. 여기에 필터링할 것은 없습니다. 인간이 할 수 있는 가장 간단한 일은 그래프가 계속 실행되도록 하는 것입니다. 아래에서 그렇게 해보겠습니다.\n",
    "\n",
    "다음으로, 그래프를 계속 실행하세요! `None`을 전달하면 상태에 아무것도 추가하지 않고 그래프가 중단된 위치에서 계속 실행됩니다.\n"
   ]
  },
  {
   "cell_type": "code",
   "execution_count": 55,
   "id": "7de01b65-60b6-4bf3-8d85-77f29fb5c174",
   "metadata": {},
   "outputs": [
    {
     "name": "stdout",
     "output_type": "stream",
     "text": [
      "=================================\u001b[1m Tool Message \u001b[0m=================================\n",
      "Name: tavily_search_results_json\n",
      "\n",
      "[{\"url\": \"https://github.com/langchain-ai/langgraph\", \"content\": \"LangGraph is a library for creating stateful, multi-actor applications with LLMs, using cycles, controllability, and persistence. Learn how to use LangGraph with examples, integration with LangChain, and streaming support.\"}, {\"url\": \"https://www.datacamp.com/tutorial/langgraph-tutorial\", \"content\": \"LangGraph is a library within the LangChain ecosystem designed to tackle these challenges head-on. LangGraph provides a framework for defining, coordinating, and executing multiple LLM agents (or chains) in a structured manner. It simplifies the development process by enabling the creation of cyclical graphs, which are essential for developing ...\"}]\n",
      "==================================\u001b[1m Ai Message \u001b[0m==================================\n",
      "\n",
      "Here are some key resources and information about LangGraph:\n",
      "\n",
      "1. **GitHub Repository**: [LangGraph on GitHub](https://github.com/langchain-ai/langgraph)\n",
      "   - LangGraph is a library designed for creating stateful, multi-actor applications using Large Language Models (LLMs). It focuses on cycles, controllability, and persistence. The repository includes examples, integration with LangChain, and support for streaming.\n",
      "\n",
      "2. **DataCamp Tutorial**: [LangGraph Tutorial](https://www.datacamp.com/tutorial/langgraph-tutorial)\n",
      "   - This tutorial explains that LangGraph is part of the LangChain ecosystem and is aimed at addressing challenges in coordinating and executing multiple LLM agents or chains. It provides a framework for defining and managing cyclical graphs, which are crucial for developing complex applications.\n",
      "\n",
      "These resources should help you get started with LangGraph and understand its capabilities within the LangChain framework.\n"
     ]
    }
   ],
   "source": [
    "\n",
    "# `None` will append nothing new to the current state, letting it resume as if it had never been interrupted\n",
    "events = graph.stream(None, config, stream_mode=\"values\")\n",
    "for event in events:\n",
    "    if \"messages\" in event:\n",
    "        event[\"messages\"][-1].pretty_print()"
   ]
  },
  {
   "cell_type": "markdown",
   "id": "45292acc-78a5-4c1d-9bd4-df1fb0fe2ffc",
   "metadata": {},
   "source": [
    "축하합니다! 중단 기능을 사용하여 챗봇에 human-in-the-loop 실행을 추가하여 필요할 때 인간의 감독과 개입이 가능하도록 만들었습니다.  \n",
    "이는 AI 시스템과 함께 사용할 수 있는 잠재적인 UI를 확장합니다. 이미 체크포인터를 추가했으므로,  \n",
    "그래프는 무기한으로 일시 중지되고 언제든지 아무 일도 없었던 것처럼 다시 시작될 수 있습니다.\n",
    "다음으로, 사용자 정의 상태 업데이트를 사용하여 봇의 동작을 더욱 맞춤화하는 방법을 탐구하겠습니다."
   ]
  },
  {
   "cell_type": "markdown",
   "id": "64459c40-121a-426e-9e26-dba3aee87353",
   "metadata": {},
   "source": [
    "## Part 5: 상태 수동 업데이트\n",
    "\n",
    "이전 섹션에서는 그래프를 중단하여 인간이 그 동작을 검사할 수 있도록 하는 방법을 보여주었습니다. 이를 통해 인간은 상태를 읽을 수 있지만, 에이전트의 경로를 변경하려면 쓰기 권한이 필요합니다.\n",
    "\n",
    "다행히도, LangGraph는 상태를 수동으로 업데이트할 수 있게 해줍니다! 상태를 업데이트하면 에이전트의 행동을 수정하여 경로를 제어할 수 있습니다(심지어 과거도 수정할 수 있습니다!). 이 기능은 에이전트의 실수를 수정하거나, 대체 경로를 탐색하거나, 에이전트를 특정 목표로 안내하고자 할 때 특히 유용합니다.\n",
    "\n",
    "아래에서는 체크포인팅된 상태를 업데이트하는 방법을 보여드리겠습니다. 이전과 마찬가지로, 먼저 그래프를 정의합니다. 이전에 사용한 그래프를 그대로 재사용하겠습니다.\n"
   ]
  },
  {
   "cell_type": "code",
   "execution_count": 58,
   "id": "668854df-4cfd-40ba-9d83-e397c13022be",
   "metadata": {},
   "outputs": [],
   "source": [
    "from typing import Annotated\n",
    "\n",
    "from langchain_community.tools.tavily_search import TavilySearchResults\n",
    "from langchain_core.messages import BaseMessage\n",
    "from typing_extensions import TypedDict\n",
    "\n",
    "from langgraph.graph import StateGraph, START, END\n",
    "from langgraph.graph.message import add_messages\n",
    "from langgraph.prebuilt import ToolNode, tools_condition\n",
    "\n",
    "from langchain_openai import ChatOpenAI\n",
    "from langchain_ollama.llms import OllamaLLM\n",
    "\n",
    "from langgraph.checkpoint.memory import MemorySaver\n",
    "\n",
    "memory = MemorySaver()\n",
    "\n",
    "\n",
    "class State(TypedDict):\n",
    "    messages: Annotated[list, add_messages]\n",
    "\n",
    "\n",
    "graph_builder = StateGraph(State)\n",
    "\n",
    "\n",
    "tool = TavilySearchResults(max_results=2)\n",
    "tools = [tool]\n",
    "llm = ChatOpenAI(temperature=0, model=\"gpt-4o-mini\")\n",
    "llm_with_tools = llm.bind_tools(tools)\n",
    "\n",
    "\n",
    "def chatbot(state: State):\n",
    "    return {\"messages\": [llm_with_tools.invoke(state[\"messages\"])]}\n",
    "\n",
    "\n",
    "graph_builder.add_node(\"chatbot\", chatbot)\n",
    "\n",
    "tool_node = ToolNode(tools=[tool])\n",
    "graph_builder.add_node(\"tools\", tool_node)\n",
    "\n",
    "graph_builder.add_conditional_edges(\n",
    "    \"chatbot\",\n",
    "    tools_condition,\n",
    ")\n",
    "# Any time a tool is called, we return to the chatbot to decide the next step\n",
    "graph_builder.add_edge(\"tools\", \"chatbot\")\n",
    "graph_builder.add_edge(START, \"chatbot\")\n",
    "\n",
    "graph = graph_builder.compile(\n",
    "    checkpointer=memory,\n",
    "    # This is new!\n",
    "    interrupt_before=[\"tools\"],\n",
    "    # Note: can also interrupt **after** actions, if desired.\n",
    "    # interrupt_after=[\"tools\"]\n",
    ")\n",
    "\n",
    "user_input = \"I'm learning LangGraph. Could you do some research on it for me?\"\n",
    "config = {\"configurable\": {\"thread_id\": \"1\"}}\n",
    "# The config is the **second positional argument** to stream() or invoke()!\n",
    "events = graph.stream({\"messages\": [(\"user\", user_input)]}, config)\n",
    "for event in events:\n",
    "    if \"messages\" in event:\n",
    "        event[\"messages\"][-1].pretty_print()"
   ]
  },
  {
   "cell_type": "code",
   "execution_count": 59,
   "id": "b05d7c43-c57c-48f6-a851-8e2ae8d71757",
   "metadata": {},
   "outputs": [
    {
     "name": "stdout",
     "output_type": "stream",
     "text": [
      "==================================\u001b[1m Ai Message \u001b[0m==================================\n",
      "Tool Calls:\n",
      "  tavily_search_results_json (call_gM6al36WEMEWjAFfNWWqr0TN)\n",
      " Call ID: call_gM6al36WEMEWjAFfNWWqr0TN\n",
      "  Args:\n",
      "    query: LangGraph\n"
     ]
    }
   ],
   "source": [
    "snapshot = graph.get_state(config)\n",
    "existing_message = snapshot.values[\"messages\"][-1]\n",
    "existing_message.pretty_print()"
   ]
  },
  {
   "cell_type": "markdown",
   "id": "9dcd0512-d596-4dba-80e6-e8ee6eb73b6b",
   "metadata": {},
   "source": [
    "지금까지는 이전 섹션과 완전히 동일합니다. LLM은 검색 엔진 도구를 사용하도록 요청했으며, 우리의 그래프는 중단되었습니다. \n",
    "이전과 같이 진행하면 도구가 호출되어 웹 검색을 수행할 것입니다.\n",
    "하지만 사용자가 개입하고 싶다면 어떻게 될까요? 만약 챗봇이 도구를 사용할 필요가 없다고 생각한다면요?\n",
    "이제 직접 올바른 응답을 제공해봅시다!"
   ]
  },
  {
   "cell_type": "code",
   "execution_count": 60,
   "id": "a47d5983-0ac7-4bbb-bc16-bd0236b11e99",
   "metadata": {},
   "outputs": [
    {
     "name": "stdout",
     "output_type": "stream",
     "text": [
      "==================================\u001b[1m Ai Message \u001b[0m==================================\n",
      "\n",
      "LangGraph is a library for building stateful, multi-actor applications with LLMs.\n",
      "\n",
      "\n",
      "마지막 2개의 메시지:\n",
      "[ToolMessage(content='LangGraph is a library for building stateful, multi-actor applications with LLMs.', id='c715a91e-7173-4bed-a05b-cc63c6eaf123', tool_call_id='call_gM6al36WEMEWjAFfNWWqr0TN'), AIMessage(content='LangGraph is a library for building stateful, multi-actor applications with LLMs.', id='5be82100-a30d-4dda-922e-8d575c4b38df')]\n"
     ]
    }
   ],
   "source": [
    "from langchain_core.messages import AIMessage\n",
    "\n",
    "answer = (\n",
    "    \"LangGraph is a library for building stateful, multi-actor applications with LLMs.\"\n",
    ")\n",
    "new_messages = [\n",
    "    # LLM API는 도구 호출에 대응하는 ToolMessage를 기대합니다. 여기서 이를 만족시킬 것입니다.\n",
    "    ToolMessage(content=answer, tool_call_id=existing_message.tool_calls[0][\"id\"]),\n",
    "    # 그리고 직접 LLM의 응답을 채워 넣어 \"입에 말 넣기\"를 합니다.\n",
    "    AIMessage(content=answer),\n",
    "]\n",
    "\n",
    "new_messages[-1].pretty_print()\n",
    "graph.update_state(\n",
    "    # 업데이트할 상태\n",
    "    config,\n",
    "    # 제공할 업데이트된 값. `State`의 메시지는 \"append-only\" 방식이므로 기존 상태에 추가됩니다.\n",
    "    # 다음 섹션에서는 기존 메시지를 업데이트하는 방법을 검토할 것입니다!\n",
    "    {\"messages\": new_messages},\n",
    ")\n",
    "\n",
    "print(\"\\n\\n마지막 2개의 메시지:\")\n",
    "print(graph.get_state(config).values[\"messages\"][-2:])"
   ]
  },
  {
   "cell_type": "markdown",
   "id": "15b7640d-b8f0-42f5-bf28-023efae919be",
   "metadata": {},
   "source": [
    "이제 그래프가 완료되었습니다. 최종 응답 메시지를 제공했기 때문입니다! 상태 업데이트는 그래프의 한 단계를 시뮬레이션하므로 해당 단계에 대한 추적도 생성됩니다. 위의 `update_state` 호출에 대한 LangSmith 추적을 검사하여 어떤 일이 발생했는지 확인하세요.\n",
    "\n",
    "새 메시지가 상태에 이미 존재하는 메시지에 추가된 것을 주목하세요. 상태 타입을 어떻게 정의했는지 기억하시나요?\n",
    "\n",
    "```python\n",
    "class State(TypedDict):\n",
    "    messages: Annotated[list, add_messages]\n",
    "\n",
    "메시지에 사전 구축된 add_messages 함수를 주석으로 추가했습니다. 이는 그래프에 값을 기존 목록에 항상 추가하도록 지시하여 목록을 직접 덮어쓰지 않게 합니다. 동일한 논리가 여기에 적용되어, 우리가 update_state에 전달한 메시지도 동일한 방식으로 추가되었습니다!\n",
    "\n",
    "update_state 함수는 마치 그래프의 노드 중 하나인 것처럼 동작합니다! 기본적으로 업데이트 작업은 마지막으로 실행된 노드를 사용하지만, 아래에서 이를 수동으로 지정할 수 있습니다. 업데이트를 추가하고 그래프에 \"chatbot\"에서 온 것처럼 처리하도록 해보겠습니다."
   ]
  },
  {
   "cell_type": "code",
   "execution_count": 61,
   "id": "d46b1255-80f8-4ed9-ae99-351c2fd375a0",
   "metadata": {},
   "outputs": [
    {
     "data": {
      "text/plain": [
       "{'configurable': {'thread_id': '1',\n",
       "  'checkpoint_ns': '',\n",
       "  'checkpoint_id': '1ef554a6-bdfa-6f74-8003-e4497a3cf912'}}"
      ]
     },
     "execution_count": 61,
     "metadata": {},
     "output_type": "execute_result"
    }
   ],
   "source": [
    "graph.update_state(\n",
    "    config,\n",
    "    {\"messages\": [AIMessage(content=\"I'm an AI expert!\")]},\n",
    "    # Which node for this function to act as. It will automatically continue\n",
    "    # processing as if this node just ran.\n",
    "    as_node=\"chatbot\",\n",
    ")"
   ]
  },
  {
   "cell_type": "markdown",
   "id": "508b68fa-a4dc-40f2-90a4-6568afeb6dcb",
   "metadata": {},
   "source": [
    "제공된 링크에서 이 업데이트 호출에 대한 LangSmith 추적을 확인하세요. 추적에서 그래프가 `tools_condition` 경로로 계속되는 것을 확인할 수 있습니다. 우리는 방금 그래프에 `as_node=\"chatbot\"`으로 업데이트를 처리하도록 지시했습니다. 아래 다이어그램을 따라 `chatbot` 노드에서 시작하면, 자연스럽게 `tools_condition` 경로로 이동한 후, 업데이트된 메시지에 도구 호출이 없으므로 __end__ 상태로 끝납니다.\n"
   ]
  },
  {
   "cell_type": "code",
   "execution_count": 62,
   "id": "e4ee3b69-78d3-4b45-9795-db1fe9cc5545",
   "metadata": {},
   "outputs": [
    {
     "data": {
      "image/jpeg": "[encoded data removed]",
      "text/plain": [
       "<IPython.core.display.Image object>"
      ]
     },
     "metadata": {},
     "output_type": "display_data"
    }
   ],
   "source": [
    "from IPython.display import Image, display\n",
    "\n",
    "try:\n",
    "    display(Image(graph.get_graph().draw_mermaid_png()))\n",
    "except Exception:\n",
    "    # This requires some extra dependencies and is optional\n",
    "    pass"
   ]
  },
  {
   "cell_type": "markdown",
   "id": "8a4c095c-60f1-44a4-a9fc-a2533a9cc7c6",
   "metadata": {},
   "source": [
    "이전과 같이 현재 상태를 검사하여 체크포인트가 우리의 수동 업데이트를 반영하는지 확인하세요."
   ]
  },
  {
   "cell_type": "code",
   "execution_count": 65,
   "id": "06bf3ddb-c239-4119-8f82-d40fada53f4d",
   "metadata": {},
   "outputs": [
    {
     "name": "stdout",
     "output_type": "stream",
     "text": [
      "[ToolMessage(content='LangGraph is a library for building stateful, multi-actor applications with LLMs.', id='c715a91e-7173-4bed-a05b-cc63c6eaf123', tool_call_id='call_gM6al36WEMEWjAFfNWWqr0TN'), AIMessage(content='LangGraph is a library for building stateful, multi-actor applications with LLMs.', id='5be82100-a30d-4dda-922e-8d575c4b38df'), AIMessage(content=\"I'm an AI expert!\", id='4d52d5b0-ab36-4f8f-8d49-567eda20ec7c')]\n",
      "()\n"
     ]
    }
   ],
   "source": [
    "snapshot = graph.get_state(config)\n",
    "print(snapshot.values[\"messages\"][-3:])\n",
    "print(snapshot.next)"
   ]
  },
  {
   "cell_type": "markdown",
   "id": "abf10d87-323f-48f8-bb4e-1946d71a09e3",
   "metadata": {},
   "source": [
    "주목하세요: 우리가 AI 메시지를 상태에 계속 추가하고 있다는 점을. 챗봇으로서 행동하고 도구 호출이 포함되지 않은 AI 메시지로 응답하고 있기 때문에, 그래프는 완료 상태에 도달했음을 인식합니다 (next가 비어 있음)."
   ]
  },
  {
   "cell_type": "markdown",
   "id": "fd572d84-c137-4c80-a215-fff07a11b04b",
   "metadata": {},
   "source": [
    "기존 메시지를 덮어쓰고 싶다면 어떻게 해야 할까요?\n",
    "우리가 위에서 그래프의 상태를 주석 처리할 때 사용한 `add_messages` 함수는 메시지 키에 대한 업데이트 방법을 제어합니다. 이 함수는 새로운 메시지 목록에 있는 메시지 ID를 확인합니다. ID가 기존 상태의 메시지와 일치하면, `add_messages`는 기존 메시지를 새로운 내용으로 덮어씁니다.\n",
    "\n",
    "예를 들어, 검색 엔진에서 좋은 결과를 얻기 위해 도구 호출을 업데이트해 봅시다! 먼저, 새로운 스레드를 시작합니다:\n"
   ]
  },
  {
   "cell_type": "code",
   "execution_count": 66,
   "id": "d218ff23-8e8c-44aa-a3a2-9f6e2d74c654",
   "metadata": {},
   "outputs": [
    {
     "name": "stdout",
     "output_type": "stream",
     "text": [
      "================================\u001b[1m Human Message \u001b[0m=================================\n",
      "\n",
      "I'm learning LangGraph. Could you do some research on it for me?\n",
      "==================================\u001b[1m Ai Message \u001b[0m==================================\n",
      "Tool Calls:\n",
      "  tavily_search_results_json (call_NaDWLFF6tH1c2VOwK9HJ663u)\n",
      " Call ID: call_NaDWLFF6tH1c2VOwK9HJ663u\n",
      "  Args:\n",
      "    query: LangGraph\n"
     ]
    }
   ],
   "source": [
    "\n",
    "user_input = \"I'm learning LangGraph. Could you do some research on it for me?\"\n",
    "config = {\"configurable\": {\"thread_id\": \"2\"}}  # we'll use thread_id = 2 here\n",
    "events = graph.stream(\n",
    "    {\"messages\": [(\"user\", user_input)]}, config, stream_mode=\"values\"\n",
    ")\n",
    "for event in events:\n",
    "    if \"messages\" in event:\n",
    "        event[\"messages\"][-1].pretty_print()"
   ]
  },
  {
   "cell_type": "markdown",
   "id": "298a165f-aa58-4533-9584-b771df457f3a",
   "metadata": {},
   "source": [
    "다음으로, 에이전트의 도구 호출을 업데이트해 봅시다. 예를 들어, human-in-the-loop 워크플로우에 대해 검색하고자 할 수 있습니다.\n"
   ]
  },
  {
   "cell_type": "code",
   "execution_count": 67,
   "id": "dca5036e-015b-4cee-b9f7-99be70fb1c5b",
   "metadata": {},
   "outputs": [
    {
     "name": "stdout",
     "output_type": "stream",
     "text": [
      "Original\n",
      "Message ID run-a483342d-a009-4f99-9164-15f327f4a867-0\n",
      "{'name': 'tavily_search_results_json', 'args': {'query': 'LangGraph'}, 'id': 'call_NaDWLFF6tH1c2VOwK9HJ663u', 'type': 'tool_call'}\n",
      "Updated\n",
      "{'name': 'tavily_search_results_json', 'args': {'query': 'LangGraph human-in-the-loop workflow'}, 'id': 'call_NaDWLFF6tH1c2VOwK9HJ663u', 'type': 'tool_call'}\n",
      "Message ID run-a483342d-a009-4f99-9164-15f327f4a867-0\n",
      "\n",
      "\n",
      "Tool calls\n"
     ]
    },
    {
     "data": {
      "text/plain": [
       "[{'name': 'tavily_search_results_json',\n",
       "  'args': {'query': 'LangGraph human-in-the-loop workflow'},\n",
       "  'id': 'call_NaDWLFF6tH1c2VOwK9HJ663u',\n",
       "  'type': 'tool_call'}]"
      ]
     },
     "execution_count": 67,
     "metadata": {},
     "output_type": "execute_result"
    }
   ],
   "source": [
    "from langchain_core.messages import AIMessage\n",
    "\n",
    "snapshot = graph.get_state(config)\n",
    "existing_message = snapshot.values[\"messages\"][-1]\n",
    "print(\"Original\")\n",
    "print(\"Message ID\", existing_message.id)\n",
    "print(existing_message.tool_calls[0])\n",
    "new_tool_call = existing_message.tool_calls[0].copy()\n",
    "new_tool_call[\"args\"][\"query\"] = \"LangGraph human-in-the-loop workflow\"\n",
    "new_message = AIMessage(\n",
    "    content=existing_message.content,\n",
    "    tool_calls=[new_tool_call],\n",
    "    # Important! The ID is how LangGraph knows to REPLACE the message in the state rather than APPEND this messages\n",
    "    id=existing_message.id,\n",
    ")\n",
    "\n",
    "print(\"Updated\")\n",
    "print(new_message.tool_calls[0])\n",
    "print(\"Message ID\", new_message.id)\n",
    "graph.update_state(config, {\"messages\": [new_message]})\n",
    "\n",
    "print(\"\\n\\nTool calls\")\n",
    "graph.get_state(config).values[\"messages\"][-1].tool_calls"
   ]
  },
  {
   "cell_type": "markdown",
   "id": "4b370faa-6eb9-4252-a824-80a749fa62ad",
   "metadata": {},
   "source": [
    "우리가 AI의 도구 호출을 단순한 \"LangGraph\" 대신 \"LangGraph human-in-the-loop workflow\"를 검색하도록 수정한 것을 주목하세요.\n",
    "\n",
    "LangSmith 추적을 확인하여 상태 업데이트 호출을 확인하세요. 우리의 새로운 메시지가 이전 AI 메시지를 성공적으로 업데이트한 것을 볼 수 있습니다.\n",
    "\n",
    "기존 설정과 None 입력을 사용하여 그래프를 스트리밍하여 다시 시작하세요."
   ]
  },
  {
   "cell_type": "code",
   "execution_count": 68,
   "id": "f32dcbef-a0fa-4f91-b997-080a5418e953",
   "metadata": {},
   "outputs": [
    {
     "name": "stdout",
     "output_type": "stream",
     "text": [
      "=================================\u001b[1m Tool Message \u001b[0m=================================\n",
      "Name: tavily_search_results_json\n",
      "\n",
      "[{\"url\": \"https://www.youtube.com/watch?v=9BPCV5TYPmg\", \"content\": \"In this video, I'll show you how to handle persistence with LangGraph, enabling a unique Human-in-the-Loop workflow. This approach allows a human to grant an...\"}, {\"url\": \"https://medium.com/@kbdhunga/implementing-human-in-the-loop-with-langgraph-ccfde023385c\", \"content\": \"Implementing a Human-in-the-Loop (HIL) framework in LangGraph with the Streamlit app provides a robust mechanism for user engagement and decision-making. By incorporating breakpoints and ...\"}]\n",
      "==================================\u001b[1m Ai Message \u001b[0m==================================\n",
      "\n",
      "Here are some resources on LangGraph, particularly focusing on its Human-in-the-Loop (HIL) workflow:\n",
      "\n",
      "1. **YouTube Video**: This video demonstrates how to handle persistence with LangGraph, enabling a unique Human-in-the-Loop workflow. It shows how a human can interact with the system to grant permissions and make decisions. You can watch it [here](https://www.youtube.com/watch?v=9BPCV5TYPmg).\n",
      "\n",
      "2. **Medium Article**: This article discusses implementing a Human-in-the-Loop framework in LangGraph using a Streamlit app. It provides insights into user engagement and decision-making, incorporating breakpoints and other features. You can read the article [here](https://medium.com/@kbdhunga/implementing-human-in-the-loop-with-langgraph-ccfde023385c).\n",
      "\n",
      "These resources should help you understand how LangGraph works and how to implement a Human-in-the-Loop workflow effectively.\n"
     ]
    }
   ],
   "source": [
    "events = graph.stream(None, config, stream_mode=\"values\")\n",
    "for event in events:\n",
    "    if \"messages\" in event:\n",
    "        event[\"messages\"][-1].pretty_print()"
   ]
  },
  {
   "cell_type": "markdown",
   "id": "1698d088-f71f-4717-aa5c-2a8ffc18cfe3",
   "metadata": {},
   "source": [
    "도구 호출 및 이후 LLM 응답을 확인하려면 추적을 확인하세요. 이제 그래프가 업데이트된 검색어를 사용하여 검색 엔진을 쿼리하는 것을 확인할 수 있습니다. \n",
    "우리는 여기서 LLM의 검색을 수동으로 덮어쓸 수 있었습니다!\n",
    "\n",
    "이 모든 것은 그래프의 체크포인트된 메모리에 반영되므로, 대화를 계속하면 수정된 모든 상태를 기억할 것입니다.\n"
   ]
  },
  {
   "cell_type": "code",
   "execution_count": 69,
   "id": "f92a0b22-d962-4ed7-928b-bbc403aed300",
   "metadata": {},
   "outputs": [
    {
     "name": "stdout",
     "output_type": "stream",
     "text": [
      "================================\u001b[1m Human Message \u001b[0m=================================\n",
      "\n",
      "Remember what I'm learning about?\n",
      "==================================\u001b[1m Ai Message \u001b[0m==================================\n",
      "\n",
      "Yes, you're learning about LangGraph, specifically its Human-in-the-Loop (HIL) workflow. If you have any specific questions or need further information on a particular aspect of LangGraph, feel free to ask!\n"
     ]
    }
   ],
   "source": [
    "events = graph.stream(\n",
    "    {\n",
    "        \"messages\": (\n",
    "            \"user\",\n",
    "            \"Remember what I'm learning about?\",\n",
    "        )\n",
    "    },\n",
    "    config,\n",
    "    stream_mode=\"values\",\n",
    ")\n",
    "for event in events:\n",
    "    if \"messages\" in event:\n",
    "        event[\"messages\"][-1].pretty_print()"
   ]
  },
  {
   "cell_type": "markdown",
   "id": "18e6ec6b-9aa3-40bb-9ddb-9d17e4707253",
   "metadata": {},
   "source": [
    "축하합니다! `interrupt_before`와 `update_state`를 사용하여 human-in-the-loop 워크플로우의 일환으로 상태를 수동으로 수정할 수 있었습니다.\n",
    "중단 및 상태 수정을 통해 에이전트의 동작을 제어할 수 있습니다. 지속적인 체크포인팅과 결합하면 작업을 일시 중지하고 언제든지 다시 시작할 수 있습니다. \n",
    "사용자가 그래프가 중단될 때 항상 사용할 수 있을 필요는 없습니다!\n",
    "\n",
    "이 섹션의 그래프 코드는 이전과 동일합니다. 기억해야 할 중요한 부분은 그래프가 특정 노드에 도달할 때마다 명시적으로 일시 중지하려면 `.compile(..., interrupt_before=[...])` (또는 `interrupt_after`)를 추가하는 것입니다. \n",
    "그런 다음 `update_state`를 사용하여 체크포인트를 수정하고 그래프가 어떻게 진행될지를 제어할 수 있습니다."
   ]
  },
  {
   "cell_type": "markdown",
   "id": "17edadf7-e28c-4153-8913-100abb70e2d8",
   "metadata": {},
   "source": [
    "## Part 6: 상태 맞춤화\n",
    "\n",
    "지금까지 우리는 간단한 상태(메시지 목록)만을 사용해 왔습니다. 이 간단한 상태로도 많은 작업을 할 수 있지만, 메시지 목록에 의존하지 않고 복잡한 동작을 정의하고 싶다면 상태에 추가 필드를 추가할 수 있습니다. \n",
    "이 섹션에서는 새로운 노드를 추가하여 우리의 챗봇을 확장하고 이를 설명하겠습니다.\n",
    "\n",
    "위의 예제에서는 항상 도구가 호출될 때마다 그래프를 중단하여 인간이 결정적으로 개입하도록 했습니다. \n",
    "만약 챗봇이 인간에게 의존할지 선택할 수 있도록 하고 싶다면 어떻게 해야 할까요?\n",
    "\n",
    "한 가지 방법은 \"human\" 노드를 통과시키는 것입니다. 그래프는 이 노드 이전에 항상 중단됩니다. \n",
    "우리는 LLM이 \"human\" 도구를 호출할 때만 이 노드를 실행할 것입니다. 편의를 위해 그래프 상태에 \"ask_human\" 플래그를 포함시켜 LLM이 이 도구를 호출하면 플래그를 전환하도록 할 것입니다.\n",
    "\n",
    "아래에, 업데이트된 상태(State)와 함께 이 새로운 그래프를 정의하세요."
   ]
  },
  {
   "cell_type": "code",
   "execution_count": 72,
   "id": "ab389349-e7cc-4395-9673-3e4f3a20783a",
   "metadata": {},
   "outputs": [],
   "source": [
    "from typing import Annotated\n",
    "\n",
    "from langchain_community.tools.tavily_search import TavilySearchResults\n",
    "from langchain_core.messages import BaseMessage\n",
    "from typing_extensions import TypedDict\n",
    "\n",
    "from langgraph.checkpoint.memory import MemorySaver\n",
    "from langgraph.graph import StateGraph, START\n",
    "from langgraph.graph.message import add_messages\n",
    "from langgraph.prebuilt import ToolNode, tools_condition\n",
    "\n",
    "\n",
    "class State(TypedDict):\n",
    "    messages: Annotated[list, add_messages]\n",
    "    # This flag is new\n",
    "    ask_human: bool"
   ]
  },
  {
   "cell_type": "markdown",
   "id": "4750aa9f-2895-4a19-a76c-dedc15850ba9",
   "metadata": {},
   "source": [
    "다음으로, 모델이 도움을 요청할지 결정할 수 있도록 스키마를 정의합니다."
   ]
  },
  {
   "cell_type": "code",
   "execution_count": 74,
   "id": "f696ce76-9bbd-480f-aaa4-9287f5013134",
   "metadata": {},
   "outputs": [],
   "source": [
    "from langchain_core.pydantic_v1 import BaseModel\n",
    "\n",
    "\n",
    "class RequestAssistance(BaseModel):\n",
    "    \"\"\"대화를 전문가에게 이관합니다. 직접 도움을 줄 수 없거나 사용자가 권한을 넘어서는 지원을 필요로 할 경우 이 기능을 사용하세요.\n",
    "\n",
    "    이 기능을 사용하려면, 사용자의 '요청'을 전달하여 전문가가 적절한 지침을 제공할 수 있도록 합니다.\n",
    "    \"\"\"\n",
    "\n",
    "    request: str"
   ]
  },
  {
   "cell_type": "markdown",
   "id": "ee368d2d-d051-40c1-afd3-631dd1bd4cf4",
   "metadata": {},
   "source": [
    "다음으로, 챗봇 노드를 정의합니다. 여기서 주요 수정 사항은 챗봇이 `RequestAssistance` 플래그를 호출했는지 확인하고 `ask_human` 플래그를 전환하는 것입니다."
   ]
  },
  {
   "cell_type": "code",
   "execution_count": 76,
   "id": "fe14ade2-ee2b-4573-86aa-161928889e88",
   "metadata": {},
   "outputs": [],
   "source": [
    "tool = TavilySearchResults(max_results=2)\n",
    "tools = [tool]\n",
    "\n",
    "llm = ChatOpenAI(temperature=0, model=\"gpt-4o-mini\")\n",
    "# We can bind the llm to a tool definition, a pydantic model, or a json schema\n",
    "llm_with_tools = llm.bind_tools(tools + [RequestAssistance])\n",
    "\n",
    "def chatbot(state: State):\n",
    "    response = llm_with_tools.invoke(state[\"messages\"])\n",
    "    ask_human = False\n",
    "    if (\n",
    "        response.tool_calls\n",
    "        and response.tool_calls[0][\"name\"] == RequestAssistance.__name__\n",
    "    ):\n",
    "        ask_human = True\n",
    "    return {\"messages\": [response], \"ask_human\": ask_human}"
   ]
  },
  {
   "cell_type": "markdown",
   "id": "c7caddb6-5fd6-42db-86ce-d941db213ef2",
   "metadata": {},
   "source": [
    "다음으로, 그래프 빌더를 생성하고 이전과 동일하게 챗봇과 도구 노드를 그래프에 추가합니다."
   ]
  },
  {
   "cell_type": "code",
   "execution_count": 77,
   "id": "6b29e93d-7c98-47db-b8d4-3c6a9e74b640",
   "metadata": {},
   "outputs": [],
   "source": [
    "graph_builder = StateGraph(State)\n",
    "\n",
    "graph_builder.add_node(\"chatbot\", chatbot)\n",
    "graph_builder.add_node(\"tools\", ToolNode(tools=[tool]))"
   ]
  },
  {
   "cell_type": "markdown",
   "id": "e6a89816-8570-4074-98d7-3de303b800c7",
   "metadata": {},
   "source": [
    "다음으로, \"human\" 노드를 생성합니다. 이 노드 함수는 그래프에서 주로 인터럽트를 트리거하는 자리 표시자입니다. 인간이 인터럽트 중에 상태를 수동으로 업데이트하지 않으면, 사용자에게 요청이 있었지만 응답하지 않았음을 LLM이 알 수 있도록 도구 메시지를 삽입합니다. 이 노드는 또한 `ask_human` 플래그를 해제하여 그래프가 추가 요청이 있을 때까지 이 노드를 다시 방문하지 않도록 합니다."
   ]
  },
  {
   "cell_type": "code",
   "execution_count": 78,
   "id": "295bd247-0722-4606-a5a8-490eab0bb8b8",
   "metadata": {},
   "outputs": [],
   "source": [
    "from langchain_core.messages import AIMessage, ToolMessage\n",
    "\n",
    "\n",
    "def create_response(response: str, ai_message: AIMessage):\n",
    "    return ToolMessage(\n",
    "        content=response,\n",
    "        tool_call_id=ai_message.tool_calls[0][\"id\"],\n",
    "    )\n",
    "\n",
    "\n",
    "\n",
    "def human_node(state: State):\n",
    "    new_messages = []\n",
    "    if not isinstance(state[\"messages\"][-1], ToolMessage):\n",
    "        # 일반적으로 사용자가 인터럽트 중에 상태를 업데이트합니다.\n",
    "        # 만약 사용자가 상태를 업데이트하지 않기로 선택한 경우,\n",
    "        # LLM이 계속 실행될 수 있도록 자리 표시자 ToolMessage를 포함합니다.\n",
    "        new_messages.append(\n",
    "            create_response(\"No response from human.\", state[\"messages\"][-1])\n",
    "        )\n",
    "    return {\n",
    "        # 새로운 메시지 추가\n",
    "        \"messages\": new_messages,\n",
    "        # 플래그 해제\n",
    "        \"ask_human\": False,\n",
    "    }\n",
    "\n",
    "graph_builder.add_node(\"human\", human_node)"
   ]
  },
  {
   "cell_type": "markdown",
   "id": "214a59de-fbf3-4bc8-8449-789c1b136aff",
   "metadata": {},
   "source": [
    "다음으로, 조건부 로직을 정의합니다. `select_next_node` 함수는 플래그가 설정된 경우 `human` 노드로 라우팅합니다. 그렇지 않으면 사전 구축된 `tools_condition` 함수가 다음 노드를 선택하도록 합니다.\n",
    "\n",
    "`tools_condition` 함수는 챗봇이 응답 메시지에서 도구 호출(tool_calls)을 응답했는지 확인합니다. 도구 호출이 있는 경우 `action` 노드로 라우팅하고, 그렇지 않으면 그래프를 종료합니다."
   ]
  },
  {
   "cell_type": "code",
   "execution_count": 79,
   "id": "4d61a067-fa4d-42b8-a669-5841c92572cb",
   "metadata": {},
   "outputs": [],
   "source": [
    "def select_next_node(state: State):\n",
    "    if state[\"ask_human\"]:\n",
    "        return \"human\"\n",
    "    # Otherwise, we can route as before\n",
    "    return tools_condition(state)\n",
    "\n",
    "\n",
    "graph_builder.add_conditional_edges(\n",
    "    \"chatbot\",\n",
    "    select_next_node,\n",
    "    {\"human\": \"human\", \"tools\": \"tools\", \"__end__\": \"__end__\"},\n",
    ")"
   ]
  },
  {
   "cell_type": "markdown",
   "id": "f072027a-2ddb-495f-9edd-6fd8b39e1488",
   "metadata": {},
   "source": [
    "마지막으로, 간단한 방향성 경로를 추가하고 그래프를 컴파일합니다. 이러한 경로는 그래프가 노드 `a`가 실행을 마칠 때마다 항상 노드 `b`로 이동하도록 지시합니다."
   ]
  },
  {
   "cell_type": "code",
   "execution_count": 80,
   "id": "90f8a863-9f14-4cd4-9831-65dd656e5202",
   "metadata": {},
   "outputs": [],
   "source": [
    "# The rest is the same\n",
    "graph_builder.add_edge(\"tools\", \"chatbot\")\n",
    "graph_builder.add_edge(\"human\", \"chatbot\")\n",
    "graph_builder.add_edge(START, \"chatbot\")\n",
    "memory = MemorySaver()\n",
    "graph = graph_builder.compile(\n",
    "    checkpointer=memory,\n",
    "    # We interrupt before 'human' here instead.\n",
    "    interrupt_before=[\"human\"],\n",
    ")"
   ]
  },
  {
   "cell_type": "markdown",
   "id": "eb4dc7b0-2a2c-457a-a06c-1c2b65d593d5",
   "metadata": {},
   "source": [
    "시각화 종속성이 설치되어 있으면, 아래에서 그래프 구조를 확인할 수 있습니다:"
   ]
  },
  {
   "cell_type": "code",
   "execution_count": 81,
   "id": "ac4737e4-0365-4506-82da-51921888322b",
   "metadata": {},
   "outputs": [
    {
     "data": {
      "image/jpeg": "[encoded data removed]",
      "text/plain": [
       "<IPython.core.display.Image object>"
      ]
     },
     "metadata": {},
     "output_type": "display_data"
    }
   ],
   "source": [
    "from IPython.display import Image, display\n",
    "\n",
    "try:\n",
    "    display(Image(graph.get_graph().draw_mermaid_png()))\n",
    "except Exception:\n",
    "    pass"
   ]
  },
  {
   "cell_type": "markdown",
   "id": "1e04b5c6-746a-4cbc-844c-68773c1e57c2",
   "metadata": {},
   "source": [
    "챗봇은 인간에게 도움을 요청(chatbot->select->human)하거나, 검색 엔진 도구를 호출(chatbot->select->action)하거나, 직접 응답(chatbot->select->end)할 수 있습니다. 작업이나 요청이 이루어진 후, 그래프는 작업을 계속하기 위해 다시 챗봇 노드로 전환됩니다.\n",
    "\n",
    "이 그래프가 실제로 어떻게 작동하는지 확인해봅시다. 전문가의 도움을 요청하여 그래프를 설명하겠습니다."
   ]
  },
  {
   "cell_type": "code",
   "execution_count": 82,
   "id": "994e10c0-5072-4445-8c55-ecf5e4da10b2",
   "metadata": {},
   "outputs": [
    {
     "name": "stdout",
     "output_type": "stream",
     "text": [
      "================================\u001b[1m Human Message \u001b[0m=================================\n",
      "\n",
      "I need some expert guidance for building this AI agent. Could you request assistance for me?\n",
      "==================================\u001b[1m Ai Message \u001b[0m==================================\n",
      "Tool Calls:\n",
      "  RequestAssistance (call_Al6kAKLUSAwcD3K3HgARjg2c)\n",
      " Call ID: call_Al6kAKLUSAwcD3K3HgARjg2c\n",
      "  Args:\n",
      "    request: I need expert guidance on building an AI agent. I'm looking for advice on the best practices, tools, and frameworks to use, as well as any potential challenges I might face during the development process.\n"
     ]
    }
   ],
   "source": [
    "user_input = \"I need some expert guidance for building this AI agent. Could you request assistance for me?\"\n",
    "config = {\"configurable\": {\"thread_id\": \"1\"}}\n",
    "# The config is the **second positional argument** to stream() or invoke()!\n",
    "events = graph.stream(\n",
    "    {\"messages\": [(\"user\", user_input)]}, config, stream_mode=\"values\"\n",
    ")\n",
    "for event in events:\n",
    "    if \"messages\" in event:\n",
    "        event[\"messages\"][-1].pretty_print()"
   ]
  },
  {
   "cell_type": "markdown",
   "id": "80fefd5c-39ff-4b9a-93f6-5e36e91fd586",
   "metadata": {},
   "source": [
    "주목하세요: LLM이 우리가 제공한 \"RequestAssistance\" 도구를 호출했으며, 인터럽트가 설정되었습니다. 그래프 상태를 검사하여 이를 확인해봅시다."
   ]
  },
  {
   "cell_type": "code",
   "execution_count": 85,
   "id": "d5fe3d7a-040f-43fe-a9c9-1c4f52fb65ed",
   "metadata": {},
   "outputs": [
    {
     "data": {
      "text/plain": [
       "('human',)"
      ]
     },
     "execution_count": 85,
     "metadata": {},
     "output_type": "execute_result"
    }
   ],
   "source": [
    "snapshot = graph.get_state(config)\n",
    "snapshot.next"
   ]
  },
  {
   "cell_type": "markdown",
   "id": "9d973df9-0d9c-444d-a68d-6c5027519b2c",
   "metadata": {},
   "source": [
    "그래프 상태는 실제로 'human' 노드 이전에 인터럽트 되었습니다. 이 시나리오에서 \"전문가\" 역할을 하고, \n",
    "우리의 입력을 포함한 새로운 `ToolMessage`를 추가하여 상태를 수동으로 업데이트할 수 있습니다."
   ]
  },
  {
   "cell_type": "code",
   "execution_count": 86,
   "id": "38ca408b-d4d5-4549-bd8b-2f7819bb2f5e",
   "metadata": {},
   "outputs": [
    {
     "data": {
      "text/plain": [
       "{'configurable': {'thread_id': '2',\n",
       "  'checkpoint_ns': '',\n",
       "  'checkpoint_id': '1ef555a3-ee4d-6dd6-8002-477d015368ce'}}"
      ]
     },
     "execution_count": 86,
     "metadata": {},
     "output_type": "execute_result"
    }
   ],
   "source": [
    "ai_message = snapshot.values[\"messages\"][-1]\n",
    "human_response = (\n",
    "    \"We, the experts are here to help! We'd recommend you check out LangGraph to build your agent.\"\n",
    "    \" It's much more reliable and extensible than simple autonomous agents.\"\n",
    ")\n",
    "tool_message = create_response(human_response, ai_message)\n",
    "graph.update_state(config, {\"messages\": [tool_message]})"
   ]
  },
  {
   "cell_type": "markdown",
   "id": "3043b321-db64-413c-a1fe-99debea31aca",
   "metadata": {},
   "source": [
    "상태를 검사하여 우리의 응답이 추가되었는지 확인할 수 있습니다.\n"
   ]
  },
  {
   "cell_type": "code",
   "execution_count": 87,
   "id": "83a44ef8-f645-4aef-840c-ab96ddb930f6",
   "metadata": {},
   "outputs": [
    {
     "data": {
      "text/plain": [
       "[HumanMessage(content='I need some expert guidance for building this AI agent. Could you request assistance for me?', id='27f314ee-b9c5-4248-a966-d3ddd8c7e3d8'),\n",
       " AIMessage(content='', additional_kwargs={'tool_calls': [{'id': 'call_E5nm5seo3ntbsEnEud1bl7HT', 'function': {'arguments': '{\"request\":\"I need expert guidance on building an AI agent. Specifically, I am looking for advice on the architecture, technologies to use, and best practices for development and deployment.\"}', 'name': 'RequestAssistance'}, 'type': 'function'}]}, response_metadata={'token_usage': {'completion_tokens': 47, 'prompt_tokens': 176, 'total_tokens': 223}, 'model_name': 'gpt-4o-mini-2024-07-18', 'system_fingerprint': 'fp_48196bc67a', 'finish_reason': 'tool_calls', 'logprobs': None}, id='run-9c494faf-c9a6-4287-85f6-1597adec9cca-0', tool_calls=[{'name': 'RequestAssistance', 'args': {'request': 'I need expert guidance on building an AI agent. Specifically, I am looking for advice on the architecture, technologies to use, and best practices for development and deployment.'}, 'id': 'call_E5nm5seo3ntbsEnEud1bl7HT', 'type': 'tool_call'}], usage_metadata={'input_tokens': 176, 'output_tokens': 47, 'total_tokens': 223}),\n",
       " ToolMessage(content=\"We, the experts are here to help! We'd recommend you check out LangGraph to build your agent. It's much more reliable and extensible than simple autonomous agents.\", id='3ec2d61b-4aaa-4dcb-8520-d307bfcfc906', tool_call_id='call_E5nm5seo3ntbsEnEud1bl7HT')]"
      ]
     },
     "execution_count": 87,
     "metadata": {},
     "output_type": "execute_result"
    }
   ],
   "source": [
    "graph.get_state(config).values[\"messages\"]"
   ]
  },
  {
   "cell_type": "markdown",
   "id": "48464634-ce59-4a5e-88ed-3586001a8293",
   "metadata": {},
   "source": [
    "다음으로, 입력값으로 `None`을 사용하여 그래프를 다시 실행합니다."
   ]
  },
  {
   "cell_type": "code",
   "execution_count": 88,
   "id": "b1aa6c7b-506d-49ff-8950-0cf619eb13e7",
   "metadata": {},
   "outputs": [
    {
     "name": "stdout",
     "output_type": "stream",
     "text": [
      "=================================\u001b[1m Tool Message \u001b[0m=================================\n",
      "\n",
      "We, the experts are here to help! We'd recommend you check out LangGraph to build your agent. It's much more reliable and extensible than simple autonomous agents.\n",
      "==================================\u001b[1m Ai Message \u001b[0m==================================\n",
      "\n",
      "I received guidance from experts suggesting that you check out **LangGraph** for building your AI agent. They mentioned that it is more reliable and extensible compared to simple autonomous agents. If you have any specific questions or need further assistance, feel free to ask!\n"
     ]
    }
   ],
   "source": [
    "events = graph.stream(None, config, stream_mode=\"values\")\n",
    "for event in events:\n",
    "    if \"messages\" in event:\n",
    "        event[\"messages\"][-1].pretty_print()"
   ]
  },
  {
   "cell_type": "markdown",
   "id": "74e288e2-a1ef-4f13-9970-89f0e4de8398",
   "metadata": {},
   "source": [
    "챗봇이 최종 응답에서 업데이트된 상태를 반영한 것을 확인하세요. 모든 것이 체크포인트로 저장되었기 때문에, \"전문가\"가 언제든지 업데이트를 수행할 수 있었으며, 그래프의 실행에 영향을 주지 않았습니다.\n",
    "\n",
    "축하합니다! 이제 추가적인 노드를 어시스턴트 그래프에 추가하여 챗봇이 실행을 중단해야 할지 여부를 스스로 결정할 수 있도록 했습니다. 그래프 상태에 새로운 `ask_human` 필드를 추가하고, 그래프를 컴파일할 때 인터럽션 로직을 수정하여 이를 구현했습니다. 이를 통해 그래프를 실행할 때마다 전체 메모리를 유지하면서, 루프 내에서 인간을 동적으로 포함할 수 있게 되었습니다.\n",
    "\n",
    "튜토리얼이 거의 끝나가지만, 체크포인트와 상태 업데이트를 연결하는 한 가지 개념을 더 다루고 마치고자 합니다."
   ]
  },
  {
   "cell_type": "markdown",
   "id": "029060b3-949b-4d4b-abc5-df68d7811408",
   "metadata": {},
   "source": [
    "## Part 7: 시간 여행 (Time Travel)\n",
    "\n",
    "일반적인 챗봇 워크플로우에서 사용자는 작업을 완료하기 위해 봇과 1회 이상 상호작용합니다. 이전 섹션에서는 그래프 상태를 체크포인트로 저장하고, 인간이 개입하여 상태를 수동으로 덮어써서 향후 응답을 제어하는 방법을 배웠습니다.\n",
    "\n",
    "하지만 사용자가 이전 응답에서 시작하여 다른 결과를 탐색하고 싶다면 어떻게 될까요? 또는 사용자가 어시스턴트의 작업을 \"되감기\"하여 실수를 수정하거나 다른 전략을 시도하고 싶다면 어떻게 할까요? (자율 소프트웨어 엔지니어링과 같은 응용 프로그램에서 흔히 발생하는 경우)\n",
    "\n",
    "LangGraph의 내장된 \"시간 여행\" 기능을 사용하여 이러한 경험을 모두 만들 수 있습니다.\n",
    "\n",
    "이 섹션에서는 그래프의 `get_state_history` 메서드를 사용하여 체크포인트를 가져와 그래프를 \"되감기\"할 것입니다. 그런 다음 이 이전 시점에서 실행을 다시 시작할 수 있습니다.\n",
    "\n",
    "먼저, 우리의 챗봇 그래프를 다시 상기해봅시다. 이전과 비교하여 변경할 필요는 없습니다:\n"
   ]
  },
  {
   "cell_type": "code",
   "execution_count": 89,
   "id": "ae292cc9-2ba0-4c5d-9264-c0ac196e5405",
   "metadata": {},
   "outputs": [],
   "source": [
    "from typing import Annotated, Literal\n",
    "\n",
    "\n",
    "from langchain_community.tools.tavily_search import TavilySearchResults\n",
    "from langchain_core.messages import AIMessage, BaseMessage, ToolMessage\n",
    "from langchain_core.pydantic_v1 import BaseModel\n",
    "from typing_extensions import TypedDict\n",
    "\n",
    "from langgraph.checkpoint.memory import MemorySaver\n",
    "from langgraph.graph import StateGraph, START\n",
    "from langgraph.graph.message import add_messages\n",
    "from langgraph.prebuilt import ToolNode, tools_condition\n",
    "\n",
    "from langchain_openai import ChatOpenAI\n",
    "\n",
    "# 상태 정의\n",
    "class State(TypedDict):\n",
    "    messages: Annotated[list, add_messages]\n",
    "    # 새로운 플래그 추가\n",
    "    ask_human: bool\n",
    "\n",
    "# 전문가 도움 요청 클래스 정의\n",
    "class RequestAssistance(BaseModel):\n",
    "    \"\"\"대화를 전문가에게 이관합니다. 직접 도움을 줄 수 없거나 사용자가 권한을 넘어서는 지원을 필요로 할 경우 이 기능을 사용하세요.\n",
    "\n",
    "    이 기능을 사용하려면, 사용자의 '요청'을 relay하여 전문가가 적절한 지침을 제공할 수 있도록 합니다.\n",
    "    \"\"\"\n",
    "    request: str\n",
    "\n",
    "# 도구 설정\n",
    "tool = TavilySearchResults(max_results=2)\n",
    "tools = [tool]\n",
    "llm = ChatOpenAI(temperature=0, model=\"gpt-4o-mini\")\n",
    "\n",
    "# llm을 도구 정의, pydantic 모델, 또는 json 스키마에 바인딩\n",
    "llm_with_tools = llm.bind_tools(tools + [RequestAssistance])\n",
    "\n",
    "# 챗봇 함수 정의\n",
    "def chatbot(state: State):\n",
    "    response = llm_with_tools.invoke(state[\"messages\"])\n",
    "    ask_human = False\n",
    "    if (\n",
    "        response.tool_calls\n",
    "        and response.tool_calls[0][\"name\"] == RequestAssistance.__name__\n",
    "    ):\n",
    "        ask_human = True\n",
    "    return {\"messages\": [response], \"ask_human\": ask_human}\n",
    "\n",
    "# 그래프 빌더 생성\n",
    "graph_builder = StateGraph(State)\n",
    "\n",
    "# 챗봇 노드 추가\n",
    "graph_builder.add_node(\"chatbot\", chatbot)\n",
    "# 도구 노드 추가\n",
    "graph_builder.add_node(\"tools\", ToolNode(tools=[tool]))\n",
    "\n",
    "# 응답 생성 함수 정의\n",
    "def create_response(response: str, ai_message: AIMessage):\n",
    "    return ToolMessage(\n",
    "        content=response,\n",
    "        tool_call_id=ai_message.tool_calls[0][\"id\"],\n",
    "    )\n",
    "\n",
    "# 인간 노드 함수 정의\n",
    "def human_node(state: State):\n",
    "    new_messages = []\n",
    "    if not isinstance(state[\"messages\"][-1], ToolMessage):\n",
    "        # 일반적으로 사용자가 인터럽트 중에 상태를 업데이트합니다.\n",
    "        # 만약 사용자가 상태를 업데이트하지 않기로 선택한 경우,\n",
    "        # LLM이 계속 실행될 수 있도록 자리 표시자 ToolMessage를 포함합니다.\n",
    "        new_messages.append(\n",
    "            create_response(\"No response from human.\", state[\"messages\"][-1])\n",
    "        )\n",
    "    return {\n",
    "        # 새로운 메시지 추가\n",
    "        \"messages\": new_messages,\n",
    "        # 플래그 해제\n",
    "        \"ask_human\": False,\n",
    "    }\n",
    "\n",
    "# 인간 노드 추가\n",
    "graph_builder.add_node(\"human\", human_node)\n",
    "\n",
    "# 조건부 경로 선택 함수 정의\n",
    "def select_next_node(state: State) -> Literal[\"human\", \"tools\", \"__end__\"]:\n",
    "    if state[\"ask_human\"]:\n",
    "        return \"human\"\n",
    "    # 그렇지 않으면, 이전과 같이 라우팅\n",
    "    return tools_condition(state)\n",
    "\n",
    "# 조건부 경로 추가\n",
    "graph_builder.add_conditional_edges(\n",
    "    \"chatbot\",\n",
    "    select_next_node,\n",
    "    {\"human\": \"human\", \"tools\": \"tools\", \"__end__\": \"__end__\"},\n",
    ")\n",
    "\n",
    "# 경로 정의\n",
    "graph_builder.add_edge(\"tools\", \"chatbot\")\n",
    "graph_builder.add_edge(\"human\", \"chatbot\")\n",
    "graph_builder.add_edge(START, \"chatbot\")\n",
    "\n",
    "# 메모리 체크포인터 설정\n",
    "memory = MemorySaver()\n",
    "\n",
    "# 그래프 컴파일\n",
    "graph = graph_builder.compile(\n",
    "    checkpointer=memory,\n",
    "    interrupt_before=[\"human\"],\n",
    ")"
   ]
  },
  {
   "cell_type": "code",
   "execution_count": 90,
   "id": "7de4672b-42b5-4002-96a2-8d526b8e709c",
   "metadata": {},
   "outputs": [
    {
     "data": {
      "image/jpeg": "[encoded data removed]",
      "text/plain": [
       "<IPython.core.display.Image object>"
      ]
     },
     "metadata": {},
     "output_type": "display_data"
    }
   ],
   "source": [
    "from IPython.display import Image, display\n",
    "\n",
    "try:\n",
    "    display(Image(graph.get_graph().draw_mermaid_png()))\n",
    "except Exception:\n",
    "    pass"
   ]
  },
  {
   "cell_type": "markdown",
   "id": "a5b97d16-902d-4453-91be-3ed762e342bf",
   "metadata": {},
   "source": [
    "그래프가 몇 가지 단계를 수행하도록 해봅시다. 모든 단계는 상태 기록에 체크포인트로 저장될 것입니다."
   ]
  },
  {
   "cell_type": "code",
   "execution_count": 91,
   "id": "b97c87b7-8497-46f0-8271-ff6c0497ab26",
   "metadata": {},
   "outputs": [
    {
     "name": "stdout",
     "output_type": "stream",
     "text": [
      "================================\u001b[1m Human Message \u001b[0m=================================\n",
      "\n",
      "I'm learning LangGraph. Could you do some research on it for me?\n",
      "==================================\u001b[1m Ai Message \u001b[0m==================================\n",
      "Tool Calls:\n",
      "  tavily_search_results_json (call_1RLUEpnzsx3xop4mW221Aiqh)\n",
      " Call ID: call_1RLUEpnzsx3xop4mW221Aiqh\n",
      "  Args:\n",
      "    query: LangGraph\n",
      "=================================\u001b[1m Tool Message \u001b[0m=================================\n",
      "Name: tavily_search_results_json\n",
      "\n",
      "[{\"url\": \"https://langchain-ai.github.io/langgraph/tutorials/\", \"content\": \"LangGraph is a framework for building language agents as graphs. Learn how to use LangGraph to create chatbots, code assistants, planning agents, reflection agents, and more with these notebooks.\"}, {\"url\": \"https://github.com/langchain-ai/langgraph\", \"content\": \"LangGraph is a library for creating stateful, multi-actor applications with LLMs, using cycles, controllability, and persistence. Learn how to use LangGraph with examples, integration with LangChain, and streaming support.\"}]\n",
      "==================================\u001b[1m Ai Message \u001b[0m==================================\n",
      "\n",
      "Here are some resources and information about LangGraph:\n",
      "\n",
      "1. **Overview of LangGraph**:\n",
      "   - LangGraph is a framework designed for building language agents as graphs. It allows you to create various applications such as chatbots, code assistants, planning agents, and reflection agents. You can find tutorials and notebooks to help you get started with LangGraph [here](https://langchain-ai.github.io/langgraph/tutorials/).\n",
      "\n",
      "2. **GitHub Repository**:\n",
      "   - The LangGraph library is available on GitHub, where you can explore its features for creating stateful, multi-actor applications with large language models (LLMs). It supports cycles, controllability, and persistence. You can check out the repository for examples, integration with LangChain, and streaming support [here](https://github.com/langchain-ai/langgraph).\n",
      "\n",
      "These resources should provide you with a solid foundation to start learning and using LangGraph effectively.\n"
     ]
    }
   ],
   "source": [
    "config = {\"configurable\": {\"thread_id\": \"1\"}}\n",
    "events = graph.stream(\n",
    "    {\n",
    "        \"messages\": [\n",
    "            (\"user\", \"I'm learning LangGraph. Could you do some research on it for me?\")\n",
    "        ]\n",
    "    },\n",
    "    config,\n",
    "    stream_mode=\"values\",\n",
    ")\n",
    "for event in events:\n",
    "    if \"messages\" in event:\n",
    "        event[\"messages\"][-1].pretty_print()"
   ]
  },
  {
   "cell_type": "code",
   "execution_count": 93,
   "id": "07705818-ce8e-4359-be53-afb802bda2b8",
   "metadata": {},
   "outputs": [
    {
     "name": "stdout",
     "output_type": "stream",
     "text": [
      "================================\u001b[1m Human Message \u001b[0m=================================\n",
      "\n",
      "Ya that's helpful. Maybe I'll build an autonomous agent with it!\n",
      "==================================\u001b[1m Ai Message \u001b[0m==================================\n",
      "\n",
      "That sounds like an exciting project! Building an autonomous agent with LangGraph can be a great way to explore its capabilities and learn more about language models and agent-based systems. If you have any specific ideas or features in mind for your agent, or if you need further assistance as you progress, feel free to ask. Good luck with your project!\n"
     ]
    }
   ],
   "source": [
    "events = graph.stream(\n",
    "    {\n",
    "        \"messages\": [\n",
    "            (\"user\", \"Ya that's helpful. Maybe I'll build an autonomous agent with it!\")\n",
    "        ]\n",
    "    },\n",
    "    config,\n",
    "    stream_mode=\"values\",\n",
    ")\n",
    "for event in events:\n",
    "    if \"messages\" in event:\n",
    "        event[\"messages\"][-1].pretty_print()"
   ]
  },
  {
   "cell_type": "markdown",
   "id": "578bc879-4aaf-4f4e-bc71-e84d7a03cf5b",
   "metadata": {},
   "source": [
    "이제 에이전트가 몇 가지 단계를 수행한 후, 전체 상태 기록을 재생하여 발생한 모든 일을 확인할 수 있습니다."
   ]
  },
  {
   "cell_type": "code",
   "execution_count": 96,
   "id": "cf064cd5-44fe-4121-9df9-dc0217af4ffd",
   "metadata": {},
   "outputs": [
    {
     "name": "stdout",
     "output_type": "stream",
     "text": [
      "Num Messages:  8 Next:  ()\n",
      "--------------------------------------------------------------------------------\n",
      "Num Messages:  7 Next:  ('chatbot',)\n",
      "--------------------------------------------------------------------------------\n",
      "Num Messages:  6 Next:  ('__start__',)\n",
      "--------------------------------------------------------------------------------\n",
      "Num Messages:  6 Next:  ()\n",
      "--------------------------------------------------------------------------------\n",
      "Num Messages:  5 Next:  ('chatbot',)\n",
      "--------------------------------------------------------------------------------\n",
      "Num Messages:  4 Next:  ('__start__',)\n",
      "--------------------------------------------------------------------------------\n",
      "Num Messages:  4 Next:  ()\n",
      "--------------------------------------------------------------------------------\n",
      "Num Messages:  3 Next:  ('chatbot',)\n",
      "--------------------------------------------------------------------------------\n",
      "Num Messages:  2 Next:  ('tools',)\n",
      "--------------------------------------------------------------------------------\n",
      "Num Messages:  1 Next:  ('chatbot',)\n",
      "--------------------------------------------------------------------------------\n",
      "Num Messages:  0 Next:  ('__start__',)\n",
      "--------------------------------------------------------------------------------\n"
     ]
    }
   ],
   "source": [
    "to_replay = None\n",
    "for state in graph.get_state_history(config):\n",
    "    print(\"Num Messages: \", len(state.values[\"messages\"]), \"Next: \", state.next)\n",
    "    print(\"-\" * 80)\n",
    "    if len(state.values[\"messages\"]) == 1:\n",
    "        # We are somewhat arbitrarily selecting a specific state based on the number of chat messages in the state.\n",
    "        to_replay = state"
   ]
  },
  {
   "cell_type": "markdown",
   "id": "6da6c095-1f74-4ff3-928a-a70c5abc8818",
   "metadata": {},
   "source": [
    "그래프의 각 단계마다 체크포인트가 저장된다는 점을 주목하세요. 이는 전체 스레드의 기록을 되돌릴 수 있도록 호출 사이에 걸쳐 저장됩니다. \n",
    "우리는 `to_replay`를 재개할 상태로 선택했습니다. 이는 위의 두 번째 그래프 호출에서 챗봇 노드 이후의 상태입니다.\n",
    "\n",
    "이 지점에서 재개하면 다음으로 `action` 노드를 호출해야 합니다.\n"
   ]
  },
  {
   "cell_type": "code",
   "execution_count": 97,
   "id": "7af16363-4477-423a-bc29-7a5893a7ad59",
   "metadata": {},
   "outputs": [
    {
     "name": "stdout",
     "output_type": "stream",
     "text": [
      "('chatbot',)\n",
      "{'configurable': {'thread_id': '1', 'checkpoint_ns': '', 'checkpoint_id': '1ef555e2-55f1-6cc4-8000-eb106a7476bf'}}\n"
     ]
    }
   ],
   "source": [
    "print(to_replay.next)\n",
    "print(to_replay.config)"
   ]
  },
  {
   "cell_type": "markdown",
   "id": "c0e6cb67-1237-4ada-acdb-612177a17c56",
   "metadata": {},
   "source": [
    "체크포인트의 설정(`to_replay.config`)에 `thread_ts` 타임스탬프가 포함된 것을 주목하세요. 이 `thread_ts` 값을 제공하면 LangGraph의 체크포인터는 해당 시점의 상태를 로드합니다. 아래에서 이를 시도해 봅시다:"
   ]
  },
  {
   "cell_type": "code",
   "execution_count": 98,
   "id": "f7ffae8c-38b4-43ce-8528-1ebca71b6696",
   "metadata": {},
   "outputs": [
    {
     "name": "stdout",
     "output_type": "stream",
     "text": [
      "==================================\u001b[1m Ai Message \u001b[0m==================================\n",
      "Tool Calls:\n",
      "  tavily_search_results_json (call_1RLUEpnzsx3xop4mW221Aiqh)\n",
      " Call ID: call_1RLUEpnzsx3xop4mW221Aiqh\n",
      "  Args:\n",
      "    query: LangGraph\n",
      "=================================\u001b[1m Tool Message \u001b[0m=================================\n",
      "Name: tavily_search_results_json\n",
      "\n",
      "[{\"url\": \"https://langchain-ai.github.io/langgraph/tutorials/\", \"content\": \"LangGraph is a framework for building language agents as graphs of nodes and edges. Learn how to use LangGraph to create chatbots, code assistants, multi-agent systems, planning agents, and more with these notebooks.\"}, {\"url\": \"https://github.com/langchain-ai/langgraph\", \"content\": \"LangGraph is a framework for creating stateful, multi-actor applications with LLMs, using cycles, controllability, and persistence. It integrates with LangChain and LangSmith, and supports streaming, human-in-the-loop, and memory features.\"}]\n",
      "==================================\u001b[1m Ai Message \u001b[0m==================================\n",
      "\n",
      "LangGraph is a framework designed for building language agents as graphs of nodes and edges. It allows developers to create various applications such as chatbots, code assistants, multi-agent systems, and planning agents. Here are some key points about LangGraph:\n",
      "\n",
      "1. **Framework Overview**: LangGraph enables the creation of stateful, multi-actor applications using large language models (LLMs). It emphasizes cycles, controllability, and persistence in application design.\n",
      "\n",
      "2. **Integration**: It integrates with other tools like LangChain and LangSmith, enhancing its capabilities for building complex language-based applications.\n",
      "\n",
      "3. **Features**: LangGraph supports streaming, human-in-the-loop interactions, and memory features, making it versatile for different use cases.\n",
      "\n",
      "For more detailed information, you can check out the following resources:\n",
      "- [LangGraph Tutorials](https://langchain-ai.github.io/langgraph/tutorials/)\n",
      "- [LangGraph GitHub Repository](https://github.com/langchain-ai/langgraph) \n",
      "\n",
      "These resources provide tutorials and documentation to help you get started with LangGraph.\n"
     ]
    }
   ],
   "source": [
    "# `to_replay.config`의 `thread_ts`는 우리가 체크포인터에 저장한 상태에 해당합니다.\n",
    "for event in graph.stream(None, to_replay.config, stream_mode=\"values\"):\n",
    "    if \"messages\" in event:\n",
    "        event[\"messages\"][-1].pretty_print()"
   ]
  },
  {
   "cell_type": "markdown",
   "id": "3254834a-0a48-4996-968e-06e8b3962180",
   "metadata": {},
   "source": [
    "그래프가 **action** 노드에서 실행을 재개한 것을 확인하세요. 이는 위에서 출력된 첫 번째 값이 검색 엔진 도구의 응답이기 때문에 알 수 있습니다.\n",
    "\n",
    "축하합니다! 이제 LangGraph에서 시간 여행 체크포인트 탐색을 사용했습니다. 되감기 및 대체 경로 탐색 기능은 디버깅, 실험 및 대화형 애플리케이션에 무한한 가능성을 열어줍니다.\n",
    "\n",
    "## 결론\n",
    "\n",
    "축하합니다! 소개 튜토리얼을 완료하고 LangGraph에서 도구 호출, 지속적 메모리, human-in-the-loop 상호작용, 심지어 시간 여행까지 지원하는 챗봇을 구축했습니다!\n"
   ]
  },
  {
   "cell_type": "code",
   "execution_count": null,
   "id": "3fc6790d-a899-477f-acb0-0ed47284497c",
   "metadata": {},
   "outputs": [],
   "source": []
  }
 ],
 "metadata": {
  "kernelspec": {
   "display_name": "Python 3 (ipykernel)",
   "language": "python",
   "name": "python3"
  },
  "language_info": {
   "codemirror_mode": {
    "name": "ipython",
    "version": 3
   },
   "file_extension": ".py",
   "mimetype": "text/x-python",
   "name": "python",
   "nbconvert_exporter": "python",
   "pygments_lexer": "ipython3",
   "version": "3.12.2"
  }
 },
 "nbformat": 4,
 "nbformat_minor": 5
}

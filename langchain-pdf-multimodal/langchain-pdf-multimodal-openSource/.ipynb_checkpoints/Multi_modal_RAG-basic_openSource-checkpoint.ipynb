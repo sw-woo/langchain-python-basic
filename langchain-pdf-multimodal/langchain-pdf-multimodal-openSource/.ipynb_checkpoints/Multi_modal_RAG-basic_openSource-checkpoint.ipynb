{
 "cells": [
  {
   "attachments": {},
   "cell_type": "markdown",
   "id": "812a4dbc-fe04-4b84-bdf9-390045e30806",
   "metadata": {},
   "source": [
    "## 멀티 모달 RAG\n",
    "\n",
    "\n",
    "\n",
    "## Packages\n",
    "\n",
    "아래 pip 패키지들 외에도, 시스템에 `poppler` ([설치 안내](https://pdf2image.readthedocs.io/en/latest/installation.html)) 및 `tesseract` ([설치 안내](https://tesseract-ocr.github.io/tessdoc/Installation.html))가 필요합니다."
   ]
  },
  {
   "cell_type": "code",
   "execution_count": null,
   "id": "98f9ee74-395f-4aa4-9695-c00ade01195a",
   "metadata": {
    "scrolled": true
   },
   "outputs": [],
   "source": [
    "! pip install -U langchain openai langchain-chroma langchain-experimental"
   ]
  },
  {
   "cell_type": "code",
   "execution_count": null,
   "id": "140580ef-5db0-43cc-a524-9c39e04d4df0",
   "metadata": {
    "scrolled": true
   },
   "outputs": [],
   "source": [
    "! pip install \"unstructured[all-docs]\" pillow pydantic lxml pillow matplotlib chromadb tiktoken"
   ]
  },
  {
   "cell_type": "markdown",
   "id": "74b56bde-1ba0-4525-a11d-cab02c5659e4",
   "metadata": {},
   "source": [
    "## 데이터 로딩\n",
    "### PDF의 표, 텍스트, 이미지 분할\n"
   ]
  },
  {
   "cell_type": "code",
   "execution_count": 5,
   "id": "c59df23c-86f7-4e5d-8b8c-de92a92f6637",
   "metadata": {},
   "outputs": [
    {
     "name": "stderr",
     "output_type": "stream",
     "text": [
      "/Users/usermackbookpro/miniconda3/envs/langchain/lib/python3.12/site-packages/tqdm/auto.py:21: TqdmWarning: IProgress not found. Please update jupyter and ipywidgets. See https://ipywidgets.readthedocs.io/en/stable/user_install.html\n",
      "  from .autonotebook import tqdm as notebook_tqdm\n"
     ]
    }
   ],
   "source": [
    "from langchain_text_splitters import CharacterTextSplitter\n",
    "from unstructured.partition.pdf import partition_pdf\n",
    "\n",
    "\n",
    "# PDF에서 요소 추출\n",
    "def extract_pdf_elements(path, fname):\n",
    "    \"\"\"\n",
    "    PDF 파일에서 이미지, 테이블, 텍스트 블록을 추출합니다.\n",
    "    path: 파일 경로 (이미지 파일이 저장될 위치)\n",
    "    fname: 파일 이름\n",
    "    \"\"\"\n",
    "    return partition_pdf(\n",
    "        filename=path + fname,\n",
    "        extract_images_in_pdf=True,  # PDF에서 이미지를 추출\n",
    "        infer_table_structure=True,  # 테이블 구조를 추론\n",
    "        chunking_strategy=\"by_title\",  # 타이틀을 기준으로 텍스트를 블록으로 분할\n",
    "        max_characters=4000,  # 최대 4000자로 텍스트 블록을 제한\n",
    "        new_after_n_chars=3800,  # 3800자 이후에 새로운 블록 생성\n",
    "        combine_text_under_n_chars=2000,  # 2000자 이하의 텍스트는 결합\n",
    "        image_output_dir_path=path,  # 이미지가 저장될 경로 설정\n",
    "        # image_output_dir_path=os.path.join(os.getcwd(),\"figures\"),\n",
    "    )\n",
    "\n",
    "\n",
    "# 추출한 요소를 유형별로 분류\n",
    "def categorize_elements(raw_pdf_elements):\n",
    "    \"\"\"\n",
    "    PDF에서 추출한 요소들을 테이블과 텍스트로 분류합니다.\n",
    "    raw_pdf_elements: unstructured.documents.elements 리스트\n",
    "    \"\"\"\n",
    "    tables = []\n",
    "    texts = []\n",
    "    for element in raw_pdf_elements:\n",
    "        if \"unstructured.documents.elements.Table\" in str(type(element)):\n",
    "            tables.append(str(element))  # 테이블 요소를 저장\n",
    "        elif \"unstructured.documents.elements.CompositeElement\" in str(type(element)):\n",
    "            texts.append(str(element))  # 텍스트 요소를 저장\n",
    "    return texts, tables"
   ]
  },
  {
   "cell_type": "code",
   "execution_count": 6,
   "id": "6e2b613c-6efd-4469-981e-c5f14af2b2fe",
   "metadata": {},
   "outputs": [
    {
     "name": "stdout",
     "output_type": "stream",
     "text": [
      "현재 스크립트의 위치: /Users/usermackbookpro/langchain-python/langchain-python-book/langchain-pdf-multimodal/langchain-pdf-multimodal-openSource\n",
      "pdf 위치: /Users/usermackbookpro/langchain-python/langchain-python-book/langchain-pdf-multimodal/invest/\n"
     ]
    }
   ],
   "source": [
    "import os\n",
    "\n",
    "current_directory = os.getcwd()\n",
    "fname = \"invest.pdf\"\n",
    "fpath = os.path.join(os.path.dirname(current_directory), \"invest/\")\n",
    "\n",
    "print(\"현재 스크립트의 위치:\", current_directory)\n",
    "print(\"pdf 위치:\",fpath)"
   ]
  },
  {
   "cell_type": "markdown",
   "id": "fa67ec0d-ceed-41c3-907b-c3f1a571bca5",
   "metadata": {},
   "source": [
    "### 요소 추출\n",
    "\n",
    "`extract_pdf_elements(fpath, fname)`: PDF 파일의 경로와 이름을 받아서 PDF 요소를 추출합니다.\n",
    "\n",
    "### 텍스트와 표 요소 분류\n",
    "\n",
    "`categorize_elements(raw_pdf_elements)`: 추출된 요소를 텍스트와 표로 분류합니다.\n",
    "\n",
    "### 선택사항: 텍스트의 특정 토큰 크기 강제 적용\n",
    "\n",
    "`CharacterTextSplitter.from_tiktoken_encoder(...)`: 텍스트를 특정 크기로 분할하기 위해 텍스트 분할기를 초기화합니다.\n",
    "- `chunk_size=2000`: 각 텍스트 청크의 최대 크기를 2000자로 설정합니다.\n",
    "- `chunk_overlap=200`: 청크 간의 겹침을 200자로 설정합니다.\n",
    "- `joined_texts = \" \".join(texts)`: 모든 텍스트를 하나의 문자열로 결합합니다.\n",
    "- `texts_2k_token = text_splitter.split_text(joined_texts)`: 결합된 텍스트를 설정한 크기와 겹침으로 분할합니다."
   ]
  },
  {
   "cell_type": "code",
   "execution_count": 7,
   "id": "575afe10-abe3-4b49-afb5-e31e89150e4d",
   "metadata": {},
   "outputs": [
    {
     "name": "stderr",
     "output_type": "stream",
     "text": [
      "Some weights of the model checkpoint at microsoft/table-transformer-structure-recognition were not used when initializing TableTransformerForObjectDetection: ['model.backbone.conv_encoder.model.layer2.0.downsample.1.num_batches_tracked', 'model.backbone.conv_encoder.model.layer3.0.downsample.1.num_batches_tracked', 'model.backbone.conv_encoder.model.layer4.0.downsample.1.num_batches_tracked']\n",
      "- This IS expected if you are initializing TableTransformerForObjectDetection from the checkpoint of a model trained on another task or with another architecture (e.g. initializing a BertForSequenceClassification model from a BertForPreTraining model).\n",
      "- This IS NOT expected if you are initializing TableTransformerForObjectDetection from the checkpoint of a model that you expect to be exactly identical (initializing a BertForSequenceClassification model from a BertForSequenceClassification model).\n"
     ]
    }
   ],
   "source": [
    "# PDF에서 요소 추출\n",
    "raw_pdf_elements = extract_pdf_elements(fpath, fname)\n",
    "\n",
    "# 텍스트와 테이블 추출\n",
    "texts, tables = categorize_elements(raw_pdf_elements)\n",
    "\n",
    "# 선택 사항: 텍스트에 대해 특정 토큰 크기 적용\n",
    "text_splitter = CharacterTextSplitter.from_tiktoken_encoder(\n",
    "    chunk_size=2000, chunk_overlap=200\n",
    ")\n",
    "joined_texts = \" \".join(texts)\n",
    "\n",
    "# 2k 토큰 크기로 텍스트 분할\n",
    "texts_2k_token = text_splitter.split_text(joined_texts)"
   ]
  },
  {
   "cell_type": "code",
   "execution_count": 8,
   "id": "1dff29ef-1ae4-4cc4-81a4-88c0a8a52c84",
   "metadata": {
    "scrolled": true
   },
   "outputs": [
    {
     "name": "stdout",
     "output_type": "stream",
     "text": [
      "3\n",
      "2\n"
     ]
    }
   ],
   "source": [
    "# text 분할 개수 확인 \n",
    "print(len(texts_2k_token))\n",
    "print(len(texts))"
   ]
  },
  {
   "cell_type": "code",
   "execution_count": 9,
   "id": "1b5208c7-bb0a-485e-ac3f-9437286474ca",
   "metadata": {
    "scrolled": true
   },
   "outputs": [
    {
     "name": "stdout",
     "output_type": "stream",
     "text": [
      "<< () warsrts2\n",
      "\n",
      "시황 코멘트 금리 멈춰야 주가 멈춘다\n",
      "\n",
      "2024년 8월 5일 주식시황\n",
      "\n",
      "“3 s LLL LL\n",
      "\n",
      "FLISILLLLI LLL LL LLL LLL LLL LLL LLL LLL LLL LLL LL\n",
      "\n",
      "Market Analyst 김수연 sooyeon.k@hanwha.com 3772-7628\n",
      "\n",
      "ISM 46.8에 경기침체 오지 않습니다\n",
      "\n",
      "2일 KOSPI가 101p빠져 2,676.2p까지 내렸다. 전일 7월 미 ISM제조업지수가 예상치를 밑돌며 경기에 대한 우려가 생겼 고 금리와 주가가 함께 하락한 영향이다. 이번주 발표된 빅테크와 반도체 기업들의 2분기 실적과 3분기 가이던스도 컨센 서스를 하회하는 케이스들이 많았다.\n",
      "\n",
      "이날 국내 금리도 영향을 받으면서 10년 국고금리가 3%를 하회했고 주식시장은 그간 주도주 역할을 했던 반도체, 전력 기기를 중심으로 하락폭이 확대됐다. 삼성전자 -4%, SK하이닉스 -10%, HD현대일렉트릭 -13% 등이다.\n",
      "\n",
      "7월 미 ISM제조업지수는 46.8p로 4개월 연속 하락했다. 예상치는 48.8p, 전월치는 48.5p였다. 수요가 전반적으로 둔화 되면서 신규 주문, 신규 수출주문, 수주잔고, 재고가 모두 낮은 수준에 머물렀다. 전저점인 2023년 6월 46.4p에 거의 근 접했다.\n",
      "\n",
      "금리가 주가를 함께 끌어내리고 있어서 결국 금리 하락이 멈춰야 주가도 바닥을 잡을 수 있다. 당사 투자전략팀 채권담 당자는 올해 미국 10년금리 하단을 3.8%, 국고 10년금리 하단은 2.8%로 보고있다. 금리 바닥은 머지 않았다.\n",
      "\n",
      "주가의 바닥은 두 가지로 가늠할 수 있을 것 같다. 채권과 주식의 수익률 격차와 주식 내 IT 비중이다.\n",
      "\n",
      "ISM 46.8은 그 자체로 충격이었다기보다 포트폴리오의 변화를 부추기는 촉매였다고 생각한다. 올해 채권과 주식의 수익 률 격차가 벌어져 있다. 1976년 이후 채권의 평균수익률이 6.0%, 주식은 9.3%여서 역사적으로 3.2%p 정도의 차이가 난 다. 올해는 채권수익률 1.7%, 주식수익률 11.3%로 주식이 9.6%p 더 높다. 금리인하 사이클에 들어섰기 때문에 매크로 지표가 예상치를 하회할 때마다 수익률 차이가 역사적 평균에 맞춰질 때까지 주식에서 채권으로의 자금 이동이 나타날 수 있다.\n",
      "\n",
      "주도주였던 IT는 비중축소가 진행될 것이다. 가격모멘텀으로 편입을 결정하는 모멘텀 ETF는 올해 IT를 줄이고 있다. 3 월 초 46.1%로 가장 높았고 현재 34.5%까지 축소돼 IT의 모멘텀이 줄어들고 있다는 신호로 볼 수 있다. 그래도 아직 S&P500 IT 비중 30.7%보다 높다. 모멘텀 ETF의 IT 비중이 S&P500에 수렴할 때 조정이 마무리되고 주식시장이 반등 할 것이라 생각한다.\n",
      "\n",
      "시황 코멘트\n",
      "\n",
      "[한화리서치]\n",
      "\n",
      "[그림1]\n",
      "\n",
      "ISM 제조업지수 전저점 근접\n",
      "\n",
      "        \n",
      "\n",
      "[그림2] 필라델피아 반도체지수 고점에서 15% 하락\n",
      "\n",
      "(Al4) 7,000 Bet Ay] op Bee AA] 4 6,000 5,000 | 4,000 + 3,000 + 2,000 4 1,000 + 0 2010 2012 2014 2016 2018 2020 2022 2024\n",
      "\n",
      "자료: Bloomberg, 한화투자증권 리서치센터\n",
      "\n",
      "자료: Bloomberg, 한화투자증권 리서치센터\n",
      "\n",
      "[그림3] 미 시중금리는 금리인하 선반영\n",
      "\n",
      "(%, %p) 85 Oo 208 242 Oo) 108 Sasa 74 O| Sel 6. 5 4: 3 2 1 0 + r 2000 2005 T r 2010 2015 2020\n",
      "\n",
      "자료: Bloomberg, 한화투자증권 리서치센터\n",
      "\n",
      "[그림4] 올해 주식-채권 수익률 격차, 역사적 평균에서 괴리\n",
      "\n",
      "[그림5] IT 비중 줄여가는 중\n",
      "\n",
      "(%) 12) SMBS wFAlpole 104 3 | 6 J al 5 0 19764 OS Bat 2024 YTD\n",
      "\n",
      "(%) 50 40 | 30 | TE 20 | 10 SOIETF IT HZ —— S&P500 IT HZ 0 T T 1 24/01 24/02 24/03 24/04 24/05 24/06 24/07 24/08\n",
      "\n",
      "자료: Bloomberg, 한화투자증권 리서치센터\n",
      "\n",
      "자료: Bloomberg, 한화투자증권 리서치센터\n",
      "\n",
      "2\n",
      "\n",
      "시황 코멘트\n",
      "\n",
      "[한화리서치]\n",
      "<class 'list'>\n"
     ]
    }
   ],
   "source": [
    "#0번쨰 texts[0]번 데이터 데이터 타입 확인\n",
    "print(texts[0])\n",
    "print(type(texts))"
   ]
  },
  {
   "cell_type": "code",
   "execution_count": 10,
   "id": "0571b12b-5385-4ebb-a25e-76a2e4e1dacb",
   "metadata": {},
   "outputs": [
    {
     "name": "stdout",
     "output_type": "stream",
     "text": [
      "<< () warsrts2\n",
      "\n",
      "시황 코멘트 금리 멈춰야 주가 멈춘다\n",
      "\n",
      "2024년 8월 5일 주식시황\n",
      "\n",
      "“3 s LLL LL\n",
      "\n",
      "FLISILLLLI LLL LL LLL LLL LLL LLL LLL LLL LLL LLL LL\n",
      "\n",
      "Market Analyst 김수연 sooyeon.k@hanwha.com 3772-7628\n",
      "\n",
      "ISM 46.8에 경기침체 오지 않습니다\n",
      "\n",
      "2일 KOSPI가 101p빠져 2,676.2p까지 내렸다. 전일 7월 미 ISM제조업지수가 예상치를 밑돌며 경기에 대한 우려가 생겼 고 금리와 주가가 함께 하락한 영향이다. 이번주 발표된 빅테크와 반도체 기업들의 2분기 실적과 3분기 가이던스도 컨센 서스를 하회하는 케이스들이 많았다.\n",
      "\n",
      "이날 국내 금리도 영향을 받으면서 10년 국고금리가 3%를 하회했고 주식시장은 그간 주도주 역할을 했던 반도체, 전력 기기를 중심으로 하락폭이 확대됐다. 삼성전자 -4%, SK하이닉스 -10%, HD현대일렉트릭 -13% 등이다.\n",
      "\n",
      "7월 미 ISM제조업지수는 46.8p로 4개월 연속 하락했다. 예상치는 48.8p, 전월치는 48.5p였다. 수요가 전반적으로 둔화 되면서 신규 주문, 신규 수출주문, 수주잔고, 재고가 모두 낮은 수준에 머물렀다. 전저점인 2023년 6월 46.4p에 거의 근 접했다.\n",
      "\n",
      "금리가 주가를 함께 끌어내리고 있어서 결국 금리 하락이 멈춰야 주가도 바닥을 잡을 수 있다. 당사 투자전략팀 채권담 당자는 올해 미국 10년금리 하단을 3.8%, 국고 10년금리 하단은 2.8%로 보고있다. 금리 바닥은 머지 않았다.\n",
      "\n",
      "주가의 바닥은 두 가지로 가늠할 수 있을 것 같다. 채권과 주식의 수익률 격차와 주식 내 IT 비중이다.\n",
      "\n",
      "ISM 46.8은 그 자체로 충격이었다기보다 포트폴리오의 변화를 부추기는 촉매였다고 생각한다. 올해 채권과 주식의 수익 률 격차가 벌어져 있다. 1976년 이후 채권의 평균수익률이 6.0%, 주식은 9.3%여서 역사적으로 3.2%p 정도의 차이가 난 다. 올해는 채권수익률 1.7%, 주식수익률 11.3%로 주식이 9.6%p 더 높다. 금리인하 사이클에 들어섰기 때문에 매크로 지표가 예상치를 하회할 때마다 수익률 차이가 역사적 평균에 맞춰질 때까지 주식에서 채권으로의 자금 이동이 나타날 수 있다.\n",
      "<class 'list'>\n"
     ]
    }
   ],
   "source": [
    "#0번쨰 texts_2k_token[0]번 데이터 데이터 타입 확인\n",
    "print(texts_2k_token[0])\n",
    "print(type(texts_2k_token))"
   ]
  },
  {
   "cell_type": "markdown",
   "id": "0aa7f52f-bf5c-4ba4-af72-b2ccba59a4cf",
   "metadata": {},
   "source": [
    "## 멀티 벡터 리트리버\n",
    "\n",
    "[멀티 벡터 리트리버](https://python.langchain.com/docs/modules/data_connection/retrievers/multi_vector#summary)를 사용하여 이미지(및/또는 텍스트, 표) 요약을 인덱싱하고, 원본 이미지(원본 텍스트 또는 표와 함께)를 검색합니다.\n",
    "\n",
    "### 텍스트 및 표 요약\n",
    "\n",
    "GPT-4 or llama3.1를 사용하여 표 및 선택적으로 텍스트 요약을 생성할 것입니다.\n",
    "\n",
    "큰 청크 크기(예: 위에서 설정한 2k 토큰 청크)를 사용하는 경우 텍스트 요약을 권장합니다.\n",
    "\n",
    "요약은 원본 표 및/또는 원본 텍스트 청크를 검색하는 데 사용됩니다."
   ]
  },
  {
   "cell_type": "code",
   "execution_count": 11,
   "id": "8a931132-fbe6-4523-a1f4-c656c732af60",
   "metadata": {},
   "outputs": [],
   "source": [
    "import os\n",
    "from dotenv import load_dotenv\n",
    "load_dotenv()\n",
    "openai_api_key = os.getenv(\"OPENAI_API_KEY\")\n",
    "\n",
    "if not openai_api_key:\n",
    "    raise ValueError(\"openai api 키가 없습니다. 한번더 확인 부탁드립니다.\")\n"
   ]
  },
  {
   "cell_type": "code",
   "execution_count": 12,
   "id": "523e6ed2-2132-4748-bdb7-db765f20648d",
   "metadata": {},
   "outputs": [],
   "source": [
    "from langchain_core.output_parsers import StrOutputParser\n",
    "from langchain_core.prompts import ChatPromptTemplate\n",
    "from langchain_openai import ChatOpenAI\n",
    "from langchain_ollama.llms import OllamaLLM\n",
    "\n",
    "# 텍스트 요소의 요약 생성\n",
    "def generate_text_summaries(texts, tables, summarize_texts=False):\n",
    "    \"\"\"\n",
    "    텍스트 요소 요약 생성\n",
    "    texts: str 리스트\n",
    "    tables: str 리스트\n",
    "    summarize_texts: 텍스트 요약 여부를 나타내는 부울 값\n",
    "    \"\"\"\n",
    "\n",
    "    # Prompt 영어 버전\n",
    "    # prompt_text = \"\"\"You are an assistant tasked with summarizing tables and text for retrieval. \\\n",
    "    # These summaries will be embedded and used to retrieve the raw text or table elements. \\\n",
    "    # Give a concise summary of the table or text that is well optimized for retrieval. Table or text: {element} \"\"\"\n",
    "\n",
    "    # Prompt 한국어 버전\n",
    "    prompt_text_kor = \"\"\"당신은 표와 텍스트를 요약하여 검색에 활용할 수 있도록 돕는 도우미입니다. \\n \n",
    "    이 요약본들은 임베딩되어 원본 텍스트나 표 요소를 검색하는 데 사용될 것입니다. \\n \n",
    "    주어진 표나 텍스트의 내용을 검색에 최적화된 간결한 요약으로 작성해 주세요. 요약할 표 또는 텍스트: {element}\"\"\"\n",
    "    \n",
    "    prompt = ChatPromptTemplate.from_template(prompt_text_kor)\n",
    "\n",
    "    # 텍스트 요약 체인 설정\n",
    "    # 모델: GPT-4o-mini or Llama3.1 모델 사용\n",
    "    # model = ChatOpenAI(temperature=0, model=\"gpt-4o-mini\")\n",
    "    llamaModel = OllamaLLM(model=\"llama3.1:8b\")\n",
    "    summarize_chain = {\"element\": lambda x: x} | prompt | llamaModel | StrOutputParser()\n",
    "\n",
    "    # 요약 결과를 저장할 빈 리스트 초기화\n",
    "    text_summaries = []\n",
    "    table_summaries = []\n",
    "\n",
    "    # 텍스트가 주어졌고 요약이 요청된 경우 요약을 적용\n",
    "    if texts and summarize_texts:\n",
    "        text_summaries = summarize_chain.batch(texts, {\"max_concurrency\": 5})\n",
    "    elif texts:\n",
    "        # 요약을 하지 않는 경우 원본 텍스트를 그대로 사용\n",
    "        text_summaries = texts\n",
    "\n",
    "    # 테이블이 주어졌을 경우 테이블에 대해 요약 적용\n",
    "    if tables:\n",
    "        table_summaries = summarize_chain.batch(tables, {\"max_concurrency\": 5})\n",
    "\n",
    "    return text_summaries, table_summaries\n",
    "\n",
    "\n",
    "# 텍스트와 테이블 요약 생성\n",
    "text_summaries, table_summaries = generate_text_summaries(\n",
    "    texts_2k_token, tables, summarize_texts=True\n",
    ")"
   ]
  },
  {
   "cell_type": "code",
   "execution_count": 13,
   "id": "8d2ef77a-74dc-4cbd-951f-786bc3d01c1c",
   "metadata": {},
   "outputs": [
    {
     "name": "stdout",
     "output_type": "stream",
     "text": [
      "['\"2024년 8월 5일 주식시황\"\\n\\n*   경기 침체 위기는 없다고 보는 것이 맞다.\\n*   금리가 주가와 함께 하락했기 때문에, 결국 금리 하락은 멈춰야 주가는 바닥을 잡을 수 있다.\\n*   주가는 두 가지 지표로 가늠할 수 있다. 채권과 주식의 수익률 격차 및 주식 내 IT 비중.\\n\\n이 요약본들은 임베딩되어 원본 텍스트나 표 요소를 검색하는 데 사용될 것입니다.', '\"IT 비중 축소는 주도주였던 IT가 다시 내려갈 것을 시사한다.\\n\\n*   모멘텀 ETF는 최근 IT 비중을 줄였다.\\n*   S&P500 IT 비중은 현재 30.7%로, 모멘텀 ETF보다 아직 높은데,\\n    이 두 지표의 IT 비중이 수렴할 때 주식시장이 반등한다고 생각한다.\\n\\n주식시장은 IT 비중 축소를 통해 가격 모멘텀이 줄어들 것으로 보인다.\\n\\n1.  ISM 제조업지수 전저점 근접: 현재 ISM 제조업지수는 전 저점 근접해 있으며, 향후 주식시장이 반등할 가능성이 있다.\\n2.  필라델피아 반도체지수 고점에서 15% 하락: 필라델피아 반도체지수는 고점에서 15% 하락했으며, 이는 주식시장의 약진을 의미할 수 있다.\\n\\n미 시중금리는 금리인하 선반영:\\n\\n*   미 시중금리는 금리인하 선반영이 진행되며,\\n    향후 주식시장이 반등할 가능성이 있다.\\n\\n주식-채권 수익률 격차, 역사적 평균에서 괴리:\\n\\n*   올해 주식-채권 수익률 격차는 역사적 평균에서 가장 큰 괴리로 나타나고 있으며,\\n    이는 주식시장의 약진을 의미할 수 있다.', '이 자료는 투자자를 돕기 위한 개인용 보고서로, 저작권이 있습니다. 내용은 신뢰할만한 출처에서 얻어졌지만 정확성과 완전성을 보장할 수 없으며, 법적 책임 증빙으로 사용하지 마세요.']\n"
     ]
    }
   ],
   "source": [
    "# text_summaries 결과 확인\n",
    "print(text_summaries)\n",
    "\n"
   ]
  },
  {
   "cell_type": "code",
   "execution_count": 14,
   "id": "6e3a45e7-4faf-4c10-be7c-14a66a00c085",
   "metadata": {},
   "outputs": [
    {
     "name": "stdout",
     "output_type": "stream",
     "text": [
      "[]\n"
     ]
    }
   ],
   "source": [
    "# table_summaries 결과 확인\n",
    "print(table_summaries)"
   ]
  },
  {
   "attachments": {},
   "cell_type": "markdown",
   "id": "b1feadda-8171-4aed-9a60-320a88dc9ee1",
   "metadata": {},
   "source": [
    "### GPT-4 Vision 및 LLaVA를 이용한 이미지 요약\n",
    "\n",
    "이 스크립트는 이미지를 base64 형식으로 인코딩하고 GPT-4 Vision 및 LLaVA 모델을 사용하여 간결한 요약을 생성합니다.\n",
    "\n",
    "#### 모듈 및 함수\n",
    "\n",
    "1. **임포트**\n",
    "    - `base64`, `os`, `requests`, `json`: 이미지를 인코딩하고 파일 작업을 처리하며 HTTP 요청을 수행하고 JSON 데이터를 처리합니다.\n",
    "    - `HumanMessage` from `langchain_core.messages`: 메시지 처리를 위해 사용됩니다.\n",
    "\n",
    "2. **함수 정의**\n",
    "    - `encode_image(image_path)`: 이미지 파일을 base64 문자열로 인코딩합니다.\n",
    "    - `image_summarize(img_base64, prompt)`: GPT-4 Vision을 사용하여 이미지 요약을 생성합니다.\n",
    "    - `image_summarize_llava(img_base64, prompt)`: LLaVA를 사용하여 이미지 요약을 생성합니다.\n",
    "\n",
    "3. **이미지 요약 프로세스**\n",
    "    - `generate_img_summaries(path)`: \n",
    "        - 지정된 디렉토리에서 이미지를 base64 문자열로 인코딩합니다.\n",
    "        - LLaVA를 사용하여 이미지 요약을 생성합니다.\n",
    "        - base64로 인코딩된 이미지와 해당 요약의 리스트를 반환합니다.\n",
    "        - 한국어 프롬프트(`prompt_kor`)와 영어 프롬프트(`prompt`)를 사용하여 요약을 생성합니다.\n",
    "\n",
    "4. **실행**\n",
    "    - 현재 작업 디렉토리를 가져옵니다.\n",
    "    - 'figures' 디렉토리의 경로를 설정합니다.\n",
    "    - 디렉토리 내 이미지에 대한 요약을 생성합니다.\n",
    "\n",
    "#### 코드 실행\n",
    "\n",
    "1. `encode_image`를 사용하여 이미지 파일을 base64 형식으로 인코딩합니다.\n",
    "2. `image_summarize` 및 `image_summarize_llava`를 사용하여 요약을 생성합니다.\n",
    "3. base64로 인코딩된 이미지와 해당 요약을 저장합니다.\n",
    "4. 'figures' 디렉토리의 경로를 출력하고 해당 디렉토리의 이미지에 대한 요약을 생성합니다."
   ]
  },
  {
   "cell_type": "code",
   "execution_count": 15,
   "id": "9e6b1d97-4245-45ac-95ba-9bc1cfd10182",
   "metadata": {},
   "outputs": [
    {
     "name": "stdout",
     "output_type": "stream",
     "text": [
      "/Users/usermackbookpro/langchain-python/langchain-python-book/langchain-pdf-multimodal/langchain-pdf-multimodal-openSource/figures\n",
      "Status Code:  200\n",
      " 이미지는 \"경제기획\" 이라는 대표적인 주제의 캐싱된 이미지입니다. 이미지에는 두 사람과 그들이 보고 있는 금액표와 같은 도면으로 연결됩니다. 이러한 이미지를 검색하는 데 유용할 것으로 예상됩니다. \n",
      "Status Code:  200\n",
      " 이미지는 한국의 재무부에서 출시한 금융성과 관련된 통계 도표입니다.\n",
      "\n",
      "주요 데이터 포맷: 1개의 선 그래프가 있으며, 그 선은 대한민국에서 발생하는 금융 수량을 나타냅니다. 그래프는 시간 순에 각 월 별도로 표시되어 있습니다.\n",
      "\n",
      "데이터 포맷: 선 그래프에서 일부 숫자와 그래프 안쪽의 레인더가 나타납니다. 그리고, 주석으로 \"ISM\"과 같은 문구가 있습니다.\n",
      "\n",
      "주어진 데이터 포맷: 선 그래프는 전체적인 데이터를 나타내며, 레인더는 시간대에 따라 각 월별로 그룹되어 있습니다.\n",
      "\n",
      "주어진 데이터 포맷: 일부 숫자와 그래프 안쪽의 레인더가 있으며, 그림은 \"2021년\"과 같은 문구가 있습니다.\n",
      "\n",
      "이미지는 금융 수량에 대한 시간대별로 분석할 수 있는 데이터를 제공하며, 그 중심의 트렌드를 파악할 수 있습니다. \n",
      "Status Code:  200\n",
      " 제공받은 이미지는 대한민국의 주식시장과 상관관계를 보여주는 그래프입니다.\n",
      "\n",
      "1. 주요 요소:\n",
      "   - 주식시장 지수 (KOSPI)와 증거금융제 (KOSPI200)의 대표적인 주가를 나타내는 그래프입니다.\n",
      "   - 빨간 선은 \"주가(원기)\"이며, 파란색 선은 \"증거금융제(원기)\"입니다.\n",
      "   - 그래프에서는 'KOSPI'와 'KOSPI200'의 각종 자료가 있습니다.\n",
      "   - 주어진 날짜: 2023년 6월 4일부터 8월 1일까지입니다.\n",
      "\n",
      "2. 주요 특징:\n",
      "   - 그래프에는 한국의 경제금과 대표적인 증거금융업의 각종 자료가 있습니다.\n",
      "   - 국내경제기가 지수보다 낮은 범위를 보입니다.\n",
      "   - 그래프에는 한국의 주식시장과 증거금융업의 상관관계가 있습니다.\n",
      "\n",
      "3. 주요 정보:\n",
      "   - 주가(원기)와 증거금융제(원기)의 각종 자료를 확인할 수 있습니다.\n",
      "   - 그래프에서는 'KOSPI'와 'KOSPI200'의 각종 자료가 있습니다.\n",
      "   - 한국의 경제기가 지수보다 낮은 범위를 보입니다.\n",
      "   - 그래프에는 한국의 주식시장과 증거금융업의 상관관계가 있습니다.\n",
      "\n",
      "4. 이미지 설명:\n",
      "   - 주어진 그래프는 대한민국의 주식시장과 증거금융업의 상관관계를 보여주는 그래프입니다.\n",
      "   - 'KOSPI'와 'KOSPI200'의 각종 자료가 있으며, 국내경제기가 지수보다 낮은 범위를 보입니다.\n",
      "   - 그래프에서는 주어진 날짜(2023년 6월 4일부터 8월 1일까지)의 이상한 시간 범위에 대한 정보가 있습니다.\n",
      "\n",
      "5. 관련 용어:\n",
      "   - 주식(원기), 증거금융제(원기), 주가, 국내경제기.\n",
      "   - KOSPI, KOSPI200, 대한민국의 주식시장과 증거금융업.\n",
      "   - 상관관계, 시간범위, 날짜. \n",
      "Status Code:  200\n",
      " 한글:\n",
      "\n",
      "주요 그래프는 국내 자산금리 및 유통가격과 실험 금융기관의 부동산 가격 변화를 보여주는 표시입니다. 그래프에서는 18년대 이후로 갈릴 것으로 예상되며, 국내 자산금리는 2016년 기준으로 47%까지 감소한 반면 유통가격은 2016년에서 시작부터 38% 증가한 것을 알 수 있습니다. 이러한 그래프는 국내 경제적 상황을 나타내고 있으며, 실험금융기관의 부동산 가격 변화와 비교되는 국내 자산금리를 보여주는 그래프입니다. \n",
      "Status Code:  200\n",
      " 한국어 원문:\n",
      "\n",
      "\"이번 글은 한국의 '2021년 시민 만족도'에 대한 분석을 담고 있습니다. 주요 통계 지표인 집안 수준, 교통 움직임, 건강 및 병력, 경제적 상황 등이 나열되어 있는 대표적인 그래프입니다.\n",
      "\n",
      "2021년 시민 만족도에 대한 분석을 위해 아래와 같은 세 개의 그래프가 제공됩니다:\n",
      "\n",
      "1. '집안 수준': 이 그래프는 2021년 시민 만족도에 대한 분석을 위해 집안 수준 또는 경제적 상황을 나타냅니다. 이 그래프는 2019년과 2021년의 시민 만족도를 비교하여 분석합니다.\n",
      "\n",
      "2. '교통 움직임': 이 그래프는 2021년 시민 만족도에 대한 분석을 위해 교통 움직임을 나타냅니다.\n",
      "\n",
      "3. '건강 및 병력': 이 그래프는 2021년 시민 만족도에 대한 분석을 위해 건강 및 병력을 나타냅니다.\n",
      "\n",
      "이러한 분석들은 2019년과 2021년의 시진 만족도를 비교하여 제공합니다. 이 그래프는 인구통계청과 함께 각종 지표에 대한 분석을 위해 주요한 데이터 출처로 사용됩니다.\" \n",
      "Status Code:  200\n",
      " 이미지는 한국의 IT(정보통신)분야에서 IT 기업들의 연봉 변동을 나타내는 차트를 포함하고 있습니다. 차트에서 연봉은 전년대 비교적으로 상승한 추세로 나타납니다.\n",
      "\n",
      "더 자세한 내용은 아래와 같습니다:\n",
      "- 이미지에는 \"정보통신\"을 나타내는 IT 기업들의 연봉(IT)과 \"금융\"을 나타내는 금융 기업들의 연봉(금융)이 그래프에 표시되어 있습니다.\n",
      "- IT 기업들의 연봉은 전년대 비교적으로 상승한 추세로 나타납니다.\n",
      "- IT 기업들의 연봉은 금융 기업들의 연봉보다 상승하는 추세입니다.\n",
      "- 차트에서 날짜(2006년, 2018년)을 나타내고 있으며 이러한 데이터는 \"SP500\"과 같은 기업들의 연봉과 관련된 데이터를 추적하는 기간에 대해 표시됩니다.\n",
      "- IT 기업들의 연봉은 금융 기업들의 연봉보다 상승하는 추세입니다.\n",
      "- 이미지는 서울(서울특별시)에서 수집되었으며 전국의 IT 기업들과 금융 기업들의 연봉을 나타내고 있습니다. \n"
     ]
    }
   ],
   "source": [
    "import base64\n",
    "import os\n",
    "import requests\n",
    "import json\n",
    "from langchain_core.messages import HumanMessage\n",
    "\n",
    "# 이미지 파일을 base64 문자열로 인코딩하는 함수\n",
    "def encode_image(image_path):\n",
    "    \"\"\"이미지의 base64 문자열 생성\"\"\"\n",
    "    with open(image_path, \"rb\") as image_file:\n",
    "        return base64.b64encode(image_file.read()).decode(\"utf-8\")\n",
    "\n",
    "# 이미지 요약을 생성하는 함수 (OpenAI API 사용)\n",
    "def image_summarize(img_base64, prompt):\n",
    "    \"\"\"이미지 요약 생성\"\"\"\n",
    "    chat = ChatOpenAI(model=\"gpt-4-vision-preview\", max_tokens=1024)\n",
    "    \n",
    "    msg = chat.invoke(\n",
    "        [\n",
    "            HumanMessage(\n",
    "                content=[\n",
    "                    {\"type\": \"text\", \"text\": prompt},\n",
    "                    {\n",
    "                        \"type\": \"image_url\",\n",
    "                        \"image_url\": {\"url\": f\"data:image/jpeg;base64,{img_base64}\"},\n",
    "                    },\n",
    "                ]\n",
    "            )\n",
    "        ]\n",
    "    )\n",
    "    print(msg)\n",
    "    return msg.content\n",
    "\n",
    "\n",
    "# LLaVA 모델을 사용하여 이미지 요약을 생성하는 함수\n",
    "def image_summarize_llava(img_base64, prompt):\n",
    "    \"\"\"LLaVA를 사용하여 이미지 요약 생성\"\"\"\n",
    "    payload = {\n",
    "        \"model\": \"llava:7b\",\n",
    "        \"prompt\": prompt,\n",
    "        \"images\": [img_base64]\n",
    "    }\n",
    "\n",
    "    response = requests.post(\n",
    "        \"http://localhost:11434/api/generate\", json=payload)\n",
    "\n",
    "\n",
    "    print(\"Status Code: \", response.status_code)\n",
    "\n",
    "    if response.status_code == 200:\n",
    "        try:\n",
    "            # 응답을 줄 단위로 처리\n",
    "            full_response = \"\"\n",
    "            for line in response.iter_lines():\n",
    "                if line:\n",
    "                    json_line = json.loads(line)\n",
    "                    if 'response' in json_line:\n",
    "                        full_response += json_line['response']\n",
    "            print(full_response)\n",
    "            return full_response\n",
    "        except json.JSONDecodeError as e:\n",
    "            return f\"JSON 파싱 오류: {str(e)}\\n응답 내용: {response.text}\"\n",
    "    else:\n",
    "        return f\"Error: {response.status_code}, {response.text}\"\n",
    "\n",
    "# 주어진 경로에서 이미지의 base64 인코딩 및 요약을 생성하는 함수\n",
    "def generate_img_summaries(path):\n",
    "    \"\"\"\n",
    "    이미지의 요약과 base64 인코딩 문자열을 생성\n",
    "    path: Unstructured에 의해 추출된 .jpg 파일의 경로\n",
    "    \"\"\"\n",
    "\n",
    "    # base64로 인코딩된 이미지를 저장할 리스트\n",
    "    img_base64_list = []\n",
    "\n",
    "    # 이미지 요약을 저장할 리스트\n",
    "    image_summaries = []\n",
    "\n",
    "    # Prompt_kor 한국어\n",
    "    prompt_kor = \"\"\"You are an assistant tasked with summarizing images for retrieval. \n",
    "    These summaries will be embedded and used to retrieve the raw image. Provide a concise summary of the image that is well optimized for retrieval. \n",
    "    The summary should be written in Korean (Hangul).\"\"\"\n",
    "\n",
    "    # Prompt 영어\n",
    "    prompt = \"\"\"You are an assistant tasked with summarizing images for retrieval. \n",
    "    These summaries will be embedded and used to retrieve the raw image. Provide a concise summary of the image that is well optimized for retrieval. \"\"\"\n",
    "\n",
    "\n",
    "\n",
    "    # 주어진 경로에서 파일 목록을 가져와 정렬한 후, 각 파일에 대해 처리합니다.\n",
    "    for img_file in sorted(os.listdir(path)):\n",
    "    \n",
    "        # 파일이 .jpg, .png, .jpeg 확장자 중 하나일 경우에만 처리합니다.\n",
    "        if img_file.endswith((\".jpg\",\".png\",\".jpeg\")):\n",
    "        \n",
    "            # 파일의 전체 경로를 생성합니다.\n",
    "            img_path = os.path.join(path, img_file)\n",
    "        \n",
    "            # 이미지 파일을 base64로 인코딩하여 문자열로 변환합니다.\n",
    "            base64_image = encode_image(img_path)\n",
    "        \n",
    "            # 인코딩된 base64 문자열을 리스트에 추가합니다.\n",
    "            img_base64_list.append(base64_image)\n",
    "        \n",
    "            # LLaVA 모델을 사용하여 이미지 요약을 생성하고 리스트에 추가합니다.\n",
    "            # 또한, openai api의 image_summarize(base64_image, prompt_kor)를 사용하여 대체할 수도 있습니다.\n",
    "            # 여기서는 한국어로 요약된 결과를 사용하고 있습니다.\n",
    "            image_summaries.append(image_summarize_llava(base64_image, prompt_kor))\n",
    "        \n",
    "    return img_base64_list, image_summaries\n",
    "\n",
    "# 현재 작업 디렉토리 경로를 찾습니다.\n",
    "current_directory = os.getcwd()\n",
    "\n",
    "# 현재 디렉토리를 기준으로 'figures' 폴더 경로를 설정합니다.\n",
    "# os.path.dirname를 사용하여 부모 디렉토리를 찾습니다.\n",
    "figures_directory = os.path.join(current_directory, \"figures\")\n",
    "\n",
    "print(figures_directory)\n",
    "\n",
    "\n",
    "\n",
    "# 이미지 요약 생성\n",
    "img_base64_list, image_summaries = generate_img_summaries(figures_directory)"
   ]
  },
  {
   "cell_type": "code",
   "execution_count": 16,
   "id": "fb9e5392-8c84-441b-ad55-f3da01c10575",
   "metadata": {},
   "outputs": [
    {
     "data": {
      "text/plain": [
       "6"
      ]
     },
     "execution_count": 16,
     "metadata": {},
     "output_type": "execute_result"
    }
   ],
   "source": [
    "len(img_base64_list)\n"
   ]
  },
  {
   "cell_type": "code",
   "execution_count": 17,
   "id": "f7fcd211-6ddf-4104-849d-fb0d33025556",
   "metadata": {},
   "outputs": [
    {
     "data": {
      "text/plain": [
       "' 이미지는 한국의 재무부에서 출시한 금융성과 관련된 통계 도표입니다.\\n\\n주요 데이터 포맷: 1개의 선 그래프가 있으며, 그 선은 대한민국에서 발생하는 금융 수량을 나타냅니다. 그래프는 시간 순에 각 월 별도로 표시되어 있습니다.\\n\\n데이터 포맷: 선 그래프에서 일부 숫자와 그래프 안쪽의 레인더가 나타납니다. 그리고, 주석으로 \"ISM\"과 같은 문구가 있습니다.\\n\\n주어진 데이터 포맷: 선 그래프는 전체적인 데이터를 나타내며, 레인더는 시간대에 따라 각 월별로 그룹되어 있습니다.\\n\\n주어진 데이터 포맷: 일부 숫자와 그래프 안쪽의 레인더가 있으며, 그림은 \"2021년\"과 같은 문구가 있습니다.\\n\\n이미지는 금융 수량에 대한 시간대별로 분석할 수 있는 데이터를 제공하며, 그 중심의 트렌드를 파악할 수 있습니다. '"
      ]
     },
     "execution_count": 17,
     "metadata": {},
     "output_type": "execute_result"
    }
   ],
   "source": [
    "len(image_summaries)\n",
    "image_summaries[1]"
   ]
  },
  {
   "cell_type": "code",
   "execution_count": 19,
   "id": "9fda2dce-cf71-4ac3-95e9-893005e52e47",
   "metadata": {
    "scrolled": true
   },
   "outputs": [
    {
     "data": {
      "text/plain": [
       "'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'"
      ]
     },
     "execution_count": 19,
     "metadata": {},
     "output_type": "execute_result"
    }
   ],
   "source": [
    "img_base64_list[1]"
   ]
  },
  {
   "cell_type": "markdown",
   "id": "67b030d4-2ac5-41b6-9245-fc3ba5771d87",
   "metadata": {},
   "source": [
    "### 다중 벡터 검색기 생성 및 사용\n",
    "\n",
    "이 스크립트는 다중 벡터 검색기를 생성하여 텍스트, 표, 이미지 요약을 색인화하고 원본 이미지를 반환합니다.\n",
    "\n",
    "#### 모듈 및 함수\n",
    "\n",
    "1. **임포트**\n",
    "    - `uuid`를 사용하여 고유 식별자를 생성합니다.\n",
    "    - `MultiVectorRetriever`, `InMemoryStore`, `Chroma`, `Document`, `OpenAIEmbeddings`, `OpenCLIPEmbeddings`를 사용하여 검색기 및 벡터 저장소를 설정합니다.\n",
    "\n",
    "2. **함수 정의**\n",
    "    - `create_multi_vector_retriever(vectorstore, text_summaries, texts, table_summaries, tables, image_summaries, images)`: \n",
    "        - 요약을 색인화하고 원본 이미지를 반환하는 검색기를 생성합니다.\n",
    "        - InMemoryStore를 초기화하고, MultiVectorRetriever를 생성합니다.\n",
    "        - 도큐먼트를 벡터 저장소와 도큐먼트 저장소에 추가하는 헬퍼 함수를 정의합니다.\n",
    "        - 텍스트, 표, 이미지 요약을 추가합니다.\n",
    "\n",
    "3. **코드 실행**\n",
    "\n",
    "1. **임포트 및 초기 설정**\n",
    "    - 필요한 모듈 및 함수를 임포트합니다.\n",
    "    - `OpenCLIPEmbeddings`를 사용하여 임베딩을 초기화합니다.\n",
    "    - `Chroma` 벡터 저장소를 설정합니다.\n",
    "\n",
    "2. **검색기 생성**\n",
    "    - `create_multi_vector_retriever` 함수를 호출하여 다중 벡터 검색기를 생성합니다.\n",
    "    - 텍스트, 표, 이미지 요약을 추가합니다."
   ]
  },
  {
   "cell_type": "code",
   "execution_count": 20,
   "id": "24a0a289-b970-49fe-b04f-5d857a4c159b",
   "metadata": {},
   "outputs": [],
   "source": [
    "import uuid\n",
    "\n",
    "from langchain.retrievers.multi_vector import MultiVectorRetriever\n",
    "from langchain.storage import InMemoryStore\n",
    "from langchain_chroma.vectorstores import Chroma\n",
    "from langchain_core.documents import Document\n",
    "from langchain_openai import OpenAIEmbeddings\n",
    "from langchain_experimental.open_clip import OpenCLIPEmbeddings\n",
    "\n",
    "\n",
    "def create_multi_vector_retriever(\n",
    "    vectorstore, text_summaries, texts, table_summaries, tables, image_summaries, images\n",
    "):\n",
    "    \"\"\"\n",
    "    요약된 내용을 인덱싱하지만, 실제 검색 시 원본 이미지를 반환하는 검색기 생성\n",
    "    \"\"\"\n",
    "\n",
    "    # 저장소 초기화\n",
    "    store = InMemoryStore()\n",
    "    id_key = \"doc_id\"\n",
    "\n",
    "    # 다중 벡터 검색기 생성\n",
    "    retriever = MultiVectorRetriever(\n",
    "        vectorstore=vectorstore,\n",
    "        docstore=store,\n",
    "        id_key=id_key,\n",
    "    )\n",
    "\n",
    "    # 벡터 저장소와 문서 저장소에 문서를 추가하는 헬퍼 함수\n",
    "    def add_documents(retriever, doc_summaries, doc_contents):\n",
    "        doc_ids = [str(uuid.uuid4()) for _ in doc_contents]\n",
    "        \n",
    "        summary_docs = [\n",
    "            Document(page_content=s, metadata={id_key: doc_ids[i]})\n",
    "            for i, s in enumerate(doc_summaries)\n",
    "        ]\n",
    "        retriever.vectorstore.add_documents(summary_docs)\n",
    "        retriever.docstore.mset(list(zip(doc_ids, doc_contents)))\n",
    "\n",
    "    # 텍스트, 테이블, 이미지 추가\n",
    "    # text_summaries가 비어 있지 않으면 추가\n",
    "    if text_summaries:\n",
    "        add_documents(retriever, text_summaries, texts)\n",
    "    # table_summaries가 비어 있지 않으면 추가\n",
    "    if table_summaries:\n",
    "        add_documents(retriever, table_summaries, tables)\n",
    "    # image_summaries가 비어 있지 않으면 추가\n",
    "    if image_summaries:\n",
    "        add_documents(retriever, image_summaries, images)\n",
    "\n",
    "    return retriever\n",
    "\n",
    "\n",
    "# OpenCLIPEmbeddings 모델을 사용한 임베딩 설정\n",
    "embedding = OpenCLIPEmbeddings()\n",
    "\n",
    "# 요약본을 인덱싱하는 데 사용할 벡터 저장소 설정\n",
    "vectorstore = Chroma(\n",
    "    collection_name=\"mm_rag_finace\", embedding_function=embedding\n",
    ")\n",
    "\n",
    "# 검색기 생성\n",
    "retriever_multi_vector_img = create_multi_vector_retriever(\n",
    "    vectorstore,\n",
    "    text_summaries,\n",
    "    texts_2k_token,\n",
    "    table_summaries,\n",
    "    tables,\n",
    "    image_summaries,\n",
    "    img_base64_list,\n",
    ")"
   ]
  },
  {
   "cell_type": "markdown",
   "id": "69060724-e390-4dda-8250-5f86025c874a",
   "metadata": {},
   "source": [
    "### 다중 모달 RAG 체인 생성 및 사용\n",
    "\n",
    "이 스크립트는 다중 모달 RAG(Retrieval-Augmented Generation) 체인을 생성하여 텍스트, 표, 이미지 데이터를 처리하고, 한국어로 투자 조언을 제공합니다.\n",
    "\n",
    "#### 모듈 및 함수\n",
    "\n",
    "1. **임포트**\n",
    "    - `io`, `re`, `IPython.display`, `langchain_core.runnables`, `langchain.prompts`, `PIL.Image`: 다양한 모듈을 사용하여 이미지 처리, 데이터 처리, 디스플레이, 체인 생성 등을 수행합니다.\n",
    "\n",
    "2. **함수 정의**\n",
    "    - `plt_img_base64(img_base64)`: Base64 인코딩된 문자열을 이미지로 표시합니다.\n",
    "    - `looks_like_base64(sb)`: 문자열이 Base64 형식인지 확인합니다.\n",
    "    - `is_image_data(b64data)`: Base64 데이터가 이미지인지 확인합니다.\n",
    "    - `resize_base64_image(base64_string, size=(128, 128))`: Base64 형식의 이미지를 리사이즈합니다.\n",
    "    - `split_image_text_types(docs)`: Base64로 인코딩된 이미지와 텍스트를 분리합니다.\n",
    "    - `img_prompt_func(data_dict)`: 주어진 데이터 딕셔너리로부터 메시지를 생성합니다.\n",
    "    - `multi_modal_rag_chain(retriever)`: 다중 모달 RAG 체인을 생성합니다.\n",
    "    - `korean_convert_rag()`: 영어 텍스트를 한국어로 변환하는 RAG 체인을 생성합니다.\n",
    "\n",
    "3. **코드 실행**\n",
    "\n",
    "1. **임포트 및 초기 설정**\n",
    "    - 필요한 모듈 및 함수를 임포트합니다.\n",
    "\n",
    "2. **이미지 처리 및 변환**\n",
    "    - Base64 인코딩된 이미지를 처리하고 표시합니다.\n",
    "    - 문자열이 Base64 형식인지, Base64 데이터가 이미지인지 확인합니다.\n",
    "    - 이미지를 리사이즈합니다.\n",
    "    - Base64로 인코딩된 이미지와 텍스트를 분리합니다.\n",
    "\n",
    "3. **메시지 생성**\n",
    "    - 주어진 데이터 딕셔너리로부터 메시지를 생성합니다.\n",
    "    - 투자 분석을 위한 프롬프트 메시지를 구성합니다.\n",
    "\n",
    "4. **RAG 체인 생성**\n",
    "    - 다중 모달 RAG 체인을 생성합니다.\n",
    "    - 영어 텍스트를 한국어로 변환하는 RAG 체인을 생성합니다.\n",
    "    - 다중 모달 RAG 체인과 한국어 변환 RAG 체인을 결합합니다."
   ]
  },
  {
   "cell_type": "code",
   "execution_count": 21,
   "id": "771a47fa-1267-4db8-a6ae-5fde48bbc069",
   "metadata": {},
   "outputs": [],
   "source": [
    "import io\n",
    "import re\n",
    "\n",
    "from IPython.display import HTML, display\n",
    "from langchain_core.runnables import RunnableLambda, RunnablePassthrough\n",
    "from langchain.prompts import ChatPromptTemplate\n",
    "from PIL import Image\n",
    "\n",
    "\n",
    "def plt_img_base64(img_base64):\n",
    "    \"\"\"base64로 인코딩된 문자열을 이미지로 표시\"\"\"\n",
    "    # Base64 문자열을 소스로 하는 HTML img 태그 생성\n",
    "    image_html = f'<img src=\"data:image/jpeg;base64,{img_base64}\" />'\n",
    "    # HTML을 렌더링하여 이미지를 표시\n",
    "    display(HTML(image_html))\n",
    "\n",
    "\n",
    "def looks_like_base64(sb):\n",
    "    \"\"\"문자열이 base64 형식인지 확인\"\"\"\n",
    "    return re.match(\"^[A-Za-z0-9+/]+[=]{0,2}$\", sb) is not None\n",
    "\n",
    "\n",
    "def is_image_data(b64data):\n",
    "    \"\"\"\n",
    "    base64 데이터가 이미지인지 확인 (데이터 시작 부분을 검사)\n",
    "    \"\"\"\n",
    "    image_signatures = {\n",
    "        b\"\\xff\\xd8\\xff\": \"jpg\",\n",
    "        b\"\\x89\\x50\\x4e\\x47\\x0d\\x0a\\x1a\\x0a\": \"png\",\n",
    "        b\"\\x47\\x49\\x46\\x38\": \"gif\",\n",
    "        b\"\\x52\\x49\\x46\\x46\": \"webp\",\n",
    "    }\n",
    "    try:\n",
    "        header = base64.b64decode(b64data)[:8]  # base64 디코딩 후 처음 8바이트를 가져옴니다.\n",
    "        for sig, format in image_signatures.items():\n",
    "            if header.startswith(sig):\n",
    "                return True\n",
    "        return False\n",
    "    except Exception:\n",
    "        return False\n",
    "\n",
    "\n",
    "def resize_base64_image(base64_string, size=(128, 128)):\n",
    "    \"\"\"\n",
    "    Base64로 인코딩된 이미지를 크기 조정\n",
    "    \"\"\"\n",
    "    # Base64 문자열을 디코딩\n",
    "    img_data = base64.b64decode(base64_string)\n",
    "    img = Image.open(io.BytesIO(img_data))\n",
    "\n",
    "    # 이미지 크기 조정\n",
    "    resized_img = img.resize(size, Image.LANCZOS)\n",
    "\n",
    "    # 크기 조정된 이미지를 bytes 버퍼에 저장\n",
    "    buffered = io.BytesIO()\n",
    "    resized_img.save(buffered, format=img.format)\n",
    "\n",
    "    # 크기 조정된 이미지를 Base64로 인코딩\n",
    "    return base64.b64encode(buffered.getvalue()).decode(\"utf-8\")\n",
    "\n",
    "\n",
    "def split_image_text_types(docs):\n",
    "    \"\"\"\n",
    "    Base64로 인코딩된 이미지를 크기 조정\n",
    "    \"\"\"\n",
    "    b64_images = []\n",
    "    texts = []\n",
    "    for doc in docs:\n",
    "        # 문서 유형이 Document일 경우 page_content 추출\n",
    "        if isinstance(doc, Document):\n",
    "            doc = doc.page_content\n",
    "        if looks_like_base64(doc) and is_image_data(doc):\n",
    "            doc = resize_base64_image(doc, size=(1300, 600))\n",
    "            b64_images.append(doc)\n",
    "        else:\n",
    "            texts.append(doc)\n",
    "    return {\"images\": b64_images, \"texts\": texts}\n",
    "\n",
    "\n",
    "def img_prompt_func(data_dict):\n",
    "    \"\"\"\n",
    "    주어진 맥락을 하나의 문자열로 결합하여 처리\n",
    "    \"\"\"\n",
    "    formatted_texts = \"\\n\".join(data_dict[\"context\"][\"texts\"])\n",
    "    messages = []\n",
    "\n",
    "    # 이미지가 있는 경우 메시지에 추가\n",
    "    if data_dict[\"context\"][\"images\"]:\n",
    "        for image in data_dict[\"context\"][\"images\"]:\n",
    "            image_message = {\n",
    "                \"type\": \"image_url\",\n",
    "                \"image_url\": {\"url\": f\"data:image/jpeg;base64,{image}\"},\n",
    "            }\n",
    "            messages.append(image_message)\n",
    "\n",
    "    # 분석할 텍스트 추가\n",
    "    text_message = {\n",
    "        \"type\": \"text\",\n",
    "        \"text\": (\n",
    "            \"You are financial analyst tasking with providing investment advice.\\n\"\n",
    "            \"You will be given a mixed of text, tables, and image(s) usually of charts or graphs.\\n\"\n",
    "            \"Use this information to provide investment advice related to the user question. \\n\"\n",
    "            f\"User-provided question: {data_dict['question']}\\n\\n\"\n",
    "            \"Text and / or tables:\\n\"\n",
    "            f\"{formatted_texts}\\n\\n\"\n",
    "            \"Please provide the final answer in Korean(hangul).\"\n",
    "        ),\n",
    "    }\n",
    "    messages.append(text_message)\n",
    "    return [HumanMessage(content=messages)]\n",
    "\n",
    "\n",
    "def multi_modal_rag_chain(retriever):\n",
    "    \"\"\"\n",
    "    다중 모드 RAG 체인 생성\n",
    "    \"\"\"\n",
    "\n",
    "    # 다중 모드 LLM 설정\n",
    "    model = ChatOpenAI(temperature=0, model=\"gpt-4-vision-preview\", max_tokens=1024)\n",
    "    llava_model = OllamaLLM(model=\"llava:7b\")\n",
    "    # RAG 파이프라인 설정\n",
    "    chain = (\n",
    "        {\n",
    "            \"context\": retriever | RunnableLambda(split_image_text_types),\n",
    "            \"question\": RunnablePassthrough(),\n",
    "        }\n",
    "        | RunnableLambda(img_prompt_func)\n",
    "        | llava_model # model\n",
    "        | StrOutputParser()\n",
    "    )\n",
    "\n",
    "    return chain\n",
    "\n",
    "\n",
    "def korean_convert_rag():\n",
    "    \"\"\"\n",
    "    영어 텍스트를 한국어로 변환하는 RAG 체인\n",
    "    \"\"\"\n",
    "    # or gpt-4 oepn-ai 모델 선택부분은 공식 홈페이지에서 확인 가능합니다. 현재는 gpt-3.5-turbo 모델을 사용하겠습니다.\n",
    "    # model = ChatOpenAI(model=\"gpt-3.5-turbo\",temperature=0)\n",
    "    llamaModel = OllamaLLM(model=\"llama3.1:8b\")\n",
    "\n",
    "    # 프롬프트 템플릿 설정\n",
    "    prompt = ChatPromptTemplate.from_messages([\n",
    "        (\"system\", \"You are a helpful assistant that translates English to Korean.\"),\n",
    "        (\"human\", \"Translate the following English text to Korean: {english_text}\")\n",
    "    ])\n",
    "\n",
    "    # RAG 파이프라인 설정\n",
    "    chain = (\n",
    "        {\"english_text\": RunnablePassthrough()}\n",
    "        | prompt\n",
    "        | llamaModel #또는 다른 모델 사용 가능\n",
    "        | StrOutputParser()\n",
    "    )\n",
    "\n",
    "    return chain\n",
    "\n",
    "    \n",
    "\n",
    "# RAG 체인 생성\n",
    "chain_multimodal_rag = multi_modal_rag_chain(retriever_multi_vector_img)\n",
    "\n",
    "#openSource model 사용시 답변이 영어로 나온다면 korean_convert_rag를 chain을 생성하여서 rag 진행\n",
    "korean_convert_rag = korean_convert_rag()\n",
    "final_multimodal_rag = chain_multimodal_rag | korean_convert_rag\n",
    "\n"
   ]
  },
  {
   "cell_type": "markdown",
   "id": "087ab1e2-fc9a-42af-9d93-a35dd172b130",
   "metadata": {},
   "source": [
    "### 조회 결과 확인\n",
    "\n",
    "주어진 질문에 관련된 이미지를 검색하여 반환합니다."
   ]
  },
  {
   "cell_type": "code",
   "execution_count": 22,
   "id": "9f4695c6-7374-4284-b2fe-a94ac17b630f",
   "metadata": {},
   "outputs": [
    {
     "data": {
      "text/plain": [
       "4"
      ]
     },
     "execution_count": 22,
     "metadata": {},
     "output_type": "execute_result"
    }
   ],
   "source": [
    "query = \"주가변동률에 가장 관련있는 자료를 찾아줘\"\n",
    "docs = retriever_multi_vector_img.invoke(query)\n",
    "\n",
    "len(docs)"
   ]
  },
  {
   "cell_type": "code",
   "execution_count": 25,
   "id": "74343bdf-1a0a-429f-8df6-7b07ac05ee33",
   "metadata": {},
   "outputs": [
    {
     "data": {
      "text/html": [
       "<img src=\"data:image/jpeg;base64,/9j/4AAQSkZJRgABAQAAAQABAAD/2wBDAAgGBgcGBQgHBwcJCQgKDBQNDAsLDBkSEw8UHRofHh0aHBwgJC4nICIsIxwcKDcpLDAxNDQ0Hyc5PTgyPC4zNDL/2wBDAQkJCQwLDBgNDRgyIRwhMjIyMjIyMjIyMjIyMjIyMjIyMjIyMjIyMjIyMjIyMjIyMjIyMjIyMjIyMjIyMjIyMjL/wAARCAH1A8gDASIAAhEBAxEB/8QAHwAAAQUBAQEBAQEAAAAAAAAAAAECAwQFBgcICQoL/8QAtRAAAgEDAwIEAwUFBAQAAAF9AQIDAAQRBRIhMUEGE1FhByJxFDKBkaEII0KxwRVS0fAkM2JyggkKFhcYGRolJicoKSo0NTY3ODk6Q0RFRkdISUpTVFVWV1hZWmNkZWZnaGlqc3R1dnd4eXqDhIWGh4iJipKTlJWWl5iZmqKjpKWmp6ipqrKztLW2t7i5usLDxMXGx8jJytLT1NXW19jZ2uHi4+Tl5ufo6erx8vP09fb3+Pn6/8QAHwEAAwEBAQEBAQEBAQAAAAAAAAECAwQFBgcICQoL/8QAtREAAgECBAQDBAcFBAQAAQJ3AAECAxEEBSExBhJBUQdhcRMiMoEIFEKRobHBCSMzUvAVYnLRChYkNOEl8RcYGRomJygpKjU2Nzg5OkNERUZHSElKU1RVVldYWVpjZGVmZ2hpanN0dXZ3eHl6goOEhYaHiImKkpOUlZaXmJmaoqOkpaanqKmqsrO0tba3uLm6wsPExcbHyMnK0tPU1dbX2Nna4uPk5ebn6Onq8vP09fb3+Pn6/9oADAMBAAIRAxEAPwD3+iiigDP1PUbqw8r7No19qW/O77I8C+XjGM+bInXPbPQ5xxnP/wCEh1T/AKEzXP8Av9Zf/JFdBRQBz/8AwkOqf9CZrn/f6y/+SKP+Eh1T/oTNc/7/AFl/8kV0FFAHP/8ACQ6p/wBCZrn/AH+sv/kij/hIdU/6EzXP+/1l/wDJFdBRQBz/APwkOqf9CZrn/f6y/wDkij/hIdU/6EzXP+/1l/8AJFdBRQBz/wDwkOqf9CZrn/f6y/8Akij/AISHVP8AoTNc/wC/1l/8kV0FFAHP/wDCQ6p/0Jmuf9/rL/5Io/4SHVP+hM1z/v8AWX/yRXQUUAc//wAJDqn/AEJmuf8Af6y/+SKP+Eh1T/oTNc/7/WX/AMkV0FFAHP8A/CQ6p/0Jmuf9/rL/AOSKP+Eh1T/oTNc/7/WX/wAkV0FFAHP/APCQ6p/0Jmuf9/rL/wCSKP8AhIdU/wChM1z/AL/WX/yRXQUUAc//AMJDqn/Qma5/3+sv/kij/hIdU/6EzXP+/wBZf/JFdBRQBz//AAkOqf8AQma5/wB/rL/5Io/4SHVP+hM1z/v9Zf8AyRXQUUAc/wD8JDqn/Qma5/3+sv8A5Io/4SHVP+hM1z/v9Zf/ACRXQUUAc/8A8JDqn/Qma5/3+sv/AJIo/wCEh1T/AKEzXP8Av9Zf/JFdBRQBz/8AwkOqf9CZrn/f6y/+SKP+Eh1T/oTNc/7/AFl/8kV0FFAHP/8ACQ6p/wBCZrn/AH+sv/kij/hIdU/6EzXP+/1l/wDJFdBRQBz/APwkOqf9CZrn/f6y/wDkij/hIdU/6EzXP+/1l/8AJFdBRQBz/wDwkOqf9CZrn/f6y/8Akij/AISHVP8AoTNc/wC/1l/8kV0FFAHP/wDCQ6p/0Jmuf9/rL/5Io/4SHVP+hM1z/v8AWX/yRXQUUAc//wAJDqn/AEJmuf8Af6y/+SKP+Eh1T/oTNc/7/WX/AMkV0FFAHP8A/CQ6p/0Jmuf9/rL/AOSKP+Eh1T/oTNc/7/WX/wAkV0FFAHP/APCQ6p/0Jmuf9/rL/wCSKP8AhIdU/wChM1z/AL/WX/yRXQUUAc//AMJDqn/Qma5/3+sv/kij/hIdU/6EzXP+/wBZf/JFdBRQBz//AAkOqf8AQma5/wB/rL/5Io/4SHVP+hM1z/v9Zf8AyRXQUUAc/wD8JDqn/Qma5/3+sv8A5Io/4SHVP+hM1z/v9Zf/ACRXQUUAc/8A8JDqn/Qma5/3+sv/AJIo/wCEh1T/AKEzXP8Av9Zf/JFdBRQBz/8AwkOqf9CZrn/f6y/+SKP+Eh1T/oTNc/7/AFl/8kV0FFAHP/8ACQ6p/wBCZrn/AH+sv/kij/hIdU/6EzXP+/1l/wDJFdBRQBz/APwkOqf9CZrn/f6y/wDkij/hIdU/6EzXP+/1l/8AJFdBRQBz/wDwkOqf9CZrn/f6y/8Akij/AISHVP8AoTNc/wC/1l/8kV0FFAHP/wDCQ6p/0Jmuf9/rL/5Io/4SHVP+hM1z/v8AWX/yRXQUUAc//wAJDqn/AEJmuf8Af6y/+SKP+Eh1T/oTNc/7/WX/AMkV0FFAHP8A/CQ6p/0Jmuf9/rL/AOSKP+Eh1T/oTNc/7/WX/wAkV0FFAHP/APCQ6p/0Jmuf9/rL/wCSKP8AhIdU/wChM1z/AL/WX/yRXQUUAc//AMJDqn/Qma5/3+sv/kij/hIdU/6EzXP+/wBZf/JFdBRQBz//AAkOqf8AQma5/wB/rL/5Io/4SHVP+hM1z/v9Zf8AyRXQUUAc/wD8JDqn/Qma5/3+sv8A5Io/4SHVP+hM1z/v9Zf/ACRXQUUAc/8A8JDqn/Qma5/3+sv/AJIo/wCEh1T/AKEzXP8Av9Zf/JFdBRQBz/8AwkOqf9CZrn/f6y/+SKP+Eh1T/oTNc/7/AFl/8kV0FFAHP/8ACQ6p/wBCZrn/AH+sv/kij/hIdU/6EzXP+/1l/wDJFdBRQBz/APwkOqf9CZrn/f6y/wDkij/hIdU/6EzXP+/1l/8AJFdBRQBz/wDwkOqf9CZrn/f6y/8Akij/AISHVP8AoTNc/wC/1l/8kV0FFAHP/wDCQ6p/0Jmuf9/rL/5Io/4SHVP+hM1z/v8AWX/yRXQUUAc//wAJDqn/AEJmuf8Af6y/+SKP+Eh1T/oTNc/7/WX/AMkV0FFAHP8A/CQ6p/0Jmuf9/rL/AOSKP+Eh1T/oTNc/7/WX/wAkV0FFAHP/APCQ6p/0Jmuf9/rL/wCSKP8AhIdU/wChM1z/AL/WX/yRXQUUAc//AMJDqn/Qma5/3+sv/kij/hIdU/6EzXP+/wBZf/JFdBRQBz//AAkOqf8AQma5/wB/rL/5Io/4SHVP+hM1z/v9Zf8AyRXQUUAc/wD8JDqn/Qma5/3+sv8A5Io/4SHVP+hM1z/v9Zf/ACRXQUUAc/8A8JDqn/Qma5/3+sv/AJIo/wCEh1T/AKEzXP8Av9Zf/JFdBRQBz/8AwkOqf9CZrn/f6y/+SKP+Eh1T/oTNc/7/AFl/8kV0FFAHP/8ACQ6p/wBCZrn/AH+sv/kij/hIdU/6EzXP+/1l/wDJFdBRQBz/APwkOqf9CZrn/f6y/wDkij/hIdU/6EzXP+/1l/8AJFdBRQBz/wDwkOqf9CZrn/f6y/8Akij/AISHVP8AoTNc/wC/1l/8kV0FFAHP/wDCQ6p/0Jmuf9/rL/5Io/4SHVP+hM1z/v8AWX/yRXQUUAc//wAJDqn/AEJmuf8Af6y/+SKP+Eh1T/oTNc/7/WX/AMkV0FFAHP8A/CQ6p/0Jmuf9/rL/AOSKP+Eh1T/oTNc/7/WX/wAkV0FFAHP/APCQ6p/0Jmuf9/rL/wCSKP8AhIdU/wChM1z/AL/WX/yRXQUUAc//AMJDqn/Qma5/3+sv/kij/hIdU/6EzXP+/wBZf/JFdBRQBz//AAkOqf8AQma5/wB/rL/5Io/4SHVP+hM1z/v9Zf8AyRXQUUAZem6reX1w0Vx4f1LT0CFhLdSW7KTkfKPLlc55z0xweemStSigAooooAKKKiubiO0tZrmZtsUKNI59ABk0AS55xRXB/bdR0/4W6h4jT5dXvrZtQd9u7yd4BUY7iOPaMf7Ge5plnrNv4c12+j/ty51PSIdJF9M804naOTfhdrD/AJ6DOF9V4xmgDv6KxfDFtqEWlG51aSQ397IbmaJnLLb7sbYl9AqgDjqQT3raoAKKzPEV5daf4Y1W9sU8y7t7OaWFMZ3OqEqMd+QK47SdXi0jWLBh4jn1LT7jR5r+/kuJxKIdhjKyjH3A25xtHHHA4oA9EorB8Kpfz2M2q6k0yXGoyeeltIxxbRYxHGB0B24Lf7TH0FJqni+w0vW10U297dak9utylvaw72dCzLnOQBgqckkDkc5IoA38460Vz0V9p/jTQ7+1ha4t5UcwTRyxmOa1mGGUkdiDtYEZB4INWfCuqy634Zsb64ULcshjuFXoJUYpJj23K1AGxRRRQAUUUUAFFFFABRRRQAUUUUAFFFFABRRRQAUUUUAFFFFABRRRQAUUUUAFFFFABRRRQAUUUUAFFFFABRRRQAUUUUAFFFFABRRRQAUUUUAFFFFABRRRQAUUUUAFFFFABRRRQAUUUUAFFFFABRRRQAUUUUAFFFFABRRRQAUUUUAFFFFABRRRQAUUUUAFFFFABRRRQAUUUUAFFFFABRRRQAUUUUAFFFFABRRRQAUUUUAFFFFABRRRQAUUUUAFFFFABRRRQAUUUUAFFFFABRRRQAUUUUAFFFFABRRRQAVU1WzOo6PfWIbabm3kh3em5SM/rVuigDC8HXQvvBulO6bZUtlgnjP8EqDZIp+jKw/Csg6Xp9/4oTR9Osba10vS5EvL9beFY1muTzDGQAM7R+8Pv5ddVa2FvZTXUtupQ3UvnSKD8u/ABIHbOBn1PPUmrIAGcADPJoA8m0LyTqWgmD7T/wAJZ/aEg1jdv3eViTf5mePL+5s7fd216j/aFodSOnC4j+2iHzzBn5hHnbux6ZyKs1Qt9HtLbWr3VkDm7vI44pGY5ARM7QvoMsSfc0AX64u/0rTr/wARx+H9OsLW3tEKX+sNBCqebgkwxNgclmBY5/hTH8VdpSAAEkAZPX3oA8mh8k6rbkfaf+EyGvkT537/ALL55z7eT9nxjtnHetvUNb07RPi/LLqcqW0EuhQoLuX5Y428+U7Wbou7BxnA+X6V39UV0m2XXZdYBf7TLapasCfl2KzMOPXLn9KAOY8L3cF1r3irxLG4XR5zAkNwwwsohjO+UHuvzYDdDs4rR8B28sPg6zknjaOS6ea8KMMFRNK8oBHYgOBW3qFhb6nZSWd0pe3kx5iA4DgEHafUHGCO4JFWelABRRRQAUUUUAFFFFABRRRQAUUhYAgEgE8D3paACiiigAoopAwYZUgg9xQAtFRm4hBwZo/++hT1ZXXKsGHqDmgBaKKKACiiigAopCQMZIGTgZ70tABRRRQAUUUgYN0IPOOKAFooooAKKKKACiiigAooooAKKKKACiiigAooooAKKKKACiiigAooooAKKKKACiiigAooooAKKKKACiiigAooooAKKKKACiiigAooooAKKKKACiiigAooooAKKKKACiiigAooooAKKKKACiiigAooooAKKKKACiiigAooooAKKKKACiiigAooooAKKKKACiiigAooooAKKKKACiiigAooooAKKKKACiiigAooooAw9S8Y+HtHvHtL7VYIp4wGlTlvKB6F8A7B/vYrYgniuYI54JUlhkUOkiMGVlPIII6ivNYtX1DQL/xLb6Doza7bSXklw91ECFt5nIDxycZl29cR7mA+UgEZrrvA9rZWXgrSrfTr1b21SH5bhV2hySS2F/hAYkbeoxjtQB0FFFVb3UIbDZ5yXLb848i1km6euxTjr3oAtUVXs72C/hMsBk2hipEkTRsCOxVgCPyqxQAUUUUAFVrjUbG0kEdzeW8LkZCySqpx9Cas1wniT4Y2fiLW5tUbUZ4JJgu9AgYZAC8dMcCs6jml7iuzrwdPD1KlsTPkjbdK+p1v9t6T/wBBOy/8CE/xo/tvSf8AoJ2X/gQn+Ned/wDClrP/AKDM/wD34H+NH/ClrP8A6DM//fgf41j7TEfyfien9Tyj/oJf/gDPRP7b0n/oJ2X/AIEJ/jR/bek/9BOy/wDAhP8AGvO/+FLWf/QZn/78D/Gj/hS1n/0GZ/8AvwP8aPaYj+T8Q+p5R/0Ev/wBnon9t6T/ANBOy/8AAhP8aP7b0n/oJ2X/AIEJ/jXnf/ClrP8A6DM//fgf40f8KWs/+gzP/wB+B/jR7TEfyfiH1PKP+gl/+AM9OhnhuYhLBKksZ6OjBgfxFcF4Z0ebxBoL6pe67ri3Et1dqRDfvGihLiRFAUcAAKK6Pwn4Xt/CelyWUFxLP5kpld5MDnAHAHTgCsjStG8XaFp8mm2UmiTWwnnljknMofEkrycgDGRvx+FdEW2k5KzPGrxpxqONKXNHo7Wv8jJ029udR0v4X3l5M01zNKXkkc8uxs5sk+9el158dHfw+PhxpEkqyyWdy0LSKMBitnMCR7V300scEMk0rBY41LMx7ADJNUZHB+KLPUvC+kDWbPxHqt1qKXMKLBcujRXReRV8ry1UAZDHBXBGM1sa5PLH468KRJK6xyG73oGIDYiBGR3xXK6d418NeIdaj13WNcsbe1tGYaZYSzAMh5BnkH98jIUfwg+pOOo8eW+l/wDCMXOs39lJdtpcMl1AIbqS3fO3kCSMgjI47/SgBniq91C21CFbO81qBDFkrYaWtyhOTyWKnB9vpVDwTPFH8JNOWe6igaa2ljR53EeXLPjr0NdBpXhbSNKuVvLSG48/bgPPeTTEA9fvuapaT4dg0nwNb6Zq6Wdx9ijkdneLzUU5Y7gGHOAaAOD0a30Cw0LT7O98AaJc3cFtHFNObjT2MrqoDNkvk5IJyeea6v4eJa2J1iOOGw05L3UDcWun29xC/lp5ManiMlRkoxwK4/8AspdVbTdThtbp44szwNF4XjCSh0KgsN/zDDZGe+DXb+BrCXy7y51DRra2miuilpP/AGelrK8WxckqCcfMXHXkCgDf1zVtG0uyxrl9aWttcZi/0mQIr5HK89eK4jd8IP8An58Of+BC/wCNei3JnFrKbVY2uAh8pZWKoWxwGIBIGe4Bri7/AE3xrfa5pOpm08Po2nNKwjF7MQ+9NnXyuMdaAK3w31nw952s6Zpep2TCTU5pLS0inDERBEXKrn7pKsfxzTJm1rR/GWlXF1ZWstxqd2YRFBrN24VNpLyCFh5eFUZ6DkjHJrpvDeuX2sW2qJd2dvBfafePaMkUzPG7BEcEMVBA+cDp2rHfwbq8848QS6uq+KU5hdQ32SKPvb7M5KHu33icHjAFAHOjUbRteWwN5Cb0eMjILcyjzAnkkbtuc4z36V1evX/w/wBSuxDruqaDJc2rNH5dzexh4jn5lILZByOntXLxQr/aSTSRR/aP+E0Ks6rz/qDwD1xXU69d6kfFdhoukR6VE9zaT3cs97atN9x41AAV06+ZnJJ6UAcf4oPw5tdJik0S/wBAi1D7baCKW2vY98Y8+Pe2Q3AC7iT6V3Ouar4fvNAgvZ/EQttPknCxXlje7BI4DDYHQ/N0bgf3fasfW5vE/h7Tf7SuZPDl1Ak8EckUWmyRsyySpGcMZmAI3Z6HpWv4q0rULkaLc6RbW80um6gLo28kvkq6+VIhAYKcHMgPTsaAMDw5qFrJ48t7XRde1DVLBtOne5FxcPMqSCSIIct0OC9bXgL/AJBusf8AYc1D/wBKHqVLzxncSIP7G0WzjyN7SajJM2PZViUfrUXgL/kG6x/2HNQ/9KHoA6qiiigAooooAKKKKACiiigAooooAKKKKACiiigAooooAKKKKACiiigAooooAKKKKACiiigAooooAKKKKACiiigAooooAKKKKACiiigAooooAKKKKACiiigAooooAKKKKACiiigAooooAKKKKACiiigAooooAKKKKACiiigAooooAKKKKACiiigAooooAKKKKACiiigAooooAKKKKACiiigAooooAKKKKACiiigDjrLR/E/h1bqy0X+yLvT5biW4gN5JJFJAZHLsp2qwkAZjjlTjj3rZ8MaI3h/Q47GS4FxOZJZ5pQmwPJI7OxC9hljgelbFFABRRRQBQ03/AF2o/wDX0f8A0BKv1Q03/Xaj/wBfR/8AQEq/QAUUUUAFFFFABRRRQAUUUUAFFFFABRRXNSePvDMckqHUSxido3MdtK6hlJBG4KQcEEUAblzp9rd3NpcTwh5bSQywMSfkYqUJH/AWYfjVmsdvEunmTRBAzXEWsuVtZosFcCJpcnPOCqH8SK2KACobq1t760mtbqFJreZDHJFIuVdSMEEdxUDavp6avHpLXkI1CSIzLbbvnKDgtj0pNV1nTdDtBdaneRWsJYIrSNjcx6KB1J9hQBkf8K+8Jf8AQAsv++K2bLSrDTtOGn2lrFDZgMPJUfLhs5498mmabrWm6xYNfadexXVspKs8RztI6gjqCPQ80Wes2F9okGsxXCpYTwrOs0vyAIRkE56cetAGQnw+8LxoqJpmxFGFVbiUAD0A3cVraVomn6JFJHp8BhSQhmBkZ8n/AIETVS18WaRf+IItHsbuK7ne1kujJbypIiKjIpBIOQSXGOOxqPVfE50/Wo9ItdH1DUrx7c3JW1MKhI923JMki9+wzQBv0Vy7+MZ7W5s49R8MavYxXdylqk8r2zIHc4XISVmxnviuooAq2enWmnyXb2sIja7nNxOdxO+QqqluenCqOOOKtVk6rrcmmTpEmjapfBl3b7SNGVeeh3MOazj41iiubWK80PWrJLm4S2Sa4gQIHc4UEhyRk+1AG1Jo+nSvG7WcIaO5+1qVXb++wRvOOrYOMmq+r+GtH16WCXU7FJ5IAyxuWZWUNjIyCDg4H5Va1LUoNKszdXCXLxggEW9vJO/P+ygLfpVSXxFZRWNheMlyIr64S2iEkDRuHckDcjgMo47igCingHwvHLHINJRmjdXXfK7AMDkHBbBwQDXSVnaXrMGrQXktvFKBa3U1qysBlnjYqcc9CRxWX/wl0/8A0KviH/wHi/8AjlAHS1WstPtdOjljtIREsszzuAT80jsWZufUkmqOh+IbfXWvY47W7tLiylWKeC6jCupKhx0JGCGB61VuvHHh6yuZre4vZEkhdkkH2WYgEHB5C4P1oA6GisifxHYQx6NLGzXEOrzrDbSxYKndG8gY5PTah/MVr0AFFFFABRRRQAUUUUAFFFFABRRRQAUUUUAFFFFABRRRQAUUUUAFFFFABRRRQAUUUUAFFFFABRRRQAUUUUAFFFFABRRRQAUUUUAFFFFABRRRQAUUUUAFFFFABRRRQAUUUUAFFFFABRRRQAUUUUAFFFFABRRRQAUUUUAFFFFABRRRQAUUUUAFFFFABRRRQAUUUUAFFFFABRRRQAUUUUAFFFFABRRRQAUUUUAFFFFABRRRQBQ03/Xaj/19H/0BKv1Q03/Xaj/19H/0BKv0AFFFFABWLq/ia10a6W3mtb2VmXduhiBX8yRW1RQByv8Awnun/wDQP1P/AL8r/wDFUf8ACe6f/wBA/U/+/K//ABVdVRQByv8Awnun/wDQP1P/AL8r/wDFUf8ACe6f/wBA/U/+/K//ABVdVRQByv8Awnun/wDQP1P/AL8r/wDFUf8ACe6f/wBA/U/+/K//ABVdVRQBV0++TUrGK7jiljSQZCzLtYc9xXN/D7/kRV/6+77/ANKpq66ubfwD4Zkkkc6ZtMrs7hJ5FUsxJJwGAGSSaAOR8P8A/ID+FH4/+kUtepVyuqaMbfWPBsWm2ZSx0+6kDCNflhj+yyoufQZIH411VAHE3el2WnfE/QJbW3WOW7g1GaeTJLSMfI5JPPHQDoBwMCp7hRd/Fu0jnAdLHRnngU9FkklCMw99q4+jH1rVvtHnuvFujaskkYgsbe6ikUk7mMvl7ccY42HP1FVte0TUZdasde0SW2TUbaJ7eSK63CK4hcglSyglSGUEEA9+OaAKEcX2f4naxb2yhVvtGiuJVHRpVkkQN9SpA/4CKyfD2uGy+H2m6HNpOuQ6hBYR27h9DnlRXVQD1UKwyPXBrptA0XUINW1DW9amtn1K8SOFY7XcYreFNxVFLYLElmYkgdenFUTqWr6P4q1tp9I1jULG4MDWZtSjogEYDgBnG35snpz1oAydD067sviVpsl1PBIbjQ7h1SOwW1aP97b8MAxyefwpniP+0pvEC6h9hv8ATbpIWtllt9XtI/Ni37hlZFbvzXS6ffx6n4hhu5fDWr2d1HBJCl1dIioqMVZl+WQ9Si9u1YnjWC/n8RWyrpnnWAtM/aI9JjvX8zefkO4/KMc/UmgDnNKvL3xD/Z16F1nUYorkXENtc6vZDdJGxwSqorcEHvXrdlLPPZxS3NsbWZhl4S4fYfTI4NeW2ujCfVtNeew1FFt7yKdTD4dit/mVsjLqchc9favWaAOdlufGYmcQ6ToLRBjsL6pMGI7ZAtzg/ia5lbrxd420jSdRt9K0SC2hvlugkmpS7nMTMu04gwPmAOeeldhqvhnTNZulub1bsyKgQeTfTwjGSfuo4GeTzjNc1qfguz0FdHm8OW+oxSR6pbeYkV7cSKITIPMyhcrtwTnIoA1fEUenHw/FqHipWhe3BzHY3swDO2AEQpsMhJAABGcniuHs3mTwLpFxbGS5vX8SRyGxublybV95At2Z8su0AZyOpJHBr1K50ewvNTtdRubdZbq0DCBnJIjJ6kLnAbtuxnHGaw/EXhlLrULDUdOsY/th1K1lu5VIUtFGTycnBIB+vbtQBm+ELrWE8P6pNaaZbTXza3eebbS3hjRP3rZw4Rt2DgfdGfatf+0vGP8A0LOl/wDg5b/4xTPDNjeWuk65HLDJFLNqd7LEG4LK0jFWHseDmuL8P6J4dtPDmm2+q/Dm8m1GK2jS6lOlo5eUKAx3Z5yc80AdZ4btPEtnr+qXOpaTp8cOp3Qnklh1BpGhVYUjVQpiG7lOuR9725ittY8U+IYNQbTbLR47RLq4s0Nzcy+YfLdoyxCoRztzjNL4C00WF14gkttIm0nTbi8je0tZYhFgCGNXIQHjLBvrV5vAul+fPJDeaxbJPM88kNtqc8Ue92LMQqsMZJJ49aAMe80p9D034daTLIssllqENuzqMBitpMCR7cV31cVqXhaDTr3w5/ZNpcMkesLPcu80kzBRbzLuZnYnGWA69xXa0AFFFFABRRRQAUUUUAFFFFABRRRQAUUUUAFFFFABRRRQAUUUUAFFFFABRRRQAUUUUAFFFFABRRRQAUUUUAFFFFABRRRQAUUUUAFFFFABRRRQAUUUUAFFFFABRRRQAUUUUAFFFFABRRRQAUUUUAFFFFABRRRQAUUUUAFFFFABRRRQAUUUUAFFFFABRRRQAUUUUAFFFFABRRRQAUUUUAFFFFABRRRQAUUUUAc7ceOvDVrcy282qIksTlHXy3OGBwR0rY07UbPVtPhv7CdJ7WYbo5U6MM4/pWN411K4sdANrYPt1PUpVsbM/wB2STgv/wAAXc//AAGtjTNOt9I0q0060TZb2sSwxj/ZUYH40AW6KKp3+qW2m+X9pE/7zO3ybaSXpjrsU4696AGab/rtR/6+j/6AlX6ytDuorxb6eHzPLa6OPMjaNvur/CwBH5Vq0AFFFFABRRRQAUUUUAFFFFABRRRQAUUVxOlaz4u13TZNTsl0SG2M88cccySs+I5Xj5IIGTsz+NAHbUVxNr4ovtTg8B3qFbddZdmuoUAII+yySbQSMgBlB/Cu2oAKK47XdR8X6JpGo6q8mgG2s4ZJ9pjmDFVBOM7sZOMfWrV5q9+uu+Eoc/Z01DzjdQYB5EBcLkjPDemKAOnornvFN59hghmPii10ONd28zxxv5vTGNxHI54HXNcXp/jLUX8W2lnL4mji01Tvmm1WwWyFyvZYA2GYn+9wB2zQB6rRVW+invdPdLK+NpK4BS4jRZNoyDwGBByOPxrE/sHxF/0OV1/4AW//AMTQB0tFc/4P1K/1jwVp+oXUkcl7PCW8zZtVjkhWIHqADxWVrWr+MPD2lSapdjQ57eF4xJHEkyuwZ1XgkkA/NQB2tFc+2o3Y+IkWmCb/AENtJe4MW0f6wSqobOM9CR6V0FABRRRQAUUUUAFFFFABRRRQAUUUUAFFFFABRRRQAUUUUAFFFFABRRRQAUUUUAFFFFABRRRQAUUUUAFFFFABRRRQAUUUUAFFFFABRRRQAUUUUAFFFFABRRRQAUUUUAFFFFABRRRQAUUUUAFFFFABRRRQAUUUUAFFFFABRRRQAUUUUAFFFFABRRRQAUUUUAFFFFABRRRQAUUUUAFFFFABRRRQAUUUUAFFFFABRRRQAUUUUAFFFFABRRRQBhT6JcXnjS01e5kiNlYWrpaQgncJpDh3PGOEAUcn7zdK3aKKACiiigChpv8ArtR/6+j/AOgJXK/EzxVe+GtMs002RYrq6kP7woG2ouCcA8dSo+maqXPiRNE8e3TXl28WnAlZRyVBKjB2jPOcDNc18YNUtL/UNNhtbmGfyEk3+U4baSV4OO/Fc2KqclJ2ep7eQYP6xjqftI3hrfTTRf8ADHqXhfWG17wzYam4USTx/vAowN4JVse2Qa164z4WSiTwFZqD/q5JVPOf4yfw612da0pOVOLfY4MwpRo4urTirJSaXpfQK4nxf4a8ZaxqsdxoHjD+ybQRBTbfZg/zZOW3dTnjj2rtqK0OM8p/4QT4m/8ARSf/ACTFH/CCfE3/AKKT/wCSYr1aigDyn/hBPib/ANFJ/wDJMUf8IJ8Tf+ik/wDkmK9WooA8p/4QT4m/9FJ/8kxR/wAIJ8Tf+ik/+SYr1aigDM8PWWpadoVraavqf9pX0akS3XlCPfySOB6DAz3xmuR8Natc+H/D76VeaBrbXEd1dtuhsy6MHnkdSGBwQQwr0GigDzXTbG502x+F1leQtDcwOySxt1RhZS5B969KrM1LRk1HVdHvmmZDptw86oFz5m6J48H0+/n8K06AOKuJ38e3cVnaRSL4agmWS6upFKi+ZDlYoweTHuALN0OMDOSat+If+R68Hf8AXa7/APRDV1VZd/oyX+taTqTTMjac8rKgXIfehTk9sZzQBzd7pV3J41KxaxpkWpywPcQs+iq8iQK4XHm7wTguB2+lQaNF4p8SWF/9q13T/LgvrizMb6SHVxFIU3EGTvjOK6DWPDc2oazbatY6vc6beQ272xaKKOQPGzKxBDqecoORUP8AYHiHP/I53v8A4A23/wARQBS8Q2MGleHI9Q1q/wBVne0CQY0ieSzEpeQIgEayBc5ZRkmsY2ZIwdA+IX/g6H/yVXbeJNEXxDocumm5e2LyRSrMihijRyLIpweDygrP/sTxP/0Nx/8ABbF/jQBneHbHT4vAc174bbVkiuLF1tbe5u5JGhKqwVUUswUgjHy+grnNHTwW2i6cL+w1271FYIWniNrqE26YAE5XBU/MPpXo3h7Ro/D2gWmlRzPOtuhXzXABYkkk4HTkmtOgDi7G9Go/Eu0uhbXNuH0OXEVzGY5Bi4QcqemcZrtKyzoyHxSmuec29bJrPytvGC4fdn8MVqUAFFFFABRRRQAUUUUAFFFFABRRRQAUUUUAFFFFABRRRQAUUUUAFFFFABRRRQAUUUUAFFFFABRRRQAUUUUAFFFFABRRRQAUUUUAFFFFABRRRQAUUUUAFFFFABRRRQAUUUUAFFFFABRRRQAUUUUAFFFFABRRRQAUUUUAFFFFABRRRQAUUUUAFFFFABRRRQAUUUUAFFFFABRRRQAUUUUAFFFFABRRRQAUUUUAFFFFABRRRQAUUUUAFFFFABRRRQAUUUUAeJeMpYZPF+o2hILMckdcDaOtecsVjhmmkcJHChd2PYD6e5Fd74is5Lr4ka7LGRi2QTOD1K4jTj8XFcJ4jiS00vV1BOzyVAJ93X+tebVj7aSclpdo+1wNZZZQqRpSvJ04z17vf80dL8PvjNpPhq3m07Uo7hrJmMsckUeXVjgEEZ5Bx+HvnjuP+Gg/BP8A1Ev/AAGH/wAVXlfhLU38O3ek6jFGrmKGNmRhkMrRjcPyJx74r6jWGB1DLHGVIyCFHNdOGnFpwX2Txs7w1SM6eKm0/aq+itr16vutep55pPxx8G6xq9ppsEl9HNdSrDG0tvhdzHCgkE4ycD8a9Iryn4xpDb3vgm5ESho9dh5UYOMgkfoK9WrpPDCiiigAooooAKKKKACiiigAooooAKKKKACiiigAooooAKKKKACiiigAooooAKKKKACiiigAooooAKKKKACiiigAooooAKKKKACiiigAooooAKKKKACiiigAooooAKKKKACiiigAooooAKKKKACiiigAooooAKKKKACiiigAooooAKKKKACiiigAooooAKKKKACiiigAooooAKKKKACiiigAooooAKKKKACiiigAooooAKKKKACiiigAooooAKKKKACiiigAooooAKKKKACiiigAooooAKKKKACiiigAooooAydX8TaLoUkcWpajDBNKNyRctIw9QoySPfFXrG+ttSsoryzlEtvKNyOM4I/GvOvC+oa5cX3iLVNL0K2vJ31S4imuLy8MDOkTlI4osI2QFUcnaNzH3Nd3oGtQeIdEt9Tt45Ill3K0Uow0bqxV1PuGUj8KANKiiqd/qltpvl/aRP8AvM7fJtpJemOuxTjr3oAz9L0qyTVNZvVt1F1cTeXJIcklQi4HPbmvnrx5pstp4e1OeUorZSBo8/MGWRc/hX0Zod1FeLfTw+Z5bXRx5kbRt91f4WAI/Kvmv4meKNNv73XNHtHlmm+3Oq7Y/lLCTkD8se+KlwRvHEVFfW91bXtpp+CNG5sdPTwXo1zCZVvooo4JwQNkgKkqw9wBg/hXq3wi1a4v/Dtza3Mzym0mCxlzkqjDhfoCG/OuCgs4rYR2OoQM8UOI5o1+UjHynGehHOKt6Gl94B+I8GmT3Y+zTyLHIynCSo3CMQemCfw55x14qkfY11U6M+mwlZZjlU8G3+8p6q/Zdvlp9x0HxwMcWn+Frl84i12DOPTDE/yr1SvKPj8CvgzSb0I7xWurwySlFztTY4yfQZwPqRXo2g65YeJNEtdX0yUy2dypaNipU8Eggj1BBH4V3nyRo0UUUAFFFFABRRRQAUUUUAFFFFABRRRQAUUUUAFFFFABRRRQAUUUUAFFFFABRRRQAUUUUAFFFFABRRRQAUUUUAFFFFABRRRQAUUUUAFFFFABRRRQAUUUUAFFFFABRRRQAUUUUAFFFFABRRRQAUUUUAFFFFABRRRQAUUUUAFFFFABRRRQAUUUUAFFFFABRRRQAUUUUAFFFFABRRRQAUUUUAFFFFABRRRQAUUUUAFFFFABRRRQAUUUUAFFFFABRRRQAUUUUAFFFFABRRRQAUUUUAFFFFABRRRQAUUUUAFFFFAHIJpHiXQ73UV0H+yp7G+uHulW9kkje2kfl8BFIdS2WxlTyRmtrw3oo8P6Db6d55uJELySzMu0ySO5d2x2yzHjtWrRQAUUUUAUNN/12o/9fR/9ASvEvgzZyX/irVdTNs3lrqVwzPtyoJHAz6/PW18R9U11fE+heHtE1iXSjqupTJNPEuSMJCF9Dgbm4yM8V2vw68Dp4B8NPpQvmvZJbl7mWYx7AWIVcAZOBhR1J5z9KAJvGWnwjwvfyQQRrIXSZyqgFjuAJP4E15v8R54dbl0qa0jLXMdsouDgc7grKM98ZOfTP1r2m6to7y0mtphmOVCjD2IxXjd5oN5YafPc3UTx+Xci3XcpG7hiSPbgc+9Z1aaqRcWdeBxtTBV416e67jvC2pXN98OvFnhu44eDTbgwsxztDRsCPoDg/jXUfBL/AJJDof8A28f+j5K5LwtHI2o+I7dFBNxokxGf7wwoH611PwO/5JJpH+/P/wCjnqaCcYcr6aHRm041cR7aKtzpSfq1r+Nz0SiiitjzAooooAKKKKACiiigAooooAKKKKACiiigAooooAKKKKACiiigAooooAKKKKACiiigAooooAKKKKACiiigAooooAKKKKACiiigAooooAKKKKACiiigAooooAKKKKACiiigAooooAKKKKACiiigAooooAKKKKACiiigAooooAKKKKACiiigAooooAKKKKACiiigAooooAKKKKACiiigAooooAKKKKACiiigAooooAKKKKACiiigAooooAKKKKACiiigAooooAKKKKACiiigAooooAKKKKACiiigAooooAKKKKACiiigDxHV7+PV/wBoXQtMtllaTTLiaW4yh2qGhUg5/ADPrivbqz9NVftOottG77URnHP3ErQoAKgu7O2voPIuoUmiyDtcZGR0qeigDyPRhs8b6rbouWeG+gRR1JDcAf8AfNYvwX+I2g6XoWmeEb6S4h1OS6eNN0X7vc7nauc8Ek46dTXSSldO+LcARuHuyG56+ZET/NhVT4u24Xx18NrlQiqusBW7EkywEH/x01nT6r+tkdmL1UJLZp/+lM9POrWo1kaVub7UYvNxjjH19avV47d63PD4ovdWs5GIMkiRykbhgghTz7YOK9P8Pag+qaDaXkv+skTDnGMsCQT+YrQ4zToopk0sdvBJNKwWONS7MewAyTQA+iuU8FeILzXFvxeFSYnVkwoGFbPy8emK6ugAooooAKKKKACiiigAooooAKKKKACiiigAooooAKKKKACiiigAooooAKKKKACiiigAooooAKKKKACiiigAooooAKKKKACiiigAooooAKKKKACiiigAooooAKKKKACiiigAooooAKKKKACiiigAooooAKKKKACiiigAooooAKKKKACiiigAooooAKKKKACiiigAooooAKKKKACiiigAooooAKKKKACiiigAooooAKKKKACiiigAooooAKjnnitreSeZwkUSF3c9FUDJNSVieMpjbeB/EE4AYxabcOAe+I2NAHDv+0D4IV2UNqLAHAYW3B9+Tmk/4aD8E/8AUS/8Bh/8VWj8FbWNfhLoheEB389juXk5mfB/LFd/5EP/ADyj/wC+RQB5f/w0H4J/6iX/AIDD/wCKo/4aD8E/9RL/AMBh/wDFV6h5EP8Azyj/AO+RR5EP/PKP/vkUAcBoPxo8J+I9ctdIsTfi6um2R77Y4zgnnBOOnXoO+BXodMWKNDlY0B9QKfQAUUUUAFFFFABRRRQBz95428OWF9PZXOpolzAwWVBG7bDgHBwCOhB/Gtu1uYb20iurd98MqB0bBGQeQcGuOt4vE3h/UtfntNCttRtr3UDdoRfiKQr5UaYClCCcxnqw610+iava6/o1rqlnv8i5TeokXDKehUjsQQQfcUAX6KKp3+qW2m+X9pE/7zO3ybaSXpjrsU4696AGab/rtR/6+j/6AlX6ytDuorxb6eHzPLa6OPMjaNvur/CwBH5Vq0AFFFFAHkfjYSW/jSW5RikimOWN1PIIQDP6Guc+JF1dXfhzwJeyyNJJFqjI0jHJzuG3PrwP0rrPiLbeV4jin3cT268e6kg/zFeZ/EmO80aCytruOZUtr9JXA6DAPI+uamKNasm7K+ll+R376TPB4K+2yxlRJdoyEnqm0jP5kV2nw/voZ/D4s1cedbs25O4DEkH+dWNDttP8Q+A9LVsyWk9rE6kEqegP86zfD9lFpHj3U7C3UrAbcSIGbOOVOPzJ/KqMjq9U1GHSdNmvpwxjiAJCjJOSAB+ZFZmoajBqXgu8vIThJbRzgnlSVPBqDx5NHH4VuEdwrSOioCeWIYH+QNeeQ39xon9o6YWDwToY5AB/Fjgj0/z7UAO03WLvw/b3kMAKTXUcbJKP4B16Ec5BIr1nSLp73RrK6kIMksCO5H94gZ/WuNvvC9zrfh/QpLIwq8dsA/mHBIIBHOPr+dbHgK8e78Mojgf6PI0IPqMAj/0KgDp6KKKACiiigAooooAKKKKACiiigAooooAKKKKACiiigDK1/XIdAsUuponlDyiMKhGecknn2B/SvnrQ7/xP4s+Iuo6db+Mb/R/PIdSoLqzlQdu0MAOAcH2Ar0D4r+LrbTpFtbklYLd1yVGWeRlyAPoM/rXlHgrUjJ4k1bV7TeCs8U0BK8naScflgY96zn/N2OvCtNuk9pb/AI/gm036HrP/AArPx5/0VK//APAZv/jlH/Cs/Hn/AEVK/wD/AAGb/wCOV6tHIk0SSxOrxuAyspyCD0IqK9vbbTrOW7vJkht4l3PI5wAKu/U5VFt8qWp5d/wrPx5/0VK//wDAZv8A45Wdq/g3xfolsJr34ragoYkIq2rEsQM4H7z+fFexWV7a6jZx3dnOk9vIMpIhyDXnXxKv4W1G0tfMXdbxln5+6XIwD7/KPzFF1a5Xs58zjbVHFeKtO8ceEvB6eKofiJf30avEVgeArncR1yzA+4xzXvltKJ7WGYHIkQMD9RmvHPHx+0fs9zMX5gmjz/3/AAAPyYV63o7rJolg6MGVreMgjoRtFMgu0UUUAFFFFABRRRQAUUUUAFFFFABRRRQAUUUUAFFFFABRRRQAUUUUAFFFFABRRRQAUUUUAFFFFABRRRQAUUUUAFFFFABRRRQAUUUUAFFFFABRRRQAUUUUAFFFFABRRRQAUUUUAFFFFABRRRQAUUUUAFFFFABRRRQAUUUUAFFFFABRRRQAUUUUAY/izUJ9J8Ha3qNq4S4tbCeaJiMgOqEqcHryBXj3h3wR418c+CrbUbv4h3kdvqULiS1aEyLsJK4J3jOQPTviuu+MHjvR9A8Oah4fuJJDqepWEghjSPICtlAWPYE7vXpW98PETS/hl4fW622wFlGW80hcFuec9yT+tA0m3ZGp4X0OHwp4W07RVuTMlpGIvOcBd7E5PHbJPA/nWzXzx4817UdT8V39s93Mba2uTFDArEKpQlcgeuc89ea6f4aeNNYvfEEej6heG6gmjcoZuXVgC3DdT34OegxjFcccbF1OSx9JW4ar08H9aU09Ltdla/z/AAPYKKK5238caFc+IZNES6IukYpucYRnHBUHuf8ACuqUoxtdnz9KhVqpunFuyu7dEdFRRRVGQUUUUAFFFFABRRRQBzt+/jI3M8WnwaEtuzYhuZ55d6L6tEEwxH++Kv8Ah/Ro/D+g2mlxStMIEw0rDBkYkszEdssSce9adFABRRRQBQ03/Xaj/wBfR/8AQEq/VDTf9dqP/X0f/QEq/QAUUUUAeS/F+5ls9T0qWMD5oJVyRx1X/wCtWN49vJdT8C22rysTPeaVIk7DADsnBOB781r/ABr/ANdov+7N/wCyVyOkTjVvB3iDSr0M8enaReXlqwbGw7OVI7jJDduQeua4I1nHEuDej/4B9ZWy+NbI6eJhFc0b3fW12j1j4TyPL8LPD7OckW238AxA/QVX1yabS/iHp10uUiuUSJ3x8rAtgjPt8p/Km/BmZp/hJoLsACElTj0WZ1H6Cr/xEQnw7FIDho7lWBHXow/rXefJlD4mSkW+nRdmeRvyCj+tYXibw9qMF3dagbf/AETKfOpBzlRzjr1rR1+/sfF+p6Lb2krgM7JICnzJnb2+gP5V6OAAoXsBigCrpcJttJsoCCDHAiEHrwoFcl4H1KOG9v8AR2VjKbiSYOPu4GAR+ldxXDR2EGlfE2FYWbbdwvMQezHfkfT5aAO5ooooAKKKKACiiigAoorkfiFdzWujW3kTSRO1wMmNipICn0/CgDrI5Y5VLRurgEglTnkdRTq4X4aXIayvrXukiyD33DH/ALLXdUAFFFFABRRRQAUVWGoWh1E6eJl+1CPzDH32+tcf8QfFNxpDWWl6fKYru6JeSQAZWIZ6ehJ7+xqZSUVdm1ChKtLlj2b+SV2eJ/EqSTXNRs1icSNfakfL3HghiQoz6YIFek3PgG90XwpHdzyxz3sMzyTiPJxGwRcA98bAe3VvTnhfAHhC78e+LL+8utWeCw0PUYmS2EWRIFZsKDkbcBQM4P3q+kLu2S8s57WXPlzRtG2OuCMH+dR7NPV7nT9dlFOnBWi9+9tf8/wR4vafEvVNC09NLttPgl+zMxMspY5UsW6DGOCBn2re+Imv2+s+GdHtrK4QrqLiZwrBiEUHIP8AwLj6qfSuZvtPmsdQuLGVN0kLENtGcgc5+mOfpWJo1jLPqwgMhYRsLeHfk7dzZ49ByT+JrnnCaag3dS/D+keth8RhZ05YiMOSpSV+/M2rX8rSsz0b4R3jRQapossgJt5FmiB6lWGDj2BA/wC+q5DxxM99rmszW6PIv2naxVScCNVQk+wKdagljudO165SGZkBie2lKNjcFcZB9sgflW74V07zbTX9hIjTSp4iSM4MnIP/AI61Nwfs3Dor/wBfcKOJp/XIYh6ylyt9rrf5uST26mb4nkEnwH8RxiRS0d1A+3PIUyRAfrmvYfDBz4T0Yjp9hg/9FrXj2iaRbeL9G1HQZ737Kl/ZACZQG2SI6SDI7gbeRxxnkda1Pgrquppq+v8Ahm71SbULLS0gWzeVNhRMFcAZJAwFwMnGPc11xaauj5+tCUKjhLdafcexUUUUzMKKKKACiiigAooooAKKKKACiiigAooooAKKKKACiiigAooooAKKKKACiiigAooooAKKKKACiiigAooooAKKKKACiiigAooooAKKKKACiiigAooooAKKKKACiiigAooooAKKKKACiiigAooooAKKKKACiiigAooooAKKKKACiiigApruscbO5wqgkn0FZPiLxNp/heyjutQMuySQRqsS7iT19uMCue+KOvTWPwl1XVtKuQrywRCGUDOUldFJGfVWP0qeZNuK3NXRnGEask+V9fTc4LRdfTxr+0LYagLMRw2umSIiuQzBRv8AmPufM6e9bnxpu5AdIs1ciMiSV17E/KAfw+b86474E6S48cSajdXTTSnTWKgjoSyd888E10XxEV/EHxKstFjdU2rFBuxnaXO4k/QMOK4q8+bD2Tu3ofUZXhVRzfmlDkjFOVnrZWsu/c5nwZolxrWvxz+XvtbNhcXUjn5QoOec9c46fX60ukRjTvHOimBmjU3UOSGOcFwCPoRn869ITwdD4L8Ha4y3b3Ml1sUsVChVD4UY9fm5rzDUbiaw1Oyv4QN8Dq6bhkblbIzWToeyoc0lre53wzZ47NHRpS/duLS6X0vqn5/gfSjEKpJ6AZr5RuJ3ubmWeTG+Vy7Y9ScmvafiN46k0ezi03TwVu7yASmY4IjjJxwCOScEe1cP4P8AD8GteHNfjFuk2ptErWasMMNpyxU9Mngf/rNPFv201Th0uRw9H+zsLPF4jRTcUu+9r+mt/RM9a8BatNrXg2wurk5nVTE7f3tp2gn3IAJ9810leS/Bm/nMmp6bJKxiRVlSNv4TkhsenavWq7MNPnpJnzWdYZYbHVKa2vdej1CiiitzywooooAKKKKACiiigAooooAoab/rtR/6+j/6AlX6oab/AK7Uf+vo/wDoCVfoAKKKKAOD+JXhLUvFEemNpvlM1s0gdZH28Pt5z7ba860WzGleKPEWiuvmNJY3tnGhXJlO07QB3yF6d819A14h8QpI9D+J9rqSQZ2+RduqtjzCrc/TO3FcGJpxhJVlvdH1mR4uriqM8tl8PLK3re+pufATX7HUPh7Bo0Lt9u0tnFxGykYEkjupB7jBI+oPtXd+J9Km1jQprS3KCUsrLv4Bwa8j+F/imyuPi94ojhtpI01l0ki3EfIyKzEH65b9PXj3Su2MlLVHzFWjUovlqKz/AMm1+aZ414TVk8WWCsCGEpBBHIODXstcNfRbPipYsRxJFuGf9xh/Su5qjIK5HXiLPxzoF4wGJQ0Hvk8f+1K66uT8ckW8ek35B2214pYjsOv/ALLQB1lFQ2l3Bf2kd1bSCSGQZVh3qagAooooAyn12BPEaaMyMJXi8xXJGCefl/IZrVryjVNR8/4hrcY2LBeJEeeyMAT+ODWjF4tlbx0HupjFYoz2+xSduMkBiPXOOaAPRq5Lxntl1DQLVgriS8BKEZBAKg59ua1dA1ttaW9YxLGILholKnO5exrK1Imf4j6TDgFYbdpD9SH/AMBQBDpctrpvjzWLdnht4TFHtBwqjhMAdv4uldnXmvxG0901OC+SFvLkiCyOF43A9z64I/KvRoJFlhR1bdkCgCSuM8X+IrnTdY06zt3aJcrNK4P3lLEbfpwf0rs68z8eQ/afEEuM5gsVfH/A+f0Y0AemUVR0WQy6Fp8hxlraMnHrtFZlh4lFzq+sW0yxpb2AJDgnOFyGz+IoA5K91+LTfiHdX53TwqPKIjI/uAcfiK4/4keLdKh8YC6uWkx9nijg2rkhSu8k/wDfzH51m6jq/k323AYk7pPbPPH60zww0WofHTw2BmZBBLIzHnGIpQAfTG1f0rHnhUnyp6o9L6tiMLQ9tKLUaisn5XX3XS+aZ3H7P8GfCmsagInSO71SRomcEbkCrgj15LDPqD6V63SBQoAUAAdhS1sea3cwrjwtaXOr3uoSSSeZd25gK8YTK7Sw98Afr+HEfD/ShJ4imkubba1shZgw+7LkAZ9/vflXqlZum6JbaXe391Azl7yTzHDEYB5OB+JNKxSlZNHlV34d1HVvEuqabbRiKZ7iZ90hwEjZyQx/Bhj6ivULPQ7XSPD8mn2kQwYSHY5Jkbbgkkk9a1sDOcc+tLUqCRtLEzkrdL3+Z80eH2cR3ABIAI6H1B/wp3hDxnpfgX4ma3c601xHbXlvEkbRxFhn5eSPQYbkZ71p2GhFPiDdeH7d+szxxs3HC/N/6CDWj8QLY2ngjxrpJjRmieC5ix1C+dGSf++WFYYN/urPpdHqcRRX191I7TUZL0a/4B7bBPFdW8VxA4eKVA6OOjKRkH8qkrE8GTG58DeH52ADSabbOQOgJiU1t11HhhRRRQAUUUUAFFFFABRRRQAUUUUAFFFFABRRRQAUUUUAFFFFABRRRQAUUUUAFFFFABRRRQAUUUUAFFFFABRRRQAUUUUAFFFFABRRRQAUUUUAFFFFABRRRQAUUUUAFFFFABRRRQAUUUUAFFFFABRRRQAUUUUAFFFFABRRRQAUUUUAeQ/GbU7eSfTtMRibiHdNIOyhsAfjwa43xv8AEzRtR+FSeEoluP7UWO3iceXlAI2U/e9SFB6d8Vc+J03m+P8AUBxiMRIMf9c1P8ya850aaVNV1pEkYJIyq6g8MASQD+IB/CvLVblrVJvp/nY+7qZYq+X4TCxdnJ3v2vFyZ6l8GiIvFnlkEZsWUD0wUP8ASrPhu6n8RfGMX8kYGJZHYLnCqiFV/koqt8JCB41yeB9lk/mK1fg0Gl1vVrh2y/krn3JbOf0qKN5KnHzb+46sxUaM8XVS1VOMf/Arr9Ed/wCO5AnhO4Un77oo/wC+gf6V5B440o6TcfZdxcKyMCR2Zc/p0r1bx5+/stOsAxDXN4q4HcYI/mwrkfi3apHcLMqkGWFdx7EhsfyxXo4hXpSXkfGZPU9nj6Mv7yX36fqcb46vWvfEMZJB8uzt1BHQ5iVv5sa6HwJqNtol9bXFy5WHyCGIXJyRnoPesbwRpkPiDxL5urRiTTrW2zcMxKoFVNiAkYweB9cV2FnoSaj4IuL/AHCOW3nllUKvBXauV9ulcuCi5SlVfU97iavClSpYCO8Um+21v838zI+Ht7Bp/wATb+2Lny7nz4Iip+UsH3An8FP517ZXzzpOLLx9os0S7fNuolYA92YKT+tfQ1a4VOKlB9Gedn8oVpUcTD7cF960YUUUV1ngBRRRQAUUUUAMmmit4mlmkSONRlndgAB7k04EMAQQQeQR3rznx2x8UaP4it0JOkaPY3DTEdLi7WJiqe6x8Mf9vaP4TXd6T/yBrH/r3j/9BFAFyiiqd/qltpvl/aRP+8zt8m2kl6Y67FOOvegBmm/67Uf+vo/+gJV+srQ7qK8W+nh8zy2ujjzI2jb7q/wsAR+VatABRRRQAV478ZtLZNS0/VQ2UliNuy46FSWBz77j/wB817FXM+OfCz+LNES0gnSG4hlEsbOMqeCMHHIHP6VhiabqUnFbnrZJi44THQqTdo7P0Z8vaNdT2HivUJrWeSCdQpSSNirLkYOCOnWvqTwJqlxrHgzT7y7k8y4YOjuerbXKgn3wBXzR4xsYPBfxI1KwmMphEMGyXyyBJmNCzD23bumehHavdPg3eGfwtdW5fcIbolRnorKD/ME1z0lKFZRl1X4pI9fMJ0MVlkqtOzcZt+fLKUrffc9Be1ge5juXhjaeMEJIVG5QeuDUtFFd58kFUNZ0uLWdKmspWKhwCGHVSDkGr9FAHL+AZ/N8LpH3gleMj053f+zVd0rxLb6nfahb7BCtpIEEjuPnySOnbkfqK4G7vJ9P03U7a1nkhaLVuTG204w4HT/c/SudaWYRsGZtsxDtz97BPP55oA97orivEWttF/wjc8NyY4ZZRJKyPgYGzIOPZjXZpIkkSyo6tGw3KynII9QaAPKrrTUudN1/VV3edDqGVPcDcc/+hD8qwriwuY7G31GTBiumfaR1yp5z6V2mgQvdfD/WWKZeaSVwBznCqf5it/wlZq3g2zguYQyyI5ZXHUMzfzBoAw/htcoY9QheUeazq4QtyRg5OK0LRxd/Em8dMsltaCMsOgbI4/U/lXJ65oWo6Hqt3f2UTwWkEgaKZGxtDdAOcn0NdP4IkFzqfiC7VgyTXIKnPbLn+RFAG54l0ybV9BuLO3KCVypXecDhgf6VxvhbWI/DN3f6VqQYFXZ96cgFVJP5gcfhXpFeVePNLuLbXZr7yj9ln27ZAON23BH1+UmgCpe+KNcv5J3W4lSFHE4RPl8tc4XkYyPmX68VvaJaDxRP4ivJJGLzjyYGb+FScjj/AICn6+tdNpmkW83hi2t57dBJNZJFIxQbgNucfgTn60eGPD58PWMsDXAmeSTeSFwBxjFAGX4FvbhdOv7S+kbdYybCrnPlqBjH0G01wct5fQi7vCpSPVA43A4yN4Lfyx9Ca3/GJm0LXrhrBjFHqNufOHBDEkhvoe+fc15lHqSxXl6ZG68J+GQKyqVY02ubqd+Cy+rjIzdJXcUnbvdpf5v5GrpNlIvh3xP4qmtY2itLOQWjzKGVZ+CpAPXbx1GDnFdH8LPh/fHUNN8fatrst7dXdluSFodpG8fxPk7uCew6iuW8ReMtL0r4NHwrvm/tjUIvNWMRkqqG4/iJ6ZVTjGe3qK9x8H2cmn+CtCs5kKSwafBHIpBBDCNQeD05zUYaCVNPq9fvN85xEqmLnTXww91LpaOn6G1RRRXQeSFFFFABRRRQB4B45e70P4mXF+ibZFmjuoCw+VwAMfUZBB+hqE6ndeJtH1ZNUuWae+t2tjMqKMEFWUkDA/hArc+M8O3xBp0+379rsznrhyf/AGauQ0FmMc65O0FT+Jz/AIV5dJuGKcOjv/mfdZhThiMhhiGlzRUVfro+U6z4Katq8HiPV/Ct7qcl/ZWFpE9uZFx5XCjavUgYbGM/w17WSACT0FeFfCEY+LPicf8ATlGf/QK9p1e7Nho93dKoZoomYA9CccV6h8KYfgbVrrVdLuWvJzNMk55OMhSAcfTOa6mvE9E1S7sL+2SG4eKFrhGkVWwG5xz6jGa9soAKKKKACiiigAooooAKKKKACiiigAooooAKKKKACiiigAooooAKKKKACiiigAooooAKKKKACiiigAooooAKKKKACiiigAooooAKKKKACiiigAooooAKKKKACiiigAooooAKKKKACiiigAooooAKKKKACiiigAooooAKKKQkAEnoKAPA9JbTtQ8d6ldatEk9nPczIwkzhQ5Ybh6EDp6exFebWVpLaeIvEMDo4+z3hhYsOhDOMH34P5V00WrW2l6bcahfyEK8235RksxGcAfnXffBGaLWrnxlqvkM1re6t9ohaWPgklmHtkbl+mRXBToKpQ7N/wCZ9XjM1ng81u/ejTskr/3bfqzjvDOtSeEtekup7V2kWF4jCflOSOM56c4rt/gouZtafA4WEZ+u/wDwrhvG3/I7ax/19P8Azrp/h7qc2h+HNa1C3VWmeeCIBxlQBvP9TXLhrquodFc9/O+SWV1MRa0pqF/vT/VnV2TXetfER3l8yW0sp5NuclI9owMdhkhTUXxYtHltLWbB2bJEJ9DwR/I/lW54A3y6ReXcgw1xdu/14H9c0z4hssek2UrRiQJdqSp6EbWOPxxXsSXMmj85o1HSqRqLo0/uPHNCV4rKU/MolbkdNwHT6817VoGkXA8CtYSr5U9xFKAH/h3Z2k4/A1w3hzwy3iCe4EQa0tIx8jhdyqcjCcnn5c/p616+iCONUXooAFRSh7OCj2N8fini8TOu1bmf/DHht7o8+j+JtOS7Qefb3UEg2nhlLr0Pp/UGvdK4vxZY203i3w+8sQYyybGOcZCsGUfgWP512lNRtJvuRUrudGFNv4b/AHO2n33+8KKKKs5wooooAKKKKAOC1b4dRR+E9U0/SdS1nfJaziC2N+RG8jqxwQeMFjzn1Oa6rw/pjaRottZvPczOiDc1xL5jA4GRn0HatOigAooooAoab/rtR/6+j/6AlX6oab/rtR/6+j/6AlX6ACiiigAooooA8p+P2jC++HsmphkD6fIhORyyu6KQD9dp/OsD4KatPb6qunEHyL21WQhhyGVcg/iCfrxXrvirQI/FPhfUNElnaBbuLZ5qruKHIIOO/IHH8q+Y5LbVfh78TrbS21WW5FoUIlC7MqFyABk8YAHXkGuWvGzU101/D/JHu5VX9pCeFmrqaUV5Pm0b/wC3mfWlFFRXM621rNcP9yJC7fQDNdR4aTbsiWivPPh/49v/ABRrV7ZX0MKKsRnh8oEbQGAKn1+8OfY16HWdOpGpHmidWNwVXB1XRrb/AOZ4/wCKYJB4svrOFSxmnRgo7sygj/0I1NcaJKI/DlpdRywyXLtG6kfMoMg5x24bNbGu2Rk+JenhR/rDFKfcKTn9FrvZbaCaWKWWFHkiJaNmXJU+3pWhyHj97orx+Jv7BinJQThY2ftuA5OPbH5V3HgmedfD95b3L7zZzPGAOwABx+eayrq3cfFeE7eJCsi8dhHyf/HTV3w9MLaDxSDgLDcStyf97/CgC74AQL4WjIz80rk/nj+ldRXOeBQB4StSB1aQn/vs10dAGJ4ug+0eFdQQdow//fJDf0rD+GqAaZevjkzAfkv/ANeuzngjubeWCVd0cqFHHqCMGqWi6NbaFYm0tS7IXLlpCCST9AOwFAGjUNzaW95F5VzBHNHkNtkUEZFTUUAFcr4s8c2fhO7sbe4t5JjcEs5QgeWg43e5z29jzXVV4L8WNRa88ayWxXCWcKRDnO4kbyf/AB7H4VzYqq6VO8dz2shwEMdjPZ1VeKTb/L82j1TxzaWlx4Wur2baHtYjLFJjnP8Adz/tcD8q+dG3H94QcMTzjgnv/Our1L4g6rq3hb+w7pISpKBp1GGZFwQCOmcgHNXvE3hLyPg9Z69bXAjuLW2aaQFfviRuMe4yK4q0nipJU+iPpsupRyGjKeL3nK2muiTa+9/mWvA1sqfHe+tXj5sfDtvGSRkFtluc+33j+Ve3V5f8JfBt5YRnxjqmtTajf63YwORImCilVYAsSSxwFAPHA/L1CvVSsrHwVSbnNzfV3CiiimQFFFFABRRRQBwfxF8F33imTTpbCSIPCWSQSHHytg7vwx096434U6Va6vcajDdK5ERhmUq2OQW4Psc17dXjHguMaF8XL7SowyQyNPCiZONo+dc568LXDVgoV4VF1Z9Tl+KqYnK8Rg5bQjdeid2Zfw1YWXx58SwSSCKNbAoVZsDcHgAH15I/GvSfHevCytW0oQFmuoSTJvxsGfTHPQ+leN6zAtt8c/EIXgvCXPPclDXr+rafBrXxBtIJ93lR2iyMoOM4YnH613HyxRvfClvaeCI75YnGpRRrMzjIPJBIIz2B/wDHaoeIPGLavo9raQ+bFIRm6OcBj0xx1HevUyAQQehrxC+0a+sNRNjJbuZjlkVRuLKM8jHbg0Aev6DKZ/D+nSMxZjbx7mJySdozWjXP+CZGk8JWRc5I3qD7BziugoAqzajaW9/BZSzqtzOCY0OfmxUdnq1rfX97Zwl/NtGCyZXAyfT8jXDePLgw+KtNYHb5USSBvT5z/hVzwdfR3fi7W5I3DJMWkRsYyofg4+hFAHdMyopZiAoGST0Aqlpmr2WsQPNYzeYiPsYlSvPXoaNacx6FqDjGVtpCM+ymvHLHWLvToPLtZWj/AHyS5UkZK54PqOelAHc+C9Ve61/WYpJmYSyGaNWbOMMRwPoV/IV3FeV+GdPl03xDolxOjxtc+b8jjBAwwHHvmvVKACiignAyaACimRyxzRiSKRXQ9GU5B/Gn0AFFFFABRRRQAUUUUAFFFFABRRRQAUUUUAFFFFABRRRQAUUUUAFFFFABRRRQAUUUUAFFFFABRRRQAUUUUAFFFFABRRRQAUUUUAFFFFABRRRQAUUUUAFFFFABRRRQAUUUUAFV76XydPuZcgbImbJ7YBqxWb4il8jwxq0uN2yzmbGcZwhNKTsmzSjHmqRj3aPlTxZA/wDwh1qVUnffLjHqVcD+VfSumeJITdafp0cQMb2InaUHoQORj8DXgPiaL/ihrFfXVLX9UmNdvpd28V4WMhGLWeMHPrG+B+ZrOiuWnFeR1ZlU9rjKs+8n+Zi39pNr2v2FsX2zXtwUaQjOCzDJ98ZJrr7zw4fC3gVLGW5inupNQEkxiPCHyyAvr0weQOtHgvQodQ8TQ3Fw7A2KC4RV/iY4xk+gzVnR9Hutc8VXV0p22UV6ZpGblXIckKPU4P4A/nMaKVV1Hv8A8A3rZlOWBp4OL91Xv68za/A7PwZbtb+FLJXXazBnPGOrEj9MUvi3RZ9c0YW9syiaOUSqGOA2ARjPbrW7RW55Rj+GNHOiaJFbOAJ2Jkmw2RuP/wBYAfhWxRRQBUu9NtL64tZ7iEPJavviJJ+U/wCQD+Aq3RRQAUUUUAFFFFABRRRQAUUUUAFFFFAFDTf9dqP/AF9H/wBASr9UNN/12o/9fR/9ASr9ABRRRQAUUUUAFfPnx+ig0/xl4e1VoiokgkjkkC8NtPH1I3flivoOvHf2iowfBllL3W52gfXH+FRUScbPrp9+h1YOUo1lOLs43l/4Cub9D1fS7gXmkWVyDkTQJJn6qD/WsvxvdtZeCdXmQgMbcxgk4xu+X8+af4MJbwL4fY9Tptsf/IS1nfE0gfD3Uwe/lAf9/UqajtSb8jXBQjPH049HNfmec/B9wnjKZScb7J1Hv8yH+le518x+GvEE/hnWU1K3iSV1R02OSAcjHOPQ4P4V9G6LqketaLaalEhRLiMPsJyVPcZ9jXLgKicOTqe9xbhKkcSsRb3Wkr+auXtqlgxUbhwDjmloorvPkiE2tu10t0YIzcKuxZSo3Aema85un+yw+M1QnLzx8/70jZ/ma9MryjxbNJZa5q9oYzsvDFIGJxwBnj15yPwoA9H0K1Sy0GxgRdu2FSRjHzEZJ/MmtCmxp5cSIOiqBTqACiiigAooooAK+bfF88mr+L9bvI0+SKU7jnoqssYP4nb+dfR08y29vJM5ASNS7E9gBmvH/hBZR3+o61cXUaTAwrE4dQQwdiSCPfZXFi4+0lCn3ufT8PVlhKVfGtX5VFfe/wDgHM6H8P8AXPEFjb3tksAtpmdfMkkxs2nHIxnk5xjPTtWz8W/Fuh6P4Dufh8lzNPq8dtaxHZFhV2tG/wAxzwSozgZ6ivbYIIbW3jgt4kihjUKiIMBQOwFeVeF4FuP2h/Gt00at5VnBGG9MpFx/45+la0MNGjtucGa5zWzFpTSUU3Zf5noPhO0ew8G6HZyBg9vp8ETB12kFY1ByOx4rYooroPHCiiigAooooAKKKKACvHVxB8fepAMp/wDHoP8A69exV4v4vuF0D4w22qTMRCzQTOcZwmNjcfRTXJi9FGXZo+g4eTnUrUlvKnJL10MTxVYySfHbXZEHCaZHORg8r+6U/qa9L0C+TVPG7XMbblGmr16qfkyPrkmuXE8Gq/tATfZZkmtrzw4UDoQQyk/4iur+HVgIdOurqSErM8xiyy4O1QOPzJ/L2rr3PAaadnudrWVf6Paz341Vlc3UNu8SYbjBB7evJ/P6Vq02T/Vv9DQI5zwH/wAipB/10f8A9Crpa5b4fsW8MKD0WZwP0P8AWupoA8v+IoZ/EUZCkhLRSSB0G9uv4mqXga+Fl4miDsixzxtE7OcADG4fqoH41r61ALrXfFDOu4xWibSei42H+lU9W0hB4F0q/ht8SIT5rIvVWz8zfkBn3oA6fxP4m01NL1OwinWW7EZjKDOASdp5xjIz0rIsPh+Jn0+4uH2wNEGuYSSG3Y6Ajt0z+P4cVLZXKW9vdOpKXRYRnOSxU4P6mvdwAAAOgoA5HxORB4m8MsMgeeyAD3KD+tddXH/EOH/iT214jsktvONpHuP8QK68EMoI6EZoAWqOtOY9C1BxjK20hGfZTV6uB8Z+Kri2vLjSbYQtC8Hlykglgzde/pj86AMPSPEk+j+GJ4bWZVuftalVYA4QrzgHtlQPxr1iNxJEjjoyg14jcaTLC9qit5jXFr9pAA6DDEj/AMdNeueG7z7f4dsbg/eMQVvqvyn9RQBqUUUUAFFFFABRRRQAUUUUAFFFFABRRRQAUUUUAFFFFABRRRQAUUUUAFFFFABRRRQAUUUUAFFFFABRRRQAUUUUAFFFFABRRRQAUUUUAFFFFABRRRQAUUUUAFFFFABRRRQAVi+L3Efg3WWJxmylX81I/rW1XG/FG+ey8D3KpgG5kSDn0JycfgtZ1ny05PyOzL6bq4ulBdZL8zx3XrQz+DtEjJCibXbOLOM4/dyf/FVqgspJGQehqv4jh8rw54UOOG8SRge4CqP8a99OmWDMzGytiWcSEmJeWHRunXk81cVZJHPWnz1JS7s8wfUbrw1qkrxfJcSafAgVl+622POR6ja1dZ8PAx0G4lfGZbp24/3V/rmqvifwjeaz4king2JbSRqJZSeVIPPHfjGP6V1Oj6VBo2mxWUBLKmSWbqxPU0zMvUUUUAFFFFABRRRQAUUUUAFFFFABRRRQBUl1XTobtbSW/tY7luFheZQ5+gzmrdcJ4yn8K6RDeJqHhRr57lDJLJHpv7ti2Rl5yAinjli2R1ro/Cdnc2HhHSLS7u1u7iK0jV51fcHO0chu49+/WgDYooqvc3sNpt84uN2cbY2fp9AaAINN/wBdqP8A19H/ANASr9ZmjzJcG/lj3bWujjcpU/cXsea06ACiiigAooooAK8i/aHB/wCEDtzjgXS8167XlX7QCb/h7GNpP+lqcD2VjUVPh+78zqwabq2XVS/9JZoQ+MYvC/wo8NXRjWS8uNNt1t4SeCREuSfYZH5gVzXiv4m2viPw1NpcenTQyTIjM7OCFcOCQPUYHXj6Vzmvanb6j4H8ELbPvSHSwjHGMOuI2H4NGRXM15eKxE1NwT02PuciybCzw1PFVFed3K9+z0/K5oX9kbfT9LudmFuYHbd6kSup/QCvbPhVqcd94LhtgT5tlI8TgnsSWU/TDY/A1BpHhXStW+G+lLf2gleG1eWFgSpUvlux55IODxxWJ8FHONbjLHH7hgP++8/0q6FN0qsf7y/Q5s2xdPH5fWVnelP85NL8Ges0UUV6h8KFcR8QrcTNpGVLZmaPjvu28fpXb1S1DS7XU/s/2lGbyJRKmGx8w/pQBdooooAKKKKACiimu6xxs7HCqCSfagDgfix4gn0nQYdPt8B9R3o7+kagbgPruA+mak+Emnx2vg4XYH7y8md2b2U7QPpwfzNea+LPFc/jnU7KFLRYBHI0cA3ZLbyoGffgV7/ZWVvp1lDZ2kSxQQrtRFGABXDRl7WvKonotj6rMqTy/KqWEmrTm25fLb9PuOW+Ket33h34b6vqemz+ReRrGscmASu+REJGe+GOKx/hV4KvNDhuPEmqavLqGo63bwSy70x5fy7sE5O484zx0rk/i/8AEzw3rPhPVPDGm3Ms+pG4SIqIGC5SQFsEjnlce9e0aRB9l0Wxt9hTyreNNp6jCgYruPlS5RRRQAUUUUAFFFFABRRRQAV4h8ZEK+LbR9p2tYrz6kO//wBavb68e+NNsy3+k3XO14pI/YFSD/7N+lcmNV6LPoeF5qOZRXdP8r/ocv8ADi8B+LmiQptONHmhf2/eSv8A4V9E18peF/EFn4S+Jum61qolTT/s0sTSqhbB2t0x15K/TcK+l9P8R6dq3hpdf06U3Fi8LyowUqWC5yMHoQVI/CtMO/3MW+xxZxTtmNWK6yf46mtQRkYNcd4C8aS+L4r4XFrHBNbMv+rJIZW3Y69xt5rsa0hOM480djjxWFq4Wq6NVWkv+HOS+HT7/Dci4xsuWX6/Kp/rXWEhVLHgAZNcp4F/dafqUbMB5d6+fbgf4Vb/AOEo07UbPVFs5Gc2ts0hYrgMMHpmrOc5/wABN/aOo6zNOodZgN6vzncW4OetdlqWnLc6Fc6fbqkYeAxxr0VTjjp0HSsfwHZwweGYbhIlWa4LGR+7YYgfpXT0AcJceFL9tA0K18pWuLacmbaw+RXbJ+uOOld3RRQBj+J9Ll1fQbi1gI83h0B/iI5x7ZrO8Eajc3Onz2F4AJrBxDjuF6AH3GCK6muH0u/i0r4gapYyYVb2RSrE4+fG4D8dxoA7iuK0fT7PUvGmuT3VusrW8iiMPyBwQTjoeneu1rkfCO5te8Syk5Bu9oP0Z/6EUAbdzoVldalBfOhE0ETRIFOF2kEcj2yfzrl/CPiC00zwtOLpnDWkuGQL82GPGPxzXd15P41h/s7xDdxwKEivIkkZAMDr1/NSfxNAHqyOskaupyrAEH2p1UNDk87QNPkJyWto8/XaM1foAKKKKACiiigAooooAKKKKACio55o7a3knlbbHGpd29ABkmoNN1K11azW6s5N8RJGSCCCO2KALdFFFABRRRQAUUUUAFFFFABRRRQAUUUUAFFFFABRRRQAUUUUAFFYHirxC3h+zgkhSOWWSUAo5x8vJJ/TH41vAggHPXpQBx3iHxncaHrxtFto54FiUlSxVtx5689vauttbhLu0huY87JkWRc+hGRXnN1olz4t1jWb2GVY/s8nlRKRkSbRjGe3QH8a6zwbqAv/AA1bDGHtx5Dj0Kjj9MUAb9FFFABRRRQAUUUUAFFFFABRRRQAUUUUAFFFFAFbUL2PT7Ce6kwRFGz7c/ewOleKeN/F03iO30vTnVYyspknRV+Vm6IQT2wW4/8ArV1XxInYavaRBmG23LY/3mIP8q85vYA9/ZyAfNvwTnsOf8awxKcoWXl+Z62S1KdLFc8+ik168rDwJoOpfELxbei91uSLTfDmpRTR2Qj3LJ879ORtP7vBOD1r6Qrxf4CwqupeNphne+oKh9MAyEf+hGvaK3PJCiiigAooooAKKKKACiiigAooooAKKKKACiiigDmbzWvEZM9ra+EZnk3MkU817ALcjoGbDF8dyNme1aHhjR28P+F9M0h5vPe0t0iaTGAxA5wOw9PataigAooooAoab/rtR/6+j/6AlX6oab/rtR/6+j/6AlX6ACiiigAooooAK88+M1lNd+B90UTyCG4DyFRnamxwSfbJFeh1l+JNPbVfDOqWCFVe4tZI1LdAxU4z+NRVjzQaOrA1/YYiFR9GfLWl3y3XhXRbZCf9EhkjcEfxGaR/5Mtb3hjw9P4n1qPToJUiJUu7vn5VGM4Hc89Kwfh2izXWkRN0a+RT+Mgr3Lwd4O1XR/Hmq6leQIlmwlEEgcHfucEEAHI4B6+teU6Lq123tc+9hmEMFlUIxaUvZ3V+r9OurO+tLKGx02GxtwVhhiESAnJCgYFeL/DDVZND8XTaPPASbxvJfB5jdN36dRXuNeM6zDDZ/HG1MWIxLcQuwGANzKAfzP5kmuzErlcJro7fefN5HNVqeJw9RX5o83zj/wAF3+R7NRRRXYfOBRRRQAUUUUAFHSisnxPepp/hjU7hpFjYWsgj3NjL7DgD3zSk7K5pSpupNQW7dixp2s6bq4lOnXsFz5TbZPKcHaeev1wcHv2qDxPcmz8K6tcA4ZLSUqf9racfrivCPA/ipPCesy3c0Uk0EsPlvHGQD94EHn0wfzr1P4l6taf8IFMiXSCS9WNoULBWkXerEgHnGOv1rkhiVUoyk90fQ4nI54TMKVJXcJNWf3X+45H4S+F47+9fXrgo0VpIY4oiucyYB3fgDx789q9nrjPhZAkPgKzdVw00krufU7yufyUD8KyPi5rutab/AMI1peh6g+n3Graits9wiBiqnC9D7sDxjpWmFgoUlbrqcWfYqeIx9TmekW4r5f8ABMz9n4xXfhHWL3ZzLrMrDcBkDy4yP5167XL/AA/8Gp4F8LR6Mt414wleV5imwFm9FycDAHc/0rqK6DxwooooAKKKKACiiigAooooAKx/FVlFf+FdUhlijkP2WVk8xchXCHa3sQe9bFVdSi8/S7uHn95A68deVIqZK8WjWhNwqxkujR5B4FiS7+G/jC1lUGM20ozjkboWBx+VbPwsYH4B2vP3ba8B/wC/sprG+GK/aPD3i21LkLJaqB7ZSUE/y/Krfw6nij/Z0kLyKoFreoSTj5meQAfUkj865sM/9nT9T3M5h/wsyiurj+KRF8FpiuqarDzh4Ef8mI/9mr2Ovmrwl4ouPCmsfbYYlljkXy5o243JkHg9jxwa+lanATTp8vY24rw06eN9s9prT5JJ/ocRoU32W08WAceRNM/HJ6N/8TXAWVzcRedbW7Y+1qIW68gsD/TH0JrtkxbTeNo8cspbGfXf/wDFVkJo8FtfeGHhVt92UklDHr8w5/Ku0+YPT7G0jsLGC0i/1cKBBnvjvViiigAooooAK4nxzZx2lzp2uoD5kM6I4A6gEsD+mPxFdtXN+Oo/M8J3LYzsZGH/AH0B/WgDoJZ44reScsCkalmIPYDNcz4FR5NOvL902/bLp5Fyc5H/AOvNcx4XvJG0DxJHJITutzJz/eIYE/jxXb+Eo/K8K6euAMx7uPck/wBaANquS8c6HPq1tZyWcHmXCS7GI6hG7n2Bx9MmutooA5X4fSmTw0UOf3U7pg9uh/rXVVyngjEQ1i2H/LK+fj9P/Za6ugAooooAKKKKACiiigArifGXiN9P1fToLS6ZTDJ5lzGuQCOMA+vG7j3+lb3ijUp9J0C4u7YqJlKqhYZHLAdPpmvOtaA1W81TU2Qhlt7aUY6AsqD+tAHf+MdQWw8OXAKsz3I+zoB6sD/QGsz4eOY9MvrKXKzwXJ3o3VcgD+atWRHf3XjXX7WCPdHp9vslkVgOCvU++Scf0rN8VXF1pviLVraCVo4bvYZAP4xgHr16k0AetUVwngnxTdXt1HpV55bKkJ8qTGHJXsfXj+Vdus8TzPCsqNKgBdAwJXPTI7UASUUUUAFFFFABRRRQAUUUUAFFFFABRRRQAUUUUAFcv4m8UXGl3BsdPtDPdCEzO5BKxr64HXgH0xx1rqK46zePUPiNqQU74orQwsccZyoI/Mn8jQBg2Vh/wm9/qt2x8qcRReWSTtV8AH8PlP51k3NxrFteJbPI8j6OxKkZO0Bxzz1HI/DFej+FvDv/AAj1nPG8qyyyybi6jHyjhR/M/jWR418Y6V4bM1jJbNLfXdq5ykakDIKpvJ6gkH1wB9Kic4wXNI6MNhauJqKlSV2zyTUfEuqQRS6Xa3kkFqX3yLEdpkYjnLdemBjOOOlek/CzUzLBPZMQ25BOGzk54Vv6Vz/w28Iad4j0fVLnVIPO3SiKJ95DIwXJIIP+0v5VzmnRz6bLdWMjbLm0naN9jdCD2P1FceHlN1OeW0tvkfS5xRw8cJ9Wor3qLXNpvzLV/fvc+iqK5DwPr19rTagL2RXMZRkAXG0HII+nArr67z5IKKKKACiiigAooooAKKKKACiiigAooooA8i8a3bX/AIkuXXmK2224YeoySPz3flXLRMt2UeMElHIxjnPIx+tSeItblt9cvIs7raWd5mVQOW3MAc/ifzrc8N6YFuPCzKij7QPOdgMbiJnPPrwFH4VgqqlU5F03/A9OWBqUMIsVP7VlH0fNe/3fiWvgtGItc8exgYCawy/k0leuV5b8GpBNc+NpQMb9emb8zmvUq3PMCiiigAooooAKKKKACiiigAooooAKKKKACiiigAooooAKKKKAKGm/67Uf+vo/+gJV+qGm/wCu1H/r6P8A6AlX6ACiiigAooooAKbIu+J0HVlIp1FAHyH8NJo08T6Tp0odLldRi3RspBH7xQR9a+vK8V1fRbWX9pzTCdwEtit44Hd034/VFP517VWVOnySk+56GMxnt6NKm/sKwV4540Ai+MWjSEbQZbVifXEmM/p+lex1438XgbTxTpOoJ98QDHOOUcn/ANmrHGfw79mjv4b1xrp/zRkvwPZKKOtFdZ4AUUUUAFFFFABXkfxqmPm6PCHbbtlcrnjPygH+deuV458Yt0/iDSbVdoJhOCfVnxz+VcuN/gs97hpJ5lBvon+TPNbi1uLOQR3VvLBIVDBZUKnB6HB7UtxdXV9IjXE8s7qojUuxYhR0UZ7e1e6fEvwxc+INFgfTbSKa+gmBzwHMeCCoJ7ZIOM9qs+DPAtj4atILmaFZNWMZEs24sFzyVUdBjGM4z1rh+pT9pyJ6dz6lcUYdYRYicff1XKnr/wABFzwVaNpHgXTYrpDC0cJlkV+Cu4lzn069K8m8TeM9G+IXxJ8A2/h+4uJxY6iZp8wMowGjYHBx2Ruewr2PxdOLXwXrtwwJEWnXDkDrxGxrlfghCifCXRpAo3OZyTjn/XuP6V60Y8sVFdD89r1XWqyqy3k2/vdz0OiiiqMgooooAKKKKACiiigAooooAKQgMpB6HilooA8V+FSP9o8QWLfK72mDzwCCR/WsvwvcRx/s3GJpFDy3bIq55JEwbH5DNbHw+TyPiTrtqAATFcxqM9xKv+FePeHZGbQ4ULEqjNgZ6ZNeZGfJhWvVH3NXC/Wc+hK9tIz+6xq7W2B9p2k4zjjNfVGm3cd9pdpdwnMc0KSKfYgGvGLPwxqV18JrhhZSiZL/AO2RIy7WeLywpYA9RyT74rsfhNrsup+HZbCcgyaeyohAx+7YHbn3BDD6Yowd6c+V/aQ+JHHGYd1af/LqTT16O2v32KfiCYwa94nRR8r2sRIz3zEP/ZjXa6Rp9vJpGjzTwK09vbJ5bMOUJQZrgfG9w8Pia+jUDE0EaNn0+VuPxUV6faR+VZwR4xsjVcemBXpnwpNRRRQAUUUUAFQXlpDf2ctrcKWilUqwBxxU9FAHlHiOwk0PXJNO0sOI723jTyxyWGcY+pK/qa9I0S3ktNDsbeVNkkcCK656Njn9az9U0KW+8S6XqSMgjts+aCfmOOVx+Nb9ABRRRQByXhUeX4l8SxZO03Cvz2JLn+tdbXK6J8njjX4ywyRG2Pw/+vXRwXttczzwQzo8sDBZVU8oT60AT0UUgIYAggg9CKAFooooAKKKKAOS+IdyIvDqw4yZplGfTHP9KoeCNBS70a6uL797BeARCM5+6h65+o49MVf8YgPqXh6M4O69Awe/K11ccaRRrHGioijCqowAPYUAcX4C0ybT7vVxNE67JFiVmGM43Z/mv51101jaXLl57WGVioUl4wxIByBz2zzViigDgfG2iLpxg1vTIzDLHIvmeWOFx91sdB0A/EVm+Dr59N8ReZqkrp9utxseQlt5LDac/getemzQx3ELwzRrJG4wysMgiuT8c6RFJ4fjmtbYCS0ZQnlrysfTHHbkH8KAKPgfWZbvXtTgeR3jn3XCbiTt+bHH1DD8q72vJ9Bmj8Pavpl7eb4obi2cuShyPmcDjr2X869Qs7611CDz7SeOaPONyHOD6H0NAFio5Z4oApmlSMOwRd7AZY9APepK81+IepXH9rQ2KyYgiRZQuB9/J5z9KAPSqKz9D1L+19Ftb4qFaRfnA6BgcHHtkGp01G0k1GTT0nU3USB3jHUKf/1j8x60AWaKKKACiiobq5Szs5rmXPlwxtI2OuAMmgDj08VG28b38F5ebNORCiqw4VlA/HOd31z7CrmmeJJL7xpdWCTxyWPkgwbQOWAUk579W/IVzNp4SuvEls+qrItu9zdO+JOcxk9RjvnP1rK01LrRbg6ugVvsN15Doe+QwP6Aj8RQB7LRXM3PjK1/4RqbVrJCzLIIVjmG35/fHtzxV9tft4/DK61Ip8sxK5RTk7jgbc/U4oA05poraF5ppFjiQZZmOABXL+A/39lqN+VINzeMwz6df5k1yl34t1fXLe708WokS5P7tIkJdACDjjrwOa7/AESzj8PeG4YrueNBCpeaVyFVSSSck9hnGfagaTbsjkPHnxGuPD2qx6bpSW8s6KGuGmUsFJ5CjBHOOT9RXE6bpGtfEvxDJeXkhgi8v57oQkxqFGAqjIyc9s+pq14e0ux8ZfEnVxe5ntGM867HxkbwFwR7MK9p03TrTSdPhsbGERW0IwiA5xzk8nqckmvOhCWJk5Tfu32PssRiqGTUY0cPD9+4q8mtr6v8elrFTw7oFn4a0iPTrPcUUlnd/vOx6k/oPoBXz38TtTs9H+I2qQySMkm9JRtU/wASK39a+ma8YsNHsvEH7Q3jGLUYlubaPTYoxHIM7SUg5U/wkYbp6muqrQjOCj2PBwOa1sLiJVm7uejur7u+11+Zxfh34sWuiO86z4mZPLIMDFSOOSB34r0m0+PngqS0ia6urmKcr+8QWzkA98H0rjPEMEPg3xVe2FjETHCYpLdpQG52KcnjB5z+Vei/DWWG+0K8gMce7cJMbcgB1x/7KaKNVS9zqh5ngalJrE2XJPVWVt0ntd237nWeHvEOm+KdGh1bSZzNaSlgrMhU5BwQQeeorUryn9nu4E3w0aMMT5F/LGQf4eEbH/j2fxr1atzyQooooAKKKKACiiigAooooAKbJIkUTySMFRAWYnsB1p1ZviFwnhzUif8An2kH5qRQNbnzp4ifzNT3joy7vzY16vH408MeB/Cnhn+3ZTHcTWYe32W5dgCAWOQOPvD61T8C+GdH1621G51KyW5ZJlgUuxG0ABjjB45I/l61B4rCD49eBbRY0EEdrOUQKAB8kgxj0+UVy0aTVSVTue5mOPhPBUcGk7w1fbVf8EPgTILvTPE2oxK32a71iWSFmGNwIB/qK9ZpFVVGFAA9AKWuo8IKKKKACiiigAooooAKKKKACiiigAooooAKKKKAK0uo2MF0lrLe28dy/wByF5VDt9BnJqzXG+NdJ8N2XhjVri50azluL0MiBIFM1xcPwgU4yXLYwe2M9q6LQra7s/D2m2t/L517DaxRzyZzvkCAMc98kGgDQooqvc3sNpt84uN2cbY2fp9AaAINN/12o/8AX0f/AEBKv1maPMlwb+WPdta6ONylT9xex5rToAKKKKACiiigAooooA8k1ubyf2nfDaBQfO0d0J9P+Pg5/wDHcV63Xi/xG1aw8LfG/wAJ+IdTEsdnFYyxyzIhbtKoAA64Mg6etex2tzDe2kN1bSLLBPGskci9GVhkEfUGgCWvJPjWgEmiP3InH5bP8a9brzL4zws2jaZMM4S4ZTx6r6/hXNjFejI9vh2XLmdJ+v5M1vhZrEuq+EvLuJ2lntJjES5y2zAK/hyQPp7V29fN/hbxjfeEkvRZQQySXJj3GYEhQm7jAx13etehfDTxnrHiDW72y1S4E6iAzxkRquzDAEcAcfMOvpWOGxUXGNN7no51kNeFStioWVNa+eu9l5M9OooorvPkwoqpdapYWNzbW91dwwzXLbIUdwC59h/nkgd64fx98RJPDt7HpulrFJerh5zKpKopGQvBHJ4P0+vGdSrCmuaTOzCYDEYuoqVKOr18rLr/AF1PQ68b8cFb34vaRbMNyq1tEwx2MmT/AOhV63pt4uoaXaXqjC3EKSgegZQf615Lqebj48QoWGI5occekStj881hi3eEfNo9Xh+LhiKze8YSf5HsdFFNkkSKNpJGCogLMT2ArrPnjyHx2/iHxT8TB4H0zXzpmnTaQ0tyBAH37iysD0Jyu0deOa9H8KeH4/C3hbT9EjnadbSLZ5rLt3nJJOO3JNeX+DfEFl4y+PupaxpRefT4dH8pJmiKYO5PXuSWx7Zr2mgAooooAKKKKACiiigAooooAKKKKACiiigDxzTV/sz47TwqcLPPKW5674y/8yK8xuPBlxoHxSg8H2OotNb3FxtRpUA2hlDZOOpAI5GM46DOK9F8dXQ0D4r2+qhCwAhuHUcFgBtIH4LXIeLPEVpafGTSfEkski2C3Mc7OEORGY07Dvt7V51PlcpUn1k/yZ9pjFVjSpZhTunGlHXzUop376PqfSlrarbWENpnekUSxZPcAYryL4VyNpPjPVdGnyHZGT6vG3+Batn/AIXz4D/5/wC6/wDAR/8ACuM8N+LNF1/45QXOlTsYbiR2j3xlNx8k7uvvmt68XzQlHo/wZ4+V14OhiaNWVueN1frKOqXzueg6tCs/xP09HQONiNg+wY/0rvapyaVZS6pHqTwg3cSbEkyeBz26dz+dXK6jwwooooAKKKKACiiigAooooAKKKKAOKhvEsPiTqKSAgXMA2Ec8hFbn/vlqqfDq5kudQ1aWY7pZtsjtjGSSxP86g8crNpfiO21OIrmaJkA5yCBtP6MKw9K1LUvC6C7it023sf7tpOQQG68H/OaAPVdbkaLQdRkVtrLbSFT6HacVz/w8vWuNAe2bH+jSlV+h5/nmqN/4707UdGv7by5YpZICibhkMzDBHHTFR/Dd2hn1C1l+V3SKVVP93B5/JloA9AooooAKKhvLqKxs5rqYkRRIXbA5wKwdH8Y2us6ybG3hdYzDvWRzglh1XH/ANftQBR8VSRzeLPDlsr/AL2OfzGGOgLLj89prsq462hjv/iXeyyIHWzgUIT/AAvhf8WrsaACiiigAooooA47xloNzq+paU1vCzoWMczj+Bcg5Ptjd/k1zPgi/urLxHFY7ykMzMs0bL3CnHuCDXq9ee+INPTQvFthq/mkx3NyWcH5fL+7nnv1JoA6DTtbuLnxnqWluQbeGINGNuCCNueffd+lc6kdt4q+IUrb/wDR7VNwKYIk2EDr6En8qxfDWoSDWL+6mkYyyWc7M/Ukhd39K7HwHpVpDosGppHi6nR0d8noHPb8B+VAGL4b8VW/h+2fSdRhmDRTsu9ACFGecjrwc9Ky/Ek9z/wkupajZTuio8SGSJyDygxyO3y/yrX8XeH7iXU9U1Mw/wCji2R1kzn5wVBGPoD7Vf8ACHh2Kfw/LJqlv5hvZFkAcnJVfun25J/A0Aafgi7lvPDMTTSvLIjuhZySTznqfrXRVxfhK4XRZNa0272wxWkpm3sf4Tx/IKfxrsYpY54klidXjcBlZTkEHvQA+srxK/l+GdRY45gZefcY/rWrWH4xcJ4Tvyem1R+bAUATeGI/L8MacuMZgVvz5/rTNf0JdV0eezthDBJLIJS23ALZGScd8d6saAMeHdMH/TrEf/HRWjQB47qGnXWm6j/wjjTB4pLiJ1cJjJIxkD/gRH4VLOt9pltceF5lO+e6jZH52kdMj6nb+Rr1WextLmaKWe2ikkiO6N3QEqfY1i+INDudT1rRruDZ5drNum3Ng7QVbj16EfiPwANXSdLt9H06OytixjTJ3OckknOTXmHxU1q4v9Ys/DFjOpRyhmVT1kZsKrfTg49x6CvWZZEhieWRgqIpZmPQAdTXg/grSLvxd43fVmdUit7pbyctySS5YKB7kH6D8q48XJtKnH7R9Fw/SpxlUxtXakr693t/Xex6R4D8Cnwkk9xc3Kz3s6hW8vOxFHOBnk89+O3FdnTXdY42d2CooJYnoAK83f47+AldlGo3LAHG4Wj4P6V0whGnHljseLisVVxVV1qzvJmNf3HjLxV8WvEOg6T4pl0ax0yGFkCWyyg7kQ4PTklmPXt7V1PgfwBe+F9c1bWtV15tY1DUVjR5TbiIgL+Jz/D6dK5n4T6lb+I/iJ448QWImNjcPAsMjoV3cNn8eBx6EV7BVnOcP4v+HUPinWYdRF61uwj8uVAgO8DO0g9jk4Pt9OcT4UXBt57qymBSQw7mDcbSjYIP/fVep14JJeTp4o16xhLbjdzx/IMlkMpyPzArncYQqqS0cv8AgHsRr4jFYGVKWsadmvJar56tfJC3Wg698JNf0NdL8R+Zomra2ElszbKioHKg5OTn5BjIxjaDXvVeD/EO/kPw38MapKjSf2brMYdlU4VFDYz+SjNet+FfGGi+M9PlvdFuWmiik8qTfGyFWwD0I9CK6DxzdooooAKKKKACiiigAooooAKw/GMnl+E79sZyqr+bAf1rcrnvHBx4QvRnBJjx/wB/FpPYqLtJNmR8LUZfD9+7D7+oSFT6gIg/oawfFC7/ANojwUD/AM+VwfySU10nwyTHhNnByJLuZunT5sf0rkfEP/J0PhP/ALBUn/oN1UUvgR047/eJLtp9ysewUUUVocgUUUUAFFFFABRRRQAUUUUAFFFFABRRRQAUUUUAefA+JJPFlxq2p+E7y7W1dotMjiu7YRxR9DLhpATIw7kfKOB3J7u0mluLSKWe2e1ldQWhdlZkPoSpIP4GpqKACiiigChpv+u1H/r6P/oCVfqhpv8ArtR/6+j/AOgJV+gAooooAKKKKACiiigDh/jBbLdfCnXkZC22FJBgcjbIrZ/StbwC2/4d+GjjH/Erth+Uair/AIi0aPxF4c1DR5JmhS8gaEyKMlMjrjvXnWn/AAy8caVp8FhZfEmWG1gQJFGNOUhVHQcvQB6xUVza295AYLqCOeIkEpIoZSQcjg+4BrzX/hAviF/0U+b/AMFy/wDxVH/CBfEL/op83/guX/4qgabTujgfiFbpa+PNWjQYBkWTHuyKx/U1pfCe9S18bxxOCTdQSQqR2PD8/wDfBqHx58MvE1hoeo+Jb7xk2oz2kIdk+whC6ggdQ3YH07VzNxayadBpU6TP5l1p8F3vBwQzoCcY9815FajKhU9r0ufoeXZjQzTCvL9VLktd7aK19++p9RS3MEDxpLNHG8p2xq7gFz6D1NS183+IPFlxrkujzt5gnsLZEZ3bO+UMSXz7gL+Oa938MeI7XxRo66hao8Y3mOSN+SjDHGe/BB/Gu6jiY1ZOKPlsyyOtgKMKstb3T8n0+9Hj/wAVb5n8eMEbDWkMSL7H7/8A7NXO+KtZTxB4mvtUijaOOdxsVjztVQoz+Aqtrd1Je67f3Mrs7yXDnLnJxk4H5cV1Hw68HW/im4v3v9wtIIggKNtcSMeCOMcAHr6jivKblWqOMerPvoRoZdg4Vqv/AC7ja/ra/wB7SOn+F3jVpx/YWq3ablCJYllwSACCmenAAxnnr14rP0B21r43XN5GpMcEszNnsqoYwfzK151Z3M2manb3SKBNazLIqsONytnB/EV6J8IM3PirVLxlO825yew3OCf5VtRquo4U5dGedmOX08HDE4ukrc8LfN6O3ro/U9mrH8Wzi18Ga7cNuxFp9w529eI2PFbFeN+L38ReMPilf+CdP8QvpWmrpO+dRbrIJQ2AwPQ8iQDr2r2D83Oh+B8Sp8JNGcAZczknH/TeQf0r0Osbwn4fTwt4W0/REnNwLSLYZSu3eckk45xyTxk1s0AFFFFABRRRQAUUUUAFFFFABRRRQAUUUUAeRfGXRyJrHW1f5WUWjp6EbmB/VvyFc78N/wDTviDYSS4PlQsMEZyFiKD9K7r4yg/8IpZt2F8o/wDHHrlvg/pv2nxJcX5cgWcONuOpfI/kDXlVIf7WkvJn3+CxH/GPzlN7KUV89EvxPavIh/55R/8AfIrwTV0SH9qXTSiAZZRge8H/ANevf6+f/GYFr+0foU5kCLJcQksxwB8ir/n616NTp/XRnxuDV1U9F/6XE+gKKKK0OIKKKKACiiigAooooAKKKKACiiigDk/iBpwu9BF2M+ZaNuAC5yrEA/TsfwqDU9F8/wCHltH9lL3dvbpJGNp3ITguMfTPFdnRQB5p4U8HXEt+bjVrQpbRrxFKMF2I449Bn8+PXG1r0KaR4s0bVIY9kcrfZptgwOmBkd+D/wCOiuxrl/H1u8nhv7QjBTazpLz3/h/mwP4UAdLNNFbwvNNIscaDLMxwAKytF8QQa1c30MKFfssmwNuBDg5ww/I/pXPa54js9a8F3ogkJmUQiVSpGCWB49uCPwrg7HUr3TXL2dzJCSQW2HG7HTPqOelAHoXxD1Oa20+3sIQMXhbee+FKkAfUn9K5bTLWfQfGdmssciqJ1jDMuAd4x1/4FWxpeoXPinxta3qxOLW0TJUniP5Tz+LfoB6Vv+NLG7udOt7qyjEk1lMJ9uf4QCTj16DigCv4JAuJdZ1Ekl57xl59ByP/AEKutrmPANsYPC6ORjz5Xk/kv/stdPQAUUUUAFFFFABXGfEiLdotrNjJS4259AVP+Ars6wPGkfm+Er4DGVCMM+zigDhb/Q3fwvot7axySTOGhcIuc5divT6kflXpGg2UmnaFZ2kwxLHGN4znBPJH61F4YUJ4Y04AY/cqfz5rWoAQgMpBAIPBB70tFFAHmHjN307X9RUE7dQtY/wwy/8AxB/OneH/AB22nWsdne2++3hi2o0Q+cnPGcnGMfyrq/EnhVPEF1aTG48kQ5VwFyWXOePQ9fzridY8F6nZvd3MUKPapI7KEYZEYBbOPpx9fwyAepWtyl5ZwXMefLmjWRc9cEZFc/49uooPC00Tn553REHqQwY/opq74XuUl8K2Eu4BUhCknjG3g/yrjtQuI/Gviy1sodyWsG4M5P3lByxHpnAAoA77SVCaNYoowq28YA9toq5TY0WKNY0GFUBQPQCnUAFFFFAHHfEzWf7J8HXEaFfOvT9mUH+6wO4/985H4iqnwn0iTTvCjXU0arJfS+ap7mMABc/juP41yXigSeMvitDohmItIH8kbD0AXdIf97gj8BXqWsTp4e8H6hcWgESadYSPEAMhRHGSOO+MVx0/3lZz6LRH0WMtgstp4X7VT35enREviGc23hrVZxtzFZzON3ThCea4r4H2sQ+E2kyGFN0jzsSQDn984/p+lcl4X8PeOviF4Fi1O58fyw22pxzRS2rWKsNm9o2GQR1APQDrXq/g3w1H4Q8JafoMVw1wtojAysu3ezMXY47DLHA549a7D503FRUGEUKPQDFLRRQAV4TrOozeC/irfagLQTKXaQRk7A6yLkkHHqTz6g17tXBfELwJL4mli1GzuEjubeEoyODiRQSwAI6Hk/nXLioSlBOG6dz3MhxVCjiJU8T8E4uL/pfcZnhnxC2m6PY24ETJcX5WQSD7se1OfzOfwrhfCeuXWh+LvH1taTtGzalKqhRwp85ucHjorD8aW1VZLONjzviVT+X/ANesnT/DCXfijU5E8YJoz3Lee5mtg6s3JILFgM8kj1zWyqJJOTtc86WEnKpKnSi5ON72XRH0T4d1iLWdIhnEqvOqhZwBja+OeK1q+ZdSn8T/AA6k+22/jBrq1F9bxSbLZdkyMrvu6njCngdd3WvpqtDkatowooooAKKK5PXfFsuk+JLXT1iia3bYZnbO4bjjj0wOaAOsopqOkgyjKw6ZBzTqACvK/iBfSz+IWtTIxigRQEzwGIyTj15FenyTottLKjqwRWJIPQjrXjOq26WPgyLXJ3klmu70RnPYBZOc98kVMpKKu9jWjRnWmqdNXb2R3vwzQDwJZOP+WjzMT6/vGH9K5bVgkn7TOhZUEx6I2CR0OZun4H9a6vwm/wDZ3wys5wUQxWbz5xwPvNk/1rhPhJ4e1TxFeWHxH13XpL26eCW3igMKrsAdl5YcEfeOAB168VNH+HH0RvmDvi6rX8z/ADPZ6KKK0OMKKKKACiiigAooooAKKKKACiiigAooooAKKKKACiiigAooooAoab/rtR/6+j/6AlX6oab/AK7Uf+vo/wDoCVfoAKKKKACiiigAooooAKKKKACiiigDl/iRGZfhr4jUEDGnytz7KT/SuJ8M+ArPxb4Q8I6pLeyLHFp8cM8SjO9VJ4B7HJIPWu98eqG+HfiUH/oF3J/KJjWP8HJhcfCbQXAIAjkTn/Zldf6VE4RmrSR0YbFVsLP2lGVnt954xqukvZ+JbvSbZJJGjumghXqz/NhenUnivR/g9q6W+mazbXDpHbWxF0XOeAQQxPsAg/WtOfwPqMnxVTXAIv7O3rcF9/zBgoG3HXORn0x37V5xa6mnhvUfE1i0TMtxBPZIqgYVt4AJ9gA3T2ryYxeHqc72uz9Bq14Zvg3hoO8uWDdujvr81b8RfDPhqbxTZa00CebfwRpJDltoZi3zD0yQDjPevYPh54dn8O+GFhvIljvJ5DLKAckZwACfYD9TWL8Go1Hhe9lCrua9Kk45ICJj+Z/OvRq68JQioqp1PnuIc0rTrVMH9hNfglp6X19ThPiB4U0+bwtqV5Y6XbrfqROZY4gHb5gXOfpk1gfBa0kzq94VIiPlxK3Yn5iR+Hy/nXrVNjjSJdsaKi9cKMCtnh17VVF0PPhnFRYCeCkr8zTu3ttp+BW1PUrTR9LutSvpfKtbWNpZXwThQMngcmvIPh7rFt4s+O3ibxDpkskunHTY4Y2dCuM+Txg9OY3+tdl8YLgW3wo19yWGYkT5f9qRF/rWr8P4li+HfhsKAN2mWzEgYzmNT/Wug8c6OiiigAooooAKKKKACiiigAooooAKKKKACiiigDh/ixafafA8kuCfs1xHL+pT/wBnrL+DFoiaJqV4B88tyIifZVBH/oZr0e5toLy2ktrmJJYZF2vG4yGHvVfS9JsdFsVstOt1gt1JIVcnJPUknkn3Nc7oXrKr5HsQzNRyyWBs7uV79Lafqi7Xzx8fdLGneLdD11pGMFzuST5DiNk2d/cHp/smvoevLf2gIw/wwkYjOy8hYe3Uf1racVJWZ52Hrzoz5of1Zp/mkd94b1Q614csNRZdrTwhmGc89D+orUrkPhfKZvh1pLMSSFkHP/XRsfpXX0qbbgm+xWNpxp4mpCOyk0vvCiq8l/ZxXsVlJdQpdSqWjhZwHYDuB1NMt9UsLu8ns7e9gluYOJYkkBZPqKq6MfZzteztv8i3RRRTICiiigAooooAKKKKACiiigArF8XJ5nhXUBtziMHH0YH+lbVQ3VtFeWsttOu6KVSjDOMg0AeLW9heSS21hGVBv9jLk8YyQCf1r0HRvBkEOgSW9/BEL2ZXVpVwxQE8Y/Q1vR6Hp0ctnKtsvmWabIGycqMYx7/jWhQBjeHfDtv4ftWSNzLPJjzZSMbsZxgZ461s0UUAFFFFABRRRQAUUUUAFMlijnheKVFeNwVZWGQR6U+igBscaRRrHGioiAKqqMAAdhTqKKACiiigApGVXQowBVhgg9xS0UAeN3N/qFj9s8PWkj/Z/tToEUZZ+du36HHQdc16B4f8I2uiXEd4sszXBh2OrEbQxwSRx7YqhbeGnfx9d31zbN9kTE8MmeDIcY/I7vyFdnQAUUVxY+JekL4ruNFnUwRQs0f2yRwE3rncCD0HGAe57VE6kYW5na50YfCVsRzexjflV36HaVkeJ9bi8PeHrvUJGwyIViGM7pDwo/P9M1wPjT4oxfZYrbwzdkyyfNLc+XjYv90Bh198cfy5HxT48uPFOgWFhcW/lzQSb5pA3EpC4DAY46tkf5HLVxkIpqL1Pey/hvFVZU6laNoN6rZpLun327mr4Bu9P0S01fxvr92ywwN5O8qXZncgscDkk5A/E5q14t+NXgzVfB2tadZXty11d2M0ESm2YAsyFRyRx1pvxbsItA+B1tp0MaLma3WQgY3PyzN9SRXrttZwQ2kMQgRQiKoG0cYGK3oU/Z01E8vNsZ9cxc6q22Xotv8AM5b4UWrWfwu8PxPGIybbzNuMffYtn8d2fxrsqKK2PNCiiigAooooA+epPKsXuYGYKttcPAc9sMQP6Uaf4L1HxBpWp63bgmGLcbdAMtOQRkAdeBn6nivUvF3gSz1bS9Qk0yztotVuWRzKwxuIOT/ukjOSOp61reDtFn8PeFrPTbl0aeLcXKdMsxbA/OuKVGVRqnNe6l/wD6ahmFHCU54vDS/eTlZp9F8T/HS/bpc+ZPF+5/BUCFiDFdLuU+oDgD8mr64BBAIOQehFfKHxLhZLzxAmMbNRZufTzGx/MV9Vwf8AHvF/uD+VbYeV6a8tPuPNzmkqeMm19r3v/AtfwuSUUUVueWFecXWjv4n1vxE0LL9ot3jji3nC8Egj/wAcNejk4GT0rk/An+kWupX5BH2m8Zhn06/+zGgDD0a4fwX4gfTL1zLFcpHzH0VyevJ6DkH6Cu18RTtbeHdQlRyjCFgrA4IJ4GPzrA8e6LFNp7awhdbm2Cr8p4K7v5gnrUXijVI9a03TNNspQ89+6O6oc7Uxnn05wf8AgJoA5fQPET6Zp99p77Rb3EMpVsElZCmB+BwBXPeMNWP9g6NoSOpWFDczKByHZmK5/wCAtn/gVd34t8LQpqOlpptuyfan8lyoLKuAoB9uMn8DXK3OlWmp/GYaZcJ5tqGSNk5G4RwDjj/drkxjbgorq7H0HDcaaxUq9RaU4uX3f8Bs9Bt0CfCIADH/ABJCfzhJrJ+B3/JJNI/35/8A0c9dR4seOw8Ca48cYEcGmTlY1GAAsTcD06VzfwS/5JDoX/bx/wClEldUVZJHh1qntKkp923956BRRRTMwooooAKKKKACiiigAooooAKKKKACiiigAooooAZJNFCUEsqIXYIm5gNzHsPU0+uE8b6Pb/274d1eR5pbn+2LaGJXfKQr827YvQFiBk8ngc44ru6ACiiq9zew2m3zi43ZxtjZ+n0BoAg03/Xaj/19H/0BKv1maPMlwb+WPdta6ONylT9xex5rToAKKKKACiiigAooooAKKKKACiiigCrqVjHqel3dhMSIrqF4XIGcBlIPX615bpPwr8Z6FpkOm6X8RpLazh3eXEunLhcsWPV/Uk/jXrlFAHmH/CBfEL/op83/AILl/wDiq8h+JvhzXvB2qrPd6+dRluFEzyi1WIFixByATk8Ak9819W15B8fvDU2oeEzrducmxAWWMKSShcfMMemefY57VlVjzJaX1O3A1vZTk+Zx912s2tbXW3md14C0eLRvB1hGhJe4jW5lJx991BI47DgfhXS15RpPxy8DW2j2MEt3cxyRW8aOgtnO0hQCM45q5/wvnwH/AM/91/4CP/hVwioxUUYYitKvVlVnu3c9LorzT/hfPgP/AJ/7r/wEf/Cj/hfPgP8A5/7r/wABH/wqjE5rxXa+IviL8UPEHgePXDp+i2lpDKyC3EiucROAeQc7nznP8Nez6dZR6bpdpYREmO2hSFSRyQqgD+VeS/DDVLTxP8WfGfiLTxM1lNFBHE7IVB4AOc9/k6V7HQAUUUUAFFFFABRRRQAUUUUAFFFFABRRRQAUUUUAFFFFABXnPxzRX+E2qswyUkgZfY+ao/kTXo1cB8a4Wm+EmthEZmXyXwozwJkyfoBk0AN+DV39p8BImMeTOyD6FVb/ANmr0GvD/gh4v0mHR9YtJ7oRm0iS6ZWU52AbWI9cHaP+BCvS9J8feG9WtTMupQ2rA4aK7dYnH5nB/AmuelNRgoydmetmGHqVsRUrUI80brVaq7V+h5V8R7+S1+JUlzAxE1p5DLnswVWH86u/DC9N38RL252lftMMzkE5xl1br3rnPHmo2uq+NdSvLKUS27sirIvRtqKpx7ZBqr4V1o+H/EtlqJJ8qN8SgDJMZ4bHvg15ftLV730ufe/UnUylU0vfdNL52vb7z6ZJCgkkADkk1W0/U7LVbb7TYXMdxDuKb42yMg4IrjtS8caL4g8MeIbfTp3aSGykOHQpvVl27hnsCwHOK5n4V6sum+HfEk8h+W0RbgAnqdr8f+Oj8xXpvEx9oorZ3PhoZNV+qVK001OLirNd7f5o9hor5/8AAni3U9P8VW8Ut3JNb6hcKlwsrFssxxv56HJHNfQFVQrqtG6Mc1yqpl1VU5u6aumFFFFbnlhRRRQAUUUUAFFFFABRRRQAUUUUAFFFFABRRRQAUUUUAFFFFABRRRQAUUVl+I9ZTw/oF3qbqH8hMqhONzE4UfmRSk1FXZdOnKrNU4K7bsvmalFch4G8Yv4j0C5vdSFvbyWshWV1bam3GQ3J47jr2rrkdZEV0YMrDIYHIIqYTU4qUTXE4aphqsqVRap2FoornvHN6+n+CdVuI3KP5Plhh1G8heP++qcpcsXJ9CKFJ1qsaS3k0vvdjyS98feIbLxbqs1nfNLG87xRxON6BA2F2r0Bxjnv3zXJTfatQku74xs/zmSZ1HClj1PoM1638HdEih0251tjmadjAgx91Bgnn3OP++au6x4s8A/DfU5rC5VbS6vVE8scFuz5U5AzjgDg/KPfjmvMjhalaKlKWjPuK+e4TLa06NKleUbK60vbe/p031PIR4a1ZvEPhC0s9Q+w3GsiWVWe3DmEJnDbW+9kDI6dRXWSfAXW3kLnxqpLMSx/s/H5DfSW/izS/Hfx88LXehefNaWVnN50hiZdh2S9QRwMlBn1YCvdK74UKcYqNj5TE5tiq9eVbnav0Tei6LS23/BPINW+EHibxLDBZ+IfH819YRzrMYfsCqcgEZB3cHDMMkHr0Nev0UVseaFFFFABRRRQAUUUUAFFFFAHhXx60u2VGuYkWOWa28yUqPvlHUAn3wcfgK9Z8GXkuoeB9BvJyDNPp8EjkDALFBmvNvj2n/EthcZy1pMMfR4z/U16D8Pv+Sc+G/8AsGW//osVEFa/qdWJk5Km3/L+Ta/Q6SiiirOUp6vciz0e8uCf9XC7D644rL8FW7W/hSzDrhn3SfgWOP0xWL43gl1fVdK020lXe/mDl/lyMdcemDXZWFr9h062tN27yYljz64AGaAC+tI7+xntJRlJUKH8a5rwl4QfRJnvLyRHuSpRFTlUGeuT3P8AnrXW0UAFeOeGB9v+Neo3BGfImuWByegyg/Q17ESFBJIAHJJrx34Wk3vj3WL8co0MjZyeryKR+gNcmI1qU15nv5P7uExdT+5b7z0Px3/yTzxL/wBgq6/9FNWH8GIWg+Emgo+MlJn49Gmdh+hqP4s+MNI8PeEdQ0u+uHS91SwuIbaNYy24lNvJHAGWHWr3wnikh+Fvh9JEZG+zZwwwcFmIP4gg11ngHZUUUUAFFFFABRRRQAUUUUAFFFFABRRRQAUUUUAFFFFAHP8AinTLvUzon2SMP9l1WC5l+YDbGu7J569RxXQUUUAFFFFAFDTf9dqP/X0f/QEq/VDTf9dqP/X0f/QEq/QAUUUUAFFFFABRRRQAUUUUAFFFFABRRRQAUEAggjIPUGiigCPyIf8AnlH/AN8ijyIf+eUf/fIqSigCPyIf+eUf/fIo8iH/AJ5R/wDfIqSigBqoqDCKFHsMU6iigAooooAKKKKACiiigAooooAKKKKACiiigAooooAKKKKACkIDAggEHgg96WigD5Hut2jfEnxRp9qAkDq9qR1/drLGQB+MYrorfwjq97b6XPZWks8eoBtjovyoyuykMe33c5OOD7U7xX4av774465aaXCbmVrUXRQEA4OzPXrya9+8MaW+jeGdP0+UKJYYQJApyNx5b9Sa86WGdSpaWySPs6OdxweC9pRs5ynJtPzW7672PBtF8EavrWq3unxxeTJaK3mPKpC7h0XOOp7e3NdBqfwr1S08M293AqS38YZ7m3jJLEEjAX1IGcj8s9/b6KuOAppWZyVeK8ZOopQSSVtO+muvZ/hofLsE9xo41C2mhkimubYQsjrtKgsj8g+y/qKrwX91bWlzaQzskF0FEyDo+05Gfxrv/i7pM6+KbS7hgZlvIVjBRclpQSMcdTgriuh/4U/pv2+xnS7lFtGqm5gcbjIR1w3GAe/H0ri+rVHNxj0/U+p/trBww9OvX09or99Y2/XbzPNr/Sj4ft/D2pBnL3UQuWHHBD5GP+A7fxr6TBBGRyK47xz4KTxHokEViI4bqyBFsuNqFcAFPYcDHpisP4SeJJru1n0O8kUtaKGttx+cpk5XnqF4x6A47CuyjH2FXkez2+R8zmVX+1cCsVF+9Tb5l1tJ6fd/n2PTahu7uGxsp7u5fZBBG0kjYJwoGScCpq4P4heLdJt9B1TR0vVbUXiCeUoJxllBBOMA4JOPauupNQi5M+ewWFniq8aUE3dq9uivuaNh8RPDt5pDajLdm0iWUxFJ1+fPUYC5zxzxXURSxzxJLE6vG6hldTkMD0INfJ+TjGePSvo/wBeLfeB9KdTkxw+Sw9ChK/0rlwuKlVlyyPfz7IqWApKtSbabtr000/I6Siiiu4+WCiiigAooooAKKKKACiiigAooooAKKKKACiivJNX+It3ZfEgRR30Z0SCRIJFVdylSBvYkZJIOen93Hc5yq1o0knLqd2Ay6tjpSjR+ym/+B6voet0V5j4c+I13rPxAfTv3Z0u4Z0tsJhlCglWz1+YDkH1FVPGXxH1bRfGUljY+T9ktCgkjZQfOJUEgnqOuOPSs3iqahz9L2OyOQYyWI+r2XNy82/T/ADvp/wAA9ZrwDxpqmreLfGU+m28Mkq207wW9tECfunBc/XGST0H0q5H8XvEC6i87R2r2zPkWxTG1fQMOc+5zz27Ve+FDSah421bU2XAeB2YZzhnkU/j0Nc1WtHEONOL3ep7mAyyvk8KuMrxTcY+7r1f9f5M4MahdWGlahoro8fnXEbSqxwVMe8FSPqR/3zXTW/xCvNP8CWej6fM8F9FK6vNjcfKOSME9DlsewWr/AIy8Ca1e+Op2sLJ3tb6QOs4+4hI+bee2Dk/lj0rmIvBPiGR75f7NmQWSs0zSDaOBnCk/eOOmK5OWtTk1G/Y99VcuxlKFSq49JtXW9ra/kez6T4tRPh1b+I9UcuVi/emNeXcOU4HqSPpz6VxPjL4k6Xr/AIUfTbS3uVuLkI0m8DbHh8lc55+6O3QjvwOObxZdnwWnhkRILcSl2kydxG7cFx/vZPft0xXZaF8Hp540n1m88lZItwhhHzo57MSMcd8V0e2q1lyU9dNTx1luAy6o8TjHyvnbgl2W2i/rY7L4Yw+V4A04lSC5lc5/66MB+gFcvbql3+0vfK8efs2iDGeQSWTn/wAfxWTFb+KdW+Ius+E/DviiXRtJ0S2hWILbrLklFJz0OSxY5/Cus8GfDi/8O+Lr/wATax4jk1jULu2FsWNuIgFypyeTn7igYx3616VOPLBR7I+LxlZV8TUqraTb+9nfrGiHKIqn2GKdRRVnMFFFFABRRRQAUUUUAFFFFABRRRQB4/8AHgAaXaHu1rdD/wBF10/gvVTbfBrR9QjCloNNRVDdCyjb/MVzPx+wnh6ylA+YLOn4Mq5/kKzfCHiZE+EtvoskZ83yUELKOCpbc2fpz+YrOD96S8/0R2YmLVGjLvF/+lSPY9Gvm1LR7S8cKHljDMF6A98fjWb4s8RN4fsYjDGr3E5KxhjwoA5Pv1HHvXP6N4ut9N8FqqYkvbY7PKfgHcxIPuAP5e9QaNc3HjLxPb3F6iLDZRb2jUEoWzxwTxnI9fu1ocY7wRoc15fL4gnmChZX2pt5ckEE57DJ/SvRaRVVFCooVR0AGAKWgAooooAyvE1wbTwtq06nDJaSlT77Tj9a4X4L2qppOqXePmknWLPsq5/9nrc+J+rw6b4NubZpALi9xFEndhkFj9AP5io/hTYvZ+CI5HGDdTvOAfThR/6DXJL3sSl2R9BRTpZJUk9OeaS87anPeLiZP2gfBETfNGLWdgpGRnZJn+Q/KvWK8j8RzO37TXhCE42Jpkrj6lLgH/0EV65XWfPhRRRQAUUUUAFFFFABRRRQAUUUUAFFFFABRRRQAUUUUAFFFFABRRRQBQ03/Xaj/wBfR/8AQEq/VDTf9dqP/X0f/QEq/QAUUUUAFFFFABRRRQAUUUUAFFFFABRRRQAUUUUAFFFFABRRRQAUUUUAFFFFABRRRQAUUUUAFFFFABRRRQAUUUUAFFFFABRRRQAUUUUAeWWcPl/tLag+c+boQf6fPGP6V6nXlP8Azcz/ANwP/wBmr1agAooooARlVsblBwcjI6GloooAK8V8f6RJ4N8U2fiDSD5S3EjSBQPlSQfeH0YE8fWvaqgu7K1v7c295bRXEJ5McqBlP4Gsa9L2sbdeh6WV5g8DW52rxatJd0eXeDviVczf2xP4gnDQwRC4QRxgFfmC7FA92UDP4nrXnwsb7xXreq3OnWzSSEy3hhBy20uMgepG4cVe8faEnh3xVc21qjRWcyrJEvONp6j3AYH9K9U+GPh+20vwvbagYNt9ex75ZGOSU3EoB6Dbg+/5V50Y1K0/ZTfw3Psq1fCZZh3mGGjrV5bLotO3338zjLD4S3t9otpeST/Zbl4JGktpF+bfz5fPbI25B5H16Wfhh4ottDXUNF1iVbRY3MyvM23awwrIc9+Bx9a9hrwj4q+H30vxKdSQD7NqGXGB92QAbgfr1/E+lbVaSw6VSn03POy/MJZzKeCxj0lrG3Rp3svl36I91jkSaNZInV43AZWU5BB6EGnV518JvEcuo6LPpdyEH9nKvlyZ5aNt3X6Y6+hFdtBrmk3LhINUspWIzhLhWOMZzwfQV2U6sZwUu581jcBVwuInRavy9fLo/mi/RWJ4k8T2XhvRX1CZ0lZl/cQhwDMeMY9uQSewrG8M/EfStcsp5b5odMlhYBkmmG0g9CGIGfpTdaClyN6k08vxVSg8RCDcU7X8/Tc7Sisq18TaHe/afs+rWcgthumYSjCL/ez0x79Kmu9b0qxt4bi61G1hhn/1UjyqFf6HuPeq542vcxeHrKXK4u/azL9FMEsZiEokUxkbg+eMeuaf1qjGwVBPeWttLDFPcwxSTHbEkkgUyH0UHr+FcP8AEXx1L4dSLT9LkiN/KCZHOGMC8Y46ZOeM+nTmvJvE3ie88UX8F5eKiPFAsQEecHGSW9iST+lcdfGQptxWrPo8s4cr4yMas3ywd9evlp2Z9MUV5R/wtmJfBo8lSuuIFh2SAsrHHMgPfp0Pc9x15tfidrMvh7UdNv2NxPcrtiuRhGjB+8CABkYzj0/k5Y2kiaXDOPqXbVrO2u/qu6+foe8RzRTIXikR1BILKwIyOori5/ip4cgu7y3Mk5NvkJII8pMwzwpHvxk4FeHxNqVlbtJEbuCFxtZl3KrBweD25GfqK7bTPhZear4Rh1OK4Ed/N+8jgl4Qx8456gkYI7fnxgsXVqaU46nqS4ewGC97GVrxbSVtNfPcr6R8Udbt9c+1alcvcWTljJboigDIONvpg471wtdz4k+HWrabcaZbWNnJeGS3CyywISol3Hdk9hgrycfpXpP/AArXw+fD76Z9nKM5EjXCtmQOBjIJ7deOnNYKhXq3jLp38z1ZZtlmAUatFfxNPdttFvVr5+r+R4lLZXOkWGk6vb3LxvdrIyNHlWjKOVOCPw/Ouo8B+Aj4o86/1Q3MVip+Rl4M7c5wT2Hc/wD169Wj8F6ENH07TJ7JLmCwO6Ey8ncTlifUEnJHT24rejijhjWOJFSNRhVUYAHsK6KeBSknPbt5njY3imU6MoYdNSbfvafDd2t52PO9U+EOkS29y2mSzQXBiAhWRyyK46k9+cY9sk46Cr2haPpnww8LXup6rej7qvdzgEqMHCqo6nlsepJ7dB3Fed/HKQJ8JdWUtjzHgUD1/fIf6V1xw9OMueK1PArZvjK1B0KtRuL7/wCf9akH/C+fAf8Az/3X/gI/+FI3x38AupVr65KkYINo/P6V2Gg6NYxeHdMjksrVnS0iVj5SnJCDPatH+ytO/wCfC1/78r/hWx5p88+GvE/w+0XxG2o3esTXNvCxNrF9hfPPQtkYyPbvg8dK9G/4Xz4D/wCf+6/8BH/wr0D+ytO/58LX/vyv+FH9lad/z4Wv/flf8Kzp0o01aKOvGY6vjJqpXldpWPKvhBqMPiHx3481+2DtaXM8CwSOhXcv7zj8gvHuK9gqOGCK3j8uGJI067UUAfkKkrQ5AooooAKKKKACiiigAooooAKKKKACiiigDyj49xBvBsEpUnbI67uwyhP9P0qx8LPCukXPgnQtWZmuXa2+aOTBjDAlTxjsQa1vjDF5nwr1w7clIlYcZx865P5E1T+B83m/CvTU/wCeTyp/4+W/rWSVpvzO6pL2mFh/duvvd/1LPiXwj9o1ywfT7PbbzNtuPLGFXnJY+nBP5V2ttZ21mgS3gjiUKF+VcEgDAye+KnorU4QooooAKRmCqWYgADJJ7Utc945vv7P8E6tPnBMBiB93Oz/2aplLli5djWhSdarGkt5NL7zyjx54kt/GfiHT7PTN5gibyY5GXG9nYAkD04HWvZ7m407wzoEk8pFtp1hBubAJ2Io9Bya8u+EnheSa7bxBdRxNbIrR24cZbzMjLj0xgj8a6n4xTi3+E+vuQSDFGnH+1Ki/1rlwkZNOrPeR73ENWjTlTwND4aV/ve/z/wA2cPpPinS/G/7Qmk6noxkmtbbSXiZ3iKlWHmEnB6f6wDPvXuNcx8PbO3t/h/4deKGNHk0u2Z2VACxMank9+tdPXYfOBRRRQAUUUUAFFFFABRRRQAUUUUAFFFFABRRRQAUUUUAV576ztZY4ri6giklOI0kkClz7A9asVwPhfQtK8UWWs6trOn299Pf6hcw7riMO0cMcjRIik/dACZ4xySa1/h9dT3Pgy0W5meaa2lntDK5yziKZ41JPc4QZNAHT0UVUvtTs9O8v7XN5fmZ2/KTnGM9B7igCPTf9dqP/AF9H/wBASr9c1p3iXSFm1DN31uSR+7f+4vtV/wD4SbR/+fz/AMhP/hQBrUVk/wDCTaP/AM/n/kJ/8KP+Em0f/n8/8hP/AIUAa1FZP/CTaP8A8/n/AJCf/Cj/AISbR/8An8/8hP8A4UAa1FZP/CTaP/z+f+Qn/wAKP+Em0f8A5/P/ACE/+FAGtRWT/wAJNo//AD+f+Qn/AMKP+Em0f/n8/wDIT/4UAa1FZP8Awk2j/wDP5/5Cf/Cj/hJtH/5/P/IT/wCFAGtRWT/wk2j/APP5/wCQn/wo/wCEm0f/AJ/P/IT/AOFAGtRWT/wk2j/8/n/kJ/8ACj/hJtH/AOfz/wAhP/hQBrUVk/8ACTaP/wA/n/kJ/wDCj/hJtH/5/P8AyE/+FAGtRWT/AMJNo/8Az+f+Qn/wo/4SbR/+fz/yE/8AhQBrUVk/8JNo/wDz+f8AkJ/8KP8AhJtH/wCfz/yE/wDhQBrUVjt4q0VGRWvgC52qDG/JwTgcegJ/Cnf8JNo//P5/5Cf/AAoA1qKyf+Em0f8A5/P/ACE/+FH/AAk2j/8AP5/5Cf8AwoA1qKyf+Em0f/n8/wDIT/4Uf8JNo/8Az+f+Qn/woA1qKyf+Em0f/n8/8hP/AIUf8JNo/wDz+f8AkJ/8KANaisn/AISbR/8An8/8hP8A4Uf8JNo//P5/5Cf/AAoA1qKyf+Em0f8A5/P/ACE/+FH/AAk2j/8AP5/5Cf8AwoA1qKyf+Em0f/n8/wDIT/4Uf8JNo/8Az+f+Qn/woA1qKyf+Em0f/n8/8hP/AIUf8JNo/wDz+f8AkJ/8KANaisn/AISbR/8An8/8hP8A4Uf8JNo//P5/5Cf/AAoA4/xj8O9Z1nxlB4m8PeIhpF6tp9lkPkb9wBJyDnvnHTsKz/8AhBPib/0Un/yTFegf8JNo/wDz+f8AkJ/8KP8AhJtH/wCfz/yE/wDhQB5//wAIJ8Tf+ik/+SYo/wCEE+Jv/RSf/JMV6B/wk2j/APP5/wCQn/wo/wCEm0f/AJ/P/IT/AOFAHn//AAgnxN/6KT/5Jij/AIQT4m/9FJ/8kxXoH/CTaP8A8/n/AJCf/Cmp4q0WRSyXwYAlciNzyDgjp6gigDgf+EE+Jv8A0Un/AMkxR/wgnxN/6KT/AOSYr0D/AISbR/8An8/8hP8A4Uf8JNo//P5/5Cf/AAoA84uvhv8AEK9QJd+P4bhR0Etgrj9foKn/AOEE+Jo/5qR/5JivQP8AhJtH/wCfz/yE/wDhR/wk2j/8/n/kJ/8ACiw3JtWvoef/APCCfE3/AKKT/wCSYqG5+HPxEvIxHdfEGKdFYOFlsVYBh0PPevRv+Em0f/n8/wDIT/4Uf8JNo/8Az+f+Qn/woBNp3R8u3mm+J/Dup6npi648TEtbz7YtokTPp6Hg/Q1oxfC7x9cWyXELPJDJEkqsNgyrAEcE5zzyK+hr3U/DGpKq3y29yFO5RNbF8H15WrX/AAk2jj/l7/8AIT/4VyrDu75mrdNEe7POIKEfZQal9q856/c1/wAA+erH4WfEDUdSg0+8vJ7aFFz50y7o4l68YOM57D15rbn+A/ixf9R4qs5OP44mXn8Aa9r/AOEm0f8A5/P/ACE/+FH/AAk2j/8AP5/5Cf8AwrRUIJaq/wAkcdTNMRKScJOK7KUvv1Z88X3wl8eWWqQ2Ed59p89c+dAh8oeoZiBjHv17VZ0/4N+P78AXGpRWcaoxTz2B5yeMLnGT/PPNe/f8JNo//P5/5Cf/AAo/4SbR/wDn8/8AIT/4Ulh43v8Aov8AIuWb1nBRV79+af8A8lY8Fh+DPxCmkMEmsW0MSpw7y5Q852gAE9eemKkHw1+KegyE6brUjJE4KG1nADZ77SR+OR+Yr3b/AISbR/8An8/8hP8A4Uf8JNo//P5/5Cf/AAp+xitvyX+Rm8zqy0nqu3NO3/pR4XYfCLx34ilnv9X10Wcsjkk3Ee6Rz64HQf5xite1+CPiqz83yfGNsBKnluGsQ4Zcg4wc9wPyr13/AISbR/8An8/8hP8A4Uf8JNo//P5/5Cf/AAqo0oLda+iM6mPxE3aM2o9uaVvxbPGj8BfEZJP/AAl8HP8A06n/ABqxc/BPxXeTxzT+MbZ3jRUX/QgAFUYUYHBwOPpXrv8Awk2j/wDP5/5Cf/Cj/hJtH/5/P/IT/wCFP2UP5UQ8dim7upL73/medH4efEc24tz8Q4zCFCiM2K7cemOmKl/4QT4m/wDRSf8AyTFegf8ACTaP/wA/n/kJ/wDCj/hJtH/5/P8AyE/+FWczbZ5//wAIJ8Tf+ik/+SYo/wCEE+Jv/RSf/JMV6B/wk2j/APP5/wCQn/wpp8U6KHCm9AY5IHlvk4/CgRwP/CCfE3/opP8A5Jij/hBPib/0Un/yTFegf8JNo/8Az+f+Qn/wo/4SbR/+fz/yE/8AhQB5/wD8IJ8Tf+ik/wDkmKo6r8KfHHiGzGn634+F1YO6tJF9kHODnjkc16d/wk2j/wDP5/5Cf/Cj/hJtH/5/P/IT/wCFAGnFEsMKRIMIihVHsKfWT/wk2j/8/n/kJ/8ACj/hJtH/AOfz/wAhP/hQBrUVk/8ACTaP/wA/n/kJ/wDCj/hJtH/5/P8AyE/+FAGtRWT/AMJNo/8Az+f+Qn/wo/4SbR/+fz/yE/8AhQBrUVk/8JNo/wDz+f8AkJ/8KP8AhJtH/wCfz/yE/wDhQBrUVk/8JNo//P5/5Cf/AAo/4SbR/wDn8/8AIT/4UAa1FZP/AAk2j/8AP5/5Cf8Awo/4SbR/+fz/AMhP/hQBrUVk/wDCTaP/AM/n/kJ/8KP+Em0f/n8/8hP/AIUAa1FZP/CTaP8A8/n/AJCf/Cj/AISbR/8An8/8hP8A4UAa1FZP/CTaP/z+f+Qn/wAKP+Em0f8A5/P/ACE/+FAB4o0YeIvC+p6OXCG8t3iVyOFYjg/gcV80ww+PPAW/RYdbn01VbzPJEakHPG4HnIOOo9K+k4/FeiTRrJHfK6MMqyxuQR+VZerjwdr1xBcamkdxLB9xikg4znBwOR7HI6+tY1YTavTdmejl+Iw1OTji4OUH2bT/ADSfzPF9L8Q+LrxH+3fEeewdTwGsfMDD2Kj+Yqe913xNbRk2/wAT7i7fGQsWm7efTLYr0DXPCngvWL6G5hu209RkTR2sBAkHsNuFPvg/SksfB3gGzn82S5ursY4S4LbR7/Kq/rWP+1baep6b/sFpVPfT/l/S/wDwTjNOvPE+oWkcz/FlbR3baYbizCsp98ZGPfOKo6xrXi7S79baH4kS3wBxLJbWalV+hJAY/Tj3rr7vwB4Tl89rbXbqF2JMYaEsqc9CNoJGOOtXtC8H+C9NizqN2dSuCT8zxSIgHTAUfXqSfbFK+KelkvMfs8hhepzTl/d/4Om3r955JrF74s1O/tyPF93fmHDwt5PllG68KO4x1q41v8S/F9pHbnVtQvrR5QoIt/3e4erAAcZ7mvaNM0rwJo+pJqFlF5dwn3C3muFPqAc810Y8S6MBgXYA9on/AMKqNKq788lr2RjXzDL4cqw1KT5dnKTVn5JP8mjzXTfhp8Q9KsI7Oy+IKQQJkrGloCAScnk+5NN1X4W+Pde02XTdV+IC3FlMV82JrThsMGHQjoQD+Fem/wDCTaP/AM/n/kJ/8KP+Em0f/n8/8hP/AIV1JJKyPClJyk5Sd2y7p9mmnaba2SMWS3hSFWbqQoAyfyqzWT/wk2j/APP5/wCQn/wo/wCEm0f/AJ/P/IT/AOFMk1qKyf8AhJtH/wCfz/yE/wDhR/wk2j/8/n/kJ/8ACgDWorJ/4SbR/wDn8/8AIT/4Uf8ACTaP/wA/n/kJ/wDCgDWorJ/4SbR/+fz/AMhP/hR/wk2j/wDP5/5Cf/CgDWorJ/4SbR/+fz/yE/8AhR/wk2j/APP5/wCQn/woA1qKyf8AhJtH/wCfz/yE/wDhR/wk2j/8/n/kJ/8ACgDWoqnY6pZ6kZBaTeYY8bvlIxnOOo9jRQBcooooAKKKKAOItIPEfhWbVLLTdEXVLO5u5buzlW6SIQmU7mSQMQcByxBXdwelb3hTRX8P+GrPTZpVmuIwzzyKMB5XYu5HtuY4rZqG5u7ayhM11cRQRDgvK4VR+JoAmoqOGeK5hWaCVJYnGVdGDKR7EVH9uszefYxdQfasZ8nzBvx67etADbS2e3kumcqRNMZFx2G1Rz+VWqjnuIbWFpriaOKJeWeRgqj6k0QzxXMKzQSpLEwyrowZT9CKAJKKrrfWbXjWi3UBuVGTCJBvA/3etWKACiiigAooooAKKKKACiiigAooooAKKKKACiiigAooooAKKrR6jYzXb2kV7bvcp96FZVLr9VzkVJcXMFpC01zNHDEv3nkYKo+pNAFe+s5Lm702VCoW1uTK4J5IMUice+XH4Zq7TIpop4llhkSSNxlXRgQR7EVEt9ZteNaLdQG5UZMIkG8D/d60AWKKrXWo2ViVF3eW9uX+6JpVTP0yada3lrexmS0uYbhAdpaJw4B9MigCeiiigAooooAKKKKACiiigAooooAKKKKACiiigAooooAKKgur20sYvNvLqG3jJxvmkCDP1NSxyJNGskTq8bDKspyCPUGgB1UtLs5LG0kilKlmuZ5QVPGHldx+OGGfepUvrOS7e0S6ga5QZaFZAXUe69RUzukUbSSMqIoJZmOAB6k0AOopFZXQOjBlYZBByCKgjvrOa5ktorqB7iP78SyAsv1HUUAWKKKKACiiigAooooAKKKKACiiigAooooAKKKKACiiigAooqtBqNjdTyQW97bzTR/fjjlVmX6gHIoAs1VltnfUba4BXZEkisD1+bbjH5GpLm7trKHzrq4igiBxvlcKufqakSRJY1kjdXRhlWU5BHqDQA6imLNE0rxLIhkQAsgYZUHoSO2cH8qr3WqafZSCO7vraCQjcFlmVSR64J9qALdFRW9zb3cImtp45oicB43DA/iKloAKKKKACiiigAooooAKKKKACiiigAooooAKKKKACiiq93f2dgiveXcFsrHCmaQICfbJoAsUUisroHRgysMgg5BFQQX1nczSQwXUEssRxIkcgZk+oHSgCDQ7GXTNCsLGZkaW3gSNyhJUkDHGav1Wu9RsrDZ9svLe33nC+dKqbvpk81ZBBGQcg0AFFV7e+s7uSSO2uoJniOJFjkDFD7gdKsUAFFFFABRRRQAUUUUAFFFFABRRRQAUUUUAFFFFABRRRQAUUUUANCkSs/YqB+Wf8aKdRQAUUUUAFFFFABVK+0jTNSlgmv7C1unt93lNPEr+XuxnGRxnA/Krtcf44TX742mmafpVzdaTNk6g9rcRRSug6RDey4DfxMOccDrkAGX4emj03T/Guv6RCkWjF3msIkXEbvFFiSRAONrOO3XbnvVeXwnpsXwlN+lvENZj07+0hqW0ef8Aagnm+Zv68t79OOlddp3nappVzpd74en0iz8j7OkbywsGQqVIURs2MDHXHWuYNh4vk8Hjwa+lxgm3+wPrIuU8owY2GQJnfvKfw4xu74oAnYw+LPGmiW+pQJNZQ6MNTFtIu6NppGCqzKeDtAbGehbNVr2dfBms+LI9JiSC1/sI6tHbxqBHHOnmKxVRwN21M+4zW1quj6hpeu6Zrmh2QvRbWbafcWXmrG7w5VkZGbC7lK9CRkMeais/D99rt3ruo69aiy/tKxGmw2glWR4oAH3FmX5dzM5OBkAAcmgDH1Xwppul/Ct9QtbaFNX0+x/tFNQCDz2uEXzGcv1JYgg5PIOOlei2s/2m0hnAx5savj0yM1wE9h4t1LwmnhC60qOLfCtnc6uLpDE0AwrOqZ372UEbSAAT1wK9CRFjjVEACqAAB2FADqKKKACiiigAooooAKKKKACiiigAooooAKKKKACkIDKQRkHgilqK5klitJpIITPMiM0cQYL5jAcLk8DJ4yaAOD8X6Fo9rFouk6JplpaazLfQvZPawqjQJG6tLISBnaEBB9SwHeruoWlvr3xOjsNRhjubLTdLW7jt5VDIZpZGTeVPBIWMgZ6bjVDw+/iSxubjU9V8I39zrN5gTzrd2uyKMH5YowZchF/Njkn22dasNUsfFdt4k0myGobrQ2V3aCVY3ZA+9HQsQpIJYEEjhvagDDnuB4N1Hxpb6XGsNrDo66vb26LiOKXEyttXoAxiU46Zz61HqvhTTdL+Fb6ha20Kavp9j/aKagEHntcIvmM5fqSxBByeQcdK2dP8PXusSeIb/XrdbR9YtlsUtVkEjQW6q4+ZhwWYyOSBkDjk1mT2Hi3UvCaeELrSo4t8K2dzq4ukMTQDCs6pnfvZQRtIABPXAoAn12FrrxZpGsT+HLjWLH+yZkMcUUcmyR5ImHEjKPuq1dB4X1DR760uU0mx/s94Jtl1ZtbiCSKTAPzKOORggjII6GpdT1HUdLeGLT/D1zqUGzG63uIUMZHABEjLxjuCap+GdM1CLUNX1rVYI7W61OSPFrHJ5nkxxptUMw4LHJJxx0HOKAOkooooAKKKKACiiigAooooAKKKKACiiigAooooAKKKKAM+/wBI0m8mS81Cws55IEIWW4iVvLXqcEjgcVwOmXb6H8O/GGu6VGbfT5JLm60iILhUTywA6r2VnDOB0wc962fGkOu6jqFppsGiXF7oBTzb37NcQxvcNniE73UhOMtj72QOBmtRoJ/E3hvUtJ1HRrjSIri3a2VZJIn+VlIyvlsQMe+KAOY8R+FtL8OfDhtR0+0hi1TSIFvYr5UAmeVMM5Z+rb/mDZ67q6Dx1pNtrPhC/a5knMEFpNP5CvtSVhGSu8DlgDyBnGeoOKxruy8V694ci8Lajo8dusgjgvtTF0jRSRKRvMaD59zgYwwAG7qcV2GvWst74c1Ozt03TT2ksUa5AyzIQBk9OTQBzerancaP8G2vrRylzFpEYicdUYxqob8Cc/hVDxV4Z0nwr4JTUtKsobe/0Zop4bqNAJXIdQ4Zurb1LBs5zmuin8PHVPh7/wAI9eHyZJtNW1cjny38sDPHXB5/CsS9tvFXiXSbbw/qmjR2cbSRf2hfi6R45URgzeUo+bL7cfMBgE9aAO9ooooAKKKKACiiigAooooAKKKKACiiigAooooAKKKKAGTQx3EEkMyB4pFKOrDhgRgg1wfiPRtKg17wvpuh6da2uqR3yXQa1hWMw2if60sVAwrAhMHqWHpXa6lNd2+mXM1ja/a7tImaG3LhPMfHC7jwMnvXF+GDr+mvJcaj4Uv59Uv3Vr6+N1a4HYKoEpIjQHhR7nkk0AWRY2viL4l6omp28V1b6RZW6W0EyB0V5i7O+08bsIi59M1L4Shj0vxL4n0G0URWFvJBc20K/dh85DuVR2XchbHQbjUmo2Wr6P4um17SdO/tK3vrWO3vLVJkjkV4yxSRS5CkYdlIyOx5qx4X0vUIbvVtZ1aKOC+1SZG+zRvvEEUaBUQsOC33iSOMtxQBk+FtIt9F+IniC3geaVn0+ylmmnffJNIXuMsx9eB0wAAAAAMVHrVp5XxAu9RvPC1zrNo+mW8MTRQRShHWSZm/1jDsy9K37LTLuHx3q+pvGBaXFjawxPuHzOjzFhjqMB1/OpdV1fV7G78qz8NXWowlAVmguYEAbnIYSOpHbkZoAf4bv9J1HSBLo8C29ukjRvb+R5LQyA4ZGTA2sD1rXrn/AAnpN7ptpqFzqKxR3upXr3s0MLbkhLKqhA2BuIVFycDJzXQUAFFFFABRRRQAUUUUAFFFFABRRRQAUUUUAFFFFABWXqWlaHJJJqmqWNjI8MBV7m5iVikQyxGWHA5JrUrhvFkOu6lr1vZnw/cX/h2BVmkjguYU+1y5yFkDup8tcA7f4jjPAwQDDia70v4Q6nLZebZW+o35XTY+Va2tri4WNMD+H5XLAdtwrX8UaBpPhfS9K1bRtPt7G402+tY1eCMI0kUkqROjEcsCHzznkA9a1tVsb7xh4P1DT7jT5tHupMeQJ5I5MOhV0f8AdswxuA468GqF1D4k8Utpun6loa6ZaQXUV1ezNdJKsxiYOqRBSTguFJLbcAdCaAN3WNN8OQxXesaxYaewSH9/c3ECufLUHgkgnHXj3riBFqGl/B21sWM9m+oXkdtChYiS1t7i5AVM9QVifHt07VreIY9fv/FaLP4cub/QbHZLbxwXMCrcz4zvkDuDhD91cckbj0FamtWGoeLPCFzbPZvpOoeYktsty6SbZI3V0YmMsMFlAPOcZoAyvEmh6X4Z/sDVNG0+2sJrbUra1JtowhkglcRMjY+8PmDc91BrvK4qeDxD4ovdJt9S0QaVZWV3He3Mj3UcvnPHyiRhCTt34JLbeF6c12tABRRRQAUUUUAFFFFABRRRQAUUUUAFFFFABRRRQAUUUUAFFFFABRRRQAUUUUAFFZ+p6za6R5X2mK+k83O37JYT3OMYznykbb174zzjoaz/APhMtL/59dc/8EV7/wDGaAOgorn/APhMtL/59dc/8EV7/wDGaP8AhMtL/wCfXXP/AARXv/xmgDoKK5//AITLS/8An11z/wAEV7/8Zo/4TLS/+fXXP/BFe/8AxmgDoKK5/wD4TLS/+fXXP/BFe/8Axmj/AITLS/8An11z/wAEV7/8ZoA6Ciuf/wCEy0v/AJ9dc/8ABFe//GaP+Ey0v/n11z/wRXv/AMZoA6Ciuf8A+Ey0v/n11z/wRXv/AMZo/wCEy0v/AJ9dc/8ABFe//GaAOgorn/8AhMtL/wCfXXP/AARXv/xmj/hMtL/59dc/8EV7/wDGaAOgorn/APhMtL/59dc/8EV7/wDGaP8AhMtL/wCfXXP/AARXv/xmgDoKK5//AITLS/8An11z/wAEV7/8Zo/4TLS/+fXXP/BFe/8AxmgDoKK5/wD4TLS/+fXXP/BFe/8Axmj/AITLS/8An11z/wAEV7/8ZoA6Ciuf/wCEy0v/AJ9dc/8ABFe//GaP+Ey0v/n11z/wRXv/AMZoA6Ciuf8A+Ey0v/n11z/wRXv/AMZo/wCEy0v/AJ9dc/8ABFe//GaAOgorn/8AhMtL/wCfXXP/AARXv/xmj/hMtL/59dc/8EV7/wDGaAOgorn/APhMtL/59dc/8EV7/wDGaP8AhMtL/wCfXXP/AARXv/xmgDoKK5//AITLS/8An11z/wAEV7/8Zo/4TLS/+fXXP/BFe/8AxmgDoKK5/wD4TLS/+fXXP/BFe/8Axmj/AITLS/8An11z/wAEV7/8ZoA6Ciuf/wCEy0v/AJ9dc/8ABFe//GaP+Ey0v/n11z/wRXv/AMZoA6Ciuf8A+Ey0v/n11z/wRXv/AMZo/wCEy0v/AJ9dc/8ABFe//GaAOgorn/8AhMtL/wCfXXP/AARXv/xmj/hMtL/59dc/8EV7/wDGaAOgorn/APhMtL/59dc/8EV7/wDGaP8AhMtL/wCfXXP/AARXv/xmgDoKK5//AITLS/8An11z/wAEV7/8Zo/4TLS/+fXXP/BFe/8AxmgDoKK5/wD4TLS/+fXXP/BFe/8Axmj/AITLS/8An11z/wAEV7/8ZoA6Ciuf/wCEy0v/AJ9dc/8ABFe//GaP+Ey0v/n11z/wRXv/AMZoA6Ciuf8A+Ey0v/n11z/wRXv/AMZo/wCEy0v/AJ9dc/8ABFe//GaAOgorn/8AhMtL/wCfXXP/AARXv/xmj/hMtL/59dc/8EV7/wDGaAOgorn/APhMtL/59dc/8EV7/wDGaP8AhMtL/wCfXXP/AARXv/xmgDoKK5//AITLS/8An11z/wAEV7/8Zo/4TLS/+fXXP/BFe/8AxmgDoKK5/wD4TLS/+fXXP/BFe/8Axmj/AITLS/8An11z/wAEV7/8ZoA6Ciuf/wCEy0v/AJ9dc/8ABFe//GaP+Ey0v/n11z/wRXv/AMZoA6Ciuf8A+Ey0v/n11z/wRXv/AMZo/wCEy0v/AJ9dc/8ABFe//GaAOgorn/8AhMtL/wCfXXP/AARXv/xmj/hMtL/59dc/8EV7/wDGaAOgorn/APhMtL/59dc/8EV7/wDGaP8AhMtL/wCfXXP/AARXv/xmgDoKK5//AITLS/8An11z/wAEV7/8Zo/4TLS/+fXXP/BFe/8AxmgDoKK5/wD4TLS/+fXXP/BFe/8Axmj/AITLS/8An11z/wAEV7/8ZoA6Ciuf/wCEy0v/AJ9dc/8ABFe//GaP+Ey0v/n11z/wRXv/AMZoA6Ciuf8A+Ey0v/n11z/wRXv/AMZo/wCEy0v/AJ9dc/8ABFe//GaAOgorn/8AhMtL/wCfXXP/AARXv/xmj/hMtL/59dc/8EV7/wDGaAOgorn/APhMtL/59dc/8EV7/wDGaP8AhMtL/wCfXXP/AARXv/xmgDoKK5//AITLS/8An11z/wAEV7/8Zo/4TLS/+fXXP/BFe/8AxmgDoKK5/wD4TLS/+fXXP/BFe/8Axmj/AITLS/8An11z/wAEV7/8ZoA6Ciuf/wCEy0v/AJ9dc/8ABFe//GaP+Ey0v/n11z/wRXv/AMZoA6Ciuf8A+Ey0v/n11z/wRXv/AMZo/wCEy0v/AJ9dc/8ABFe//GaAOgorn/8AhMtL/wCfXXP/AARXv/xmj/hMtL/59dc/8EV7/wDGaAOgorn/APhMtL/59dc/8EV7/wDGaP8AhMtL/wCfXXP/AARXv/xmgDoKK5//AITLS/8An11z/wAEV7/8Zo/4TLS/+fXXP/BFe/8AxmgDoKK5/wD4TLS/+fXXP/BFe/8Axmj/AITLS/8An11z/wAEV7/8ZoA6Ciuf/wCEy0v/AJ9dc/8ABFe//GaP+Ey0v/n11z/wRXv/AMZoA6Ciuf8A+Ey0v/n11z/wRXv/AMZo/wCEy0v/AJ9dc/8ABFe//GaAOgorn/8AhMtL/wCfXXP/AARXv/xmj/hMtL/59dc/8EV7/wDGaAOgorn/APhMtL/59dc/8EV7/wDGaP8AhMtL/wCfXXP/AARXv/xmgDoKK5//AITLS/8An11z/wAEV7/8Zo/4TLS/+fXXP/BFe/8AxmgDoKK5/wD4TLS/+fXXP/BFe/8Axmj/AITLS/8An11z/wAEV7/8ZoA6Ciuf/wCEy0v/AJ9dc/8ABFe//GaP+Ey0v/n11z/wRXv/AMZoA6Ciuf8A+Ey0v/n11z/wRXv/AMZo/wCEy0v/AJ9dc/8ABFe//GaAOgorn/8AhMtL/wCfXXP/AARXv/xmj/hMtL/59dc/8EV7/wDGaAOgorn/APhMtL/59dc/8EV7/wDGaP8AhMtL/wCfXXP/AARXv/xmgDoKK5//AITLS/8An11z/wAEV7/8Zo/4TLS/+fXXP/BFe/8AxmgDoKK5/wD4TLS/+fXXP/BFe/8Axmj/AITLS/8An11z/wAEV7/8ZoA6Ciuf/wCEy0v/AJ9dc/8ABFe//GaP+Ey0v/n11z/wRXv/AMZoA6CisvTdfs9VuGgt4dSR1QuTdabcW64yBw0iKCeemc9fQ0UAalFFFABRRRQAUUUUAFFFFABRRRQAUUUUAFFFFABRRRQAUUUUAFFFFABRRRQAUUUUAFFFFABRRRQAUUUUAFFFFABRRRQAUUUUAFFFFABRRRQAUUUUAFFFFABRRRQAUUUUAFFFFABRRRQAUUUUAFFFFABRRRQAUUUUAFFFFABRRRQAUUUUAFFFFABRRRQAUUUUAFFFFABRRRQAUUUUAFFFFABRRRQAUUUUAFFFFABRRRQAUUUUAFFFFABRRRQAUUUUAFFFFABRRRQAUUUUAFFFFABRRRQAUUUUAFFFFABRRRQAUUUUAFFFFABRRRQAUUUUAFFFFAH/2Q==\" />"
      ],
      "text/plain": [
       "<IPython.core.display.HTML object>"
      ]
     },
     "metadata": {},
     "output_type": "display_data"
    }
   ],
   "source": [
    "# 첫 번쨰 문서를 이미지로 표시합니다\n",
    "plt_img_base64(docs[0])"
   ]
  },
  {
   "cell_type": "markdown",
   "id": "97b4a9ca-bd95-4985-9f4f-8cedf1949a48",
   "metadata": {},
   "source": [
    "### 검증\n",
    "왜 이 방법이 효과적인지 이해하기 위해 저장한 이미지를 다시 봅시다."
   ]
  },
  {
   "cell_type": "code",
   "execution_count": 26,
   "id": "94c74413-9dd7-4337-bdca-05e9ee151f27",
   "metadata": {},
   "outputs": [
    {
     "data": {
      "text/html": [
       "<img src=\"data:image/jpeg;base64,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\" />"
      ],
      "text/plain": [
       "<IPython.core.display.HTML object>"
      ]
     },
     "metadata": {},
     "output_type": "display_data"
    }
   ],
   "source": [
    "# 찾아준 이미지와 저정된 이미지의 순서를 확인하여서 이미지 요약 내용이 질문이랑 연관성이 있는지 확인해봅니다.\n",
    "plt_img_base64(img_base64_list[3])"
   ]
  },
  {
   "cell_type": "code",
   "execution_count": 27,
   "id": "bab422d9-104f-4e47-9760-96bdfdd3a9cf",
   "metadata": {},
   "outputs": [
    {
     "data": {
      "text/plain": [
       "' 한글:\\n\\n주요 그래프는 국내 자산금리 및 유통가격과 실험 금융기관의 부동산 가격 변화를 보여주는 표시입니다. 그래프에서는 18년대 이후로 갈릴 것으로 예상되며, 국내 자산금리는 2016년 기준으로 47%까지 감소한 반면 유통가격은 2016년에서 시작부터 38% 증가한 것을 알 수 있습니다. 이러한 그래프는 국내 경제적 상황을 나타내고 있으며, 실험금융기관의 부동산 가격 변화와 비교되는 국내 자산금리를 보여주는 그래프입니다. '"
      ]
     },
     "execution_count": 27,
     "metadata": {},
     "output_type": "execute_result"
    }
   ],
   "source": [
    "# 해당 이미지의 요약을 확인합니다\n",
    "image_summaries[3]"
   ]
  },
  {
   "cell_type": "markdown",
   "id": "a60c457c-a675-4689-a6c4-a843f28a9c23",
   "metadata": {},
   "source": [
    "### RAG 실행\n",
    "질문에 대한 종합적인 답변을 생성하기 위해 RAG를 실행합니다."
   ]
  },
  {
   "cell_type": "code",
   "execution_count": 31,
   "id": "9c64b19e-5a89-4dda-af38-fcc4a36a1b44",
   "metadata": {},
   "outputs": [
    {
     "data": {
      "text/plain": [
       "' 코스피 관련 전망은 국내의 가장 큰 기업이며, 대한민국의 경제 및 재무 분야에서도 중요한 역할을 한다. 그러나, 코스피 전망은 당연히 국내와 국외 경제 상황, 기업들의 성장 및 경쟁력 등이 변동함에도 상대적으로 관련된다. 따라서, 코스피 전망은 고객이 자신의 투자 목표와 리스크 용이를 고려한 기본적인 요인을 포함해야 한다.\\n\\n그러나, 고객은 이러한 전망에서 얻는 정보와 함께 자신의 리스크 관리와 투자 전략 등을 고려하여 최적의 결정을 내려야 합니다. 따라서, 국내경제 상황에 따라 코스피 투자 또는 기업 종류에 따라 금융 전문가와 함께 협의하고, 자신의 리스크 관리와 투자 전략을 최적화해야 합니다.\\n\\n예를 들어, 국내경제 상황에서는 기업의 수익 및 매출이 느 증가함에도 코스피 전망은 중요한 역할을 합니다. 그러나, 국외 경제 상황에서는 기업들의 경쟁력과 주요 시장 등이 변동함에도 전망은 중요한 요인을 포함할 수 있습니다.\\n\\n따라서, 고객은 국내와 국외 경제 상황에 따른 기업 성장 및 경쟁력의 변동과 같은 전망에 대한 이해를 갖추고, 금융 전문가와 함께 최적의 투자 전략을 세우는 것이 중요합니다. '"
      ]
     },
     "execution_count": 31,
     "metadata": {},
     "output_type": "execute_result"
    }
   ],
   "source": [
    "# RAG 체인 실행\n",
    "query = \"코스피 관련해서 전망을 종합적으로 알려줘\"\n",
    "chain_multimodal_rag.invoke(query)"
   ]
  },
  {
   "cell_type": "code",
   "execution_count": 32,
   "id": "1c3bf850-7b52-4b08-b807-2a458867ae75",
   "metadata": {},
   "outputs": [
    {
     "data": {
      "text/plain": [
       "'Here is the translation:\\n\\n\"코스피 관련해서 전망을 종합적으로 알려드릴게요\"\\n\\n 혹시나, \"이 자료는 당사 고객에게만 배포되는 것으로 저작권은 당사에 있습니다. 불법 복제 및 배포를 금합니다.\"\\n\\n\"저작권은 당사에 있으며 이 자료에 수록된 내용은 당사의 연구 센터에서 신뢰할 만한 출처로부터 얻은 것입니다. 그러나 당사는 정확성이나 완전성을 보장할 수 없습니다.\"\\n\\n\"따라서 이 자료는 어떠한 경우에도 고객의 증권 투자 결과와 관련된 법적 책임에 대한 증명으로 사용될 수 없습니다.\"'"
      ]
     },
     "execution_count": 32,
     "metadata": {},
     "output_type": "execute_result"
    }
   ],
   "source": [
    "# openSource 사용시 영어로 답변이 나온다면 최종 멀티모달 RAG 체인 실행\n",
    "final_multimodal_rag.invoke(query)"
   ]
  },
  {
   "cell_type": "markdown",
   "id": "dea241f1-bd11-45cb-bb33-c4e2e8286855",
   "metadata": {},
   "source": [
    "### 고려 사항\n",
    "\n",
    "**조회**\n",
    "\n",
    "- 조회는 이미지 요약 및 텍스트 조각과의 유사성을 기반으로 수행됩니다.\n",
    "- 텍스트 조각이 많을 경우 이미지 조회가 실패할 수 있습니다.\n",
    "\n",
    "**이미지 크기**\n",
    "\n",
    "- 답변의 품질은 이미지 크기에 민감합니다."
   ]
  },
  {
   "cell_type": "code",
   "execution_count": null,
   "id": "de69dd8e-a677-460f-8991-c38ec577199d",
   "metadata": {},
   "outputs": [],
   "source": []
  }
 ],
 "metadata": {
  "kernelspec": {
   "display_name": "Python 3 (ipykernel)",
   "language": "python",
   "name": "python3"
  },
  "language_info": {
   "codemirror_mode": {
    "name": "ipython",
    "version": 3
   },
   "file_extension": ".py",
   "mimetype": "text/x-python",
   "name": "python",
   "nbconvert_exporter": "python",
   "pygments_lexer": "ipython3",
   "version": "3.12.2"
  }
 },
 "nbformat": 4,
 "nbformat_minor": 5
}

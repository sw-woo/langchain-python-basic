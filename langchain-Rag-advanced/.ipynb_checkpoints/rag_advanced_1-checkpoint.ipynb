{
	"cells": [
		{
			"cell_type": "code",
			"execution_count": 7,
			"id": "52fb2918-5ce2-4992-96d4-87d1f81ffae7",
			"metadata": {},
			"outputs": [],
			"source": [
				"import os\n",
				"from dotenv import load_dotenv\n",
				"load_dotenv()\n",
				"openai_api_key = os.getenv(\"OPENAI_API_KEY\")\n",
				"\n",
				"if not openai_api_key:\n",
				"    raise ValueError(\"openai api 키가 없습니다. 한번더 확인 부탁드립니다.\")\n",
				"\n",
				"os.environ['OPENAI_API_KEY'] = openai_api_key"
			]
		},
		{
			"cell_type": "code",
			"execution_count": 8,
			"id": "769fb076-e512-4d3e-9a50-c48c1db79349",
			"metadata": {},
			"outputs": [
				{
					"name": "stderr",
					"output_type": "stream",
					"text": [
						"/Users/usermackbookpro/miniconda3/envs/langchain/lib/python3.12/site-packages/langchain_core/_api/beta_decorator.py:87: LangChainBetaWarning: The function `loads` is in beta. It is actively being worked on, so the API may change.\n",
						"  warn_beta(\n"
					]
				},
				{
					"data": {
						"text/plain": [
							"'국채는 정부가 발행하는 채권으로, 국가의 자금을 조달하기 위해 사용됩니다. 최근 미국 중앙은행의 금리 인하 기대가 커지면서 국채 시장에 영향을 미칠 수 있습니다. 추가적인 정보가 필요하다면 구체적인 질문을 해주시면 좋겠습니다.'"
						]
					},
					"execution_count": 8,
					"metadata": {},
					"output_type": "execute_result"
				}
			],
			"source": [
				"import bs4\n",
				"from langchain import hub\n",
				"from langchain.text_splitter import RecursiveCharacterTextSplitter\n",
				"from langchain_community.document_loaders import WebBaseLoader\n",
				"from langchain_community.vectorstores import Chroma\n",
				"from langchain_core.output_parsers import StrOutputParser\n",
				"from langchain_core.runnables import RunnablePassthrough\n",
				"from langchain_openai import ChatOpenAI, OpenAIEmbeddings\n",
				"\n",
				"#### INDEXING ####\n",
				"\n",
				"# Load Documents\n",
				"loader = WebBaseLoader(\n",
				"    web_paths=(\"https://news.naver.com/section/101\",),\n",
				"    bs_kwargs=dict(\n",
				"        parse_only=bs4.SoupStrainer(\n",
				"            class_=(\"sa_text\", \"sa_item _SECTION_HEADLINE\")\n",
				"        )\n",
				"    ),\n",
				")\n",
				"docs = loader.load()\n",
				"\n",
				"# Split\n",
				"# text_splitter = RecursiveCharacterTextSplitter(chunk_size=300, chunk_overlap=20)\n",
				"# splits = text_splitter.split_documents(docs)\n",
				"\n",
				"#이점: from_tiktoken_encoder 메서드는 텍스트를 분할할 때 tiktoken 인코더를 사용하여 텍스트를 토큰으로 변환한 다음 분할합니다. 이 방법은 특히 OpenAI 모델과 같은 토큰 기반 언어 모델에서 텍스트를 처리할 때 유용합니다. \n",
				"# 토큰 단위로 정확한 분할을 가능하게 하므로, 텍스트가 모델의 입력 토큰 제한에 맞도록 더 정밀하게 분할할 수 있습니다.\n",
				"# 적용 상황: 이 방법은 모델이 토큰 수를 기준으로 텍스트를 처리해야 할 때(예: GPT 모델) 유리합니다. 특히 텍스트가 다양한 언어를 포함하거나 복잡한 구문을 가질 때 유용합니다.\n",
				"# Split\n",
				"text_splitter = RecursiveCharacterTextSplitter.from_tiktoken_encoder(\n",
				"    chunk_size=300, \n",
				"    chunk_overlap=50)\n",
				"splits = text_splitter.split_documents(docs)\n",
				"\n",
				"# Embed\n",
				"vectorstore = Chroma.from_documents(documents=splits, \n",
				"                                    embedding=OpenAIEmbeddings())\n",
				"\n",
				"# retriever = vectorstore.as_retriever(search_kwargs={\"k\": 1})\n",
				"\n",
				"# MMR 알고리즘이 고려할 문서 수를 더 많이 가져옵니다.\n",
				"# 그러나 최종적으로 상위 1개 문서만 반환합니다\n",
				"retriever = vectorstore.as_retriever(\n",
				"    search_type=\"mmr\", # MMR 알고리즘을 사용하여 검색\n",
				"    search_kwargs={'k':1,'fetch_k':4} # 상위 1개의 문서를 반환하지만, 고려할 문서는 4개로 설정\n",
				")\n",
				"\n",
				"#### RETRIEVAL and GENERATION ####\n",
				"\n",
				"# Prompt\n",
				"\n",
				"prompt = hub.pull(\"sungwoo/ragbasic\")\n",
				"\n",
				"# LLM\n",
				"# llm = ChatOpenAI(model_name=\"gpt-3.5-turbo\", temperature=0)\n",
				"llm = ChatOpenAI(model_name=\"gpt-4o-mini\", temperature=0)\n",
				"\n",
				"# Post-processing\n",
				"def format_docs(docs):\n",
				"    formatted = \"\\n\\n\".join(doc.page_content for doc in docs)\n",
				"    # print(\"Retrieved Context:\\n\", formatted)\n",
				"    return formatted\n",
				"\n",
				"# Chain\n",
				"rag_chain = (\n",
				"    {\"context\": retriever | format_docs, \"question\": RunnablePassthrough()}\n",
				"    | prompt\n",
				"    | llm\n",
				"    | StrOutputParser()\n",
				")\n",
				"\n",
				"# Question\n",
				"rag_chain.invoke(\"국채 관련한 정보를 알려줘\")"
			]
		},
		{
			"cell_type": "markdown",
			"id": "4d5ae9ef-f931-4713-b9f1-0adc8c8fec6e",
			"metadata": {},
			"source": [
				"## 벡터DB에서 어떤 컨텐스트를 가져오는지 확인해보기"
			]
		},
		{
			"cell_type": "code",
			"execution_count": 2,
			"id": "42526fc2-d9cb-4443-b7fe-a679fc754986",
			"metadata": {},
			"outputs": [
				{
					"name": "stderr",
					"output_type": "stream",
					"text": [
						"/Users/usermackbookpro/miniconda3/envs/langchain/lib/python3.12/site-packages/langchain_core/_api/deprecation.py:141: LangChainDeprecationWarning: The method `BaseRetriever.get_relevant_documents` was deprecated in langchain-core 0.1.46 and will be removed in 0.3.0. Use invoke instead.\n",
						"  warn_deprecated(\n"
					]
				},
				{
					"data": {
						"text/plain": [
							"[Document(metadata={'source': 'https://news.naver.com/section/101'}, page_content=\"신탁업계 자본력 1위인 한국토지신탁(034830)이 6개월 만의 공모 회사채 발행에서 목표액 모집에 성공하며, 분위기 반전에 성공했다. 20일 금융투자업계에 따르면 한국토지신탁(A-)은 회사채 2년물 300억원, 3\\n\\n\\n이데일리\\n\\n27분전\\n\\n\\n\\n\\n\\n\\n\\n\\n'서울서 당첨돼 집 산다? 꿈깨라'…청약통장 깬다\\n\\n정부가 청약통장 가입자를 위해 금리 인상, 세액 공제 확대 같은 혜택을 늘리고 있지만 청약통장 가입자는 1년 새 34만명이나 줄었습니다. 특히 주택청약종합저축 1순위 가입자는 1년 만에 47만 명이나 줄어들었습니다.\")]"
						]
					},
					"execution_count": 2,
					"metadata": {},
					"output_type": "execute_result"
				}
			],
			"source": [
				"docs = retriever.get_relevant_documents(\"국채 관련한 정보를 알려줘\")\n",
				"docs"
			]
		},
		{
			"cell_type": "code",
			"execution_count": 4,
			"id": "1ab1b3b3-298e-4aca-b9c5-dc1458dcfbec",
			"metadata": {},
			"outputs": [],
			"source": [
				"# # 문서 검색 시 더 높은 다양성을 가진 문서를 더 많이 검색합니다.\n",
				"# # 데이터셋에 유사한 문서가 많을 경우 유용합니다.\n",
				"# docsearch.as_retriever(\n",
				"#     search_type=\"mmr\",  # MMR(Maximal Marginal Relevance) 알고리즘을 사용하여 검색\n",
				"#     search_kwargs={'k': 6, 'lambda_mult': 0.25}  # 상위 6개의 문서를 검색하고 다양성을 높이기 위해 lambda 값을 0.25로 설정\n",
				"# )\n",
				"\n",
				"# # MMR 알고리즘이 고려할 문서 수를 더 많이 가져옵니다.\n",
				"# # 그러나 최종적으로 상위 5개 문서만 반환합니다.\n",
				"# docsearch.as_retriever(\n",
				"#     search_type=\"mmr\",  # MMR 알고리즘을 사용하여 검색\n",
				"#     search_kwargs={'k': 5, 'fetch_k': 50}  # 상위 5개의 문서를 반환하지만, 고려할 문서는 50개로 설정\n",
				"# )\n",
				"\n",
				"# # 특정 임계값 이상의 유사도 점수를 가진 문서만 검색합니다.\n",
				"# docsearch.as_retriever(\n",
				"#     search_type=\"similarity_score_threshold\",  # 유사도 점수 기반 검색\n",
				"#     search_kwargs={'score_threshold': 0.8}  # 유사도 점수가 0.8 이상인 문서만 검색\n",
				"# )\n",
				"\n",
				"# # 데이터셋에서 가장 유사한 문서 하나만 검색합니다.\n",
				"# docsearch.as_retriever(search_kwargs={'k': 1})"
			]
		},
		{
			"cell_type": "markdown",
			"id": "f7d04548-2028-4203-b353-c830901cd815",
			"metadata": {},
			"source": [
				"# Multi Query\n",
				"![Example Image](./advancedRagFlow.png)"
			]
		},
		{
			"cell_type": "code",
			"execution_count": 1,
			"id": "843ddc86-0d1c-46d1-b98d-f5d7cc8e61e2",
			"metadata": {},
			"outputs": [
				{
					"name": "stderr",
					"output_type": "stream",
					"text": [
						"USER_AGENT environment variable not set, consider setting it to identify your requests.\n"
					]
				}
			],
			"source": [
				"import bs4\n",
				"from langchain import hub\n",
				"from langchain.text_splitter import RecursiveCharacterTextSplitter\n",
				"from langchain_community.document_loaders import WebBaseLoader\n",
				"from langchain_community.vectorstores import Chroma\n",
				"from langchain_core.output_parsers import StrOutputParser\n",
				"from langchain_core.runnables import RunnablePassthrough\n",
				"from langchain_openai import ChatOpenAI, OpenAIEmbeddings\n",
				"\n",
				"#### INDEXING ####\n",
				"\n",
				"loader = WebBaseLoader(\n",
				"    web_paths=(\"https://news.naver.com/section/101\",),\n",
				"    bs_kwargs=dict(\n",
				"        parse_only=bs4.SoupStrainer(\n",
				"            class_=(\"sa_text\", \"sa_item _SECTION_HEADLINE\")\n",
				"        )\n",
				"    ),\n",
				")\n",
				"docs = loader.load()\n",
				"\n",
				"\n",
				"# Split\n",
				"from langchain.text_splitter import RecursiveCharacterTextSplitter\n",
				"text_splitter = RecursiveCharacterTextSplitter.from_tiktoken_encoder(\n",
				"    chunk_size=300, \n",
				"    chunk_overlap=50)\n",
				"\n",
				"# Make splits\n",
				"splits = text_splitter.split_documents(docs)\n",
				"\n",
				"# Index\n",
				"from langchain_openai import OpenAIEmbeddings\n",
				"from langchain_community.vectorstores import Chroma\n",
				"vectorstore = Chroma.from_documents(documents=splits, \n",
				"                                    embedding=OpenAIEmbeddings())\n",
				"\n",
				"retriever = vectorstore.as_retriever()"
			]
		},
		{
			"cell_type": "markdown",
			"id": "fe22014e-1fa1-41de-bf59-f0e34aa6016a",
			"metadata": {},
			"source": [
				"### prompt"
			]
		},
		{
			"cell_type": "code",
			"execution_count": 2,
			"id": "7583a7a5-a19a-4616-a69b-6ea5aaa33bc9",
			"metadata": {},
			"outputs": [],
			"source": [
				"from langchain.prompts import ChatPromptTemplate\n",
				"\n",
				"# Multi Query: Different Perspectives\n",
				"# template = \"\"\"You are an AI language model assistant. Your task is to generate five \n",
				"# different versions of the given user question to retrieve relevant documents from a vector \n",
				"# database. By generating multiple perspectives on the user question, your goal is to help\n",
				"# the user overcome some of the limitations of the distance-based similarity search. \n",
				"# Provide these alternative questions separated by newlines. Original question: {question}\"\"\"\n",
				"# prompt_perspectives = ChatPromptTemplate.from_template(template)\n",
				"\n",
				"template = \"\"\"\n",
				"당신은 AI 언어 모델 조수입니다. 당신의 임무는 주어진 사용자 질문에 대해 벡터 데이터베이스에서 관련 문서를 검색할 수 있도록 다섯 가지 다른 버전을 생성하는 것입니다. \n",
				"사용자 질문에 대한 여러 관점을 생성함으로써, 거리 기반 유사성 검색의 한계를 극복하는 데 도움을 주는 것이 목표입니다. \n",
				"각 질문은 새 줄로 구분하여 제공하세요. 원본 질문: {question}\n",
				"\"\"\"\n",
				"prompt_perspectives = ChatPromptTemplate.from_template(template)\n",
				"\n",
				"\n",
				"from langchain_core.output_parsers import StrOutputParser\n",
				"from langchain_openai import ChatOpenAI\n",
				"\n",
				"generate_queries = (\n",
				"    prompt_perspectives \n",
				"    | ChatOpenAI(model_name=\"gpt-4o-mini\",temperature=0) \n",
				"    | StrOutputParser() \n",
				"    | (lambda x: x.split(\"\\n\"))\n",
				")"
			]
		},
		{
			"cell_type": "code",
			"execution_count": 3,
			"id": "6f37aab4-d4a2-47a7-bbe6-d3610ea6f6ff",
			"metadata": {},
			"outputs": [
				{
					"data": {
						"text/plain": [
							"['집값의 미래 전망은 어떻게 될까요?  ',\n",
							" '현재 집값의 추세와 앞으로의 변화는 어떤 영향을 받을까요?  ',\n",
							" '부동산 시장에서 집값이 오를지 내릴지에 대한 예측은 무엇인가요?  ',\n",
							" '경제적 요인들이 집값에 미치는 영향은 어떤 것들이 있을까요?  ',\n",
							" '향후 몇 년간 집값의 변동성을 어떻게 분석할 수 있을까요?  ']"
						]
					},
					"execution_count": 3,
					"metadata": {},
					"output_type": "execute_result"
				}
			],
			"source": [
				"generated_query = generate_queries.invoke(\"집값의 향방?\")\n",
				"generated_query"
			]
		},
		{
			"cell_type": "code",
			"execution_count": 4,
			"id": "934bebde-0c80-497d-b86d-0814624e4eac",
			"metadata": {},
			"outputs": [
				{
					"name": "stderr",
					"output_type": "stream",
					"text": [
						"/Users/usermackbookpro/miniconda3/envs/langchain/lib/python3.12/site-packages/langchain_core/_api/beta_decorator.py:87: LangChainBetaWarning: The function `loads` is in beta. It is actively being worked on, so the API may change.\n",
						"  warn_beta(\n"
					]
				},
				{
					"data": {
						"text/plain": [
							"[Document(metadata={'source': 'https://news.naver.com/section/101'}, page_content='제수용품 가격이 대부분 오르면서 올해 추석 차례를 지내는 데 드는 비용이 작년보다 9% 더 든다는 분석이 나왔다. 26일 가격조사기관 한국물가협회에 따르면, 지난 22일 기준 전국 17개 시도 전통시장에서 28개 차\\n\\n\\n조선일보\\n\\n\\n\\n\\n15\\n개의 관련뉴스 더보기'),\n",
							" Document(metadata={'source': 'https://news.naver.com/section/101'}, page_content='챗 GPT가 세상에 모습을 드러낸 이후 AI(인공지능)는 빠른 속도로 우리 삶 깊숙이 들어왔다. AI가 자리 잡은 건 스타트업 생태계도 마찬가지다. 불과 2~3년 전만 해도 스타트업이 AI 기술을 도입했다 하면 투자\\n\\n\\n머니투데이\\n\\n\\n\\n\\n9\\n개의 관련뉴스 더보기'),\n",
							" Document(metadata={'source': 'https://news.naver.com/section/101'}, page_content='26일 국내 국고채 시장은 미국채 금리 흐름을 반영하며 금리가 2bp(1bp=0.01%포인트) 내외 하락, 소폭 강세다. 채권 금리와 가격은 반대로 움직인다. 3년물 금리는 2거래일 만에 재차 2.8%대에 진입한 가\\n\\n\\n이데일리\\n\\n40분전'),\n",
							" Document(metadata={'source': 'https://news.naver.com/section/101'}, page_content='서울경제\\n\\n35분전\\n\\n\\n\\n\\n\\n\\n\\n\\n포스코이앤씨의 다른 행보…\"주택사업 정면돌파\"'),\n",
							" Document(metadata={'source': 'https://news.naver.com/section/101'}, page_content='포스코이앤씨(옛 포스코건설)가 올해 상반기 정비사업 수주 확대 등 주택 중심의 건축사업 기반으로 수익성 회복에 나서고 있다. 여타 대형 건설사들이 인프라(토목)나 해외 수주를 통해 주택 경기 부진의 돌파구를 마련한 \\n\\n\\n비즈워치\\n\\n40분전'),\n",
							" Document(metadata={'source': 'https://news.naver.com/section/101'}, page_content='\"모기지 금리 인하로 美주택시장 개선…비싼 가격, 공급 부족 문제는 여전\" 미국의 \\'고금리 장기화\\'가 마무리되고 다음 달 기준금리 인하가 시작될 것이라는 전망이 힘을 얻으면서, 채권 투자 등이 유망할 것이라는 견해가\\n\\n\\n연합뉴스\\n\\n56분전'),\n",
							" Document(metadata={'source': 'https://news.naver.com/section/101'}, page_content='이복현 금융감독원장이 가계대출 급증과 관련 \"주택담보대출(주담대) 금리 인상은 당국이 바란 것이 아니다\"라며 추가 대책 등 은행 개입을 강화하겠다고 밝힌 지 하루 만에, 은행권이 추가 \\'대출 옥죄기\\' 방안 마련으로 \\n\\n\\n뉴스1\\n\\n53분전')]"
						]
					},
					"execution_count": 4,
					"metadata": {},
					"output_type": "execute_result"
				}
			],
			"source": [
				"from langchain.load import dumps, loads\n",
				"\n",
				"def get_unique_union(documents: list[list]):\n",
				"    \"\"\" 고유한 문서들의 합집합을 생성하는 함수입니다. \"\"\"\n",
				"    \n",
				"    # 리스트의 리스트를 평탄화하고, 각 문서를 문자열로 직렬화합니다.\n",
				"    flattened_docs = [dumps(doc) for sublist in documents for doc in sublist]\n",
				"    \n",
				"    # 중복된 문서를 제거하고 고유한 문서만 남깁니다.\n",
				"    unique_docs = list(set(flattened_docs))\n",
				"    \n",
				"    # 고유한 문서를 원래의 문서 객체로 변환하여 반환합니다.\n",
				"    return [loads(doc) for doc in unique_docs]\n",
				"\n",
				"# 사용자 질문 정의\n",
				"question = \"집값의 향방?\"\n",
				"\n",
				"# 문서 검색 체인을 구성합니다.\n",
				"# generate_queries: 주어진 질문에 대해 검색 쿼리를 생성합니다.\n",
				"# retriever.map(): 생성된 쿼리를 바탕으로 관련 문서를 검색합니다.\n",
				"# get_unique_union: 검색된 문서에서 중복을 제거하고 고유한 문서들을 반환합니다.\n",
				"retrieval_chain = generate_queries | retriever.map() | get_unique_union\n",
				"\n",
				"# 체인을 실행하여 질문에 대한 관련 문서를 검색하고 고유한 문서를 반환합니다.\n",
				"docs = retrieval_chain.invoke({\"question\": question})\n",
				"\n",
				"# 중복 제거 전 chain\n",
				"# retrieval_chain = generate_queries | retriever.map()\n",
				"\n",
				"# 검색된 고유 문서들의 개수를 출력합니다.\n",
				"len(docs)\n",
				"\n",
				"# 검색된 고유 문서들을 출력합니다.\n",
				"docs"
			]
		},
		{
			"cell_type": "code",
			"execution_count": 5,
			"id": "be5ce95c-7aaa-49ca-8633-520176180324",
			"metadata": {},
			"outputs": [
				{
					"data": {
						"text/plain": [
							"'집값의 향방에 대한 여러 요인이 언급되고 있습니다. 미국의 고금리 장기화가 마무리되고 기준금리 인하가 예상되면서, 이는 미국 주택시장의 개선에 긍정적인 영향을 미칠 수 있습니다. 그러나 여전히 비싼 가격과 공급 부족 문제는 해결되지 않고 있어, 이러한 요소들이 집값에 미치는 영향은 복합적입니다.\\n\\n또한, 국내에서는 가계대출 급증과 관련하여 금융당국이 대출 규제를 강화할 계획을 세우고 있어, 이는 주택담보대출 금리에 영향을 미칠 수 있습니다. 이러한 금리 인상은 주택 시장에 부정적인 영향을 줄 수 있으며, 따라서 집값의 향방은 앞으로의 금리 정책과 공급 상황에 따라 달라질 것으로 보입니다. \\n\\n결론적으로, 집값은 금리 변화, 공급 부족, 그리고 정부의 대출 규제 정책 등 여러 요인에 의해 영향을 받을 것으로 예상됩니다.'"
						]
					},
					"execution_count": 5,
					"metadata": {},
					"output_type": "execute_result"
				}
			],
			"source": [
				"from langchain_openai import ChatOpenAI\n",
				"from langchain_core.runnables import RunnablePassthrough\n",
				"\n",
				"# RAG\n",
				"template = \"\"\"다음 맥락을 바탕으로 질문에 답변하세요:\n",
				"\n",
				"{context}\n",
				"\n",
				"질문: {question}\n",
				"\"\"\"\n",
				"\n",
				"prompt = ChatPromptTemplate.from_template(template)\n",
				"\n",
				"llm = ChatOpenAI(model_name=\"gpt-4o-mini\", temperature=0)\n",
				"\n",
				"final_rag_chain = (\n",
				"    {\"context\": retrieval_chain, \n",
				"     \"question\": RunnablePassthrough()} \n",
				"    | prompt\n",
				"    | llm\n",
				"    | StrOutputParser()\n",
				")\n",
				"\n",
				"final_rag_chain.invoke(question)"
			]
		},
		{
			"cell_type": "markdown",
			"id": "f225f383-2abd-4094-8d5e-f465007cefd0",
			"metadata": {},
			"source": [
				"# RAG-Fusion"
			]
		},
		{
			"cell_type": "code",
			"execution_count": 6,
			"id": "893c7fdc-c1b8-42df-a387-de755c15f6fb",
			"metadata": {},
			"outputs": [],
			"source": [
				"# RAG-Fusion: 관련 검색 쿼리 생성\n",
				"\n",
				"# template = \"\"\"You are a helpful assistant that generates multiple search queries based on a single input query. \\n\n",
				"# Generate multiple search queries related to: {question} \\n\n",
				"# Output (4 queries):\"\"\"\n",
				"\n",
				"\n",
				"template = \"\"\"당신은 주어진 하나의 질문을 기반으로 여러 검색 쿼리를 생성하는 유용한 조수입니다. \\n\n",
				"다음 질문과 관련된 여러 검색 쿼리를 생성하세요: {question} \\n\n",
				"출력 (4개의 쿼리):\"\"\"\n",
				"prompt_rag_fusion = ChatPromptTemplate.from_template(template)"
			]
		},
		{
			"cell_type": "code",
			"execution_count": 7,
			"id": "c9240a09-cec7-4ef8-b335-a6c676810c1b",
			"metadata": {},
			"outputs": [],
			"source": [
				"from langchain_core.output_parsers import StrOutputParser\n",
				"from langchain_openai import ChatOpenAI\n",
				"\n",
				"generate_queries = (\n",
				"    prompt_rag_fusion \n",
				"    | ChatOpenAI(temperature=0)\n",
				"    | StrOutputParser() \n",
				"    | (lambda x: x.split(\"\\n\"))\n",
				")"
			]
		},
		{
			"cell_type": "code",
			"execution_count": 10,
			"id": "c766f74c-e6a8-4997-9b20-e43236a70346",
			"metadata": {
				"scrolled": true
			},
			"outputs": [
				{
					"data": {
						"text/plain": [
							"[(Document(metadata={'source': 'https://news.naver.com/section/101'}, page_content='\"모기지 금리 인하로 美주택시장 개선…비싼 가격, 공급 부족 문제는 여전\" 미국의 \\'고금리 장기화\\'가 마무리되고 다음 달 기준금리 인하가 시작될 것이라는 전망이 힘을 얻으면서, 채권 투자 등이 유망할 것이라는 견해가\\n\\n\\n연합뉴스\\n\\n56분전'),\n",
							"  0.06585580821434867),\n",
							" (Document(metadata={'source': 'https://news.naver.com/section/101'}, page_content='제수용품 가격이 대부분 오르면서 올해 추석 차례를 지내는 데 드는 비용이 작년보다 9% 더 든다는 분석이 나왔다. 26일 가격조사기관 한국물가협회에 따르면, 지난 22일 기준 전국 17개 시도 전통시장에서 28개 차\\n\\n\\n조선일보\\n\\n\\n\\n\\n15\\n개의 관련뉴스 더보기'),\n",
							"  0.04841269841269841)]"
						]
					},
					"execution_count": 10,
					"metadata": {},
					"output_type": "execute_result"
				}
			],
			"source": [
				"from langchain.load import dumps, loads\n",
				"\n",
				"def reciprocal_rank_fusion(results: list[list], k=60, top_n=2):\n",
				"    \"\"\" 여러 개의 순위가 매겨진 문서 리스트를 받아, RRF(Reciprocal Rank Fusion) 공식을 사용하여\n",
				"        문서의 최종 순위를 계산하는 함수입니다. k는 RRF 공식에서 사용되는 선택적 파라미터입니다. \"\"\"\n",
				"    \n",
				"    # 각 고유한 문서에 대한 점수를 저장할 딕셔너리를 초기화합니다.\n",
				"    fused_scores = {}\n",
				"\n",
				"    # 순위가 매겨진 문서 리스트를 순회합니다.\n",
				"    for docs in results:\n",
				"        for rank, doc in enumerate(docs):\n",
				"            # 문서를 문자열 형식으로 직렬화하여 딕셔너리의 키로 사용\n",
				"            doc_str = dumps(doc)\n",
				"            if doc_str not in fused_scores:\n",
				"                fused_scores[doc_str] = 0\n",
				"            # RRF 공식을 사용하여 문서의 점수를 업데이트: 1 / (순위 + k)\n",
				"            fused_scores[doc_str] += 1 / (rank + k)\n",
				"\n",
				"    # 문서들을 계산된 점수에 따라 내림차순으로 정렬\n",
				"    reranked_results = [\n",
				"        (loads(doc), score)\n",
				"        for doc, score in sorted(fused_scores.items(), key=lambda x: x[1], reverse=True)\n",
				"    ]\n",
				"\n",
				"    # 최종적으로 상위 top_n 개의 문서를 반환\n",
				"    return reranked_results[:top_n]"
			]
		},
		{
			"cell_type": "code",
			"execution_count": 12,
			"id": "429d5d8b-bd4f-4c5e-bb77-fce610515441",
			"metadata": {},
			"outputs": [
				{
					"data": {
						"text/plain": [
							"[(Document(metadata={'source': 'https://news.naver.com/section/101'}, page_content='\"모기지 금리 인하로 美주택시장 개선…비싼 가격, 공급 부족 문제는 여전\" 미국의 \\'고금리 장기화\\'가 마무리되고 다음 달 기준금리 인하가 시작될 것이라는 전망이 힘을 얻으면서, 채권 투자 등이 유망할 것이라는 견해가\\n\\n\\n연합뉴스\\n\\n56분전'),\n",
							"  0.06533538146441371),\n",
							" (Document(metadata={'source': 'https://news.naver.com/section/101'}, page_content='제수용품 가격이 대부분 오르면서 올해 추석 차례를 지내는 데 드는 비용이 작년보다 9% 더 든다는 분석이 나왔다. 26일 가격조사기관 한국물가협회에 따르면, 지난 22일 기준 전국 17개 시도 전통시장에서 28개 차\\n\\n\\n조선일보\\n\\n\\n\\n\\n15\\n개의 관련뉴스 더보기'),\n",
							"  0.04866871479774705)]"
						]
					},
					"execution_count": 12,
					"metadata": {},
					"output_type": "execute_result"
				}
			],
			"source": [
				"# RAG-Fusion 체인을 구성합니다.\n",
				"# generate_queries: 질문에 대해 여러 검색 쿼리를 생성합니다.\n",
				"# retriever.map(): 생성된 쿼리로 관련 문서들을 검색합니다.\n",
				"# reciprocal_rank_fusion: 검색된 문서들을 RRF 알고리즘을 통해 결합하여 최종 순위를 계산합니다.\n",
				"retrieval_chain_rag_fusion = generate_queries | retriever.map() | reciprocal_rank_fusion\n",
				"\n",
				"# 체인을 실행하여 질문에 대한 검색된 문서들을 가져옵니다.\n",
				"docs = retrieval_chain_rag_fusion.invoke({\"question\": question})\n",
				"\n",
				"# 검색된 고유 문서들의 개수를 출력합니다.\n",
				"len(docs)\n",
				"\n",
				"# 검색된 고유 문서들을 출력합니다.\n",
				"docs\n"
			]
		},
		{
			"cell_type": "code",
			"execution_count": 13,
			"id": "2967b6c0-851f-48ef-b043-faa993162e37",
			"metadata": {},
			"outputs": [
				{
					"data": {
						"text/plain": [
							"'현재 미국의 주택시장은 모기지 금리 인하로 개선될 것으로 보이지만, 여전히 비싼 가격과 공급 부족 문제는 해결되지 않고 있습니다. 따라서 집값의 향방은 단기적으로는 개선될 가능성이 있지만, 장기적으로는 가격 상승 압력이 계속될 수 있는 상황입니다.'"
						]
					},
					"execution_count": 13,
					"metadata": {},
					"output_type": "execute_result"
				}
			],
			"source": [
				"from langchain_openai import ChatOpenAI\n",
				"from langchain_core.runnables import RunnablePassthrough\n",
				"\n",
				"# RAG\n",
				"template = \"\"\"다음 맥락을 바탕으로 질문에 답변하세요:\n",
				"\n",
				"{context}\n",
				"\n",
				"질문: {question}\n",
				"\"\"\"\n",
				"\n",
				"prompt = ChatPromptTemplate.from_template(template)\n",
				"\n",
				"llm = ChatOpenAI(model_name=\"gpt-4o-mini\", temperature=0)\n",
				"\n",
				"final_rag_chain = (\n",
				"    {\"context\": retrieval_chain_rag_fusion, \n",
				"     \"question\": RunnablePassthrough()} \n",
				"    | prompt\n",
				"    | llm\n",
				"    | StrOutputParser()\n",
				")\n",
				"\n",
				"final_rag_chain.invoke(question)"
			]
		},
		{
			"cell_type": "code",
			"execution_count": null,
			"id": "66440718-e11c-45e4-ae69-65ffde80859f",
			"metadata": {},
			"outputs": [],
			"source": []
		}
	],
	"metadata": {
		"kernelspec": {
			"display_name": "Python 3 (ipykernel)",
			"language": "python",
			"name": "python3"
		},
		"language_info": {
			"codemirror_mode": {
				"name": "ipython",
				"version": 3
			},
			"file_extension": ".py",
			"mimetype": "text/x-python",
			"name": "python",
			"nbconvert_exporter": "python",
			"pygments_lexer": "ipython3",
			"version": "3.12.2"
		}
	},
	"nbformat": 4,
	"nbformat_minor": 5
}

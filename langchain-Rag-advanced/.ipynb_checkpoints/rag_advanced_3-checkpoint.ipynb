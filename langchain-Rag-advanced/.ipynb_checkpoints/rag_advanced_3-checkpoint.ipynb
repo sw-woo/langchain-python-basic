{
 "cells": [
  {
   "cell_type": "markdown",
   "id": "85318196-f500-4b55-a1a6-048b303c2b65",
   "metadata": {},
   "source": [
    "# Multiquery + hybrid search + RAG-Fusion"
   ]
  },
  {
   "cell_type": "code",
<<<<<<< HEAD
   "execution_count": 3,
   "id": "d8a13777-157f-4c54-bf69-3db19ab774ec",
   "metadata": {},
   "outputs": [
    {
     "name": "stderr",
     "output_type": "stream",
     "text": [
      "USER_AGENT environment variable not set, consider setting it to identify your requests.\n"
     ]
    }
   ],
   "source": [
    "import bs4\n",
    "from langchain import hub\n",
=======
   "execution_count": 11,
   "id": "d8a13777-157f-4c54-bf69-3db19ab774ec",
   "metadata": {},
   "outputs": [],
   "source": [
    "import bs4\n",
>>>>>>> 2e9e37d (Reset repository)
    "from langchain.text_splitter import RecursiveCharacterTextSplitter\n",
    "from langchain_community.document_loaders import WebBaseLoader\n",
    "from langchain_community.vectorstores import Chroma\n",
    "from langchain_core.output_parsers import StrOutputParser\n",
    "from langchain_core.runnables import RunnablePassthrough\n",
    "from langchain_openai import ChatOpenAI, OpenAIEmbeddings\n",
    "\n",
    "#### INDEXING ####\n",
    "\n",
    "loader = WebBaseLoader(\n",
    "    web_paths=(\"https://news.naver.com/section/101\",),\n",
    "    bs_kwargs=dict(\n",
    "        parse_only=bs4.SoupStrainer(\n",
    "            class_=(\"sa_text\", \"sa_item _SECTION_HEADLINE\")\n",
    "        )\n",
    "    ),\n",
    ")\n",
    "docs = loader.load()\n",
    "\n",
    "\n",
    "# Split\n",
    "from langchain.text_splitter import RecursiveCharacterTextSplitter\n",
    "text_splitter = RecursiveCharacterTextSplitter.from_tiktoken_encoder(\n",
    "    chunk_size=300, \n",
    "    chunk_overlap=50)\n",
    "\n",
    "# Make splits\n",
    "splits = text_splitter.split_documents(docs)\n",
    "\n"
   ]
  },
  {
   "cell_type": "code",
<<<<<<< HEAD
   "execution_count": 5,
=======
   "execution_count": 12,
>>>>>>> 2e9e37d (Reset repository)
   "id": "09c80a2b-96c2-4157-a323-a3bd734e2dd2",
   "metadata": {},
   "outputs": [],
   "source": [
    "import os\n",
    "from dotenv import load_dotenv\n",
    "load_dotenv()\n",
    "openai_api_key = os.getenv(\"OPENAI_API_KEY\")\n",
    "\n",
    "if not openai_api_key:\n",
    "    raise ValueError(\"openai api 키가 없습니다. 한번더 확인 부탁드립니다.\")\n",
    "\n",
    "os.environ['OPENAI_API_KEY'] = openai_api_key"
   ]
  },
  {
   "cell_type": "code",
<<<<<<< HEAD
   "execution_count": 6,
=======
   "execution_count": 13,
>>>>>>> 2e9e37d (Reset repository)
   "id": "781e0169-3c4d-4318-9377-25ed71851522",
   "metadata": {},
   "outputs": [],
   "source": [
    "# Index\n",
    "from langchain_openai import OpenAIEmbeddings\n",
    "from langchain_community.vectorstores import Chroma\n",
    "vectorstore = Chroma.from_documents(documents=splits, \n",
<<<<<<< HEAD
    "                                    embedding=OpenAIEmbeddings())\n",
    "\n",
=======
    "                                    embedding=OpenAIEmbeddings())\n"
   ]
  },
  {
   "cell_type": "code",
   "execution_count": null,
   "id": "d26d30ed-6ddf-4fb3-bc84-a754d8da8156",
   "metadata": {},
   "outputs": [],
   "source": [
>>>>>>> 2e9e37d (Reset repository)
    "chroma_retriever = vectorstore.as_retriever(\n",
    "    search_type=\"mmr\", # MMR 알고리즘을 사용하여 검색\n",
    "    search_kwargs={'k':1,'fetch_k':4} # 상위 1개의 문서를 반환하지만, 고려할 문서는 4개로 설정\n",
    ")"
   ]
  },
  {
   "cell_type": "code",
<<<<<<< HEAD
   "execution_count": 10,
=======
   "execution_count": 14,
>>>>>>> 2e9e37d (Reset repository)
   "id": "d34b3cef-79c2-4f47-8bc2-6eeba6b74bf6",
   "metadata": {},
   "outputs": [
    {
     "name": "stdout",
     "output_type": "stream",
     "text": [
      "type of bm25 <class 'langchain_community.retrievers.bm25.BM25Retriever'>\n"
     ]
    }
   ],
   "source": [
    "from langchain.retrievers import BM25Retriever, EnsembleRetriever\n",
    "# Initialize the BM25 retriever\n",
    "bm25_retriever = BM25Retriever.from_documents(splits)\n",
    "bm25_retriever.k = 2  # Retrieve top 2 results\n",
    "\n",
    "print(\"type of bm25\", type(bm25_retriever))"
   ]
  },
  {
   "cell_type": "code",
<<<<<<< HEAD
   "execution_count": 11,
=======
   "execution_count": 15,
>>>>>>> 2e9e37d (Reset repository)
   "id": "ee091b44-28d9-4af6-989a-9b0049bdb30d",
   "metadata": {},
   "outputs": [],
   "source": [
    "ensemble_retriever = EnsembleRetriever(\n",
    "    retrievers=[bm25_retriever, chroma_retriever], weights=[0.2, 0.8]\n",
    ")"
   ]
  },
  {
   "cell_type": "code",
<<<<<<< HEAD
   "execution_count": 12,
=======
   "execution_count": 16,
>>>>>>> 2e9e37d (Reset repository)
   "id": "0ce2284a-c4a2-456d-b177-cd476ba669f1",
   "metadata": {},
   "outputs": [
    {
<<<<<<< HEAD
     "name": "stderr",
     "output_type": "stream",
     "text": [
      "/Users/usermackbookpro/miniconda3/envs/langchain/lib/python3.12/site-packages/langchain_core/_api/deprecation.py:141: LangChainDeprecationWarning: The method `BaseRetriever.get_relevant_documents` was deprecated in langchain-core 0.1.46 and will be removed in 0.3.0. Use invoke instead.\n",
      "  warn_deprecated(\n"
     ]
    },
    {
     "data": {
      "text/plain": [
       "[Document(metadata={'source': 'https://news.naver.com/section/101'}, page_content='아파트 등 집값은 오르고, 여기에 발 맞춰 가계대출이 늘면서 올해 들어 2분기 가계 빚이 역대 최대 기록을 갈아치웠습니다. 언뜻 보면 주택 거래가 회복되는 분위기지만 결국 모두 ‘빚’입니다. 일단 ‘사자’에, 이른바\\n\\n\\nJIBS\\n\\n18분전'),\n",
       " Document(metadata={'source': 'https://news.naver.com/section/101'}, page_content='수도권 주담대 한도 3500만원 줄어\\n\\n다음달부터 수도권에 있는 집을 매입하는 사람의 주택담보대출 한도가 비수도권보다 더 많이 줄어든다. 정부가 가계 빚 폭증의 원인으로 꼽히는 수도권 집값 상승세를 잡기 위해 더욱 강한 대출 규제를 내놓은 데 따른 것이다'),\n",
       " Document(metadata={'source': 'https://news.naver.com/section/101'}, page_content='미국 반도체 기업 AMD가 인공지능(AI) 서버 제조사 ZT시스템스를 49억 달러(약 6조5000억원)에 인수한다고 19일(현지시간) 밝혔다. AMD 사상 가장 큰 인수합병이다. ZT시스템스의 연간 매출은 100억 \\n\\n\\n중앙일보\\n\\n39분전'),\n",
       " Document(metadata={'source': 'https://news.naver.com/section/101'}, page_content='한국경제\\n\\n24분전\\n\\n\\n\\n\\n\\n\\n\\n\\n\"집값 1년 후 더 오를 것\"… 돌아온 영끌족에 가계빚 폭증')]"
      ]
     },
     "execution_count": 12,
=======
     "data": {
      "text/plain": [
       "[Document(metadata={'source': 'https://news.naver.com/section/101'}, page_content='맞벌이 부부인 장모(31)씨는 올해 초 서울 성동구 A아파트를 9억원에 매수했다. 집값의 70% 정도인 6억원을 30년 만기 고정금리형 주택담보대출과 신용 대출로 마련했다. 매달 원금과 이자를 합해 300만원을 빚 \\n\\n\\n중앙일보\\n\\n1시간전'),\n",
       " Document(metadata={'source': 'https://news.naver.com/section/101'}, page_content='YTN\\n\\n59분전\\n\\n\\n\\n\\n\\n\\n\\n\\n불붙은 집값에 컴백한 영끌족…주담대 증가의 40%는 2030'),\n",
       " Document(metadata={'source': 'https://news.naver.com/section/101'}, page_content='임종훈 한미사이언스 대표가 신동국 한양정밀 회장 등 3자 연합에 투자유치 방해 행위를 중단하라고 촉구했다. 특히 대규모 투자가 필요하다며 OCI홀딩스와 통합을 주장했던 송영숙 한미 회장과 임주현 부회장이 이제 와서 \\n\\n\\n코메디닷컴\\n\\n53분전')]"
      ]
     },
     "execution_count": 16,
>>>>>>> 2e9e37d (Reset repository)
     "metadata": {},
     "output_type": "execute_result"
    }
   ],
   "source": [
    "# 예시 고객 문의\n",
    "query = \"향후 집값에 대해서 알려줘\"\n",
    "\n",
    "# 관련 문서/제품 검색\n",
    "docs = ensemble_retriever.get_relevant_documents(query)\n",
    "\n",
    "# 각 문서에서 페이지 내용을 추출하여 출력\n",
    "# for doc in docs:\n",
    "#     print(doc.page_content)\n",
    "\n",
    "# 검색된 문서들 출력\n",
    "docs"
   ]
  },
  {
   "cell_type": "code",
<<<<<<< HEAD
   "execution_count": 13,
=======
   "execution_count": 17,
>>>>>>> 2e9e37d (Reset repository)
   "id": "72b038f9-be2d-47a2-94a5-35fdecd1583f",
   "metadata": {},
   "outputs": [],
   "source": [
    "from langchain.prompts import ChatPromptTemplate\n",
    "from langchain_core.output_parsers import StrOutputParser\n",
    "from langchain_openai import ChatOpenAI\n",
    "\n",
    "template = \"\"\"\n",
    "당신은 AI 언어 모델 조수입니다. 당신의 임무는 주어진 사용자 질문에 대해 벡터 데이터베이스에서 관련 문서를 검색할 수 있도록 다섯 가지 다른 버전을 생성하는 것입니다. \n",
    "사용자 질문에 대한 여러 관점을 생성함으로써, 거리 기반 유사성 검색의 한계를 극복하는 데 도움을 주는 것이 목표입니다. \n",
    "각 질문은 새 줄로 구분하여 제공하세요. 원본 질문: {question}\n",
    "\"\"\"\n",
    "prompt_perspectives = ChatPromptTemplate.from_template(template)\n",
    "\n",
    "\n",
    "generate_queries = (\n",
    "    prompt_perspectives \n",
    "    | ChatOpenAI(model_name=\"gpt-4o-mini\",temperature=0) \n",
    "    | StrOutputParser() \n",
    "    | (lambda x: x.split(\"\\n\"))\n",
    ")"
   ]
  },
  {
   "cell_type": "code",
<<<<<<< HEAD
   "execution_count": 14,
=======
   "execution_count": 18,
>>>>>>> 2e9e37d (Reset repository)
   "id": "4eddb86f-8315-4707-8554-9dcd126b6de8",
   "metadata": {},
   "outputs": [],
   "source": [
    "from langchain.load import dumps, loads\n",
    "\n",
    "def reciprocal_rank_fusion(results: list[list], k=60, top_n=2):\n",
    "    \"\"\" \n",
    "    여러 개의 순위가 매겨진 문서 리스트를 받아, RRF(Reciprocal Rank Fusion) 공식을 사용하여\n",
    "    문서의 최종 순위를 계산하는 함수입니다. k는 RRF 공식에서 사용되는 선택적 파라미터이며,\n",
    "    top_n은 반환할 우선순위가 높은 문서의 개수입니다.\n",
    "    \"\"\"\n",
    "    \n",
    "    # 각 고유한 문서에 대한 점수를 저장할 딕셔너리를 초기화합니다.\n",
    "    fused_scores = {}\n",
    "\n",
    "    # 순위가 매겨진 문서 리스트를 순회합니다.\n",
    "    for docs in results:\n",
    "        # 리스트 내의 각 문서와 그 문서의 순위를 가져옵니다.\n",
    "        for rank, doc in enumerate(docs):\n",
    "            # 문서를 문자열 형식으로 직렬화하여 딕셔너리의 키로 사용합니다 (문서가 JSON 형식으로 직렬화될 수 있다고 가정).\n",
    "            doc_str = dumps(doc)\n",
    "            # 해당 문서가 아직 딕셔너리에 없으면 초기 점수 0으로 추가합니다.\n",
    "            if doc_str not in fused_scores:\n",
    "                fused_scores[doc_str] = 0\n",
    "            # 문서의 현재 점수를 가져옵니다 (이전에 계산된 점수).\n",
    "            previous_score = fused_scores[doc_str]\n",
    "            # RRF 공식을 사용하여 문서의 점수를 업데이트합니다: 1 / (순위 + k)\n",
    "            fused_scores[doc_str] += 1 / (rank + k)\n",
    "\n",
    "    # 문서들을 계산된 점수에 따라 내림차순으로 정렬하여 최종적으로 재정렬된 결과를 얻습니다.\n",
    "    reranked_results = [\n",
    "        (loads(doc), score)\n",
    "        for doc, score in sorted(fused_scores.items(), key=lambda x: x[1], reverse=True)\n",
    "    ]\n",
    "\n",
    "    # 재정렬된 결과에서 우선순위가 높은 top_n 개의 문서만 반환합니다.\n",
    "    return reranked_results[:top_n]"
   ]
  },
  {
   "cell_type": "code",
<<<<<<< HEAD
   "execution_count": 16,
=======
   "execution_count": 19,
>>>>>>> 2e9e37d (Reset repository)
   "id": "9eb1bc72-9921-4800-aa39-27fdbf9d2b46",
   "metadata": {},
   "outputs": [
    {
<<<<<<< HEAD
     "name": "stderr",
     "output_type": "stream",
     "text": [
      "/Users/usermackbookpro/miniconda3/envs/langchain/lib/python3.12/site-packages/langchain_core/_api/beta_decorator.py:87: LangChainBetaWarning: The function `loads` is in beta. It is actively being worked on, so the API may change.\n",
      "  warn_beta(\n"
     ]
    },
    {
     "data": {
      "text/plain": [
       "[(Document(metadata={'source': 'https://news.naver.com/section/101'}, page_content='다음 달부터 수도권 지역에 대한 주택담보대출 규제가 강화되면서 수도권 지역 주택 매수 시 받을 수 있는 주담대 한도가 비수도권 대비 수천만 원 줄어들게 된다. 전문가들은 집값 상승을 이끌고 있는 수도권 지역 주택에 \\n\\n\\n서울경제\\n\\n38분전'),\n",
       "  0.06666666666666667),\n",
       " (Document(metadata={'source': 'https://news.naver.com/section/101'}, page_content='주택담보대출 급증 등의 영향으로, 올해 6월 말 기준 전체 가계 빚이 지난 분기보다 13조 8천억 원 늘어났습니다. 한국은행이 오늘 발표한 2024년 2분기 가계신용 잠정 통계에 따르면, 올해 6월 말 기준 가계신용\\n\\n\\nMBC\\n\\n\\n\\n\\n36\\n개의 관련뉴스 더보기'),\n",
       "  0.03278688524590164),\n",
       " (Document(metadata={'source': 'https://news.naver.com/section/101'}, page_content='매일경제\\n\\n36분전\\n\\n\\n\\n\\n\\n\\n\\n\\n집값 뛰자…수도권 외국인 부동산 쇼핑 ‘역대 최고’'),\n",
       "  0.03225806451612903),\n",
       " (Document(metadata={'source': 'https://news.naver.com/section/101'}, page_content='매파 키시카리도 9월 인하 지지 이스라엘, 美 제안 휴전안 수용 긍정적 시장심리에 외인 순매수 미국 금리 인하에 대한 기대감과 국제정세 기대감 완화에 코스피가 상승했습니다. 20일 코스피는 전일 대비 0.83% 반등\\n\\n\\n매일경제\\n\\n36분전'),\n",
       "  0.031746031746031744),\n",
       " (Document(metadata={'source': 'https://news.naver.com/section/101'}, page_content='한국경제\\n\\n24분전\\n\\n\\n\\n\\n\\n\\n\\n\\n\"집값 1년 후 더 오를 것\"… 돌아온 영끌족에 가계빚 폭증'),\n",
       "  0.016666666666666666),\n",
       " (Document(metadata={'source': 'https://news.naver.com/section/101'}, page_content='아파트 등 집값은 오르고, 여기에 발 맞춰 가계대출이 늘면서 올해 들어 2분기 가계 빚이 역대 최대 기록을 갈아치웠습니다. 언뜻 보면 주택 거래가 회복되는 분위기지만 결국 모두 ‘빚’입니다. 일단 ‘사자’에, 이른바\\n\\n\\nJIBS\\n\\n18분전'),\n",
       "  0.01639344262295082),\n",
       " (Document(metadata={'source': 'https://news.naver.com/section/101'}, page_content='수도권 주담대 한도 3500만원 줄어\\n\\n다음달부터 수도권에 있는 집을 매입하는 사람의 주택담보대출 한도가 비수도권보다 더 많이 줄어든다. 정부가 가계 빚 폭증의 원인으로 꼽히는 수도권 집값 상승세를 잡기 위해 더욱 강한 대출 규제를 내놓은 데 따른 것이다'),\n",
       "  0.01639344262295082),\n",
       " (Document(metadata={'source': 'https://news.naver.com/section/101'}, page_content='금융당국이 올해 안에 기관 투자자의 ‘공매도 전산화’ 시스템을 구축할 방침인 가운데, 이를 위한 기준, 가이드라인이 내일(21일)부터 시행됩니다. 금융감독원은 기관들의 공매도 내부통제와 잔고관리 시스템 구축을 위한 \\n\\n\\nKBS\\n\\n\\n\\n\\n26\\n개의 관련뉴스 더보기'),\n",
       "  0.01639344262295082),\n",
       " (Document(metadata={'source': 'https://news.naver.com/section/101'}, page_content='영세한 신용카드 가맹점이 기존보다 하루 더 빨리 결제 대금을 수령할 수 있게 된다. 카드사는 모바일 메시지나 알림톡 등을 통해 정보성 메시지를 발송할 수 있게 되면서 비용 부담을 절감할 수 있을 것으로 기대된다. 2\\n\\n\\n서울경제\\n\\n\\n\\n\\n35\\n개의 관련뉴스 더보기'),\n",
       "  0.016129032258064516),\n",
       " (Document(metadata={'source': 'https://news.naver.com/section/101'}, page_content='앞으로 블로그나 인터넷카페, SNS 등에서 경제적 대가를 받은 게시글에는 소비자가 이를 쉽게 알아볼 수 있도록 게시글 제목이나 첫 부분에 ‘광고’임을 표시해야 한다. 이에따라 유튜브·인스타그램 등 SNS와 블로그 등\\n\\n\\n부산일보'),\n",
       "  0.016129032258064516),\n",
       " (Document(metadata={'source': 'https://news.naver.com/section/101'}, page_content='올해 들어 수도권에서 아파트 등 집합건물을 매수한 외국인의 비중이 역대 최고치를 기록한 것으로 나타났다. 집값이 뛰면서 시세차익 기대감이 커진 데다 강남권을 중심으로 군사시설 보호구역이 대거 해제된 데 따른 것으로 \\n\\n\\n서울경제\\n\\n36분전'),\n",
       "  0.016129032258064516)]"
      ]
     },
     "execution_count": 16,
=======
     "data": {
      "text/plain": [
       "[(Document(metadata={'source': 'https://news.naver.com/section/101'}, page_content='올해 들어 서울 아파트값 상승세가 이어지는 가운데 26일 부동산R114가 올해 7∼8월 계약된 서울 아파트의 실거래가를 분석한 결과, 2021년 이후 동일 단지, 동일 주택형의 직전 최고가와 비교해 평균 90%까지 \\n\\n\\n연합뉴스\\n\\n\\n\\n\\n20\\n개의 관련뉴스 더보기'),\n",
       "  0.05),\n",
       " (Document(metadata={'source': 'https://news.naver.com/section/101'}, page_content='주택 후분양제 적용 확대가 필요하다는 주장이 제기됐다. 주택 건설 과정에서 일어날 수 있는 준공 지연과 같은 만약의 사태에서 수분양자(주택 소비자)를 최우선으로 보호할 수 있는 대책이라는 이유에서다. 서울주택도시공사\\n\\n\\n조선비즈\\n\\n1시간전'),\n",
       "  0.049189141547682)]"
      ]
     },
     "execution_count": 19,
>>>>>>> 2e9e37d (Reset repository)
     "metadata": {},
     "output_type": "execute_result"
    }
   ],
   "source": [
    "\n",
    "# RAG-Fusion 체인을 구성합니다.\n",
    "# generate_queries: 질문에 대해 여러 검색 쿼리를 생성합니다.\n",
    "# retriever.map(): 생성된 쿼리로 관련 문서들을 검색합니다.\n",
    "# reciprocal_rank_fusion: 검색된 문서들을 RRF 알고리즘을 통해 결합하여 최종 순위를 계산합니다.\n",
    "retrieval_chain_rag_fusion = generate_queries | ensemble_retriever.map() | reciprocal_rank_fusion\n",
    "\n",
    "# 체인을 실행하여 질문에 대한 검색된 문서들을 가져옵니다.\n",
    "question = \"향후 집값에 대해서 알려줘\"\n",
    "docs = retrieval_chain_rag_fusion.invoke({\"question\": question})\n",
    "\n",
    "# 검색된 고유 문서들의 개수를 출력합니다.\n",
    "len(docs)\n",
    "\n",
    "# 검색된 고유 문서들을 출력합니다.\n",
    "docs"
   ]
  },
  {
   "cell_type": "code",
<<<<<<< HEAD
   "execution_count": 17,
=======
   "execution_count": 20,
>>>>>>> 2e9e37d (Reset repository)
   "id": "568ecd75-57e7-497a-924c-4f70e9baf262",
   "metadata": {},
   "outputs": [
    {
     "data": {
      "text/plain": [
<<<<<<< HEAD
       "'전문가들은 향후 집값이 상승할 것으로 예상하고 있습니다. 특히 수도권 지역의 주택 가격이 오르고 있으며, 이에 따라 주택담보대출 규제가 강화될 예정입니다. 이러한 규제는 가계 빚 폭증의 원인으로 지목된 수도권 집값 상승세를 잡기 위한 조치로 보입니다. 따라서, 집값이 계속해서 오를 가능성이 높다는 의견이 지배적입니다.'"
      ]
     },
     "execution_count": 17,
=======
       "'현재 서울 아파트값은 상승세를 보이고 있으며, 최근 분석에 따르면 2021년 이후 동일 단지, 동일 주택형의 직전 최고가와 비교해 평균 90%까지 상승한 것으로 나타났습니다. 이러한 추세가 지속된다면 향후 집값은 계속해서 오를 가능성이 있습니다. 또한, 주택 후분양제 적용 확대에 대한 논의가 이루어지고 있어, 이는 주택 소비자를 보호하는 데 기여할 수 있으며, 시장에 미치는 영향도 주목할 필요가 있습니다. 따라서 향후 집값은 여러 요인에 따라 변동할 수 있지만, 현재의 상승세가 계속될 가능성이 높습니다.'"
      ]
     },
     "execution_count": 20,
>>>>>>> 2e9e37d (Reset repository)
     "metadata": {},
     "output_type": "execute_result"
    }
   ],
   "source": [
    "from langchain_openai import ChatOpenAI\n",
    "from langchain_core.runnables import RunnablePassthrough\n",
    "\n",
    "# RAG\n",
    "template = \"\"\"다음 맥락을 바탕으로 질문에 답변하세요:\n",
    "\n",
    "{context}\n",
    "\n",
    "질문: {question}\n",
    "\"\"\"\n",
    "\n",
    "prompt = ChatPromptTemplate.from_template(template)\n",
    "\n",
    "llm = ChatOpenAI(model_name=\"gpt-4o-mini\", temperature=0)\n",
    "\n",
    "final_rag_chain = (\n",
    "    {\"context\": retrieval_chain_rag_fusion, \n",
    "     \"question\": RunnablePassthrough()} \n",
    "    | prompt\n",
    "    | llm\n",
    "    | StrOutputParser()\n",
    ")\n",
    "\n",
    "final_rag_chain.invoke(question)"
   ]
  },
  {
   "cell_type": "code",
   "execution_count": null,
   "id": "990be07f-08f0-412e-96e1-b5751a6f01a8",
   "metadata": {},
   "outputs": [],
   "source": []
  }
 ],
 "metadata": {
  "kernelspec": {
   "display_name": "Python 3 (ipykernel)",
   "language": "python",
   "name": "python3"
  },
  "language_info": {
   "codemirror_mode": {
    "name": "ipython",
    "version": 3
   },
   "file_extension": ".py",
   "mimetype": "text/x-python",
   "name": "python",
   "nbconvert_exporter": "python",
   "pygments_lexer": "ipython3",
   "version": "3.12.2"
  }
 },
 "nbformat": 4,
 "nbformat_minor": 5
}

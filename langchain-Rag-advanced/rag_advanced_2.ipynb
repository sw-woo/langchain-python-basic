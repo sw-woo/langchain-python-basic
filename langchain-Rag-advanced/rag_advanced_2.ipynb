{
	"cells": [
		{
			"cell_type": "markdown",
			"id": "3810b38f-cdb2-4ade-ae44-0db39117f930",
			"metadata": {},
			"source": [
				"# hybrid Search"
			]
		},
		{
			"cell_type": "code",
			"execution_count": 14,
			"id": "079914f3-b3dd-4e7d-a4ea-1a19ceba33ca",
			"metadata": {},
			"outputs": [],
			"source": [
				"from langchain.retrievers.multi_query import MultiQueryRetriever\n",
				"from langchain_openai import ChatOpenAI\n",
				"from langchain_openai import OpenAIEmbeddings\n",
				"from langchain.vectorstores import Chroma\n",
				"from langchain.text_splitter import RecursiveCharacterTextSplitter\n",
				"from langchain.document_loaders import PyPDFLoader\n",
				"from dotenv import load_dotenv"
			]
		},
		{
			"cell_type": "code",
			"execution_count": 15,
			"id": "1b9cb544-210b-4a23-abaa-f7f6f1ce0502",
			"metadata": {},
			"outputs": [],
			"source": [
				"import os\n",
				"from dotenv import load_dotenv\n",
				"load_dotenv()\n",
				"openai_api_key = os.getenv(\"OPENAI_API_KEY\")\n",
				"\n",
				"if not openai_api_key:\n",
				"    raise ValueError(\"openai api 키가 없습니다. 한번더 확인 부탁드립니다.\")\n",
				"\n",
				"os.environ['OPENAI_API_KEY'] = openai_api_key"
			]
		},
		{
			"cell_type": "code",
			"execution_count": 16,
			"id": "9c17a713-24f0-4db7-a5a3-c3f96f651800",
			"metadata": {},
			"outputs": [
				{
					"data": {
						"text/plain": [
							"[Document(metadata={'source': '2024-24-03 12:24:19-save.pdf', 'page': 0}, page_content='에코프로 공급물량  신청  사이트 ?…\" 사\\n기입니다\"\"60세 이상 고용률  높이면  잠재성장률\\n증가\"…노동시장  유연성  전제돼야\\n\\'오염물질· 온실가스  무배출 \\' 수소차  첫\\n등록 5년 만에  1000 대  돌파다시 불어온  청약  광풍… 하루에  17 만명\\n몰려\\n롯데바이오, 송도에  바이오의약품  생산\\n플랜트 착공… 경제효과  7.6 조원대기업 CEO 들도  \\' 고령화 \\'… 서울대  출\\n신은 줄었다\\n“엄청난 회복세”… 테슬라, 주가  10%\\n넘게 급등이복현 금감원장  \" 증권사, 손쉬운  수익\\n원 찾는 영업  관행  바뀌어야 \"\\n2027년부터  초소형  관측위성이  한반\\n도 온실가스  감시한다카카오뱅크, 대구신보와  375 억  규모\\n소상공인 지원  협약헤드라인 뉴스  \\n연합뉴스\\n16\\n 데일리안\\n12\\n뉴스1\\n11\\n 한국경제TV\\n32\\n헤럴드경제\\n43\\n 파이낸셜뉴스\\n15\\n한겨레\\n35\\n SBS\\n35\\n경향신문\\n32\\n 머니투데이\\n12\\n원초적 질문\\n상시근로자 4.9 명은  5 명  미만일까  이상일까\\n더스쿠프\\n금투세 시행하면  정말  \\' 부양가족  인적공제 \\' 못  받아 ?더스쿠프100+\\n\"본사 영업이익률  41.2%\" 컴포즈커피  가맹점도  좋을까더스쿠프10+\\n종부세는 정말  \\' 불편한  세금 \\' 일까더스쿠프100+\\n2,791.90\\n11.04+0.40%\\n832.64\\n2.73+0.33%\\n금융 증권 부동산언론사별정치경제사회생활/문화IT/과학세계랭킹신문보기오피니언TV팩트체크알고리즘'),\n",
							" Document(metadata={'source': '2024-24-03 12:24:19-save.pdf', 'page': 1}, page_content='윤석열 \"배당하면  세제혜택 \"...\" 배당소\\n득세, 저율분리과세\" [ 오한마 ]\\n13분전포장 수수료  이어  배민클럽까지  유료\\n화…배민, 수익성만  골몰하나\\n22분전\\n침체기 겪은  2 분기  코인  시장 … 거래소\\n월별 거래량  2300 조 →510 조원\\n22분전LG전자는 왜  네덜란드  스마트홈  플랫\\n폼 기업을 사들였나\\n23분전\\n최저임금 5% 오르면  일자리  14 만개\\n증발\\n24분전\"하반기부터  LCD 패널  가격  하락 ?\"…\\n삼성·LG TV 숨통  트일까\\n26분전\\n\"매출 없어 카드로  돌려막기 ...\" 가든파\\n이브에 무슨  일이\\n26분전배민 \\'무료 배달\\' 다음  달  유료화 … 쿠팡\\n과 비교해 보니\\n26분전\\n“파업 목적은  생산  차질” 이라는  삼성\\n전자 노조[ 현장에서]\\n26분전“최저임금 더  오르면  편의점  문닫거나\\n무인점포로 바꿀  판”\\n26분전\\n\\'사지 말고 직접  만들자\\'…BYD 가  쏘아\\n올린 배터리  내재화\\n29분전증권사 CEO 만난  이복현  \" 손쉬운  수\\n익원 찾던 업계  관행  바꿔야 \"\\n32분전\\n현대차 노조, 또  교섭  결렬 … 노조  \\' 파업 \\'\\n논의 시작할까\\n32분전\\'진격의 채권개미\\' 올  들어  5 조  싹쓸\\n이…편법 영업도  기승\\n33분전\\n한화시스템, 405 억  초소형  온실가스\\n관측 위성 사업  수주\\n33분전분양 가뭄… 과천· 마포에  청약통장  17\\n만개 ‘우르르ʼ\\n33분전\\n에코프로 공급물량  신청  사이트 ?…\" 사\\n기입니다\"\\n33분전영풍, 고려아연  황산  취급  중단에  법적\\n대응\\n34분전\\n한국경제TV\\n 한겨레\\n뉴스1\\n 한국일보\\n문화일보\\n 데일리안\\n오마이뉴스\\n SBS Biz\\n문화일보\\n 문화일보\\nSBS Biz\\n 더팩트\\nAiRS 추천으로  구성된  뉴스를  제공합니다 .알고리즘 안내\\n뉴시스\\n SBS Biz\\n한국경제TV\\n 문화일보\\n연합뉴스\\n 머니투데이08\\x0006\\n01\\x0057\\n02\\x0000\\n02\\x0005'),\n",
							" Document(metadata={'source': '2024-24-03 12:24:19-save.pdf', 'page': 2}, page_content='\"여성 친화적  기업\" 오뚜기  임직원  \\'10\\n명 중 7명 ⼥\\' 알고보니\\n36분전\"2~3년 안 나가던  집까지  다  팔렸\\n다\"…살아난  서울  아파트  매수심리\\n37분전\\n금감원, 증권사  CEO 간담회 ... 이복현\\n\"빠르고 과감하게  깨뜨리자 \" 강조\\n38분전유로존 \\'끈적한\\' 서비스  물가 … 테일러\\n스위프트 때문?\\n38분전\\n파월 “인플레  진전”… 미국금리  9 월  인\\n하 기대감 커져\\n38분전물가안정세에  ‘ 금리  인하론 ʼ 힘받아 …\\n11일 금통위  ‘ 깜빡이ʼ 켜나\\n38분전\\n값비싼 ‘환율  1400 원  방어 ʼ… 외환보유\\n액 석달간 70 억달러 ↓\\n38분전마세라티, 한국법인  공식  출범 … 첫  차\\n는 \\'그란투리스모· 그란카브리오 \\'\\n39분전\\n주담대 금리  오른다… 은행들  가계대출\\n속도 조절\\n40분전더모아의 재림? 토스, \\'999 원  잔돈  적\\n립\\' 내놨다\\n41분전\\n임상시험 실탄  확보한  아이센스 , 미국\\n에서 애보트∙ 덱스콤  공략\\n41분전에코프로, 포항  기회발전특구  지정\\n에…\"2조 추가  투자, 마더팩토리  구축 \"\\n42분전\\n\\'로또\\' 과천에  10 만명  로또  아닌  마포도\\n4만명 \\'우르르\\'\\n43분전에이비엘바이오  \" 내년  말까지  최소  2\\n개 기술이전…4000 억  자금  확보 \"\\n43분전\\n‘2800선 회복ʼ 넘봤던  코스피 , 장중  상\\n승폭 반납… 반도체주  약세\\n45분전물가 내렸지만  높아진  환율에 … 한은  금\\n리인하 가능성은  \\' 글쎄\\'\\n46분전\\n코스피, 2790 선  회복  시도 …S&P· 나스\\n닥 최고치 경신\\n46분전하나은행 주춤하는  사이  국민 · 신한  달\\n린다\\n46분전\\n기사 더보기\\n뉴시스\\n 아시아경제\\n조세일보\\n 이데일리\\n문화일보\\n 문화일보\\n문화일보\\n 데일리안\\nSBS Biz\\n 아이뉴스24\\n조선비즈\\n 한경비즈니스\\nSBS Biz\\n 머니투데이\\n조선비즈\\n 조세일보\\nSBS Biz\\n 아이뉴스24\\n로그인전체서비스\\n서비스안내오류신고고객센터\\n기사배열 책임자  : 김수향청소년 보호  책임자  : 이정규01\\x0055\\n02\\x0009\\n02\\x0003'),\n",
							" Document(metadata={'source': '2024-24-03 12:24:19-save.pdf', 'page': 3}, page_content='이 콘텐츠의  저작권은  저작권자  또는  제공처에  있으며 , 이를  무단  이용하는 경우  저작권법  등에  따라  법적  책임을  질  수  있습니다 .')]"
						]
					},
					"execution_count": 16,
					"metadata": {},
					"output_type": "execute_result"
				}
			],
			"source": [
				"# Loader\n",
				"loader = PyPDFLoader(\"sample.pdf\")\n",
				"pages = loader.load_and_split()\n",
				"pages"
			]
		},
		{
			"cell_type": "code",
			"execution_count": 4,
			"id": "8dda0f2c-ba11-43c1-aef5-c0c11e1a01be",
			"metadata": {},
			"outputs": [],
			"source": [
				"# Split\n",
				"text_splitter = RecursiveCharacterTextSplitter.from_tiktoken_encoder(\n",
				"    chunk_size=300, \n",
				"    chunk_overlap=50)"
			]
		},
		{
			"cell_type": "code",
			"execution_count": 5,
			"id": "5f73da87-54ea-499d-8d10-381efe70b25b",
			"metadata": {},
			"outputs": [
				{
					"data": {
						"text/plain": [
							"[Document(metadata={'source': 'sample.pdf', 'page': 0}, page_content='에코프로 공급물량  신청  사이트 ?…\" 사\\n기입니다\"\"60세 이상 고용률  높이면  잠재성장률\\n증가\"…노동시장  유연성  전제돼야\\n\\'오염물질· 온실가스  무배출 \\' 수소차  첫\\n등록 5년 만에  1000 대  돌파다시 불어온  청약  광풍… 하루에  17 만명\\n몰려'),\n",
							" Document(metadata={'source': 'sample.pdf', 'page': 0}, page_content='몰려\\n롯데바이오, 송도에  바이오의약품  생산\\n플랜트 착공… 경제효과  7.6 조원대기업 CEO 들도  \\' 고령화 \\'… 서울대  출\\n신은 줄었다\\n“엄청난 회복세”… 테슬라, 주가  10%\\n넘게 급등이복현 금감원장  \" 증권사, 손쉬운  수익\\n원 찾는 영업  관행  바뀌어야 \"'),\n",
							" Document(metadata={'source': 'sample.pdf', 'page': 0}, page_content='원 찾는 영업  관행  바뀌어야 \"\\n2027년부터  초소형  관측위성이  한반\\n도 온실가스  감시한다카카오뱅크, 대구신보와  375 억  규모\\n소상공인 지원  협약헤드라인 뉴스  \\n연합뉴스\\n16\\n 데일리안\\n12\\n뉴스1\\n11\\n 한국경제TV\\n32\\n헤럴드경제\\n43\\n 파이낸셜뉴스\\n15'),\n",
							" Document(metadata={'source': 'sample.pdf', 'page': 0}, page_content=\"32\\n헤럴드경제\\n43\\n 파이낸셜뉴스\\n15\\n한겨레\\n35\\n SBS\\n35\\n경향신문\\n32\\n 머니투데이\\n12\\n원초적 질문\\n상시근로자 4.9 명은  5 명  미만일까  이상일까\\n더스쿠프\\n금투세 시행하면  정말  ' 부양가족  인적공제 ' 못  받아 ?더스쿠프100+\"),\n",
							" Document(metadata={'source': 'sample.pdf', 'page': 0}, page_content='\"본사 영업이익률  41.2%\" 컴포즈커피  가맹점도  좋을까더스쿠프10+\\n종부세는 정말  \\' 불편한  세금 \\' 일까더스쿠프100+\\n2,791.90\\n11.04+0.40%\\n832.64\\n2.73+0.33%\\n금융 증권 부동산언론사별정치경제사회생활/문화IT/과학세계랭킹신문보기오피니언TV팩트체크알고리즘'),\n",
							" Document(metadata={'source': 'sample.pdf', 'page': 1}, page_content='윤석열 \"배당하면  세제혜택 \"...\" 배당소\\n득세, 저율분리과세\" [ 오한마 ]\\n13분전포장 수수료  이어  배민클럽까지  유료\\n화…배민, 수익성만  골몰하나\\n22분전\\n침체기 겪은  2 분기  코인  시장 … 거래소\\n월별 거래량  2300 조 →510 조원'),\n",
							" Document(metadata={'source': 'sample.pdf', 'page': 1}, page_content='월별 거래량  2300 조 →510 조원\\n22분전LG전자는 왜  네덜란드  스마트홈  플랫\\n폼 기업을 사들였나\\n23분전\\n최저임금 5% 오르면  일자리  14 만개\\n증발\\n24분전\"하반기부터  LCD 패널  가격  하락 ?\"…\\n삼성·LG TV 숨통  트일까\\n26분전\\n\"매출 없어 카드로  돌려막기 ...\" 가든파'),\n",
							" Document(metadata={'source': 'sample.pdf', 'page': 1}, page_content='\"매출 없어 카드로  돌려막기 ...\" 가든파\\n이브에 무슨  일이\\n26분전배민 \\'무료 배달\\' 다음  달  유료화 … 쿠팡\\n과 비교해 보니\\n26분전\\n“파업 목적은  생산  차질” 이라는  삼성\\n전자 노조[ 현장에서]\\n26분전“최저임금 더  오르면  편의점  문닫거나'),\n",
							" Document(metadata={'source': 'sample.pdf', 'page': 1}, page_content='무인점포로 바꿀  판”\\n26분전\\n\\'사지 말고 직접  만들자\\'…BYD 가  쏘아\\n올린 배터리  내재화\\n29분전증권사 CEO 만난  이복현  \" 손쉬운  수\\n익원 찾던 업계  관행  바꿔야 \"\\n32분전\\n현대차 노조, 또  교섭  결렬 … 노조  \\' 파업 \\'\\n논의 시작할까'),\n",
							" Document(metadata={'source': 'sample.pdf', 'page': 1}, page_content='논의 시작할까\\n32분전\\'진격의 채권개미\\' 올  들어  5 조  싹쓸\\n이…편법 영업도  기승\\n33분전\\n한화시스템, 405 억  초소형  온실가스\\n관측 위성 사업  수주\\n33분전분양 가뭄… 과천· 마포에  청약통장  17\\n만개 ‘우르르ʼ\\n33분전\\n에코프로 공급물량  신청  사이트 ?…\" 사'),\n",
							" Document(metadata={'source': 'sample.pdf', 'page': 1}, page_content='에코프로 공급물량  신청  사이트 ?…\" 사\\n기입니다\"\\n33분전영풍, 고려아연  황산  취급  중단에  법적\\n대응\\n34분전\\n한국경제TV\\n 한겨레\\n뉴스1\\n 한국일보\\n문화일보\\n 데일리안\\n오마이뉴스\\n SBS Biz\\n문화일보\\n 문화일보\\nSBS Biz\\n 더팩트'),\n",
							" Document(metadata={'source': 'sample.pdf', 'page': 1}, page_content='SBS Biz\\n문화일보\\n 문화일보\\nSBS Biz\\n 더팩트\\nAiRS 추천으로  구성된  뉴스를  제공합니다 .알고리즘 안내\\n뉴시스\\n SBS Biz\\n한국경제TV\\n 문화일보\\n연합뉴스\\n 머니투데이08\\x0006\\n01\\x0057\\n02\\x0000\\n02\\x0005'),\n",
							" Document(metadata={'source': 'sample.pdf', 'page': 2}, page_content='\"여성 친화적  기업\" 오뚜기  임직원  \\'10\\n명 중 7명 ⼥\\' 알고보니\\n36분전\"2~3년 안 나가던  집까지  다  팔렸\\n다\"…살아난  서울  아파트  매수심리\\n37분전\\n금감원, 증권사  CEO 간담회 ... 이복현\\n\"빠르고 과감하게  깨뜨리자 \" 강조'),\n",
							" Document(metadata={'source': 'sample.pdf', 'page': 2}, page_content='\"빠르고 과감하게  깨뜨리자 \" 강조\\n38분전유로존 \\'끈적한\\' 서비스  물가 … 테일러\\n스위프트 때문?\\n38분전\\n파월 “인플레  진전”… 미국금리  9 월  인\\n하 기대감 커져\\n38분전물가안정세에  ‘ 금리  인하론 ʼ 힘받아 …\\n11일 금통위  ‘ 깜빡이ʼ 켜나\\n38분전'),\n",
							" Document(metadata={'source': 'sample.pdf', 'page': 2}, page_content=\"11일 금통위  ‘ 깜빡이ʼ 켜나\\n38분전\\n값비싼 ‘환율  1400 원  방어 ʼ… 외환보유\\n액 석달간 70 억달러 ↓\\n38분전마세라티, 한국법인  공식  출범 … 첫  차\\n는 '그란투리스모· 그란카브리오 '\\n39분전\\n주담대 금리  오른다… 은행들  가계대출\\n속도 조절\"),\n",
							" Document(metadata={'source': 'sample.pdf', 'page': 2}, page_content='속도 조절\\n40분전더모아의 재림? 토스, \\'999 원  잔돈  적\\n립\\' 내놨다\\n41분전\\n임상시험 실탄  확보한  아이센스 , 미국\\n에서 애보트∙ 덱스콤  공략\\n41분전에코프로, 포항  기회발전특구  지정\\n에…\"2조 추가  투자, 마더팩토리  구축 \"\\n42분전'),\n",
							" Document(metadata={'source': 'sample.pdf', 'page': 2}, page_content='42분전\\n\\'로또\\' 과천에  10 만명  로또  아닌  마포도\\n4만명 \\'우르르\\'\\n43분전에이비엘바이오  \" 내년  말까지  최소  2\\n개 기술이전…4000 억  자금  확보 \"\\n43분전\\n‘2800선 회복ʼ 넘봤던  코스피 , 장중  상\\n승폭 반납… 반도체주  약세'),\n",
							" Document(metadata={'source': 'sample.pdf', 'page': 2}, page_content=\"승폭 반납… 반도체주  약세\\n45분전물가 내렸지만  높아진  환율에 … 한은  금\\n리인하 가능성은  ' 글쎄'\\n46분전\\n코스피, 2790 선  회복  시도 …S&P· 나스\\n닥 최고치 경신\\n46분전하나은행 주춤하는  사이  국민 · 신한  달\\n린다\\n46분전\\n기사 더보기\\n뉴시스\\n 아시아경제\"),\n",
							" Document(metadata={'source': 'sample.pdf', 'page': 2}, page_content='46분전\\n기사 더보기\\n뉴시스\\n 아시아경제\\n조세일보\\n 이데일리\\n문화일보\\n 문화일보\\n문화일보\\n 데일리안\\nSBS Biz\\n 아이뉴스24\\n조선비즈\\n 한경비즈니스\\nSBS Biz\\n 머니투데이\\n조선비즈\\n 조세일보\\nSBS Biz\\n 아이뉴스24\\n로그인전체서비스\\n서비스안내오류신고고객센터'),\n",
							" Document(metadata={'source': 'sample.pdf', 'page': 2}, page_content='서비스안내오류신고고객센터\\n기사배열 책임자  : 김수향청소년 보호  책임자  : 이정규01\\x0055\\n02\\x0009\\n02\\x0003'),\n",
							" Document(metadata={'source': 'sample.pdf', 'page': 3}, page_content='이 콘텐츠의  저작권은  저작권자  또는  제공처에  있으며 , 이를  무단  이용하는 경우  저작권법  등에  따라  법적  책임을  질  수  있습니다 .')]"
						]
					},
					"execution_count": 5,
					"metadata": {},
					"output_type": "execute_result"
				}
			],
			"source": [
				"texts = text_splitter.split_documents(pages)\n",
				"texts"
			]
		},
		{
			"cell_type": "code",
			"execution_count": 6,
			"id": "1261312d-8e1b-4d33-8d91-cf76fc29caaa",
			"metadata": {},
			"outputs": [],
			"source": [
				"# Embedding\n",
				"embeddings_model = OpenAIEmbeddings()"
			]
		},
		{
			"cell_type": "code",
			"execution_count": 7,
			"id": "977a1f0f-937b-413a-9fee-923c6806fa67",
			"metadata": {},
			"outputs": [],
			"source": [
				"# load it into Chroma\n",
				"vectorstore = Chroma.from_documents(texts, embeddings_model)\n",
				"\n",
				"chroma_retriever = vectorstore.as_retriever(\n",
				"    search_type=\"mmr\", # MMR 알고리즘을 사용하여 검색\n",
				"    search_kwargs={'k':1,'fetch_k':4} # 상위 1개의 문서를 반환하지만, 고려할 문서는 4개로 설정\n",
				")"
			]
		},
		{
			"cell_type": "markdown",
			"id": "de0ec261-9210-4d10-9d50-5192fcb8e412",
			"metadata": {},
			"source": [
				"### pip install rank_bm25"
			]
		},
		{
			"cell_type": "code",
			"execution_count": 8,
			"id": "8b7d1b16-487f-40a0-90d5-9a540ecc5a9e",
			"metadata": {},
			"outputs": [
				{
					"name": "stdout",
					"output_type": "stream",
					"text": [
						"type of bm25 <class 'langchain_community.retrievers.bm25.BM25Retriever'>\n"
					]
				}
			],
			"source": [
				"from langchain.retrievers import BM25Retriever, EnsembleRetriever\n",
				"# Initialize the BM25 retriever\n",
				"bm25_retriever = BM25Retriever.from_documents(texts)\n",
				"bm25_retriever.k = 2  # Retrieve top 2 results\n",
				"\n",
				"print(\"type of bm25\", type(bm25_retriever))"
			]
		},
		{
			"cell_type": "markdown",
			"id": "8f971808-d536-49f5-94a6-9f22e99cf09f",
			"metadata": {},
			"source": [
				"# Initialize the ensemble retriever\n"
			]
		},
		{
			"cell_type": "code",
			"execution_count": 9,
			"id": "0e9979d6-0fd8-426e-9ca0-bd8be7fe60f3",
			"metadata": {},
			"outputs": [],
			"source": [
				"ensemble_retriever = EnsembleRetriever(\n",
				"    retrievers=[bm25_retriever, chroma_retriever], weights=[0.2, 0.8]\n",
				")"
			]
		},
		{
			"cell_type": "code",
			"execution_count": 12,
			"id": "8ed202e3-bf7a-475a-9960-53d72f0582c2",
			"metadata": {},
			"outputs": [
				{
					"name": "stdout",
					"output_type": "stream",
					"text": [
						"에코프로 공급물량  신청  사이트 ?…\" 사\n",
						"기입니다\"\n",
						"33분전영풍, 고려아연  황산  취급  중단에  법적\n",
						"대응\n",
						"34분전\n",
						"한국경제TV\n",
						" 한겨레\n",
						"뉴스1\n",
						" 한국일보\n",
						"문화일보\n",
						" 데일리안\n",
						"오마이뉴스\n",
						" SBS Biz\n",
						"문화일보\n",
						" 문화일보\n",
						"SBS Biz\n",
						" 더팩트\n",
						"이 콘텐츠의  저작권은  저작권자  또는  제공처에  있으며 , 이를  무단  이용하는 경우  저작권법  등에  따라  법적  책임을  질  수  있습니다 .\n",
						"논의 시작할까\n",
						"32분전'진격의 채권개미' 올  들어  5 조  싹쓸\n",
						"이…편법 영업도  기승\n",
						"33분전\n",
						"한화시스템, 405 억  초소형  온실가스\n",
						"관측 위성 사업  수주\n",
						"33분전분양 가뭄… 과천· 마포에  청약통장  17\n",
						"만개 ‘우르르ʼ\n",
						"33분전\n",
						"에코프로 공급물량  신청  사이트 ?…\" 사\n"
					]
				}
			],
			"source": [
				"# 예시 고객 문의\n",
				"query = \"에코 프로에 대해서 알려줘\"\n",
				"\n",
				"# 관련 문서/제품 검색\n",
				"docs = ensemble_retriever.get_relevant_documents(query)\n",
				"\n",
				"# 각 문서에서 페이지 내용을 추출하여 출력\n",
				"# for doc in docs:\n",
				"#     print(doc.page_content)\n",
				"\n",
				"# 검색된 문서들 출력\n",
				"docs"
			]
		},
		{
			"cell_type": "code",
			"execution_count": 11,
			"id": "829c3411-9594-46b8-a862-b426da2d1967",
			"metadata": {},
			"outputs": [
				{
					"data": {
						"text/plain": [
							"'에코프로는 주로 환경 관련 기술 및 제품을 개발하고 공급하는 기업으로, 특히 전지 및 배터리 관련 사업에 주력하고 있습니다. 이 회사는 전기차 및 에너지 저장 시스템에 사용되는 리튬 이온 배터리의 핵심 소재인 양극재를 생산하는 데 중요한 역할을 하고 있습니다. 에코프로는 지속 가능한 발전과 친환경 기술을 강조하며, 다양한 환경 문제 해결을 위한 혁신적인 솔루션을 제공하고 있습니다. 최근에는 공급물량 신청과 관련된 이슈가 언급되었으며, 이는 에코프로의 제품 수급과 관련된 중요한 사항일 수 있습니다.'"
						]
					},
					"execution_count": 11,
					"metadata": {},
					"output_type": "execute_result"
				}
			],
			"source": [
				"from langchain.prompts import ChatPromptTemplate\n",
				"from langchain_core.runnables import RunnablePassthrough\n",
				"from langchain_core.output_parsers import StrOutputParser\n",
				"\n",
				"template = \"\"\"다음 맥락을 바탕으로 질문에 답변하세요:\n",
				"\n",
				"{context}\n",
				"\n",
				"질문: {question}\n",
				"\"\"\"\n",
				"\n",
				"prompt = ChatPromptTemplate.from_template(template)\n",
				"\n",
				"# LLM\n",
				"llm = ChatOpenAI(model_name=\"gpt-4o-mini\", temperature=0)\n",
				"\n",
				"# Post-processing\n",
				"def format_docs(docs):\n",
				"    formatted = \"\\n\\n\".join(doc.page_content for doc in docs)\n",
				"    return formatted\n",
				"\n",
				"# Chain\n",
				"rag_chain = (\n",
				"    {\"context\": ensemble_retriever | format_docs, \"question\": RunnablePassthrough()}\n",
				"    | prompt\n",
				"    | llm\n",
				"    | StrOutputParser()\n",
				")\n",
				"\n",
				"# Question\n",
				"rag_chain.invoke(\"에코프로에 대해서 알려줘\")"
			]
		},
		{
			"cell_type": "code",
			"execution_count": null,
			"id": "8f147b15-2b93-4019-9f1b-8f54f50e0fb9",
			"metadata": {},
			"outputs": [],
			"source": []
		}
	],
	"metadata": {
		"kernelspec": {
			"display_name": "Python 3 (ipykernel)",
			"language": "python",
			"name": "python3"
		},
		"language_info": {
			"codemirror_mode": {
				"name": "ipython",
				"version": 3
			},
			"file_extension": ".py",
			"mimetype": "text/x-python",
			"name": "python",
			"nbconvert_exporter": "python",
			"pygments_lexer": "ipython3",
			"version": "3.12.2"
		}
	},
	"nbformat": 4,
	"nbformat_minor": 5
}
